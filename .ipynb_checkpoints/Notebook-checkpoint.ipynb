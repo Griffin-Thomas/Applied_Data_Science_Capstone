{
 "cells": [
  {
   "cell_type": "code",
   "execution_count": 1,
   "metadata": {},
   "outputs": [],
   "source": [
    "import pandas as pd\n",
    "import numpy as np\n",
    "import geocoder"
   ]
  },
  {
   "cell_type": "markdown",
   "metadata": {},
   "source": [
    "## Part 1: Web Parsing Addresses from Wikipedia\n",
    "#### Source: https://en.wikipedia.org/wiki/List_of_postal_codes_of_Canada:_M"
   ]
  },
  {
   "cell_type": "code",
   "execution_count": 4,
   "metadata": {},
   "outputs": [
    {
     "data": {
      "text/html": [
       "<div>\n",
       "<style scoped>\n",
       "    .dataframe tbody tr th:only-of-type {\n",
       "        vertical-align: middle;\n",
       "    }\n",
       "\n",
       "    .dataframe tbody tr th {\n",
       "        vertical-align: top;\n",
       "    }\n",
       "\n",
       "    .dataframe thead th {\n",
       "        text-align: right;\n",
       "    }\n",
       "</style>\n",
       "<table border=\"1\" class=\"dataframe\">\n",
       "  <thead>\n",
       "    <tr style=\"text-align: right;\">\n",
       "      <th></th>\n",
       "      <th>Postcode</th>\n",
       "      <th>Borough</th>\n",
       "      <th>Neighbourhood</th>\n",
       "    </tr>\n",
       "  </thead>\n",
       "  <tbody>\n",
       "    <tr>\n",
       "      <th>0</th>\n",
       "      <td>M1A</td>\n",
       "      <td>Not assigned</td>\n",
       "      <td>Not assigned</td>\n",
       "    </tr>\n",
       "    <tr>\n",
       "      <th>1</th>\n",
       "      <td>M2A</td>\n",
       "      <td>Not assigned</td>\n",
       "      <td>Not assigned</td>\n",
       "    </tr>\n",
       "    <tr>\n",
       "      <th>2</th>\n",
       "      <td>M3A</td>\n",
       "      <td>North York</td>\n",
       "      <td>Parkwoods</td>\n",
       "    </tr>\n",
       "    <tr>\n",
       "      <th>3</th>\n",
       "      <td>M4A</td>\n",
       "      <td>North York</td>\n",
       "      <td>Victoria Village</td>\n",
       "    </tr>\n",
       "    <tr>\n",
       "      <th>4</th>\n",
       "      <td>M5A</td>\n",
       "      <td>Downtown Toronto</td>\n",
       "      <td>Harbourfront</td>\n",
       "    </tr>\n",
       "  </tbody>\n",
       "</table>\n",
       "</div>"
      ],
      "text/plain": [
       "  Postcode           Borough     Neighbourhood\n",
       "0      M1A      Not assigned      Not assigned\n",
       "1      M2A      Not assigned      Not assigned\n",
       "2      M3A        North York         Parkwoods\n",
       "3      M4A        North York  Victoria Village\n",
       "4      M5A  Downtown Toronto      Harbourfront"
      ]
     },
     "execution_count": 4,
     "metadata": {},
     "output_type": "execute_result"
    }
   ],
   "source": [
    "toronto_data = pd.read_html(\"https://en.wikipedia.org/wiki/List_of_postal_codes_of_Canada:_M\", header=0)[0]\n",
    "toronto_data.rename(columns={\"Neighborhood\": \"Neighbourhood\"}, inplace=True)\n",
    "toronto_data.head() # Display first 5 rows"
   ]
  },
  {
   "cell_type": "code",
   "execution_count": 5,
   "metadata": {},
   "outputs": [
    {
     "data": {
      "text/plain": [
       "(287, 3)"
      ]
     },
     "execution_count": 5,
     "metadata": {},
     "output_type": "execute_result"
    }
   ],
   "source": [
    "toronto_data.shape"
   ]
  },
  {
   "cell_type": "markdown",
   "metadata": {},
   "source": [
    "#### We ignore entries with an unassigned borough, and replace any unassigned neighbourhood values with their respective borough"
   ]
  },
  {
   "cell_type": "code",
   "execution_count": 6,
   "metadata": {},
   "outputs": [
    {
     "data": {
      "text/html": [
       "<div>\n",
       "<style scoped>\n",
       "    .dataframe tbody tr th:only-of-type {\n",
       "        vertical-align: middle;\n",
       "    }\n",
       "\n",
       "    .dataframe tbody tr th {\n",
       "        vertical-align: top;\n",
       "    }\n",
       "\n",
       "    .dataframe thead th {\n",
       "        text-align: right;\n",
       "    }\n",
       "</style>\n",
       "<table border=\"1\" class=\"dataframe\">\n",
       "  <thead>\n",
       "    <tr style=\"text-align: right;\">\n",
       "      <th></th>\n",
       "      <th>Postcode</th>\n",
       "      <th>Borough</th>\n",
       "      <th>Neighbourhood</th>\n",
       "    </tr>\n",
       "  </thead>\n",
       "  <tbody>\n",
       "    <tr>\n",
       "      <th>2</th>\n",
       "      <td>M3A</td>\n",
       "      <td>North York</td>\n",
       "      <td>Parkwoods</td>\n",
       "    </tr>\n",
       "    <tr>\n",
       "      <th>3</th>\n",
       "      <td>M4A</td>\n",
       "      <td>North York</td>\n",
       "      <td>Victoria Village</td>\n",
       "    </tr>\n",
       "    <tr>\n",
       "      <th>4</th>\n",
       "      <td>M5A</td>\n",
       "      <td>Downtown Toronto</td>\n",
       "      <td>Harbourfront</td>\n",
       "    </tr>\n",
       "    <tr>\n",
       "      <th>5</th>\n",
       "      <td>M6A</td>\n",
       "      <td>North York</td>\n",
       "      <td>Lawrence Heights</td>\n",
       "    </tr>\n",
       "    <tr>\n",
       "      <th>6</th>\n",
       "      <td>M6A</td>\n",
       "      <td>North York</td>\n",
       "      <td>Lawrence Manor</td>\n",
       "    </tr>\n",
       "  </tbody>\n",
       "</table>\n",
       "</div>"
      ],
      "text/plain": [
       "  Postcode           Borough     Neighbourhood\n",
       "2      M3A        North York         Parkwoods\n",
       "3      M4A        North York  Victoria Village\n",
       "4      M5A  Downtown Toronto      Harbourfront\n",
       "5      M6A        North York  Lawrence Heights\n",
       "6      M6A        North York    Lawrence Manor"
      ]
     },
     "execution_count": 6,
     "metadata": {},
     "output_type": "execute_result"
    }
   ],
   "source": [
    "toronto_data = toronto_data[toronto_data['Borough'] != 'Not assigned'] \n",
    "\n",
    "def fill_unassigned_neighbourhoods(row): # Function to fill in any unassigned neighbourhood values with their borough\n",
    "    if row['Neighbourhood'] == 'Not assigned':\n",
    "        row['Neighbourhood'] = row['Borough']\n",
    "    return row\n",
    "\n",
    "toronto_data.apply(fill_unassigned_neighbourhoods, axis=1)\n",
    "toronto_data.head()"
   ]
  },
  {
   "cell_type": "markdown",
   "metadata": {},
   "source": [
    "#### Since more than one neighbourhood can exist in one postal code area, any of these relevant rows will be combined into one row with the neighbourhoods comma-separated as shown in the following table"
   ]
  },
  {
   "cell_type": "code",
   "execution_count": 7,
   "metadata": {},
   "outputs": [
    {
     "data": {
      "text/html": [
       "<div>\n",
       "<style scoped>\n",
       "    .dataframe tbody tr th:only-of-type {\n",
       "        vertical-align: middle;\n",
       "    }\n",
       "\n",
       "    .dataframe tbody tr th {\n",
       "        vertical-align: top;\n",
       "    }\n",
       "\n",
       "    .dataframe thead th {\n",
       "        text-align: right;\n",
       "    }\n",
       "</style>\n",
       "<table border=\"1\" class=\"dataframe\">\n",
       "  <thead>\n",
       "    <tr style=\"text-align: right;\">\n",
       "      <th></th>\n",
       "      <th>Postcode</th>\n",
       "      <th>Borough</th>\n",
       "      <th>Neighbourhood</th>\n",
       "    </tr>\n",
       "  </thead>\n",
       "  <tbody>\n",
       "    <tr>\n",
       "      <th>0</th>\n",
       "      <td>M1B</td>\n",
       "      <td>Scarborough</td>\n",
       "      <td>Rouge, Malvern</td>\n",
       "    </tr>\n",
       "    <tr>\n",
       "      <th>1</th>\n",
       "      <td>M1C</td>\n",
       "      <td>Scarborough</td>\n",
       "      <td>Highland Creek, Rouge Hill, Port Union</td>\n",
       "    </tr>\n",
       "    <tr>\n",
       "      <th>2</th>\n",
       "      <td>M1E</td>\n",
       "      <td>Scarborough</td>\n",
       "      <td>Guildwood, Morningside, West Hill</td>\n",
       "    </tr>\n",
       "    <tr>\n",
       "      <th>3</th>\n",
       "      <td>M1G</td>\n",
       "      <td>Scarborough</td>\n",
       "      <td>Woburn</td>\n",
       "    </tr>\n",
       "    <tr>\n",
       "      <th>4</th>\n",
       "      <td>M1H</td>\n",
       "      <td>Scarborough</td>\n",
       "      <td>Cedarbrae</td>\n",
       "    </tr>\n",
       "  </tbody>\n",
       "</table>\n",
       "</div>"
      ],
      "text/plain": [
       "  Postcode      Borough                           Neighbourhood\n",
       "0      M1B  Scarborough                          Rouge, Malvern\n",
       "1      M1C  Scarborough  Highland Creek, Rouge Hill, Port Union\n",
       "2      M1E  Scarborough       Guildwood, Morningside, West Hill\n",
       "3      M1G  Scarborough                                  Woburn\n",
       "4      M1H  Scarborough                               Cedarbrae"
      ]
     },
     "execution_count": 7,
     "metadata": {},
     "output_type": "execute_result"
    }
   ],
   "source": [
    "toronto_data = toronto_data.groupby(['Postcode', 'Borough'])['Neighbourhood'].agg([('Neighbourhood', ', '.join)]).reset_index()\n",
    "toronto_data.head()"
   ]
  },
  {
   "cell_type": "code",
   "execution_count": 8,
   "metadata": {},
   "outputs": [
    {
     "data": {
      "text/plain": [
       "(103, 3)"
      ]
     },
     "execution_count": 8,
     "metadata": {},
     "output_type": "execute_result"
    }
   ],
   "source": [
    "toronto_data.shape"
   ]
  },
  {
   "cell_type": "markdown",
   "metadata": {},
   "source": [
    "#### Then we add latitude and longitude coordinates"
   ]
  },
  {
   "cell_type": "code",
   "execution_count": 9,
   "metadata": {},
   "outputs": [],
   "source": [
    "lats = []\n",
    "lons = []\n",
    "\n",
    "for postal_code in toronto_data['Postcode']:\n",
    "    lat_lng_coords = None\n",
    "    # loop until we get the coordinates\n",
    "    while lat_lng_coords is None:\n",
    "      g = geocoder.arcgis('{}, Toronto, Ontario'.format(postal_code))\n",
    "      lat_lng_coords = g.latlng\n",
    "\n",
    "    latitude = lat_lng_coords[0]\n",
    "    longitude = lat_lng_coords[1]\n",
    "    lats.append(latitude)\n",
    "    lons.append(longitude)"
   ]
  },
  {
   "cell_type": "markdown",
   "metadata": {},
   "source": [
    "#### Now that we have the collection of latitudes and longitudes in `lats` and `lons`, we can add them as columns to the `toronto_data` dataframe"
   ]
  },
  {
   "cell_type": "code",
   "execution_count": 10,
   "metadata": {},
   "outputs": [
    {
     "data": {
      "text/html": [
       "<div>\n",
       "<style scoped>\n",
       "    .dataframe tbody tr th:only-of-type {\n",
       "        vertical-align: middle;\n",
       "    }\n",
       "\n",
       "    .dataframe tbody tr th {\n",
       "        vertical-align: top;\n",
       "    }\n",
       "\n",
       "    .dataframe thead th {\n",
       "        text-align: right;\n",
       "    }\n",
       "</style>\n",
       "<table border=\"1\" class=\"dataframe\">\n",
       "  <thead>\n",
       "    <tr style=\"text-align: right;\">\n",
       "      <th></th>\n",
       "      <th>Postcode</th>\n",
       "      <th>Borough</th>\n",
       "      <th>Neighbourhood</th>\n",
       "      <th>Latitude</th>\n",
       "      <th>Longitude</th>\n",
       "    </tr>\n",
       "  </thead>\n",
       "  <tbody>\n",
       "    <tr>\n",
       "      <th>0</th>\n",
       "      <td>M1B</td>\n",
       "      <td>Scarborough</td>\n",
       "      <td>Rouge, Malvern</td>\n",
       "      <td>43.811525</td>\n",
       "      <td>-79.195517</td>\n",
       "    </tr>\n",
       "    <tr>\n",
       "      <th>1</th>\n",
       "      <td>M1C</td>\n",
       "      <td>Scarborough</td>\n",
       "      <td>Highland Creek, Rouge Hill, Port Union</td>\n",
       "      <td>43.785665</td>\n",
       "      <td>-79.158725</td>\n",
       "    </tr>\n",
       "    <tr>\n",
       "      <th>2</th>\n",
       "      <td>M1E</td>\n",
       "      <td>Scarborough</td>\n",
       "      <td>Guildwood, Morningside, West Hill</td>\n",
       "      <td>43.765815</td>\n",
       "      <td>-79.175193</td>\n",
       "    </tr>\n",
       "    <tr>\n",
       "      <th>3</th>\n",
       "      <td>M1G</td>\n",
       "      <td>Scarborough</td>\n",
       "      <td>Woburn</td>\n",
       "      <td>43.768369</td>\n",
       "      <td>-79.217590</td>\n",
       "    </tr>\n",
       "    <tr>\n",
       "      <th>4</th>\n",
       "      <td>M1H</td>\n",
       "      <td>Scarborough</td>\n",
       "      <td>Cedarbrae</td>\n",
       "      <td>43.769688</td>\n",
       "      <td>-79.239440</td>\n",
       "    </tr>\n",
       "  </tbody>\n",
       "</table>\n",
       "</div>"
      ],
      "text/plain": [
       "  Postcode      Borough                           Neighbourhood   Latitude  \\\n",
       "0      M1B  Scarborough                          Rouge, Malvern  43.811525   \n",
       "1      M1C  Scarborough  Highland Creek, Rouge Hill, Port Union  43.785665   \n",
       "2      M1E  Scarborough       Guildwood, Morningside, West Hill  43.765815   \n",
       "3      M1G  Scarborough                                  Woburn  43.768369   \n",
       "4      M1H  Scarborough                               Cedarbrae  43.769688   \n",
       "\n",
       "   Longitude  \n",
       "0 -79.195517  \n",
       "1 -79.158725  \n",
       "2 -79.175193  \n",
       "3 -79.217590  \n",
       "4 -79.239440  "
      ]
     },
     "execution_count": 10,
     "metadata": {},
     "output_type": "execute_result"
    }
   ],
   "source": [
    "toronto_data['Latitude'] = lats\n",
    "toronto_data['Longitude'] = lons\n",
    "toronto_data.head()"
   ]
  },
  {
   "cell_type": "markdown",
   "metadata": {},
   "source": [
    "#### Lawrence Park is the center of Toronto, so we will grab the coordinates"
   ]
  },
  {
   "cell_type": "code",
   "execution_count": 12,
   "metadata": {},
   "outputs": [],
   "source": [
    "g = geocoder.arcgis('Lawrence Park, Toronto, Ontario')\n",
    "lat_lng_coords = g.latlng\n",
    "center = [lat_lng_coords[0], lat_lng_coords[1]]"
   ]
  },
  {
   "cell_type": "markdown",
   "metadata": {},
   "source": [
    "#### Let's visualize the data we have so far, using Folium"
   ]
  },
  {
   "cell_type": "code",
   "execution_count": 11,
   "metadata": {},
   "outputs": [],
   "source": [
    "import folium"
   ]
  },
  {
   "cell_type": "code",
   "execution_count": 15,
   "metadata": {},
   "outputs": [
    {
     "data": {
      "text/html": [
       "<div style=\"width:100%;\"><div style=\"position:relative;width:100%;height:0;padding-bottom:60%;\"><iframe src=\"data:text/html;charset=utf-8;base64,PCFET0NUWVBFIGh0bWw+CjxoZWFkPiAgICAKICAgIDxtZXRhIGh0dHAtZXF1aXY9ImNvbnRlbnQtdHlwZSIgY29udGVudD0idGV4dC9odG1sOyBjaGFyc2V0PVVURi04IiAvPgogICAgCiAgICAgICAgPHNjcmlwdD4KICAgICAgICAgICAgTF9OT19UT1VDSCA9IGZhbHNlOwogICAgICAgICAgICBMX0RJU0FCTEVfM0QgPSBmYWxzZTsKICAgICAgICA8L3NjcmlwdD4KICAgIAogICAgPHNjcmlwdCBzcmM9Imh0dHBzOi8vY2RuLmpzZGVsaXZyLm5ldC9ucG0vbGVhZmxldEAxLjUuMS9kaXN0L2xlYWZsZXQuanMiPjwvc2NyaXB0PgogICAgPHNjcmlwdCBzcmM9Imh0dHBzOi8vY29kZS5qcXVlcnkuY29tL2pxdWVyeS0xLjEyLjQubWluLmpzIj48L3NjcmlwdD4KICAgIDxzY3JpcHQgc3JjPSJodHRwczovL21heGNkbi5ib290c3RyYXBjZG4uY29tL2Jvb3RzdHJhcC8zLjIuMC9qcy9ib290c3RyYXAubWluLmpzIj48L3NjcmlwdD4KICAgIDxzY3JpcHQgc3JjPSJodHRwczovL2NkbmpzLmNsb3VkZmxhcmUuY29tL2FqYXgvbGlicy9MZWFmbGV0LmF3ZXNvbWUtbWFya2Vycy8yLjAuMi9sZWFmbGV0LmF3ZXNvbWUtbWFya2Vycy5qcyI+PC9zY3JpcHQ+CiAgICA8bGluayByZWw9InN0eWxlc2hlZXQiIGhyZWY9Imh0dHBzOi8vY2RuLmpzZGVsaXZyLm5ldC9ucG0vbGVhZmxldEAxLjUuMS9kaXN0L2xlYWZsZXQuY3NzIi8+CiAgICA8bGluayByZWw9InN0eWxlc2hlZXQiIGhyZWY9Imh0dHBzOi8vbWF4Y2RuLmJvb3RzdHJhcGNkbi5jb20vYm9vdHN0cmFwLzMuMi4wL2Nzcy9ib290c3RyYXAubWluLmNzcyIvPgogICAgPGxpbmsgcmVsPSJzdHlsZXNoZWV0IiBocmVmPSJodHRwczovL21heGNkbi5ib290c3RyYXBjZG4uY29tL2Jvb3RzdHJhcC8zLjIuMC9jc3MvYm9vdHN0cmFwLXRoZW1lLm1pbi5jc3MiLz4KICAgIDxsaW5rIHJlbD0ic3R5bGVzaGVldCIgaHJlZj0iaHR0cHM6Ly9tYXhjZG4uYm9vdHN0cmFwY2RuLmNvbS9mb250LWF3ZXNvbWUvNC42LjMvY3NzL2ZvbnQtYXdlc29tZS5taW4uY3NzIi8+CiAgICA8bGluayByZWw9InN0eWxlc2hlZXQiIGhyZWY9Imh0dHBzOi8vY2RuanMuY2xvdWRmbGFyZS5jb20vYWpheC9saWJzL0xlYWZsZXQuYXdlc29tZS1tYXJrZXJzLzIuMC4yL2xlYWZsZXQuYXdlc29tZS1tYXJrZXJzLmNzcyIvPgogICAgPGxpbmsgcmVsPSJzdHlsZXNoZWV0IiBocmVmPSJodHRwczovL3Jhd2Nkbi5naXRoYWNrLmNvbS9weXRob24tdmlzdWFsaXphdGlvbi9mb2xpdW0vbWFzdGVyL2ZvbGl1bS90ZW1wbGF0ZXMvbGVhZmxldC5hd2Vzb21lLnJvdGF0ZS5jc3MiLz4KICAgIDxzdHlsZT5odG1sLCBib2R5IHt3aWR0aDogMTAwJTtoZWlnaHQ6IDEwMCU7bWFyZ2luOiAwO3BhZGRpbmc6IDA7fTwvc3R5bGU+CiAgICA8c3R5bGU+I21hcCB7cG9zaXRpb246YWJzb2x1dGU7dG9wOjA7Ym90dG9tOjA7cmlnaHQ6MDtsZWZ0OjA7fTwvc3R5bGU+CiAgICAKICAgICAgICAgICAgPG1ldGEgbmFtZT0idmlld3BvcnQiIGNvbnRlbnQ9IndpZHRoPWRldmljZS13aWR0aCwKICAgICAgICAgICAgICAgIGluaXRpYWwtc2NhbGU9MS4wLCBtYXhpbXVtLXNjYWxlPTEuMCwgdXNlci1zY2FsYWJsZT1ubyIgLz4KICAgICAgICAgICAgPHN0eWxlPgogICAgICAgICAgICAgICAgI21hcF9lNDg3YjAzNzQ0YWE0NmIyOTNkNzFiMDc5NjhhNmE3NCB7CiAgICAgICAgICAgICAgICAgICAgcG9zaXRpb246IHJlbGF0aXZlOwogICAgICAgICAgICAgICAgICAgIHdpZHRoOiAxMDAuMCU7CiAgICAgICAgICAgICAgICAgICAgaGVpZ2h0OiAxMDAuMCU7CiAgICAgICAgICAgICAgICAgICAgbGVmdDogMC4wJTsKICAgICAgICAgICAgICAgICAgICB0b3A6IDAuMCU7CiAgICAgICAgICAgICAgICB9CiAgICAgICAgICAgIDwvc3R5bGU+CiAgICAgICAgCjwvaGVhZD4KPGJvZHk+ICAgIAogICAgCiAgICAgICAgICAgIDxkaXYgY2xhc3M9ImZvbGl1bS1tYXAiIGlkPSJtYXBfZTQ4N2IwMzc0NGFhNDZiMjkzZDcxYjA3OTY4YTZhNzQiID48L2Rpdj4KICAgICAgICAKPC9ib2R5Pgo8c2NyaXB0PiAgICAKICAgIAogICAgICAgICAgICB2YXIgbWFwX2U0ODdiMDM3NDRhYTQ2YjI5M2Q3MWIwNzk2OGE2YTc0ID0gTC5tYXAoCiAgICAgICAgICAgICAgICAibWFwX2U0ODdiMDM3NDRhYTQ2YjI5M2Q3MWIwNzk2OGE2YTc0IiwKICAgICAgICAgICAgICAgIHsKICAgICAgICAgICAgICAgICAgICBjZW50ZXI6IFs0My43MjU1NDAwMDAwMDAwOCwgLTc5LjQwMjMxOTk5OTk5OTk3XSwKICAgICAgICAgICAgICAgICAgICBjcnM6IEwuQ1JTLkVQU0czODU3LAogICAgICAgICAgICAgICAgICAgIHpvb206IDExLAogICAgICAgICAgICAgICAgICAgIHpvb21Db250cm9sOiB0cnVlLAogICAgICAgICAgICAgICAgICAgIHByZWZlckNhbnZhczogZmFsc2UsCiAgICAgICAgICAgICAgICB9CiAgICAgICAgICAgICk7CgogICAgICAgICAgICAKCiAgICAgICAgCiAgICAKICAgICAgICAgICAgdmFyIHRpbGVfbGF5ZXJfOWY1ZmFmNjY0ZjEyNDMyMGIzYjIxOGUyYTE2OWY5MmEgPSBMLnRpbGVMYXllcigKICAgICAgICAgICAgICAgICJodHRwczovL3tzfS50aWxlLm9wZW5zdHJlZXRtYXAub3JnL3t6fS97eH0ve3l9LnBuZyIsCiAgICAgICAgICAgICAgICB7ImF0dHJpYnV0aW9uIjogIkRhdGEgYnkgXHUwMDI2Y29weTsgXHUwMDNjYSBocmVmPVwiaHR0cDovL29wZW5zdHJlZXRtYXAub3JnXCJcdTAwM2VPcGVuU3RyZWV0TWFwXHUwMDNjL2FcdTAwM2UsIHVuZGVyIFx1MDAzY2EgaHJlZj1cImh0dHA6Ly93d3cub3BlbnN0cmVldG1hcC5vcmcvY29weXJpZ2h0XCJcdTAwM2VPRGJMXHUwMDNjL2FcdTAwM2UuIiwgImRldGVjdFJldGluYSI6IGZhbHNlLCAibWF4TmF0aXZlWm9vbSI6IDE4LCAibWF4Wm9vbSI6IDE4LCAibWluWm9vbSI6IDAsICJub1dyYXAiOiBmYWxzZSwgIm9wYWNpdHkiOiAxLCAic3ViZG9tYWlucyI6ICJhYmMiLCAidG1zIjogZmFsc2V9CiAgICAgICAgICAgICkuYWRkVG8obWFwX2U0ODdiMDM3NDRhYTQ2YjI5M2Q3MWIwNzk2OGE2YTc0KTsKICAgICAgICAKICAgIAogICAgICAgICAgICB2YXIgbWFya2VyXzg1MmViOGY0MTdiMDRmMjU5ZjQ3MjIzZTQ0NjlhNGE4ID0gTC5tYXJrZXIoCiAgICAgICAgICAgICAgICBbNDMuODExNTI1MDAwMDAwMDc0LCAtNzkuMTk1NTE3NDYzOTk5OThdLAogICAgICAgICAgICAgICAge30KICAgICAgICAgICAgKS5hZGRUbyhtYXBfZTQ4N2IwMzc0NGFhNDZiMjkzZDcxYjA3OTY4YTZhNzQpOwogICAgICAgIAogICAgCiAgICAgICAgdmFyIHBvcHVwXzc5OTlhNWRiYTk5MTQ0MWRiM2I0YjA2MzI1MzdkMGM5ID0gTC5wb3B1cCh7Im1heFdpZHRoIjogIjEwMCUifSk7CgogICAgICAgIAogICAgICAgICAgICB2YXIgaHRtbF84ZWRlZTE1MDJlMzY0OGM2ODA1MGQ5ZDhjOWMxNDM5OCA9ICQoYDxkaXYgaWQ9Imh0bWxfOGVkZWUxNTAyZTM2NDhjNjgwNTBkOWQ4YzljMTQzOTgiIHN0eWxlPSJ3aWR0aDogMTAwLjAlOyBoZWlnaHQ6IDEwMC4wJTsiPlJvdWdlLCBNYWx2ZXJuPC9kaXY+YClbMF07CiAgICAgICAgICAgIHBvcHVwXzc5OTlhNWRiYTk5MTQ0MWRiM2I0YjA2MzI1MzdkMGM5LnNldENvbnRlbnQoaHRtbF84ZWRlZTE1MDJlMzY0OGM2ODA1MGQ5ZDhjOWMxNDM5OCk7CiAgICAgICAgCgogICAgICAgIG1hcmtlcl84NTJlYjhmNDE3YjA0ZjI1OWY0NzIyM2U0NDY5YTRhOC5iaW5kUG9wdXAocG9wdXBfNzk5OWE1ZGJhOTkxNDQxZGIzYjRiMDYzMjUzN2QwYzkpCiAgICAgICAgOwoKICAgICAgICAKICAgIAogICAgCiAgICAgICAgICAgIHZhciBtYXJrZXJfYjBjYzRiZmI5ZTQ0NGVlNzg0MDJhYWNhZWEzMmFkMGEgPSBMLm1hcmtlcigKICAgICAgICAgICAgICAgIFs0My43ODU2NjUwMDAwMDAwNSwgLTc5LjE1ODcyNDU3Mjk5OTk3XSwKICAgICAgICAgICAgICAgIHt9CiAgICAgICAgICAgICkuYWRkVG8obWFwX2U0ODdiMDM3NDRhYTQ2YjI5M2Q3MWIwNzk2OGE2YTc0KTsKICAgICAgICAKICAgIAogICAgICAgIHZhciBwb3B1cF8wYTQwMjVkOTMzNDk0NzhhOGMyZTc2YTViNjI0MDhkZiA9IEwucG9wdXAoeyJtYXhXaWR0aCI6ICIxMDAlIn0pOwoKICAgICAgICAKICAgICAgICAgICAgdmFyIGh0bWxfZTE0MWFjOGIxN2IxNDRlYmE5MWEzNmRkNTkxZWY1OWUgPSAkKGA8ZGl2IGlkPSJodG1sX2UxNDFhYzhiMTdiMTQ0ZWJhOTFhMzZkZDU5MWVmNTllIiBzdHlsZT0id2lkdGg6IDEwMC4wJTsgaGVpZ2h0OiAxMDAuMCU7Ij5IaWdobGFuZCBDcmVlaywgUm91Z2UgSGlsbCwgUG9ydCBVbmlvbjwvZGl2PmApWzBdOwogICAgICAgICAgICBwb3B1cF8wYTQwMjVkOTMzNDk0NzhhOGMyZTc2YTViNjI0MDhkZi5zZXRDb250ZW50KGh0bWxfZTE0MWFjOGIxN2IxNDRlYmE5MWEzNmRkNTkxZWY1OWUpOwogICAgICAgIAoKICAgICAgICBtYXJrZXJfYjBjYzRiZmI5ZTQ0NGVlNzg0MDJhYWNhZWEzMmFkMGEuYmluZFBvcHVwKHBvcHVwXzBhNDAyNWQ5MzM0OTQ3OGE4YzJlNzZhNWI2MjQwOGRmKQogICAgICAgIDsKCiAgICAgICAgCiAgICAKICAgIAogICAgICAgICAgICB2YXIgbWFya2VyXzdlZjIyNzdhMDdjMjQzMzhiNGY0ZjQwMWVlZGE4Zjg5ID0gTC5tYXJrZXIoCiAgICAgICAgICAgICAgICBbNDMuNzY1ODE1MDAwMDAwMDMsIC03OS4xNzUxOTI5NDY5OTk5N10sCiAgICAgICAgICAgICAgICB7fQogICAgICAgICAgICApLmFkZFRvKG1hcF9lNDg3YjAzNzQ0YWE0NmIyOTNkNzFiMDc5NjhhNmE3NCk7CiAgICAgICAgCiAgICAKICAgICAgICB2YXIgcG9wdXBfNWQwODBmNDI5ZmUxNDNkYzg4ZWVlZTFiMWZkYjdkMGYgPSBMLnBvcHVwKHsibWF4V2lkdGgiOiAiMTAwJSJ9KTsKCiAgICAgICAgCiAgICAgICAgICAgIHZhciBodG1sXzUyZThhY2IxNjM1MjQ0ZmI5Mzc3MmU0ZjJmMTQ3YTQ3ID0gJChgPGRpdiBpZD0iaHRtbF81MmU4YWNiMTYzNTI0NGZiOTM3NzJlNGYyZjE0N2E0NyIgc3R5bGU9IndpZHRoOiAxMDAuMCU7IGhlaWdodDogMTAwLjAlOyI+R3VpbGR3b29kLCBNb3JuaW5nc2lkZSwgV2VzdCBIaWxsPC9kaXY+YClbMF07CiAgICAgICAgICAgIHBvcHVwXzVkMDgwZjQyOWZlMTQzZGM4OGVlZWUxYjFmZGI3ZDBmLnNldENvbnRlbnQoaHRtbF81MmU4YWNiMTYzNTI0NGZiOTM3NzJlNGYyZjE0N2E0Nyk7CiAgICAgICAgCgogICAgICAgIG1hcmtlcl83ZWYyMjc3YTA3YzI0MzM4YjRmNGY0MDFlZWRhOGY4OS5iaW5kUG9wdXAocG9wdXBfNWQwODBmNDI5ZmUxNDNkYzg4ZWVlZTFiMWZkYjdkMGYpCiAgICAgICAgOwoKICAgICAgICAKICAgIAogICAgCiAgICAgICAgICAgIHZhciBtYXJrZXJfMzkxMzg0MThiMDk4NDUyYWIyOGZiZjQ1NmQ5OTBmZDMgPSBMLm1hcmtlcigKICAgICAgICAgICAgICAgIFs0My43NjgzNjkxMjEwMDAwMzUsIC03OS4yMTc1ODk5OTk5OTk5N10sCiAgICAgICAgICAgICAgICB7fQogICAgICAgICAgICApLmFkZFRvKG1hcF9lNDg3YjAzNzQ0YWE0NmIyOTNkNzFiMDc5NjhhNmE3NCk7CiAgICAgICAgCiAgICAKICAgICAgICB2YXIgcG9wdXBfYTcxZjAxYjkxZWQyNDkzMjlhMWFmYWNjZjM2M2Q1OWQgPSBMLnBvcHVwKHsibWF4V2lkdGgiOiAiMTAwJSJ9KTsKCiAgICAgICAgCiAgICAgICAgICAgIHZhciBodG1sXzkxNjNkOWQ2MjNmNDQ3YzI5NzU2MDQyZjNhZGVhZWMyID0gJChgPGRpdiBpZD0iaHRtbF85MTYzZDlkNjIzZjQ0N2MyOTc1NjA0MmYzYWRlYWVjMiIgc3R5bGU9IndpZHRoOiAxMDAuMCU7IGhlaWdodDogMTAwLjAlOyI+V29idXJuPC9kaXY+YClbMF07CiAgICAgICAgICAgIHBvcHVwX2E3MWYwMWI5MWVkMjQ5MzI5YTFhZmFjY2YzNjNkNTlkLnNldENvbnRlbnQoaHRtbF85MTYzZDlkNjIzZjQ0N2MyOTc1NjA0MmYzYWRlYWVjMik7CiAgICAgICAgCgogICAgICAgIG1hcmtlcl8zOTEzODQxOGIwOTg0NTJhYjI4ZmJmNDU2ZDk5MGZkMy5iaW5kUG9wdXAocG9wdXBfYTcxZjAxYjkxZWQyNDkzMjlhMWFmYWNjZjM2M2Q1OWQpCiAgICAgICAgOwoKICAgICAgICAKICAgIAogICAgCiAgICAgICAgICAgIHZhciBtYXJrZXJfMGQ4NDc3MDYyN2QxNDE2NzhhYWE4NTY4M2UyNjdjNTQgPSBMLm1hcmtlcigKICAgICAgICAgICAgICAgIFs0My43Njk2ODc5OTkwMDAwNCwgLTc5LjIzOTQzOTk5OTk5OTk1XSwKICAgICAgICAgICAgICAgIHt9CiAgICAgICAgICAgICkuYWRkVG8obWFwX2U0ODdiMDM3NDRhYTQ2YjI5M2Q3MWIwNzk2OGE2YTc0KTsKICAgICAgICAKICAgIAogICAgICAgIHZhciBwb3B1cF85MWFjNDg0ZDdmMGM0OTMyOTQ0NzAyNDNjYTRhN2M5OCA9IEwucG9wdXAoeyJtYXhXaWR0aCI6ICIxMDAlIn0pOwoKICAgICAgICAKICAgICAgICAgICAgdmFyIGh0bWxfNGExYmI2NWE4YzM3NGJlM2JmODMxMjQ1NmEwOGU4MzggPSAkKGA8ZGl2IGlkPSJodG1sXzRhMWJiNjVhOGMzNzRiZTNiZjgzMTI0NTZhMDhlODM4IiBzdHlsZT0id2lkdGg6IDEwMC4wJTsgaGVpZ2h0OiAxMDAuMCU7Ij5DZWRhcmJyYWU8L2Rpdj5gKVswXTsKICAgICAgICAgICAgcG9wdXBfOTFhYzQ4NGQ3ZjBjNDkzMjk0NDcwMjQzY2E0YTdjOTguc2V0Q29udGVudChodG1sXzRhMWJiNjVhOGMzNzRiZTNiZjgzMTI0NTZhMDhlODM4KTsKICAgICAgICAKCiAgICAgICAgbWFya2VyXzBkODQ3NzA2MjdkMTQxNjc4YWFhODU2ODNlMjY3YzU0LmJpbmRQb3B1cChwb3B1cF85MWFjNDg0ZDdmMGM0OTMyOTQ0NzAyNDNjYTRhN2M5OCkKICAgICAgICA7CgogICAgICAgIAogICAgCiAgICAKICAgICAgICAgICAgdmFyIG1hcmtlcl80ZGQzYmE5ODRmYmM0NzNmYjkyNjYwM2U5NDI2M2UwNiA9IEwubWFya2VyKAogICAgICAgICAgICAgICAgWzQzLjc0MzEyNTAwMDAwMDA4LCAtNzkuMjMxNzQ5NzM1OTk5OThdLAogICAgICAgICAgICAgICAge30KICAgICAgICAgICAgKS5hZGRUbyhtYXBfZTQ4N2IwMzc0NGFhNDZiMjkzZDcxYjA3OTY4YTZhNzQpOwogICAgICAgIAogICAgCiAgICAgICAgdmFyIHBvcHVwXzZiNDkyMjY3ZTY1ODRjZjA4NzJhM2Q4MmU5YTI4YzExID0gTC5wb3B1cCh7Im1heFdpZHRoIjogIjEwMCUifSk7CgogICAgICAgIAogICAgICAgICAgICB2YXIgaHRtbF9hYTkxODZlMzZjYjM0ZmU4YTYwZjk1ZmY1ODYzMWQwZiA9ICQoYDxkaXYgaWQ9Imh0bWxfYWE5MTg2ZTM2Y2IzNGZlOGE2MGY5NWZmNTg2MzFkMGYiIHN0eWxlPSJ3aWR0aDogMTAwLjAlOyBoZWlnaHQ6IDEwMC4wJTsiPlNjYXJib3JvdWdoIFZpbGxhZ2U8L2Rpdj5gKVswXTsKICAgICAgICAgICAgcG9wdXBfNmI0OTIyNjdlNjU4NGNmMDg3MmEzZDgyZTlhMjhjMTEuc2V0Q29udGVudChodG1sX2FhOTE4NmUzNmNiMzRmZThhNjBmOTVmZjU4NjMxZDBmKTsKICAgICAgICAKCiAgICAgICAgbWFya2VyXzRkZDNiYTk4NGZiYzQ3M2ZiOTI2NjAzZTk0MjYzZTA2LmJpbmRQb3B1cChwb3B1cF82YjQ5MjI2N2U2NTg0Y2YwODcyYTNkODJlOWEyOGMxMSkKICAgICAgICA7CgogICAgICAgIAogICAgCiAgICAKICAgICAgICAgICAgdmFyIG1hcmtlcl8yNDA5MjQ5OTljNmI0NjM1YTc3Mzg3ZGFiY2I5MzI1YyA9IEwubWFya2VyKAogICAgICAgICAgICAgICAgWzQzLjcyNjI3NTY4NDAwMDAzLCAtNzkuMjYzNjI0OTk5OTk5OTNdLAogICAgICAgICAgICAgICAge30KICAgICAgICAgICAgKS5hZGRUbyhtYXBfZTQ4N2IwMzc0NGFhNDZiMjkzZDcxYjA3OTY4YTZhNzQpOwogICAgICAgIAogICAgCiAgICAgICAgdmFyIHBvcHVwX2FhNjgwYzA0M2NlYzRiMTNiMGYzMWE1ZWIwODFhNzM4ID0gTC5wb3B1cCh7Im1heFdpZHRoIjogIjEwMCUifSk7CgogICAgICAgIAogICAgICAgICAgICB2YXIgaHRtbF85ZGIwZDNkN2Q4ZGI0NjkzYmQzODU0YjBhZDllMThlYSA9ICQoYDxkaXYgaWQ9Imh0bWxfOWRiMGQzZDdkOGRiNDY5M2JkMzg1NGIwYWQ5ZTE4ZWEiIHN0eWxlPSJ3aWR0aDogMTAwLjAlOyBoZWlnaHQ6IDEwMC4wJTsiPkVhc3QgQmlyY2htb3VudCBQYXJrLCBJb252aWV3LCBLZW5uZWR5IFBhcms8L2Rpdj5gKVswXTsKICAgICAgICAgICAgcG9wdXBfYWE2ODBjMDQzY2VjNGIxM2IwZjMxYTVlYjA4MWE3Mzguc2V0Q29udGVudChodG1sXzlkYjBkM2Q3ZDhkYjQ2OTNiZDM4NTRiMGFkOWUxOGVhKTsKICAgICAgICAKCiAgICAgICAgbWFya2VyXzI0MDkyNDk5OWM2YjQ2MzVhNzczODdkYWJjYjkzMjVjLmJpbmRQb3B1cChwb3B1cF9hYTY4MGMwNDNjZWM0YjEzYjBmMzFhNWViMDgxYTczOCkKICAgICAgICA7CgogICAgICAgIAogICAgCiAgICAKICAgICAgICAgICAgdmFyIG1hcmtlcl83MDAzZTkwMGMxY2Q0ZGUzYmJiNjNjNmQ3MTZjODI2YiA9IEwubWFya2VyKAogICAgICAgICAgICAgICAgWzQzLjcxMzA1MzUwMDAwMDA2LCAtNzkuMjg1MDU0OTk5OTk5OTRdLAogICAgICAgICAgICAgICAge30KICAgICAgICAgICAgKS5hZGRUbyhtYXBfZTQ4N2IwMzc0NGFhNDZiMjkzZDcxYjA3OTY4YTZhNzQpOwogICAgICAgIAogICAgCiAgICAgICAgdmFyIHBvcHVwX2I4N2IwZDFiZjk5MDRiNDA5MWU1ZWZhZGZhOTg1MDZkID0gTC5wb3B1cCh7Im1heFdpZHRoIjogIjEwMCUifSk7CgogICAgICAgIAogICAgICAgICAgICB2YXIgaHRtbF84ZjYzODYyNTg5M2I0YWM2YTI0NmYwMzc4OWY3ZjYwNSA9ICQoYDxkaXYgaWQ9Imh0bWxfOGY2Mzg2MjU4OTNiNGFjNmEyNDZmMDM3ODlmN2Y2MDUiIHN0eWxlPSJ3aWR0aDogMTAwLjAlOyBoZWlnaHQ6IDEwMC4wJTsiPkNsYWlybGVhLCBHb2xkZW4gTWlsZSwgT2FrcmlkZ2U8L2Rpdj5gKVswXTsKICAgICAgICAgICAgcG9wdXBfYjg3YjBkMWJmOTkwNGI0MDkxZTVlZmFkZmE5ODUwNmQuc2V0Q29udGVudChodG1sXzhmNjM4NjI1ODkzYjRhYzZhMjQ2ZjAzNzg5ZjdmNjA1KTsKICAgICAgICAKCiAgICAgICAgbWFya2VyXzcwMDNlOTAwYzFjZDRkZTNiYmI2M2M2ZDcxNmM4MjZiLmJpbmRQb3B1cChwb3B1cF9iODdiMGQxYmY5OTA0YjQwOTFlNWVmYWRmYTk4NTA2ZCkKICAgICAgICA7CgogICAgICAgIAogICAgCiAgICAKICAgICAgICAgICAgdmFyIG1hcmtlcl84OWNiYWExNDk3ZmU0YjlhOTFiOGM4YWQ2YjFiYzlhYyA9IEwubWFya2VyKAogICAgICAgICAgICAgICAgWzQzLjcyNDIzNDU3NTAwMDAyNSwgLTc5LjIyNzkyNDk5OTk5OTk3XSwKICAgICAgICAgICAgICAgIHt9CiAgICAgICAgICAgICkuYWRkVG8obWFwX2U0ODdiMDM3NDRhYTQ2YjI5M2Q3MWIwNzk2OGE2YTc0KTsKICAgICAgICAKICAgIAogICAgICAgIHZhciBwb3B1cF8yNjAxMTg5NTRkY2Q0NmVlYjIwZDhiZWZiMTljMDg3MiA9IEwucG9wdXAoeyJtYXhXaWR0aCI6ICIxMDAlIn0pOwoKICAgICAgICAKICAgICAgICAgICAgdmFyIGh0bWxfNmM3YTlhNjkzYzNlNDI2MWIyNDhkM2M0NzIwMWQ3YzYgPSAkKGA8ZGl2IGlkPSJodG1sXzZjN2E5YTY5M2MzZTQyNjFiMjQ4ZDNjNDcyMDFkN2M2IiBzdHlsZT0id2lkdGg6IDEwMC4wJTsgaGVpZ2h0OiAxMDAuMCU7Ij5DbGlmZmNyZXN0LCBDbGlmZnNpZGUsIFNjYXJib3JvdWdoIFZpbGxhZ2UgV2VzdDwvZGl2PmApWzBdOwogICAgICAgICAgICBwb3B1cF8yNjAxMTg5NTRkY2Q0NmVlYjIwZDhiZWZiMTljMDg3Mi5zZXRDb250ZW50KGh0bWxfNmM3YTlhNjkzYzNlNDI2MWIyNDhkM2M0NzIwMWQ3YzYpOwogICAgICAgIAoKICAgICAgICBtYXJrZXJfODljYmFhMTQ5N2ZlNGI5YTkxYjhjOGFkNmIxYmM5YWMuYmluZFBvcHVwKHBvcHVwXzI2MDExODk1NGRjZDQ2ZWViMjBkOGJlZmIxOWMwODcyKQogICAgICAgIDsKCiAgICAgICAgCiAgICAKICAgIAogICAgICAgICAgICB2YXIgbWFya2VyX2YwNTg4MzUxYmFlNzRmNTU4OTM0Y2UxMWVmZTAwZGE2ID0gTC5tYXJrZXIoCiAgICAgICAgICAgICAgICBbNDMuNjk2NzcwMDAwMDAwMDcsIC03OS4yNTk5NjczNTI5OTk5OF0sCiAgICAgICAgICAgICAgICB7fQogICAgICAgICAgICApLmFkZFRvKG1hcF9lNDg3YjAzNzQ0YWE0NmIyOTNkNzFiMDc5NjhhNmE3NCk7CiAgICAgICAgCiAgICAKICAgICAgICB2YXIgcG9wdXBfNzkxOTY3ZDNlOGEwNDJhYTgwOGVhZTU3ZDJkYzQ0MjEgPSBMLnBvcHVwKHsibWF4V2lkdGgiOiAiMTAwJSJ9KTsKCiAgICAgICAgCiAgICAgICAgICAgIHZhciBodG1sXzVjODdkMTAzMDc4NTQyZTdhNTMzNzVmNDI3ZGZjMTY3ID0gJChgPGRpdiBpZD0iaHRtbF81Yzg3ZDEwMzA3ODU0MmU3YTUzMzc1ZjQyN2RmYzE2NyIgc3R5bGU9IndpZHRoOiAxMDAuMCU7IGhlaWdodDogMTAwLjAlOyI+QmlyY2ggQ2xpZmYsIENsaWZmc2lkZSBXZXN0PC9kaXY+YClbMF07CiAgICAgICAgICAgIHBvcHVwXzc5MTk2N2QzZThhMDQyYWE4MDhlYWU1N2QyZGM0NDIxLnNldENvbnRlbnQoaHRtbF81Yzg3ZDEwMzA3ODU0MmU3YTUzMzc1ZjQyN2RmYzE2Nyk7CiAgICAgICAgCgogICAgICAgIG1hcmtlcl9mMDU4ODM1MWJhZTc0ZjU1ODkzNGNlMTFlZmUwMGRhNi5iaW5kUG9wdXAocG9wdXBfNzkxOTY3ZDNlOGEwNDJhYTgwOGVhZTU3ZDJkYzQ0MjEpCiAgICAgICAgOwoKICAgICAgICAKICAgIAogICAgCiAgICAgICAgICAgIHZhciBtYXJrZXJfYzg5MGNiNWE0M2I1NDI3MmIwNjkzNTA0N2YzN2VmM2UgPSBMLm1hcmtlcigKICAgICAgICAgICAgICAgIFs0My43NTk5NzUwMDAwMDAwNTQsIC03OS4yNjg5NzQxODI5OTk5NV0sCiAgICAgICAgICAgICAgICB7fQogICAgICAgICAgICApLmFkZFRvKG1hcF9lNDg3YjAzNzQ0YWE0NmIyOTNkNzFiMDc5NjhhNmE3NCk7CiAgICAgICAgCiAgICAKICAgICAgICB2YXIgcG9wdXBfMGI0NWM2ZWI4MWY0NGU0YjkxZDExYWI3ZWY5MmZlZDIgPSBMLnBvcHVwKHsibWF4V2lkdGgiOiAiMTAwJSJ9KTsKCiAgICAgICAgCiAgICAgICAgICAgIHZhciBodG1sXzkxYzZlM2JkYWViYjQwNDg4ZGUwZjAxYjU1MWRkNWQ1ID0gJChgPGRpdiBpZD0iaHRtbF85MWM2ZTNiZGFlYmI0MDQ4OGRlMGYwMWI1NTFkZDVkNSIgc3R5bGU9IndpZHRoOiAxMDAuMCU7IGhlaWdodDogMTAwLjAlOyI+RG9yc2V0IFBhcmssIFNjYXJib3JvdWdoIFRvd24gQ2VudHJlLCBXZXhmb3JkIEhlaWdodHM8L2Rpdj5gKVswXTsKICAgICAgICAgICAgcG9wdXBfMGI0NWM2ZWI4MWY0NGU0YjkxZDExYWI3ZWY5MmZlZDIuc2V0Q29udGVudChodG1sXzkxYzZlM2JkYWViYjQwNDg4ZGUwZjAxYjU1MWRkNWQ1KTsKICAgICAgICAKCiAgICAgICAgbWFya2VyX2M4OTBjYjVhNDNiNTQyNzJiMDY5MzUwNDdmMzdlZjNlLmJpbmRQb3B1cChwb3B1cF8wYjQ1YzZlYjgxZjQ0ZTRiOTFkMTFhYjdlZjkyZmVkMikKICAgICAgICA7CgogICAgICAgIAogICAgCiAgICAKICAgICAgICAgICAgdmFyIG1hcmtlcl85ZmEwZmUxMWMzYWI0ZTZlYjgyNzQyZWU2NmY4ZGJhZCA9IEwubWFya2VyKAogICAgICAgICAgICAgICAgWzQzLjc1MDcxMDQ2NDAwMDA2NSwgLTc5LjMwMDU1OTk5OTk5OTk2XSwKICAgICAgICAgICAgICAgIHt9CiAgICAgICAgICAgICkuYWRkVG8obWFwX2U0ODdiMDM3NDRhYTQ2YjI5M2Q3MWIwNzk2OGE2YTc0KTsKICAgICAgICAKICAgIAogICAgICAgIHZhciBwb3B1cF9iNTcwOTAwZTAwODU0YjA4YjdkYTcyMzA2NmQ3M2ZiZiA9IEwucG9wdXAoeyJtYXhXaWR0aCI6ICIxMDAlIn0pOwoKICAgICAgICAKICAgICAgICAgICAgdmFyIGh0bWxfODIwMjU2NTE1ZDg3NGVjMGIwMDE1YTM4M2RhNjc0M2YgPSAkKGA8ZGl2IGlkPSJodG1sXzgyMDI1NjUxNWQ4NzRlYzBiMDAxNWEzODNkYTY3NDNmIiBzdHlsZT0id2lkdGg6IDEwMC4wJTsgaGVpZ2h0OiAxMDAuMCU7Ij5NYXJ5dmFsZSwgV2V4Zm9yZDwvZGl2PmApWzBdOwogICAgICAgICAgICBwb3B1cF9iNTcwOTAwZTAwODU0YjA4YjdkYTcyMzA2NmQ3M2ZiZi5zZXRDb250ZW50KGh0bWxfODIwMjU2NTE1ZDg3NGVjMGIwMDE1YTM4M2RhNjc0M2YpOwogICAgICAgIAoKICAgICAgICBtYXJrZXJfOWZhMGZlMTFjM2FiNGU2ZWI4Mjc0MmVlNjZmOGRiYWQuYmluZFBvcHVwKHBvcHVwX2I1NzA5MDBlMDA4NTRiMDhiN2RhNzIzMDY2ZDczZmJmKQogICAgICAgIDsKCiAgICAgICAgCiAgICAKICAgIAogICAgICAgICAgICB2YXIgbWFya2VyXzVkMWVhYjlkYTljZTQ5MGU5MWE0NTU5NDM5ZmVlYjliID0gTC5tYXJrZXIoCiAgICAgICAgICAgICAgICBbNDMuNzkzOTQwMDAwMDAwMDgsIC03OS4yNjc5NzYxMzk5OTk5N10sCiAgICAgICAgICAgICAgICB7fQogICAgICAgICAgICApLmFkZFRvKG1hcF9lNDg3YjAzNzQ0YWE0NmIyOTNkNzFiMDc5NjhhNmE3NCk7CiAgICAgICAgCiAgICAKICAgICAgICB2YXIgcG9wdXBfYjFiZjU0NTE5YmI2NDYzMTlkMzg2YTBjODE1ZmQ4MzIgPSBMLnBvcHVwKHsibWF4V2lkdGgiOiAiMTAwJSJ9KTsKCiAgICAgICAgCiAgICAgICAgICAgIHZhciBodG1sX2NmMDhlNzhkZDViYjQ2ZDQ5OGVkNDkwMWUzM2FhZTkxID0gJChgPGRpdiBpZD0iaHRtbF9jZjA4ZTc4ZGQ1YmI0NmQ0OThlZDQ5MDFlMzNhYWU5MSIgc3R5bGU9IndpZHRoOiAxMDAuMCU7IGhlaWdodDogMTAwLjAlOyI+QWdpbmNvdXJ0PC9kaXY+YClbMF07CiAgICAgICAgICAgIHBvcHVwX2IxYmY1NDUxOWJiNjQ2MzE5ZDM4NmEwYzgxNWZkODMyLnNldENvbnRlbnQoaHRtbF9jZjA4ZTc4ZGQ1YmI0NmQ0OThlZDQ5MDFlMzNhYWU5MSk7CiAgICAgICAgCgogICAgICAgIG1hcmtlcl81ZDFlYWI5ZGE5Y2U0OTBlOTFhNDU1OTQzOWZlZWI5Yi5iaW5kUG9wdXAocG9wdXBfYjFiZjU0NTE5YmI2NDYzMTlkMzg2YTBjODE1ZmQ4MzIpCiAgICAgICAgOwoKICAgICAgICAKICAgIAogICAgCiAgICAgICAgICAgIHZhciBtYXJrZXJfYjk4OTMwMTVhNWI5NDk3Zjg3YmM4OWU1YmZiYzIzMWUgPSBMLm1hcmtlcigKICAgICAgICAgICAgICAgIFs0My43ODQ3MjUwMDAwMDAwNCwgLTc5LjI5OTA2NjAzMjk5OTk3XSwKICAgICAgICAgICAgICAgIHt9CiAgICAgICAgICAgICkuYWRkVG8obWFwX2U0ODdiMDM3NDRhYTQ2YjI5M2Q3MWIwNzk2OGE2YTc0KTsKICAgICAgICAKICAgIAogICAgICAgIHZhciBwb3B1cF83ZWI2NjE3OWQ4ZGI0ZDU0OTQ2ZDBiN2UzNmQ2NTU5ZSA9IEwucG9wdXAoeyJtYXhXaWR0aCI6ICIxMDAlIn0pOwoKICAgICAgICAKICAgICAgICAgICAgdmFyIGh0bWxfZWMxZjNkNjk4NWFhNDRmZWIyMTVjYWJiZDUyNDM0NzAgPSAkKGA8ZGl2IGlkPSJodG1sX2VjMWYzZDY5ODVhYTQ0ZmViMjE1Y2FiYmQ1MjQzNDcwIiBzdHlsZT0id2lkdGg6IDEwMC4wJTsgaGVpZ2h0OiAxMDAuMCU7Ij5DbGFya3MgQ29ybmVycywgU3VsbGl2YW4sIFRhbSBPJ1NoYW50ZXI8L2Rpdj5gKVswXTsKICAgICAgICAgICAgcG9wdXBfN2ViNjYxNzlkOGRiNGQ1NDk0NmQwYjdlMzZkNjU1OWUuc2V0Q29udGVudChodG1sX2VjMWYzZDY5ODVhYTQ0ZmViMjE1Y2FiYmQ1MjQzNDcwKTsKICAgICAgICAKCiAgICAgICAgbWFya2VyX2I5ODkzMDE1YTViOTQ5N2Y4N2JjODllNWJmYmMyMzFlLmJpbmRQb3B1cChwb3B1cF83ZWI2NjE3OWQ4ZGI0ZDU0OTQ2ZDBiN2UzNmQ2NTU5ZSkKICAgICAgICA7CgogICAgICAgIAogICAgCiAgICAKICAgICAgICAgICAgdmFyIG1hcmtlcl8wM2UzYWNjZGZmNDM0MjE1ODUwMjI1NjhjMTNjMTk4YiA9IEwubWFya2VyKAogICAgICAgICAgICAgICAgWzQzLjgxNzY4NTAwMDAwMDA0LCAtNzkuMjgwMTg3MjEzOTk5OTddLAogICAgICAgICAgICAgICAge30KICAgICAgICAgICAgKS5hZGRUbyhtYXBfZTQ4N2IwMzc0NGFhNDZiMjkzZDcxYjA3OTY4YTZhNzQpOwogICAgICAgIAogICAgCiAgICAgICAgdmFyIHBvcHVwXzg5NGFjNmNkZGI0NjQ1NjU4ZWNhMDgyZTNkYmM3MGRiID0gTC5wb3B1cCh7Im1heFdpZHRoIjogIjEwMCUifSk7CgogICAgICAgIAogICAgICAgICAgICB2YXIgaHRtbF8wNmEwMGI5MTM5N2Y0YmY0YWEzNmUwOGY0YjZiOWVlMiA9ICQoYDxkaXYgaWQ9Imh0bWxfMDZhMDBiOTEzOTdmNGJmNGFhMzZlMDhmNGI2YjllZTIiIHN0eWxlPSJ3aWR0aDogMTAwLjAlOyBoZWlnaHQ6IDEwMC4wJTsiPkFnaW5jb3VydCBOb3J0aCwgTCdBbW9yZWF1eCBFYXN0LCBNaWxsaWtlbiwgU3RlZWxlcyBFYXN0PC9kaXY+YClbMF07CiAgICAgICAgICAgIHBvcHVwXzg5NGFjNmNkZGI0NjQ1NjU4ZWNhMDgyZTNkYmM3MGRiLnNldENvbnRlbnQoaHRtbF8wNmEwMGI5MTM5N2Y0YmY0YWEzNmUwOGY0YjZiOWVlMik7CiAgICAgICAgCgogICAgICAgIG1hcmtlcl8wM2UzYWNjZGZmNDM0MjE1ODUwMjI1NjhjMTNjMTk4Yi5iaW5kUG9wdXAocG9wdXBfODk0YWM2Y2RkYjQ2NDU2NThlY2EwODJlM2RiYzcwZGIpCiAgICAgICAgOwoKICAgICAgICAKICAgIAogICAgCiAgICAgICAgICAgIHZhciBtYXJrZXJfNWVkNDdlMzVkZTQxNDQ3YmExNjM5NDFhZWMwZGVlZDQgPSBMLm1hcmtlcigKICAgICAgICAgICAgICAgIFs0My44MDA4ODI5MjgwMDAwOCwgLTc5LjMyMDczOTk5OTk5OTk0XSwKICAgICAgICAgICAgICAgIHt9CiAgICAgICAgICAgICkuYWRkVG8obWFwX2U0ODdiMDM3NDRhYTQ2YjI5M2Q3MWIwNzk2OGE2YTc0KTsKICAgICAgICAKICAgIAogICAgICAgIHZhciBwb3B1cF81NzljYjFmZWQzZDU0ZTM0OTNmNjgwNGY5Mzk0MmY2ZCA9IEwucG9wdXAoeyJtYXhXaWR0aCI6ICIxMDAlIn0pOwoKICAgICAgICAKICAgICAgICAgICAgdmFyIGh0bWxfMGNkNzIxODg1YjU0NDViODg4ZDI2M2ViYzNiZjViMTEgPSAkKGA8ZGl2IGlkPSJodG1sXzBjZDcyMTg4NWI1NDQ1Yjg4OGQyNjNlYmMzYmY1YjExIiBzdHlsZT0id2lkdGg6IDEwMC4wJTsgaGVpZ2h0OiAxMDAuMCU7Ij5MJ0Ftb3JlYXV4IFdlc3Q8L2Rpdj5gKVswXTsKICAgICAgICAgICAgcG9wdXBfNTc5Y2IxZmVkM2Q1NGUzNDkzZjY4MDRmOTM5NDJmNmQuc2V0Q29udGVudChodG1sXzBjZDcyMTg4NWI1NDQ1Yjg4OGQyNjNlYmMzYmY1YjExKTsKICAgICAgICAKCiAgICAgICAgbWFya2VyXzVlZDQ3ZTM1ZGU0MTQ0N2JhMTYzOTQxYWVjMGRlZWQ0LmJpbmRQb3B1cChwb3B1cF81NzljYjFmZWQzZDU0ZTM0OTNmNjgwNGY5Mzk0MmY2ZCkKICAgICAgICA7CgogICAgICAgIAogICAgCiAgICAKICAgICAgICAgICAgdmFyIG1hcmtlcl85ZDUwM2Y1ODdhMDc0MGE1OTQxZjAwMzkzZWQzMDViZiA9IEwubWFya2VyKAogICAgICAgICAgICAgICAgWzQzLjgzNDIxNTAwMDAwMDAzLCAtNzkuMjE2NzAwODUwOTk5OThdLAogICAgICAgICAgICAgICAge30KICAgICAgICAgICAgKS5hZGRUbyhtYXBfZTQ4N2IwMzc0NGFhNDZiMjkzZDcxYjA3OTY4YTZhNzQpOwogICAgICAgIAogICAgCiAgICAgICAgdmFyIHBvcHVwXzcwOWZmYWY0ZTRjNjQyMjlhOWMyNzMyOThmZTc2ODYwID0gTC5wb3B1cCh7Im1heFdpZHRoIjogIjEwMCUifSk7CgogICAgICAgIAogICAgICAgICAgICB2YXIgaHRtbF9iODA1MmFmMmZlODE0MGI0YTk5OTczYTY5ZWI0MjljNiA9ICQoYDxkaXYgaWQ9Imh0bWxfYjgwNTJhZjJmZTgxNDBiNGE5OTk3M2E2OWViNDI5YzYiIHN0eWxlPSJ3aWR0aDogMTAwLjAlOyBoZWlnaHQ6IDEwMC4wJTsiPlVwcGVyIFJvdWdlPC9kaXY+YClbMF07CiAgICAgICAgICAgIHBvcHVwXzcwOWZmYWY0ZTRjNjQyMjlhOWMyNzMyOThmZTc2ODYwLnNldENvbnRlbnQoaHRtbF9iODA1MmFmMmZlODE0MGI0YTk5OTczYTY5ZWI0MjljNik7CiAgICAgICAgCgogICAgICAgIG1hcmtlcl85ZDUwM2Y1ODdhMDc0MGE1OTQxZjAwMzkzZWQzMDViZi5iaW5kUG9wdXAocG9wdXBfNzA5ZmZhZjRlNGM2NDIyOWE5YzI3MzI5OGZlNzY4NjApCiAgICAgICAgOwoKICAgICAgICAKICAgIAogICAgCiAgICAgICAgICAgIHZhciBtYXJrZXJfMjA5MjViMmY0MTYxNDMyNjgzOWZmZTljZjUzMmNkMzYgPSBMLm1hcmtlcigKICAgICAgICAgICAgICAgIFs0My44MDI4NDUwMDAwMDAwNSwgLTc5LjM1NjIwNzQ0OTk5OTk0XSwKICAgICAgICAgICAgICAgIHt9CiAgICAgICAgICAgICkuYWRkVG8obWFwX2U0ODdiMDM3NDRhYTQ2YjI5M2Q3MWIwNzk2OGE2YTc0KTsKICAgICAgICAKICAgIAogICAgICAgIHZhciBwb3B1cF9jMmIyOWE1ZDRlODI0YmM4OWVjMzhkMTUwNTkyYmNlOSA9IEwucG9wdXAoeyJtYXhXaWR0aCI6ICIxMDAlIn0pOwoKICAgICAgICAKICAgICAgICAgICAgdmFyIGh0bWxfZjUwM2U4M2ZkZmIyNDY4MGE2OGQyODIwYzdjMjdhYTEgPSAkKGA8ZGl2IGlkPSJodG1sX2Y1MDNlODNmZGZiMjQ2ODBhNjhkMjgyMGM3YzI3YWExIiBzdHlsZT0id2lkdGg6IDEwMC4wJTsgaGVpZ2h0OiAxMDAuMCU7Ij5IaWxsY3Jlc3QgVmlsbGFnZTwvZGl2PmApWzBdOwogICAgICAgICAgICBwb3B1cF9jMmIyOWE1ZDRlODI0YmM4OWVjMzhkMTUwNTkyYmNlOS5zZXRDb250ZW50KGh0bWxfZjUwM2U4M2ZkZmIyNDY4MGE2OGQyODIwYzdjMjdhYTEpOwogICAgICAgIAoKICAgICAgICBtYXJrZXJfMjA5MjViMmY0MTYxNDMyNjgzOWZmZTljZjUzMmNkMzYuYmluZFBvcHVwKHBvcHVwX2MyYjI5YTVkNGU4MjRiYzg5ZWMzOGQxNTA1OTJiY2U5KQogICAgICAgIDsKCiAgICAgICAgCiAgICAKICAgIAogICAgICAgICAgICB2YXIgbWFya2VyX2FkODUyMzAzN2NiYjQzZTJiMTllM2JlNjZlNGM1MDk5ID0gTC5tYXJrZXIoCiAgICAgICAgICAgICAgICBbNDMuNzgwOTcwMDAwMDAwMDI1LCAtNzkuMzQ3ODEzMjgwOTk5OTZdLAogICAgICAgICAgICAgICAge30KICAgICAgICAgICAgKS5hZGRUbyhtYXBfZTQ4N2IwMzc0NGFhNDZiMjkzZDcxYjA3OTY4YTZhNzQpOwogICAgICAgIAogICAgCiAgICAgICAgdmFyIHBvcHVwXzUwOTBiMmNmMDk1ODQyZWE4ZjIxNGM1MTU2MTk2NmNiID0gTC5wb3B1cCh7Im1heFdpZHRoIjogIjEwMCUifSk7CgogICAgICAgIAogICAgICAgICAgICB2YXIgaHRtbF8wZDYyOTE2YjhiMzc0ZDRiYmYyMmRhNzU5MTBkOTlmYyA9ICQoYDxkaXYgaWQ9Imh0bWxfMGQ2MjkxNmI4YjM3NGQ0YmJmMjJkYTc1OTEwZDk5ZmMiIHN0eWxlPSJ3aWR0aDogMTAwLjAlOyBoZWlnaHQ6IDEwMC4wJTsiPkZhaXJ2aWV3LCBIZW5yeSBGYXJtLCBPcmlvbGU8L2Rpdj5gKVswXTsKICAgICAgICAgICAgcG9wdXBfNTA5MGIyY2YwOTU4NDJlYThmMjE0YzUxNTYxOTY2Y2Iuc2V0Q29udGVudChodG1sXzBkNjI5MTZiOGIzNzRkNGJiZjIyZGE3NTkxMGQ5OWZjKTsKICAgICAgICAKCiAgICAgICAgbWFya2VyX2FkODUyMzAzN2NiYjQzZTJiMTllM2JlNjZlNGM1MDk5LmJpbmRQb3B1cChwb3B1cF81MDkwYjJjZjA5NTg0MmVhOGYyMTRjNTE1NjE5NjZjYikKICAgICAgICA7CgogICAgICAgIAogICAgCiAgICAKICAgICAgICAgICAgdmFyIG1hcmtlcl84MWY4NzNlN2E1YmY0Yjk3YjgxZGRiOWI4MzhjYWExYSA9IEwubWFya2VyKAogICAgICAgICAgICAgICAgWzQzLjc4MTAxNTAwMDAwMDAyNSwgLTc5LjM4MDUyODY3MTk5OTk3XSwKICAgICAgICAgICAgICAgIHt9CiAgICAgICAgICAgICkuYWRkVG8obWFwX2U0ODdiMDM3NDRhYTQ2YjI5M2Q3MWIwNzk2OGE2YTc0KTsKICAgICAgICAKICAgIAogICAgICAgIHZhciBwb3B1cF83OThjOGU0MDYwMDM0M2FkYjc1NDMyYWE0NjA1NGRhZSA9IEwucG9wdXAoeyJtYXhXaWR0aCI6ICIxMDAlIn0pOwoKICAgICAgICAKICAgICAgICAgICAgdmFyIGh0bWxfYTAzZmVkYzNkYWU5NDNmOTg4ZDVlNGJhNjRiZjMwY2EgPSAkKGA8ZGl2IGlkPSJodG1sX2EwM2ZlZGMzZGFlOTQzZjk4OGQ1ZTRiYTY0YmYzMGNhIiBzdHlsZT0id2lkdGg6IDEwMC4wJTsgaGVpZ2h0OiAxMDAuMCU7Ij5CYXl2aWV3IFZpbGxhZ2U8L2Rpdj5gKVswXTsKICAgICAgICAgICAgcG9wdXBfNzk4YzhlNDA2MDAzNDNhZGI3NTQzMmFhNDYwNTRkYWUuc2V0Q29udGVudChodG1sX2EwM2ZlZGMzZGFlOTQzZjk4OGQ1ZTRiYTY0YmYzMGNhKTsKICAgICAgICAKCiAgICAgICAgbWFya2VyXzgxZjg3M2U3YTViZjRiOTdiODFkZGI5YjgzOGNhYTFhLmJpbmRQb3B1cChwb3B1cF83OThjOGU0MDYwMDM0M2FkYjc1NDMyYWE0NjA1NGRhZSkKICAgICAgICA7CgogICAgICAgIAogICAgCiAgICAKICAgICAgICAgICAgdmFyIG1hcmtlcl9iNzc1ZjE4MTQxYjg0ZTVjYjYyNTA5MTcxNDlhOWJhMiA9IEwubWFya2VyKAogICAgICAgICAgICAgICAgWzQzLjc1NzA5NTExOTAwMDA0LCAtNzkuMzgwMzE5OTk5OTk5OThdLAogICAgICAgICAgICAgICAge30KICAgICAgICAgICAgKS5hZGRUbyhtYXBfZTQ4N2IwMzc0NGFhNDZiMjkzZDcxYjA3OTY4YTZhNzQpOwogICAgICAgIAogICAgCiAgICAgICAgdmFyIHBvcHVwX2QxMjQ1ZDRjYzBjZjQ3MWNhMzA1Nzg4NjRkYzM4MGM0ID0gTC5wb3B1cCh7Im1heFdpZHRoIjogIjEwMCUifSk7CgogICAgICAgIAogICAgICAgICAgICB2YXIgaHRtbF8wNTAwYTZjNGRhYzk0MmUxYjhlMWFmODUxZTVmNjI5OCA9ICQoYDxkaXYgaWQ9Imh0bWxfMDUwMGE2YzRkYWM5NDJlMWI4ZTFhZjg1MWU1ZjYyOTgiIHN0eWxlPSJ3aWR0aDogMTAwLjAlOyBoZWlnaHQ6IDEwMC4wJTsiPlNpbHZlciBIaWxscywgWW9yayBNaWxsczwvZGl2PmApWzBdOwogICAgICAgICAgICBwb3B1cF9kMTI0NWQ0Y2MwY2Y0NzFjYTMwNTc4ODY0ZGMzODBjNC5zZXRDb250ZW50KGh0bWxfMDUwMGE2YzRkYWM5NDJlMWI4ZTFhZjg1MWU1ZjYyOTgpOwogICAgICAgIAoKICAgICAgICBtYXJrZXJfYjc3NWYxODE0MWI4NGU1Y2I2MjUwOTE3MTQ5YTliYTIuYmluZFBvcHVwKHBvcHVwX2QxMjQ1ZDRjYzBjZjQ3MWNhMzA1Nzg4NjRkYzM4MGM0KQogICAgICAgIDsKCiAgICAgICAgCiAgICAKICAgIAogICAgICAgICAgICB2YXIgbWFya2VyXzI3ZjMyY2Y2ZWE2YjRjNWNiMjRhMjNjNjFmMDQ4YzU0ID0gTC5tYXJrZXIoCiAgICAgICAgICAgICAgICBbNDMuNzkxNDc1MDAwMDAwMDUsIC03OS40MTM2MDQ4NzI5OTk5NF0sCiAgICAgICAgICAgICAgICB7fQogICAgICAgICAgICApLmFkZFRvKG1hcF9lNDg3YjAzNzQ0YWE0NmIyOTNkNzFiMDc5NjhhNmE3NCk7CiAgICAgICAgCiAgICAKICAgICAgICB2YXIgcG9wdXBfNDVmZTFkYmM3M2YzNGQyMWE0NWI3NmE3NDY5NzQxOWIgPSBMLnBvcHVwKHsibWF4V2lkdGgiOiAiMTAwJSJ9KTsKCiAgICAgICAgCiAgICAgICAgICAgIHZhciBodG1sX2IyMGRkNGI4YjYzNjRkN2Q5YjY4NjFlZGE2NjYwZDg2ID0gJChgPGRpdiBpZD0iaHRtbF9iMjBkZDRiOGI2MzY0ZDdkOWI2ODYxZWRhNjY2MGQ4NiIgc3R5bGU9IndpZHRoOiAxMDAuMCU7IGhlaWdodDogMTAwLjAlOyI+TmV3dG9uYnJvb2ssIFdpbGxvd2RhbGU8L2Rpdj5gKVswXTsKICAgICAgICAgICAgcG9wdXBfNDVmZTFkYmM3M2YzNGQyMWE0NWI3NmE3NDY5NzQxOWIuc2V0Q29udGVudChodG1sX2IyMGRkNGI4YjYzNjRkN2Q5YjY4NjFlZGE2NjYwZDg2KTsKICAgICAgICAKCiAgICAgICAgbWFya2VyXzI3ZjMyY2Y2ZWE2YjRjNWNiMjRhMjNjNjFmMDQ4YzU0LmJpbmRQb3B1cChwb3B1cF80NWZlMWRiYzczZjM0ZDIxYTQ1Yjc2YTc0Njk3NDE5YikKICAgICAgICA7CgogICAgICAgIAogICAgCiAgICAKICAgICAgICAgICAgdmFyIG1hcmtlcl85YzA3NzQ2ZGYyYTU0ZmU3OTU4NjU1Yjg1NTQ2MDk3MCA9IEwubWFya2VyKAogICAgICAgICAgICAgICAgWzQzLjc2ODE2NTAwMDAwMDA3LCAtNzkuNDA3NDE5ODQ1OTk5OThdLAogICAgICAgICAgICAgICAge30KICAgICAgICAgICAgKS5hZGRUbyhtYXBfZTQ4N2IwMzc0NGFhNDZiMjkzZDcxYjA3OTY4YTZhNzQpOwogICAgICAgIAogICAgCiAgICAgICAgdmFyIHBvcHVwX2I3ZGRmNDliMzUwOTQ1YWM4OWI2NDg5ZWRjZGQzZjU3ID0gTC5wb3B1cCh7Im1heFdpZHRoIjogIjEwMCUifSk7CgogICAgICAgIAogICAgICAgICAgICB2YXIgaHRtbF9hZGI0Zjg2ZGZhNDI0NjAxYmY1ZDRmZGRhYjVmNGM0NCA9ICQoYDxkaXYgaWQ9Imh0bWxfYWRiNGY4NmRmYTQyNDYwMWJmNWQ0ZmRkYWI1ZjRjNDQiIHN0eWxlPSJ3aWR0aDogMTAwLjAlOyBoZWlnaHQ6IDEwMC4wJTsiPldpbGxvd2RhbGUgU291dGg8L2Rpdj5gKVswXTsKICAgICAgICAgICAgcG9wdXBfYjdkZGY0OWIzNTA5NDVhYzg5YjY0ODllZGNkZDNmNTcuc2V0Q29udGVudChodG1sX2FkYjRmODZkZmE0MjQ2MDFiZjVkNGZkZGFiNWY0YzQ0KTsKICAgICAgICAKCiAgICAgICAgbWFya2VyXzljMDc3NDZkZjJhNTRmZTc5NTg2NTViODU1NDYwOTcwLmJpbmRQb3B1cChwb3B1cF9iN2RkZjQ5YjM1MDk0NWFjODliNjQ4OWVkY2RkM2Y1NykKICAgICAgICA7CgogICAgICAgIAogICAgCiAgICAKICAgICAgICAgICAgdmFyIG1hcmtlcl8wZWZiNzk1MGYxNDA0Nzc2OTA1OGQ1MDMxMzFlZWUzYyA9IEwubWFya2VyKAogICAgICAgICAgICAgICAgWzQzLjc0Nzg5NTAwMDAwMDAzLCAtNzkuMzk5OTE4OTM4OTk5OTddLAogICAgICAgICAgICAgICAge30KICAgICAgICAgICAgKS5hZGRUbyhtYXBfZTQ4N2IwMzc0NGFhNDZiMjkzZDcxYjA3OTY4YTZhNzQpOwogICAgICAgIAogICAgCiAgICAgICAgdmFyIHBvcHVwXzY0M2ZiODFlODdkNTQwYjViMjIyZjM1YTgyZWRiYjNmID0gTC5wb3B1cCh7Im1heFdpZHRoIjogIjEwMCUifSk7CgogICAgICAgIAogICAgICAgICAgICB2YXIgaHRtbF8xNzgxNzQ5ZTU3Y2Y0ODI0YjVhYjdlNTc5YzQ2NzU2NyA9ICQoYDxkaXYgaWQ9Imh0bWxfMTc4MTc0OWU1N2NmNDgyNGI1YWI3ZTU3OWM0Njc1NjciIHN0eWxlPSJ3aWR0aDogMTAwLjAlOyBoZWlnaHQ6IDEwMC4wJTsiPllvcmsgTWlsbHMgV2VzdDwvZGl2PmApWzBdOwogICAgICAgICAgICBwb3B1cF82NDNmYjgxZTg3ZDU0MGI1YjIyMmYzNWE4MmVkYmIzZi5zZXRDb250ZW50KGh0bWxfMTc4MTc0OWU1N2NmNDgyNGI1YWI3ZTU3OWM0Njc1NjcpOwogICAgICAgIAoKICAgICAgICBtYXJrZXJfMGVmYjc5NTBmMTQwNDc3NjkwNThkNTAzMTMxZWVlM2MuYmluZFBvcHVwKHBvcHVwXzY0M2ZiODFlODdkNTQwYjViMjIyZjM1YTgyZWRiYjNmKQogICAgICAgIDsKCiAgICAgICAgCiAgICAKICAgIAogICAgICAgICAgICB2YXIgbWFya2VyXzk2MzM1YTJjNTg1NjQ2ZjRiNTJlOTNjNDhiZTE5YjljID0gTC5tYXJrZXIoCiAgICAgICAgICAgICAgICBbNDMuNzc3Njk1MDAwMDAwMDUsIC03OS40NDU3OTY1NzI5OTk5NF0sCiAgICAgICAgICAgICAgICB7fQogICAgICAgICAgICApLmFkZFRvKG1hcF9lNDg3YjAzNzQ0YWE0NmIyOTNkNzFiMDc5NjhhNmE3NCk7CiAgICAgICAgCiAgICAKICAgICAgICB2YXIgcG9wdXBfMmZiOGNjODM3N2M4NGI2MWIwMjYyNmU2MDgzZmU2MDcgPSBMLnBvcHVwKHsibWF4V2lkdGgiOiAiMTAwJSJ9KTsKCiAgICAgICAgCiAgICAgICAgICAgIHZhciBodG1sXzdkZTc0MjdkNDFiYjQ3ZWI5MzgxNGU1Y2FmYjMzYmVlID0gJChgPGRpdiBpZD0iaHRtbF83ZGU3NDI3ZDQxYmI0N2ViOTM4MTRlNWNhZmIzM2JlZSIgc3R5bGU9IndpZHRoOiAxMDAuMCU7IGhlaWdodDogMTAwLjAlOyI+V2lsbG93ZGFsZSBXZXN0PC9kaXY+YClbMF07CiAgICAgICAgICAgIHBvcHVwXzJmYjhjYzgzNzdjODRiNjFiMDI2MjZlNjA4M2ZlNjA3LnNldENvbnRlbnQoaHRtbF83ZGU3NDI3ZDQxYmI0N2ViOTM4MTRlNWNhZmIzM2JlZSk7CiAgICAgICAgCgogICAgICAgIG1hcmtlcl85NjMzNWEyYzU4NTY0NmY0YjUyZTkzYzQ4YmUxOWI5Yy5iaW5kUG9wdXAocG9wdXBfMmZiOGNjODM3N2M4NGI2MWIwMjYyNmU2MDgzZmU2MDcpCiAgICAgICAgOwoKICAgICAgICAKICAgIAogICAgCiAgICAgICAgICAgIHZhciBtYXJrZXJfN2YwNTQxNzMyODFiNDBlMWIwNjAxNTZhY2E1ZmE5MWYgPSBMLm1hcmtlcigKICAgICAgICAgICAgICAgIFs0My43NTI0MjAwMDAwMDAwMywgLTc5LjMyOTI0MjQ1Mjk5OTk1XSwKICAgICAgICAgICAgICAgIHt9CiAgICAgICAgICAgICkuYWRkVG8obWFwX2U0ODdiMDM3NDRhYTQ2YjI5M2Q3MWIwNzk2OGE2YTc0KTsKICAgICAgICAKICAgIAogICAgICAgIHZhciBwb3B1cF81MmQ2ZGE5MTU3OGU0YmNlOWYxN2RhNjNkZmY2NWJiNCA9IEwucG9wdXAoeyJtYXhXaWR0aCI6ICIxMDAlIn0pOwoKICAgICAgICAKICAgICAgICAgICAgdmFyIGh0bWxfYzQ4NTk5ZGIyYWZmNGI5NGE5OWFiMzk1ZGY5ODIyZmYgPSAkKGA8ZGl2IGlkPSJodG1sX2M0ODU5OWRiMmFmZjRiOTRhOTlhYjM5NWRmOTgyMmZmIiBzdHlsZT0id2lkdGg6IDEwMC4wJTsgaGVpZ2h0OiAxMDAuMCU7Ij5QYXJrd29vZHM8L2Rpdj5gKVswXTsKICAgICAgICAgICAgcG9wdXBfNTJkNmRhOTE1NzhlNGJjZTlmMTdkYTYzZGZmNjViYjQuc2V0Q29udGVudChodG1sX2M0ODU5OWRiMmFmZjRiOTRhOTlhYjM5NWRmOTgyMmZmKTsKICAgICAgICAKCiAgICAgICAgbWFya2VyXzdmMDU0MTczMjgxYjQwZTFiMDYwMTU2YWNhNWZhOTFmLmJpbmRQb3B1cChwb3B1cF81MmQ2ZGE5MTU3OGU0YmNlOWYxN2RhNjNkZmY2NWJiNCkKICAgICAgICA7CgogICAgICAgIAogICAgCiAgICAKICAgICAgICAgICAgdmFyIG1hcmtlcl83OTdhNmQwNTU1MDI0MzUxOGViNGM4MDAyMDRiNWU4OCA9IEwubWFya2VyKAogICAgICAgICAgICAgICAgWzQzLjc0OTA1NTAwMDAwMDA1NSwgLTc5LjM2MjIyNjcyNDk5OTk3XSwKICAgICAgICAgICAgICAgIHt9CiAgICAgICAgICAgICkuYWRkVG8obWFwX2U0ODdiMDM3NDRhYTQ2YjI5M2Q3MWIwNzk2OGE2YTc0KTsKICAgICAgICAKICAgIAogICAgICAgIHZhciBwb3B1cF84Mjc5YjYzYThmNmM0Yzk4YWM0OWZjNzhjZjk2NjY5ZSA9IEwucG9wdXAoeyJtYXhXaWR0aCI6ICIxMDAlIn0pOwoKICAgICAgICAKICAgICAgICAgICAgdmFyIGh0bWxfYmJhYmQ1MWQ0ZTRjNDE5ZTllN2I3ODg4MmViNDA1YTUgPSAkKGA8ZGl2IGlkPSJodG1sX2JiYWJkNTFkNGU0YzQxOWU5ZTdiNzg4ODJlYjQwNWE1IiBzdHlsZT0id2lkdGg6IDEwMC4wJTsgaGVpZ2h0OiAxMDAuMCU7Ij5Eb24gTWlsbHMgTm9ydGg8L2Rpdj5gKVswXTsKICAgICAgICAgICAgcG9wdXBfODI3OWI2M2E4ZjZjNGM5OGFjNDlmYzc4Y2Y5NjY2OWUuc2V0Q29udGVudChodG1sX2JiYWJkNTFkNGU0YzQxOWU5ZTdiNzg4ODJlYjQwNWE1KTsKICAgICAgICAKCiAgICAgICAgbWFya2VyXzc5N2E2ZDA1NTUwMjQzNTE4ZWI0YzgwMDIwNGI1ZTg4LmJpbmRQb3B1cChwb3B1cF84Mjc5YjYzYThmNmM0Yzk4YWM0OWZjNzhjZjk2NjY5ZSkKICAgICAgICA7CgogICAgICAgIAogICAgCiAgICAKICAgICAgICAgICAgdmFyIG1hcmtlcl8yNWU5MjFiYzQ1ZjU0OGQwYTAyOThjZDUyMmU3OWY1YiA9IEwubWFya2VyKAogICAgICAgICAgICAgICAgWzQzLjcyMTQyNTAwMDAwMDA3LCAtNzkuMzQzNDU0MjI3OTk5OThdLAogICAgICAgICAgICAgICAge30KICAgICAgICAgICAgKS5hZGRUbyhtYXBfZTQ4N2IwMzc0NGFhNDZiMjkzZDcxYjA3OTY4YTZhNzQpOwogICAgICAgIAogICAgCiAgICAgICAgdmFyIHBvcHVwX2I3NzQ1MmNiNzA1YzRhM2E4MDIzM2MxNTlhNWJjZWMyID0gTC5wb3B1cCh7Im1heFdpZHRoIjogIjEwMCUifSk7CgogICAgICAgIAogICAgICAgICAgICB2YXIgaHRtbF85OGQ1MTY1NDQ3MDM0MjQ3YjRjZWM0NmU5NjU1NTU0MSA9ICQoYDxkaXYgaWQ9Imh0bWxfOThkNTE2NTQ0NzAzNDI0N2I0Y2VjNDZlOTY1NTU1NDEiIHN0eWxlPSJ3aWR0aDogMTAwLjAlOyBoZWlnaHQ6IDEwMC4wJTsiPkZsZW1pbmdkb24gUGFyaywgRG9uIE1pbGxzIFNvdXRoPC9kaXY+YClbMF07CiAgICAgICAgICAgIHBvcHVwX2I3NzQ1MmNiNzA1YzRhM2E4MDIzM2MxNTlhNWJjZWMyLnNldENvbnRlbnQoaHRtbF85OGQ1MTY1NDQ3MDM0MjQ3YjRjZWM0NmU5NjU1NTU0MSk7CiAgICAgICAgCgogICAgICAgIG1hcmtlcl8yNWU5MjFiYzQ1ZjU0OGQwYTAyOThjZDUyMmU3OWY1Yi5iaW5kUG9wdXAocG9wdXBfYjc3NDUyY2I3MDVjNGEzYTgwMjMzYzE1OWE1YmNlYzIpCiAgICAgICAgOwoKICAgICAgICAKICAgIAogICAgCiAgICAgICAgICAgIHZhciBtYXJrZXJfNDE1MWViNGI1MDU1NDk3NmIwYzE3NDljYjljOTgwNjAgPSBMLm1hcmtlcigKICAgICAgICAgICAgICAgIFs0My43NTc4NzUwMDAwMDAwNywgLTc5LjQ0ODY4NzY0Nzk5OTk4XSwKICAgICAgICAgICAgICAgIHt9CiAgICAgICAgICAgICkuYWRkVG8obWFwX2U0ODdiMDM3NDRhYTQ2YjI5M2Q3MWIwNzk2OGE2YTc0KTsKICAgICAgICAKICAgIAogICAgICAgIHZhciBwb3B1cF83NTAxYTgyMWZlODA0NTU2OTY4ZDAwYThjZGU3ZGZmMyA9IEwucG9wdXAoeyJtYXhXaWR0aCI6ICIxMDAlIn0pOwoKICAgICAgICAKICAgICAgICAgICAgdmFyIGh0bWxfYTkwYjFkMmU3YjhlNDM5ZTgzNzIyNGE5MTMxMTRkMjAgPSAkKGA8ZGl2IGlkPSJodG1sX2E5MGIxZDJlN2I4ZTQzOWU4MzcyMjRhOTEzMTE0ZDIwIiBzdHlsZT0id2lkdGg6IDEwMC4wJTsgaGVpZ2h0OiAxMDAuMCU7Ij5CYXRodXJzdCBNYW5vciwgRG93bnN2aWV3IE5vcnRoLCBXaWxzb24gSGVpZ2h0czwvZGl2PmApWzBdOwogICAgICAgICAgICBwb3B1cF83NTAxYTgyMWZlODA0NTU2OTY4ZDAwYThjZGU3ZGZmMy5zZXRDb250ZW50KGh0bWxfYTkwYjFkMmU3YjhlNDM5ZTgzNzIyNGE5MTMxMTRkMjApOwogICAgICAgIAoKICAgICAgICBtYXJrZXJfNDE1MWViNGI1MDU1NDk3NmIwYzE3NDljYjljOTgwNjAuYmluZFBvcHVwKHBvcHVwXzc1MDFhODIxZmU4MDQ1NTY5NjhkMDBhOGNkZTdkZmYzKQogICAgICAgIDsKCiAgICAgICAgCiAgICAKICAgIAogICAgICAgICAgICB2YXIgbWFya2VyX2M1NjlmYmMyN2ZhZjRmMTk4NzdlMWMzMWJlOTFjOTIwID0gTC5tYXJrZXIoCiAgICAgICAgICAgICAgICBbNDMuNzY0NzY1MDAwMDAwMDcsIC03OS40ODgwOTQ0MDY5OTk5NV0sCiAgICAgICAgICAgICAgICB7fQogICAgICAgICAgICApLmFkZFRvKG1hcF9lNDg3YjAzNzQ0YWE0NmIyOTNkNzFiMDc5NjhhNmE3NCk7CiAgICAgICAgCiAgICAKICAgICAgICB2YXIgcG9wdXBfYjFkNmYwZDJlMjNmNGI4YTk2Zjc1NzgxYzA1MTJhMjUgPSBMLnBvcHVwKHsibWF4V2lkdGgiOiAiMTAwJSJ9KTsKCiAgICAgICAgCiAgICAgICAgICAgIHZhciBodG1sX2RjZGJjOWQ0NzU0ZDRkOWQ5YmU3MjYyNzgwNzQ4ZTA2ID0gJChgPGRpdiBpZD0iaHRtbF9kY2RiYzlkNDc1NGQ0ZDlkOWJlNzI2Mjc4MDc0OGUwNiIgc3R5bGU9IndpZHRoOiAxMDAuMCU7IGhlaWdodDogMTAwLjAlOyI+Tm9ydGh3b29kIFBhcmssIFlvcmsgVW5pdmVyc2l0eTwvZGl2PmApWzBdOwogICAgICAgICAgICBwb3B1cF9iMWQ2ZjBkMmUyM2Y0YjhhOTZmNzU3ODFjMDUxMmEyNS5zZXRDb250ZW50KGh0bWxfZGNkYmM5ZDQ3NTRkNGQ5ZDliZTcyNjI3ODA3NDhlMDYpOwogICAgICAgIAoKICAgICAgICBtYXJrZXJfYzU2OWZiYzI3ZmFmNGYxOTg3N2UxYzMxYmU5MWM5MjAuYmluZFBvcHVwKHBvcHVwX2IxZDZmMGQyZTIzZjRiOGE5NmY3NTc4MWMwNTEyYTI1KQogICAgICAgIDsKCiAgICAgICAgCiAgICAKICAgIAogICAgICAgICAgICB2YXIgbWFya2VyX2JlODZkYzIxZWEyMzQ2NmI4Mzk1YTk5YmM2ZWM0ZmM2ID0gTC5tYXJrZXIoCiAgICAgICAgICAgICAgICBbNDMuNzM4Njg1MDAwMDAwMDMsIC03OS40NjczMTk5OTk5OTk5N10sCiAgICAgICAgICAgICAgICB7fQogICAgICAgICAgICApLmFkZFRvKG1hcF9lNDg3YjAzNzQ0YWE0NmIyOTNkNzFiMDc5NjhhNmE3NCk7CiAgICAgICAgCiAgICAKICAgICAgICB2YXIgcG9wdXBfODQ1NGExZGU4OTliNDc0N2IxYzA5ZTMzYTk0ZTZmNjggPSBMLnBvcHVwKHsibWF4V2lkdGgiOiAiMTAwJSJ9KTsKCiAgICAgICAgCiAgICAgICAgICAgIHZhciBodG1sXzc0MmE4MDBlZmIwNTQ1MzU5NDBiZjc1YTk0ZTkwODkxID0gJChgPGRpdiBpZD0iaHRtbF83NDJhODAwZWZiMDU0NTM1OTQwYmY3NWE5NGU5MDg5MSIgc3R5bGU9IndpZHRoOiAxMDAuMCU7IGhlaWdodDogMTAwLjAlOyI+Q0ZCIFRvcm9udG8sIERvd25zdmlldyBFYXN0PC9kaXY+YClbMF07CiAgICAgICAgICAgIHBvcHVwXzg0NTRhMWRlODk5YjQ3NDdiMWMwOWUzM2E5NGU2ZjY4LnNldENvbnRlbnQoaHRtbF83NDJhODAwZWZiMDU0NTM1OTQwYmY3NWE5NGU5MDg5MSk7CiAgICAgICAgCgogICAgICAgIG1hcmtlcl9iZTg2ZGMyMWVhMjM0NjZiODM5NWE5OWJjNmVjNGZjNi5iaW5kUG9wdXAocG9wdXBfODQ1NGExZGU4OTliNDc0N2IxYzA5ZTMzYTk0ZTZmNjgpCiAgICAgICAgOwoKICAgICAgICAKICAgIAogICAgCiAgICAgICAgICAgIHZhciBtYXJrZXJfY2FjYjY3Nzk3Y2M2NDI5ZmIyNjI2YzhhYTczMGEzMDYgPSBMLm1hcmtlcigKICAgICAgICAgICAgICAgIFs0My43MjAxNDAxMTEwMDAwMzUsIC03OS41MTY5Nzk5OTk5OTk5OV0sCiAgICAgICAgICAgICAgICB7fQogICAgICAgICAgICApLmFkZFRvKG1hcF9lNDg3YjAzNzQ0YWE0NmIyOTNkNzFiMDc5NjhhNmE3NCk7CiAgICAgICAgCiAgICAKICAgICAgICB2YXIgcG9wdXBfM2Q1MThjYzg1ODVlNGI3OTk1YzViZDljYjBjYTMwZmUgPSBMLnBvcHVwKHsibWF4V2lkdGgiOiAiMTAwJSJ9KTsKCiAgICAgICAgCiAgICAgICAgICAgIHZhciBodG1sX2I0OGFmZDFjNDhhMDRlZWNiNzI1OGRlMzcyYTg5YTBkID0gJChgPGRpdiBpZD0iaHRtbF9iNDhhZmQxYzQ4YTA0ZWVjYjcyNThkZTM3MmE4OWEwZCIgc3R5bGU9IndpZHRoOiAxMDAuMCU7IGhlaWdodDogMTAwLjAlOyI+RG93bnN2aWV3IFdlc3Q8L2Rpdj5gKVswXTsKICAgICAgICAgICAgcG9wdXBfM2Q1MThjYzg1ODVlNGI3OTk1YzViZDljYjBjYTMwZmUuc2V0Q29udGVudChodG1sX2I0OGFmZDFjNDhhMDRlZWNiNzI1OGRlMzcyYTg5YTBkKTsKICAgICAgICAKCiAgICAgICAgbWFya2VyX2NhY2I2Nzc5N2NjNjQyOWZiMjYyNmM4YWE3MzBhMzA2LmJpbmRQb3B1cChwb3B1cF8zZDUxOGNjODU4NWU0Yjc5OTVjNWJkOWNiMGNhMzBmZSkKICAgICAgICA7CgogICAgICAgIAogICAgCiAgICAKICAgICAgICAgICAgdmFyIG1hcmtlcl80ODdjN2I0ODJlY2Y0N2UwYTE4OGM2YmViMmE1ZjFhYSA9IEwubWFya2VyKAogICAgICAgICAgICAgICAgWzQzLjczMzY5MDAwMDAwMDA4LCAtNzkuNDk2NzQwMjQxOTk5OTldLAogICAgICAgICAgICAgICAge30KICAgICAgICAgICAgKS5hZGRUbyhtYXBfZTQ4N2IwMzc0NGFhNDZiMjkzZDcxYjA3OTY4YTZhNzQpOwogICAgICAgIAogICAgCiAgICAgICAgdmFyIHBvcHVwX2NkY2IwYTczNGE1MDRjOWY4ZGE4ODMwMzAyNmY2M2UwID0gTC5wb3B1cCh7Im1heFdpZHRoIjogIjEwMCUifSk7CgogICAgICAgIAogICAgICAgICAgICB2YXIgaHRtbF8xYTgzYjRmYzllZDE0NmQ5ODVkMDU5NmU5MmU5OGM4YyA9ICQoYDxkaXYgaWQ9Imh0bWxfMWE4M2I0ZmM5ZWQxNDZkOTg1ZDA1OTZlOTJlOThjOGMiIHN0eWxlPSJ3aWR0aDogMTAwLjAlOyBoZWlnaHQ6IDEwMC4wJTsiPkRvd25zdmlldyBDZW50cmFsPC9kaXY+YClbMF07CiAgICAgICAgICAgIHBvcHVwX2NkY2IwYTczNGE1MDRjOWY4ZGE4ODMwMzAyNmY2M2UwLnNldENvbnRlbnQoaHRtbF8xYTgzYjRmYzllZDE0NmQ5ODVkMDU5NmU5MmU5OGM4Yyk7CiAgICAgICAgCgogICAgICAgIG1hcmtlcl80ODdjN2I0ODJlY2Y0N2UwYTE4OGM2YmViMmE1ZjFhYS5iaW5kUG9wdXAocG9wdXBfY2RjYjBhNzM0YTUwNGM5ZjhkYTg4MzAzMDI2ZjYzZTApCiAgICAgICAgOwoKICAgICAgICAKICAgIAogICAgCiAgICAgICAgICAgIHZhciBtYXJrZXJfOWVlZWE2YmZiYzJiNDE2Zjg0ODljNGQ3MDAwMjE5NDcgPSBMLm1hcmtlcigKICAgICAgICAgICAgICAgIFs0My43NTUzNzA2NTIwMDAwNywgLTc5LjUxOTU4OTk5OTk5OTk0XSwKICAgICAgICAgICAgICAgIHt9CiAgICAgICAgICAgICkuYWRkVG8obWFwX2U0ODdiMDM3NDRhYTQ2YjI5M2Q3MWIwNzk2OGE2YTc0KTsKICAgICAgICAKICAgIAogICAgICAgIHZhciBwb3B1cF8yMjRkMjg0ZmE1NWQ0NGRkOTJmYWVhYjkxMWY4ZTJjYyA9IEwucG9wdXAoeyJtYXhXaWR0aCI6ICIxMDAlIn0pOwoKICAgICAgICAKICAgICAgICAgICAgdmFyIGh0bWxfY2RkZmNjODRkNGMyNGFiZThjMzVmYjgzMzNkOTc5N2QgPSAkKGA8ZGl2IGlkPSJodG1sX2NkZGZjYzg0ZDRjMjRhYmU4YzM1ZmI4MzMzZDk3OTdkIiBzdHlsZT0id2lkdGg6IDEwMC4wJTsgaGVpZ2h0OiAxMDAuMCU7Ij5Eb3duc3ZpZXcgTm9ydGh3ZXN0PC9kaXY+YClbMF07CiAgICAgICAgICAgIHBvcHVwXzIyNGQyODRmYTU1ZDQ0ZGQ5MmZhZWFiOTExZjhlMmNjLnNldENvbnRlbnQoaHRtbF9jZGRmY2M4NGQ0YzI0YWJlOGMzNWZiODMzM2Q5Nzk3ZCk7CiAgICAgICAgCgogICAgICAgIG1hcmtlcl85ZWVlYTZiZmJjMmI0MTZmODQ4OWM0ZDcwMDAyMTk0Ny5iaW5kUG9wdXAocG9wdXBfMjI0ZDI4NGZhNTVkNDRkZDkyZmFlYWI5MTFmOGUyY2MpCiAgICAgICAgOwoKICAgICAgICAKICAgIAogICAgCiAgICAgICAgICAgIHZhciBtYXJrZXJfYzYyMjlhMGM2MzhjNGQxMzg1NzlkZTQwYTE0OTlhYWEgPSBMLm1hcmtlcigKICAgICAgICAgICAgICAgIFs0My43MzA2MDAyNDYwMDAwNSwgLTc5LjMxMzI2NDk5OTk5OTk0XSwKICAgICAgICAgICAgICAgIHt9CiAgICAgICAgICAgICkuYWRkVG8obWFwX2U0ODdiMDM3NDRhYTQ2YjI5M2Q3MWIwNzk2OGE2YTc0KTsKICAgICAgICAKICAgIAogICAgICAgIHZhciBwb3B1cF9mMWQ4MTVmNmRjNjk0NmJjOGRjMmEyMTU3MzhjYmFjNCA9IEwucG9wdXAoeyJtYXhXaWR0aCI6ICIxMDAlIn0pOwoKICAgICAgICAKICAgICAgICAgICAgdmFyIGh0bWxfNGIyOGZjMWIxYmZiNGYxYmE2MzEwOTc4YTE1N2VhZjIgPSAkKGA8ZGl2IGlkPSJodG1sXzRiMjhmYzFiMWJmYjRmMWJhNjMxMDk3OGExNTdlYWYyIiBzdHlsZT0id2lkdGg6IDEwMC4wJTsgaGVpZ2h0OiAxMDAuMCU7Ij5WaWN0b3JpYSBWaWxsYWdlPC9kaXY+YClbMF07CiAgICAgICAgICAgIHBvcHVwX2YxZDgxNWY2ZGM2OTQ2YmM4ZGMyYTIxNTczOGNiYWM0LnNldENvbnRlbnQoaHRtbF80YjI4ZmMxYjFiZmI0ZjFiYTYzMTA5NzhhMTU3ZWFmMik7CiAgICAgICAgCgogICAgICAgIG1hcmtlcl9jNjIyOWEwYzYzOGM0ZDEzODU3OWRlNDBhMTQ5OWFhYS5iaW5kUG9wdXAocG9wdXBfZjFkODE1ZjZkYzY5NDZiYzhkYzJhMjE1NzM4Y2JhYzQpCiAgICAgICAgOwoKICAgICAgICAKICAgIAogICAgCiAgICAgICAgICAgIHZhciBtYXJrZXJfOTBmNjc2ZWQ5OGVkNDE4Yjg0YThiNGJjNjM3NGZkOGIgPSBMLm1hcmtlcigKICAgICAgICAgICAgICAgIFs0My43MDc1MzUwMDAwMDAwNjQsIC03OS4zMTE3NzMyOTY5OTk5NV0sCiAgICAgICAgICAgICAgICB7fQogICAgICAgICAgICApLmFkZFRvKG1hcF9lNDg3YjAzNzQ0YWE0NmIyOTNkNzFiMDc5NjhhNmE3NCk7CiAgICAgICAgCiAgICAKICAgICAgICB2YXIgcG9wdXBfMjYyZDFmNTMxNDIwNDNlNjgyOWVjMzI4MWRkMzJlYTAgPSBMLnBvcHVwKHsibWF4V2lkdGgiOiAiMTAwJSJ9KTsKCiAgICAgICAgCiAgICAgICAgICAgIHZhciBodG1sXzZjMjdlZmY5ZjEyNjRiOGQ5ZTM4NzhiZWEyYzU1MjBkID0gJChgPGRpdiBpZD0iaHRtbF82YzI3ZWZmOWYxMjY0YjhkOWUzODc4YmVhMmM1NTIwZCIgc3R5bGU9IndpZHRoOiAxMDAuMCU7IGhlaWdodDogMTAwLjAlOyI+V29vZGJpbmUgR2FyZGVucywgUGFya3ZpZXcgSGlsbDwvZGl2PmApWzBdOwogICAgICAgICAgICBwb3B1cF8yNjJkMWY1MzE0MjA0M2U2ODI5ZWMzMjgxZGQzMmVhMC5zZXRDb250ZW50KGh0bWxfNmMyN2VmZjlmMTI2NGI4ZDllMzg3OGJlYTJjNTUyMGQpOwogICAgICAgIAoKICAgICAgICBtYXJrZXJfOTBmNjc2ZWQ5OGVkNDE4Yjg0YThiNGJjNjM3NGZkOGIuYmluZFBvcHVwKHBvcHVwXzI2MmQxZjUzMTQyMDQzZTY4MjllYzMyODFkZDMyZWEwKQogICAgICAgIDsKCiAgICAgICAgCiAgICAKICAgIAogICAgICAgICAgICB2YXIgbWFya2VyXzQyZjE2MWZmZjBiZDRkMjRiYmVlMTcxMjEyYmI2OGJmID0gTC5tYXJrZXIoCiAgICAgICAgICAgICAgICBbNDMuNjg5NjQwMDAwMDAwMDU0LCAtNzkuMzA2ODczODc3OTk5OThdLAogICAgICAgICAgICAgICAge30KICAgICAgICAgICAgKS5hZGRUbyhtYXBfZTQ4N2IwMzc0NGFhNDZiMjkzZDcxYjA3OTY4YTZhNzQpOwogICAgICAgIAogICAgCiAgICAgICAgdmFyIHBvcHVwX2Q1NDIyYjM3OGI4ZDQ5NmQ4MzIxYTJmZGExYWM2OTZjID0gTC5wb3B1cCh7Im1heFdpZHRoIjogIjEwMCUifSk7CgogICAgICAgIAogICAgICAgICAgICB2YXIgaHRtbF81OWRkYWQxNDYyZjA0OTRiYmRlZGJiMjVmMjQzMDEyOCA9ICQoYDxkaXYgaWQ9Imh0bWxfNTlkZGFkMTQ2MmYwNDk0YmJkZWRiYjI1ZjI0MzAxMjgiIHN0eWxlPSJ3aWR0aDogMTAwLjAlOyBoZWlnaHQ6IDEwMC4wJTsiPldvb2RiaW5lIEhlaWdodHM8L2Rpdj5gKVswXTsKICAgICAgICAgICAgcG9wdXBfZDU0MjJiMzc4YjhkNDk2ZDgzMjFhMmZkYTFhYzY5NmMuc2V0Q29udGVudChodG1sXzU5ZGRhZDE0NjJmMDQ5NGJiZGVkYmIyNWYyNDMwMTI4KTsKICAgICAgICAKCiAgICAgICAgbWFya2VyXzQyZjE2MWZmZjBiZDRkMjRiYmVlMTcxMjEyYmI2OGJmLmJpbmRQb3B1cChwb3B1cF9kNTQyMmIzNzhiOGQ0OTZkODMyMWEyZmRhMWFjNjk2YykKICAgICAgICA7CgogICAgICAgIAogICAgCiAgICAKICAgICAgICAgICAgdmFyIG1hcmtlcl80OTUzYTJmNmNhMmM0NjcyODQ4NTc4YTU3NGMwMTE1YSA9IEwubWFya2VyKAogICAgICAgICAgICAgICAgWzQzLjY3NjUzMTIxNjAwMDA2LCAtNzkuMjk1NDI0OTk5OTk5OTddLAogICAgICAgICAgICAgICAge30KICAgICAgICAgICAgKS5hZGRUbyhtYXBfZTQ4N2IwMzc0NGFhNDZiMjkzZDcxYjA3OTY4YTZhNzQpOwogICAgICAgIAogICAgCiAgICAgICAgdmFyIHBvcHVwXzkwOTUzMWY2OWIwZTQyMjRhNWJiNTM2YjQ1MzQwNzhlID0gTC5wb3B1cCh7Im1heFdpZHRoIjogIjEwMCUifSk7CgogICAgICAgIAogICAgICAgICAgICB2YXIgaHRtbF9mYWE3YzM4ODg4MTE0NjVkYWE0MDMzMGY3YzM3NTNmNCA9ICQoYDxkaXYgaWQ9Imh0bWxfZmFhN2MzODg4ODExNDY1ZGFhNDAzMzBmN2MzNzUzZjQiIHN0eWxlPSJ3aWR0aDogMTAwLjAlOyBoZWlnaHQ6IDEwMC4wJTsiPlRoZSBCZWFjaGVzPC9kaXY+YClbMF07CiAgICAgICAgICAgIHBvcHVwXzkwOTUzMWY2OWIwZTQyMjRhNWJiNTM2YjQ1MzQwNzhlLnNldENvbnRlbnQoaHRtbF9mYWE3YzM4ODg4MTE0NjVkYWE0MDMzMGY3YzM3NTNmNCk7CiAgICAgICAgCgogICAgICAgIG1hcmtlcl80OTUzYTJmNmNhMmM0NjcyODQ4NTc4YTU3NGMwMTE1YS5iaW5kUG9wdXAocG9wdXBfOTA5NTMxZjY5YjBlNDIyNGE1YmI1MzZiNDUzNDA3OGUpCiAgICAgICAgOwoKICAgICAgICAKICAgIAogICAgCiAgICAgICAgICAgIHZhciBtYXJrZXJfNGZkZjc2NTM5NzZkNGJlM2IzYTBmNWM3YjkzMDE2OWQgPSBMLm1hcmtlcigKICAgICAgICAgICAgICAgIFs0My43MDk0OTUwMDAwMDAwNiwgLTc5LjM2Mzk4ODk3MDk5OTk3XSwKICAgICAgICAgICAgICAgIHt9CiAgICAgICAgICAgICkuYWRkVG8obWFwX2U0ODdiMDM3NDRhYTQ2YjI5M2Q3MWIwNzk2OGE2YTc0KTsKICAgICAgICAKICAgIAogICAgICAgIHZhciBwb3B1cF8wOTM0NGQ3ZTg2NWI0NmIyYjI4YzZkYjkxMzZmMDhjYyA9IEwucG9wdXAoeyJtYXhXaWR0aCI6ICIxMDAlIn0pOwoKICAgICAgICAKICAgICAgICAgICAgdmFyIGh0bWxfODFjYTM2ODczZGQ4NGFkMzg4MDA1NDAxM2QzMzRlZjIgPSAkKGA8ZGl2IGlkPSJodG1sXzgxY2EzNjg3M2RkODRhZDM4ODAwNTQwMTNkMzM0ZWYyIiBzdHlsZT0id2lkdGg6IDEwMC4wJTsgaGVpZ2h0OiAxMDAuMCU7Ij5MZWFzaWRlPC9kaXY+YClbMF07CiAgICAgICAgICAgIHBvcHVwXzA5MzQ0ZDdlODY1YjQ2YjJiMjhjNmRiOTEzNmYwOGNjLnNldENvbnRlbnQoaHRtbF84MWNhMzY4NzNkZDg0YWQzODgwMDU0MDEzZDMzNGVmMik7CiAgICAgICAgCgogICAgICAgIG1hcmtlcl80ZmRmNzY1Mzk3NmQ0YmUzYjNhMGY1YzdiOTMwMTY5ZC5iaW5kUG9wdXAocG9wdXBfMDkzNDRkN2U4NjViNDZiMmIyOGM2ZGI5MTM2ZjA4Y2MpCiAgICAgICAgOwoKICAgICAgICAKICAgIAogICAgCiAgICAgICAgICAgIHZhciBtYXJrZXJfMjlmOWQ0MTIwOWExNGYzN2JlMTJiMDg0ZWViZTcyNjYgPSBMLm1hcmtlcigKICAgICAgICAgICAgICAgIFs0My43MDEyNDAwMDAwMDAwNCwgLTc5LjM0OTgyNDgyNTk5OTk3XSwKICAgICAgICAgICAgICAgIHt9CiAgICAgICAgICAgICkuYWRkVG8obWFwX2U0ODdiMDM3NDRhYTQ2YjI5M2Q3MWIwNzk2OGE2YTc0KTsKICAgICAgICAKICAgIAogICAgICAgIHZhciBwb3B1cF9lOTVmOTFjYjQ3Zjg0OGYzOGY2MTEyZDQwNTNjZGFiNSA9IEwucG9wdXAoeyJtYXhXaWR0aCI6ICIxMDAlIn0pOwoKICAgICAgICAKICAgICAgICAgICAgdmFyIGh0bWxfOThiYmU0ZTRjYjlmNDBhNzgyYWM2YmIwMTRjYzMzZmQgPSAkKGA8ZGl2IGlkPSJodG1sXzk4YmJlNGU0Y2I5ZjQwYTc4MmFjNmJiMDE0Y2MzM2ZkIiBzdHlsZT0id2lkdGg6IDEwMC4wJTsgaGVpZ2h0OiAxMDAuMCU7Ij5UaG9ybmNsaWZmZSBQYXJrPC9kaXY+YClbMF07CiAgICAgICAgICAgIHBvcHVwX2U5NWY5MWNiNDdmODQ4ZjM4ZjYxMTJkNDA1M2NkYWI1LnNldENvbnRlbnQoaHRtbF85OGJiZTRlNGNiOWY0MGE3ODJhYzZiYjAxNGNjMzNmZCk7CiAgICAgICAgCgogICAgICAgIG1hcmtlcl8yOWY5ZDQxMjA5YTE0ZjM3YmUxMmIwODRlZWJlNzI2Ni5iaW5kUG9wdXAocG9wdXBfZTk1ZjkxY2I0N2Y4NDhmMzhmNjExMmQ0MDUzY2RhYjUpCiAgICAgICAgOwoKICAgICAgICAKICAgIAogICAgCiAgICAgICAgICAgIHZhciBtYXJrZXJfYzM1ZTkzOTZkYmNlNDI3Mzg0OGQ4ODAyMjQyYzZmYjYgPSBMLm1hcmtlcigKICAgICAgICAgICAgICAgIFs0My42ODg3NjUzNDQwMDAwNDYsIC03OS4zMzQxNzQ5OTk5OTk5Nl0sCiAgICAgICAgICAgICAgICB7fQogICAgICAgICAgICApLmFkZFRvKG1hcF9lNDg3YjAzNzQ0YWE0NmIyOTNkNzFiMDc5NjhhNmE3NCk7CiAgICAgICAgCiAgICAKICAgICAgICB2YXIgcG9wdXBfMjg4YTJhZGMxNGQzNGJlNzlmZWM5NmYwMjRmYWQwN2YgPSBMLnBvcHVwKHsibWF4V2lkdGgiOiAiMTAwJSJ9KTsKCiAgICAgICAgCiAgICAgICAgICAgIHZhciBodG1sXzViOTUwMTRmYWQ2ZjQzZGM5NGZhODZkODY3NTA5NzNiID0gJChgPGRpdiBpZD0iaHRtbF81Yjk1MDE0ZmFkNmY0M2RjOTRmYTg2ZDg2NzUwOTczYiIgc3R5bGU9IndpZHRoOiAxMDAuMCU7IGhlaWdodDogMTAwLjAlOyI+RWFzdCBUb3JvbnRvPC9kaXY+YClbMF07CiAgICAgICAgICAgIHBvcHVwXzI4OGEyYWRjMTRkMzRiZTc5ZmVjOTZmMDI0ZmFkMDdmLnNldENvbnRlbnQoaHRtbF81Yjk1MDE0ZmFkNmY0M2RjOTRmYTg2ZDg2NzUwOTczYik7CiAgICAgICAgCgogICAgICAgIG1hcmtlcl9jMzVlOTM5NmRiY2U0MjczODQ4ZDg4MDIyNDJjNmZiNi5iaW5kUG9wdXAocG9wdXBfMjg4YTJhZGMxNGQzNGJlNzlmZWM5NmYwMjRmYWQwN2YpCiAgICAgICAgOwoKICAgICAgICAKICAgIAogICAgCiAgICAgICAgICAgIHZhciBtYXJrZXJfMWYwY2QxMzgxOTIwNDA3ZDhjNTg0ZmFjY2RiZGJhZmUgPSBMLm1hcmtlcigKICAgICAgICAgICAgICAgIFs0My42ODMxNzc4NzUwMDAwNywgLTc5LjM1NTEwNDk5OTk5OTk4XSwKICAgICAgICAgICAgICAgIHt9CiAgICAgICAgICAgICkuYWRkVG8obWFwX2U0ODdiMDM3NDRhYTQ2YjI5M2Q3MWIwNzk2OGE2YTc0KTsKICAgICAgICAKICAgIAogICAgICAgIHZhciBwb3B1cF8wNDM0NWY3YjUyNGI0YTMwYjcwN2VkODRmZjdiYzNmNiA9IEwucG9wdXAoeyJtYXhXaWR0aCI6ICIxMDAlIn0pOwoKICAgICAgICAKICAgICAgICAgICAgdmFyIGh0bWxfYjJjNTAxYmExZTE2NDk5MzkzNzcxMGRlODk1ZDdiMzggPSAkKGA8ZGl2IGlkPSJodG1sX2IyYzUwMWJhMWUxNjQ5OTM5Mzc3MTBkZTg5NWQ3YjM4IiBzdHlsZT0id2lkdGg6IDEwMC4wJTsgaGVpZ2h0OiAxMDAuMCU7Ij5UaGUgRGFuZm9ydGggV2VzdCwgUml2ZXJkYWxlPC9kaXY+YClbMF07CiAgICAgICAgICAgIHBvcHVwXzA0MzQ1ZjdiNTI0YjRhMzBiNzA3ZWQ4NGZmN2JjM2Y2LnNldENvbnRlbnQoaHRtbF9iMmM1MDFiYTFlMTY0OTkzOTM3NzEwZGU4OTVkN2IzOCk7CiAgICAgICAgCgogICAgICAgIG1hcmtlcl8xZjBjZDEzODE5MjA0MDdkOGM1ODRmYWNjZGJkYmFmZS5iaW5kUG9wdXAocG9wdXBfMDQzNDVmN2I1MjRiNGEzMGI3MDdlZDg0ZmY3YmMzZjYpCiAgICAgICAgOwoKICAgICAgICAKICAgIAogICAgCiAgICAgICAgICAgIHZhciBtYXJrZXJfZGRiM2ExYjg2YTliNDY2OWFlNzFjYTJjNDExMzI2MmIgPSBMLm1hcmtlcigKICAgICAgICAgICAgICAgIFs0My42Njc5NjUwMDAwMDAwNCwgLTc5LjMxNDY2NzE3Mjk5OTk4XSwKICAgICAgICAgICAgICAgIHt9CiAgICAgICAgICAgICkuYWRkVG8obWFwX2U0ODdiMDM3NDRhYTQ2YjI5M2Q3MWIwNzk2OGE2YTc0KTsKICAgICAgICAKICAgIAogICAgICAgIHZhciBwb3B1cF8wMzRjNGNkOTA4NDQ0N2NjYmYzMThmOTAyZmMwMTc1ZCA9IEwucG9wdXAoeyJtYXhXaWR0aCI6ICIxMDAlIn0pOwoKICAgICAgICAKICAgICAgICAgICAgdmFyIGh0bWxfMjc2NWMwZWFhZWQzNDY5YjljMzQ2Y2QzYTcwNGJmNGUgPSAkKGA8ZGl2IGlkPSJodG1sXzI3NjVjMGVhYWVkMzQ2OWI5YzM0NmNkM2E3MDRiZjRlIiBzdHlsZT0id2lkdGg6IDEwMC4wJTsgaGVpZ2h0OiAxMDAuMCU7Ij5UaGUgQmVhY2hlcyBXZXN0LCBJbmRpYSBCYXphYXI8L2Rpdj5gKVswXTsKICAgICAgICAgICAgcG9wdXBfMDM0YzRjZDkwODQ0NDdjY2JmMzE4ZjkwMmZjMDE3NWQuc2V0Q29udGVudChodG1sXzI3NjVjMGVhYWVkMzQ2OWI5YzM0NmNkM2E3MDRiZjRlKTsKICAgICAgICAKCiAgICAgICAgbWFya2VyX2RkYjNhMWI4NmE5YjQ2NjlhZTcxY2EyYzQxMTMyNjJiLmJpbmRQb3B1cChwb3B1cF8wMzRjNGNkOTA4NDQ0N2NjYmYzMThmOTAyZmMwMTc1ZCkKICAgICAgICA7CgogICAgICAgIAogICAgCiAgICAKICAgICAgICAgICAgdmFyIG1hcmtlcl83YmNlNzc5NTAzMDU0NzRmODhmMDYyYjYyMGI4YmM3ZCA9IEwubWFya2VyKAogICAgICAgICAgICAgICAgWzQzLjY2MDYyODk5MzAwMDA0NiwgLTc5LjMzNDg1NDk5OTk5OTk1XSwKICAgICAgICAgICAgICAgIHt9CiAgICAgICAgICAgICkuYWRkVG8obWFwX2U0ODdiMDM3NDRhYTQ2YjI5M2Q3MWIwNzk2OGE2YTc0KTsKICAgICAgICAKICAgIAogICAgICAgIHZhciBwb3B1cF9kZWJkZjIwZmQ0ZjI0NjcxODE4Njg2Mzk1NGE0YzgxNSA9IEwucG9wdXAoeyJtYXhXaWR0aCI6ICIxMDAlIn0pOwoKICAgICAgICAKICAgICAgICAgICAgdmFyIGh0bWxfMDJkNDEzY2Y2MTk0NGVlOGI2NjI1MzY3ZjAwZDVlZDYgPSAkKGA8ZGl2IGlkPSJodG1sXzAyZDQxM2NmNjE5NDRlZThiNjYyNTM2N2YwMGQ1ZWQ2IiBzdHlsZT0id2lkdGg6IDEwMC4wJTsgaGVpZ2h0OiAxMDAuMCU7Ij5TdHVkaW8gRGlzdHJpY3Q8L2Rpdj5gKVswXTsKICAgICAgICAgICAgcG9wdXBfZGViZGYyMGZkNGYyNDY3MTgxODY4NjM5NTRhNGM4MTUuc2V0Q29udGVudChodG1sXzAyZDQxM2NmNjE5NDRlZThiNjYyNTM2N2YwMGQ1ZWQ2KTsKICAgICAgICAKCiAgICAgICAgbWFya2VyXzdiY2U3Nzk1MDMwNTQ3NGY4OGYwNjJiNjIwYjhiYzdkLmJpbmRQb3B1cChwb3B1cF9kZWJkZjIwZmQ0ZjI0NjcxODE4Njg2Mzk1NGE0YzgxNSkKICAgICAgICA7CgogICAgICAgIAogICAgCiAgICAKICAgICAgICAgICAgdmFyIG1hcmtlcl8wZTkwMjEwYjBiMDI0ZTNmOTBlYjNmM2NjZWRlNmEwOCA9IEwubWFya2VyKAogICAgICAgICAgICAgICAgWzQzLjcyODQyMDAwMDAwMDAzLCAtNzkuMzg3MTMyNjkxOTk5OTddLAogICAgICAgICAgICAgICAge30KICAgICAgICAgICAgKS5hZGRUbyhtYXBfZTQ4N2IwMzc0NGFhNDZiMjkzZDcxYjA3OTY4YTZhNzQpOwogICAgICAgIAogICAgCiAgICAgICAgdmFyIHBvcHVwXzk1NzZhOWNjNzRkYjQwNDJiNGI0M2JjNDVlNzNmMDEwID0gTC5wb3B1cCh7Im1heFdpZHRoIjogIjEwMCUifSk7CgogICAgICAgIAogICAgICAgICAgICB2YXIgaHRtbF8yNGU5MmU2ZjFhYjA0ZTc5YWQ0MWYyNTQyMDYwMGIwNCA9ICQoYDxkaXYgaWQ9Imh0bWxfMjRlOTJlNmYxYWIwNGU3OWFkNDFmMjU0MjA2MDBiMDQiIHN0eWxlPSJ3aWR0aDogMTAwLjAlOyBoZWlnaHQ6IDEwMC4wJTsiPkxhd3JlbmNlIFBhcms8L2Rpdj5gKVswXTsKICAgICAgICAgICAgcG9wdXBfOTU3NmE5Y2M3NGRiNDA0MmI0YjQzYmM0NWU3M2YwMTAuc2V0Q29udGVudChodG1sXzI0ZTkyZTZmMWFiMDRlNzlhZDQxZjI1NDIwNjAwYjA0KTsKICAgICAgICAKCiAgICAgICAgbWFya2VyXzBlOTAyMTBiMGIwMjRlM2Y5MGViM2YzY2NlZGU2YTA4LmJpbmRQb3B1cChwb3B1cF85NTc2YTljYzc0ZGI0MDQyYjRiNDNiYzQ1ZTczZjAxMCkKICAgICAgICA7CgogICAgICAgIAogICAgCiAgICAKICAgICAgICAgICAgdmFyIG1hcmtlcl8yMDE4NDExMjFhNDQ0NTIyODM2OWE2MTMzY2FjOWUxYyA9IEwubWFya2VyKAogICAgICAgICAgICAgICAgWzQzLjcxMjc1NTAwMDAwMDA3LCAtNzkuMzg4NTE0NDk2OTk5OTZdLAogICAgICAgICAgICAgICAge30KICAgICAgICAgICAgKS5hZGRUbyhtYXBfZTQ4N2IwMzc0NGFhNDZiMjkzZDcxYjA3OTY4YTZhNzQpOwogICAgICAgIAogICAgCiAgICAgICAgdmFyIHBvcHVwX2Y2MGJmNjEwMmYwMTQ3M2Y5YzZmYzcxY2M2YzhhZTQwID0gTC5wb3B1cCh7Im1heFdpZHRoIjogIjEwMCUifSk7CgogICAgICAgIAogICAgICAgICAgICB2YXIgaHRtbF80YTY1ZjY0ZWUxZWM0NTk1OGVhYzI3OGE2YzQzMTcxNCA9ICQoYDxkaXYgaWQ9Imh0bWxfNGE2NWY2NGVlMWVjNDU5NThlYWMyNzhhNmM0MzE3MTQiIHN0eWxlPSJ3aWR0aDogMTAwLjAlOyBoZWlnaHQ6IDEwMC4wJTsiPkRhdmlzdmlsbGUgTm9ydGg8L2Rpdj5gKVswXTsKICAgICAgICAgICAgcG9wdXBfZjYwYmY2MTAyZjAxNDczZjljNmZjNzFjYzZjOGFlNDAuc2V0Q29udGVudChodG1sXzRhNjVmNjRlZTFlYzQ1OTU4ZWFjMjc4YTZjNDMxNzE0KTsKICAgICAgICAKCiAgICAgICAgbWFya2VyXzIwMTg0MTEyMWE0NDQ1MjI4MzY5YTYxMzNjYWM5ZTFjLmJpbmRQb3B1cChwb3B1cF9mNjBiZjYxMDJmMDE0NzNmOWM2ZmM3MWNjNmM4YWU0MCkKICAgICAgICA7CgogICAgICAgIAogICAgCiAgICAKICAgICAgICAgICAgdmFyIG1hcmtlcl9lNjg0MTFhMDRlNDI0NzI2YjM1MWFkZWIxOGQ5YWVhZiA9IEwubWFya2VyKAogICAgICAgICAgICAgICAgWzQzLjcxNDUyMjc4NDAwMDA1LCAtNzkuNDA2OTU5OTk5OTk5OTddLAogICAgICAgICAgICAgICAge30KICAgICAgICAgICAgKS5hZGRUbyhtYXBfZTQ4N2IwMzc0NGFhNDZiMjkzZDcxYjA3OTY4YTZhNzQpOwogICAgICAgIAogICAgCiAgICAgICAgdmFyIHBvcHVwXzNlNjJhOGI0YWJhMTQ0Y2FhZmQ3MzQ5NmE2YzFlNzJkID0gTC5wb3B1cCh7Im1heFdpZHRoIjogIjEwMCUifSk7CgogICAgICAgIAogICAgICAgICAgICB2YXIgaHRtbF82MzgwYzcyOTEzNDc0YWRiYTQwYjE1ZjE4YTk1MGRiMiA9ICQoYDxkaXYgaWQ9Imh0bWxfNjM4MGM3MjkxMzQ3NGFkYmE0MGIxNWYxOGE5NTBkYjIiIHN0eWxlPSJ3aWR0aDogMTAwLjAlOyBoZWlnaHQ6IDEwMC4wJTsiPk5vcnRoIFRvcm9udG8gV2VzdDwvZGl2PmApWzBdOwogICAgICAgICAgICBwb3B1cF8zZTYyYThiNGFiYTE0NGNhYWZkNzM0OTZhNmMxZTcyZC5zZXRDb250ZW50KGh0bWxfNjM4MGM3MjkxMzQ3NGFkYmE0MGIxNWYxOGE5NTBkYjIpOwogICAgICAgIAoKICAgICAgICBtYXJrZXJfZTY4NDExYTA0ZTQyNDcyNmIzNTFhZGViMThkOWFlYWYuYmluZFBvcHVwKHBvcHVwXzNlNjJhOGI0YWJhMTQ0Y2FhZmQ3MzQ5NmE2YzFlNzJkKQogICAgICAgIDsKCiAgICAgICAgCiAgICAKICAgIAogICAgICAgICAgICB2YXIgbWFya2VyX2Y0Mjg5NDcwMjQyYzRkMGZiNTI4MmUwYWQ2N2YzNTFlID0gTC5tYXJrZXIoCiAgICAgICAgICAgICAgICBbNDMuNzAzMzk1MDAwMDAwMDYsIC03OS4zODU5NjM2MDQ5OTk5N10sCiAgICAgICAgICAgICAgICB7fQogICAgICAgICAgICApLmFkZFRvKG1hcF9lNDg3YjAzNzQ0YWE0NmIyOTNkNzFiMDc5NjhhNmE3NCk7CiAgICAgICAgCiAgICAKICAgICAgICB2YXIgcG9wdXBfY2UxZTJhZGUzMWFlNGViNzljNjk3M2Q3MTI4OTg3ZGUgPSBMLnBvcHVwKHsibWF4V2lkdGgiOiAiMTAwJSJ9KTsKCiAgICAgICAgCiAgICAgICAgICAgIHZhciBodG1sXzc1ZTkyMTY2ZjIzYzQwYzM4MzM4OWQ1NmY3NjRjOTE3ID0gJChgPGRpdiBpZD0iaHRtbF83NWU5MjE2NmYyM2M0MGMzODMzODlkNTZmNzY0YzkxNyIgc3R5bGU9IndpZHRoOiAxMDAuMCU7IGhlaWdodDogMTAwLjAlOyI+RGF2aXN2aWxsZTwvZGl2PmApWzBdOwogICAgICAgICAgICBwb3B1cF9jZTFlMmFkZTMxYWU0ZWI3OWM2OTczZDcxMjg5ODdkZS5zZXRDb250ZW50KGh0bWxfNzVlOTIxNjZmMjNjNDBjMzgzMzg5ZDU2Zjc2NGM5MTcpOwogICAgICAgIAoKICAgICAgICBtYXJrZXJfZjQyODk0NzAyNDJjNGQwZmI1MjgyZTBhZDY3ZjM1MWUuYmluZFBvcHVwKHBvcHVwX2NlMWUyYWRlMzFhZTRlYjc5YzY5NzNkNzEyODk4N2RlKQogICAgICAgIDsKCiAgICAgICAgCiAgICAKICAgIAogICAgICAgICAgICB2YXIgbWFya2VyXzRlNjljY2E2ZTZlYTQ3OGQ5ZWU0MzlmNTlmZDdlNTRlID0gTC5tYXJrZXIoCiAgICAgICAgICAgICAgICBbNDMuNjkwNjg1MDAwMDAwMDMsIC03OS4zODI5NDU3NDI5OTk5NF0sCiAgICAgICAgICAgICAgICB7fQogICAgICAgICAgICApLmFkZFRvKG1hcF9lNDg3YjAzNzQ0YWE0NmIyOTNkNzFiMDc5NjhhNmE3NCk7CiAgICAgICAgCiAgICAKICAgICAgICB2YXIgcG9wdXBfZjkyZDRiYmI0ZTQzNDc5NTkxY2IzYmIyODUyODVlNGEgPSBMLnBvcHVwKHsibWF4V2lkdGgiOiAiMTAwJSJ9KTsKCiAgICAgICAgCiAgICAgICAgICAgIHZhciBodG1sX2ViN2YyYWIyMTVmNDQzMTNiMmZkZjc3MmI3ZDYwNWYzID0gJChgPGRpdiBpZD0iaHRtbF9lYjdmMmFiMjE1ZjQ0MzEzYjJmZGY3NzJiN2Q2MDVmMyIgc3R5bGU9IndpZHRoOiAxMDAuMCU7IGhlaWdodDogMTAwLjAlOyI+TW9vcmUgUGFyaywgU3VtbWVyaGlsbCBFYXN0PC9kaXY+YClbMF07CiAgICAgICAgICAgIHBvcHVwX2Y5MmQ0YmJiNGU0MzQ3OTU5MWNiM2JiMjg1Mjg1ZTRhLnNldENvbnRlbnQoaHRtbF9lYjdmMmFiMjE1ZjQ0MzEzYjJmZGY3NzJiN2Q2MDVmMyk7CiAgICAgICAgCgogICAgICAgIG1hcmtlcl80ZTY5Y2NhNmU2ZWE0NzhkOWVlNDM5ZjU5ZmQ3ZTU0ZS5iaW5kUG9wdXAocG9wdXBfZjkyZDRiYmI0ZTQzNDc5NTkxY2IzYmIyODUyODVlNGEpCiAgICAgICAgOwoKICAgICAgICAKICAgIAogICAgCiAgICAgICAgICAgIHZhciBtYXJrZXJfZDE4NTc0MmFlNTNjNGEwMGJkOWJhZjAxMDdhZGE1ZDEgPSBMLm1hcmtlcigKICAgICAgICAgICAgICAgIFs0My42ODYwNzM3NzEwMDAwNSwgLTc5LjQwMjI2NDk5OTk5OTk0XSwKICAgICAgICAgICAgICAgIHt9CiAgICAgICAgICAgICkuYWRkVG8obWFwX2U0ODdiMDM3NDRhYTQ2YjI5M2Q3MWIwNzk2OGE2YTc0KTsKICAgICAgICAKICAgIAogICAgICAgIHZhciBwb3B1cF8yYzRhODExMTE0YjA0Y2M5OTIxZjZkMTYyNmZjMjgzMSA9IEwucG9wdXAoeyJtYXhXaWR0aCI6ICIxMDAlIn0pOwoKICAgICAgICAKICAgICAgICAgICAgdmFyIGh0bWxfNWFmNmI3OGY5YjMzNDk3OTkxZDU2ZjQ4YzM5ODg4ZWQgPSAkKGA8ZGl2IGlkPSJodG1sXzVhZjZiNzhmOWIzMzQ5Nzk5MWQ1NmY0OGMzOTg4OGVkIiBzdHlsZT0id2lkdGg6IDEwMC4wJTsgaGVpZ2h0OiAxMDAuMCU7Ij5EZWVyIFBhcmssIEZvcmVzdCBIaWxsIFNFLCBSYXRobmVsbHksIFNvdXRoIEhpbGwsIFN1bW1lcmhpbGwgV2VzdDwvZGl2PmApWzBdOwogICAgICAgICAgICBwb3B1cF8yYzRhODExMTE0YjA0Y2M5OTIxZjZkMTYyNmZjMjgzMS5zZXRDb250ZW50KGh0bWxfNWFmNmI3OGY5YjMzNDk3OTkxZDU2ZjQ4YzM5ODg4ZWQpOwogICAgICAgIAoKICAgICAgICBtYXJrZXJfZDE4NTc0MmFlNTNjNGEwMGJkOWJhZjAxMDdhZGE1ZDEuYmluZFBvcHVwKHBvcHVwXzJjNGE4MTExMTRiMDRjYzk5MjFmNmQxNjI2ZmMyODMxKQogICAgICAgIDsKCiAgICAgICAgCiAgICAKICAgIAogICAgICAgICAgICB2YXIgbWFya2VyX2UxMzMzZmNhMzc1YzQ2YThhNzA1MWZmNjVkMGIzZmU5ID0gTC5tYXJrZXIoCiAgICAgICAgICAgICAgICBbNDMuNjgyMjA1MDAwMDAwMDcsIC03OS4zNzc5NDUxOTY5OTk5N10sCiAgICAgICAgICAgICAgICB7fQogICAgICAgICAgICApLmFkZFRvKG1hcF9lNDg3YjAzNzQ0YWE0NmIyOTNkNzFiMDc5NjhhNmE3NCk7CiAgICAgICAgCiAgICAKICAgICAgICB2YXIgcG9wdXBfNjEzYjBhZDgwZTkyNDQxNzhmNWJmMDE2ODc1YjIxYmMgPSBMLnBvcHVwKHsibWF4V2lkdGgiOiAiMTAwJSJ9KTsKCiAgICAgICAgCiAgICAgICAgICAgIHZhciBodG1sXzQ4OTUzNTUyNDdkMzRjYzQ5ZGM4NzYyNTkxZTliMmMwID0gJChgPGRpdiBpZD0iaHRtbF80ODk1MzU1MjQ3ZDM0Y2M0OWRjODc2MjU5MWU5YjJjMCIgc3R5bGU9IndpZHRoOiAxMDAuMCU7IGhlaWdodDogMTAwLjAlOyI+Um9zZWRhbGU8L2Rpdj5gKVswXTsKICAgICAgICAgICAgcG9wdXBfNjEzYjBhZDgwZTkyNDQxNzhmNWJmMDE2ODc1YjIxYmMuc2V0Q29udGVudChodG1sXzQ4OTUzNTUyNDdkMzRjYzQ5ZGM4NzYyNTkxZTliMmMwKTsKICAgICAgICAKCiAgICAgICAgbWFya2VyX2UxMzMzZmNhMzc1YzQ2YThhNzA1MWZmNjVkMGIzZmU5LmJpbmRQb3B1cChwb3B1cF82MTNiMGFkODBlOTI0NDE3OGY1YmYwMTY4NzViMjFiYykKICAgICAgICA7CgogICAgICAgIAogICAgCiAgICAKICAgICAgICAgICAgdmFyIG1hcmtlcl85NmQ4NWE4OTQ0OTg0YjlkOWJjZDBjYTRhYWIzNjBiYyA9IEwubWFya2VyKAogICAgICAgICAgICAgICAgWzQzLjY2ODE2MDAwMDAwMDA2LCAtNzkuMzY2NjAyMzYxOTk5OThdLAogICAgICAgICAgICAgICAge30KICAgICAgICAgICAgKS5hZGRUbyhtYXBfZTQ4N2IwMzc0NGFhNDZiMjkzZDcxYjA3OTY4YTZhNzQpOwogICAgICAgIAogICAgCiAgICAgICAgdmFyIHBvcHVwX2UyODc0NjM4MWI0NzRiNmQ4ZDc1MjkzMTIwYmFmNzNhID0gTC5wb3B1cCh7Im1heFdpZHRoIjogIjEwMCUifSk7CgogICAgICAgIAogICAgICAgICAgICB2YXIgaHRtbF9mZWVjOGMyOWM1NTk0OGE2OTcxMjI3OGI4N2ZhZWFiNiA9ICQoYDxkaXYgaWQ9Imh0bWxfZmVlYzhjMjljNTU5NDhhNjk3MTIyNzhiODdmYWVhYjYiIHN0eWxlPSJ3aWR0aDogMTAwLjAlOyBoZWlnaHQ6IDEwMC4wJTsiPkNhYmJhZ2V0b3duLCBTdC4gSmFtZXMgVG93bjwvZGl2PmApWzBdOwogICAgICAgICAgICBwb3B1cF9lMjg3NDYzODFiNDc0YjZkOGQ3NTI5MzEyMGJhZjczYS5zZXRDb250ZW50KGh0bWxfZmVlYzhjMjljNTU5NDhhNjk3MTIyNzhiODdmYWVhYjYpOwogICAgICAgIAoKICAgICAgICBtYXJrZXJfOTZkODVhODk0NDk4NGI5ZDliY2QwY2E0YWFiMzYwYmMuYmluZFBvcHVwKHBvcHVwX2UyODc0NjM4MWI0NzRiNmQ4ZDc1MjkzMTIwYmFmNzNhKQogICAgICAgIDsKCiAgICAgICAgCiAgICAKICAgIAogICAgICAgICAgICB2YXIgbWFya2VyXzJhMTFhYWFjNWVmYzRjZTliNjYyMzRiY2NkNDNhYWEzID0gTC5tYXJrZXIoCiAgICAgICAgICAgICAgICBbNDMuNjY2NTg1MDAwMDAwMDU1LCAtNzkuMzgxMzAyMDM2OTk5OTVdLAogICAgICAgICAgICAgICAge30KICAgICAgICAgICAgKS5hZGRUbyhtYXBfZTQ4N2IwMzc0NGFhNDZiMjkzZDcxYjA3OTY4YTZhNzQpOwogICAgICAgIAogICAgCiAgICAgICAgdmFyIHBvcHVwX2QwNmQzM2RiNDFiMTQ0MDE5MzBiMTk4NTllYzYyZmZmID0gTC5wb3B1cCh7Im1heFdpZHRoIjogIjEwMCUifSk7CgogICAgICAgIAogICAgICAgICAgICB2YXIgaHRtbF83ZWZjODgyM2Q5MDQ0ZDJiYjFhMTg4M2I2ZTM2MmQ3YiA9ICQoYDxkaXYgaWQ9Imh0bWxfN2VmYzg4MjNkOTA0NGQyYmIxYTE4ODNiNmUzNjJkN2IiIHN0eWxlPSJ3aWR0aDogMTAwLjAlOyBoZWlnaHQ6IDEwMC4wJTsiPkNodXJjaCBhbmQgV2VsbGVzbGV5PC9kaXY+YClbMF07CiAgICAgICAgICAgIHBvcHVwX2QwNmQzM2RiNDFiMTQ0MDE5MzBiMTk4NTllYzYyZmZmLnNldENvbnRlbnQoaHRtbF83ZWZjODgyM2Q5MDQ0ZDJiYjFhMTg4M2I2ZTM2MmQ3Yik7CiAgICAgICAgCgogICAgICAgIG1hcmtlcl8yYTExYWFhYzVlZmM0Y2U5YjY2MjM0YmNjZDQzYWFhMy5iaW5kUG9wdXAocG9wdXBfZDA2ZDMzZGI0MWIxNDQwMTkzMGIxOTg1OWVjNjJmZmYpCiAgICAgICAgOwoKICAgICAgICAKICAgIAogICAgCiAgICAgICAgICAgIHZhciBtYXJrZXJfODAwZjEyNjIzNDgzNDdlYzgzOWJmZjVjNTIwNmZjNTAgPSBMLm1hcmtlcigKICAgICAgICAgICAgICAgIFs0My42NTAyOTUwMDAwMDAwMywgLTc5LjM1OTE2NTcyMjk5OTk5XSwKICAgICAgICAgICAgICAgIHt9CiAgICAgICAgICAgICkuYWRkVG8obWFwX2U0ODdiMDM3NDRhYTQ2YjI5M2Q3MWIwNzk2OGE2YTc0KTsKICAgICAgICAKICAgIAogICAgICAgIHZhciBwb3B1cF81MWM4MWNlOTlmOTA0N2QzOWQ4ZTYxYTAyYTE2ZmMyYyA9IEwucG9wdXAoeyJtYXhXaWR0aCI6ICIxMDAlIn0pOwoKICAgICAgICAKICAgICAgICAgICAgdmFyIGh0bWxfZWY2ODg2YzdjMjVkNDA0NTlhMDdiMzI0OWU0MGE3NjIgPSAkKGA8ZGl2IGlkPSJodG1sX2VmNjg4NmM3YzI1ZDQwNDU5YTA3YjMyNDllNDBhNzYyIiBzdHlsZT0id2lkdGg6IDEwMC4wJTsgaGVpZ2h0OiAxMDAuMCU7Ij5IYXJib3VyZnJvbnQ8L2Rpdj5gKVswXTsKICAgICAgICAgICAgcG9wdXBfNTFjODFjZTk5ZjkwNDdkMzlkOGU2MWEwMmExNmZjMmMuc2V0Q29udGVudChodG1sX2VmNjg4NmM3YzI1ZDQwNDU5YTA3YjMyNDllNDBhNzYyKTsKICAgICAgICAKCiAgICAgICAgbWFya2VyXzgwMGYxMjYyMzQ4MzQ3ZWM4MzliZmY1YzUyMDZmYzUwLmJpbmRQb3B1cChwb3B1cF81MWM4MWNlOTlmOTA0N2QzOWQ4ZTYxYTAyYTE2ZmMyYykKICAgICAgICA7CgogICAgICAgIAogICAgCiAgICAKICAgICAgICAgICAgdmFyIG1hcmtlcl83OTE2OWQwZTllZWM0OGRhYjgzZjQ1ZjYwMjZhNDcxZSA9IEwubWFya2VyKAogICAgICAgICAgICAgICAgWzQzLjY1NzM2MzAxMTAwMDAzLCAtNzkuMzc4MTc5OTk5OTk5OTldLAogICAgICAgICAgICAgICAge30KICAgICAgICAgICAgKS5hZGRUbyhtYXBfZTQ4N2IwMzc0NGFhNDZiMjkzZDcxYjA3OTY4YTZhNzQpOwogICAgICAgIAogICAgCiAgICAgICAgdmFyIHBvcHVwXzhhODIwZjg2OTI2ZTQ3YWQ5NDRiOGZmMGRkZjRlNThkID0gTC5wb3B1cCh7Im1heFdpZHRoIjogIjEwMCUifSk7CgogICAgICAgIAogICAgICAgICAgICB2YXIgaHRtbF9lZTllNzUwMGJmOTY0MGEwYTk0ZDJiODQ0ZWM1NWY1ZSA9ICQoYDxkaXYgaWQ9Imh0bWxfZWU5ZTc1MDBiZjk2NDBhMGE5NGQyYjg0NGVjNTVmNWUiIHN0eWxlPSJ3aWR0aDogMTAwLjAlOyBoZWlnaHQ6IDEwMC4wJTsiPlJ5ZXJzb24sIEdhcmRlbiBEaXN0cmljdDwvZGl2PmApWzBdOwogICAgICAgICAgICBwb3B1cF84YTgyMGY4NjkyNmU0N2FkOTQ0YjhmZjBkZGY0ZTU4ZC5zZXRDb250ZW50KGh0bWxfZWU5ZTc1MDBiZjk2NDBhMGE5NGQyYjg0NGVjNTVmNWUpOwogICAgICAgIAoKICAgICAgICBtYXJrZXJfNzkxNjlkMGU5ZWVjNDhkYWI4M2Y0NWY2MDI2YTQ3MWUuYmluZFBvcHVwKHBvcHVwXzhhODIwZjg2OTI2ZTQ3YWQ5NDRiOGZmMGRkZjRlNThkKQogICAgICAgIDsKCiAgICAgICAgCiAgICAKICAgIAogICAgICAgICAgICB2YXIgbWFya2VyX2EzN2ViMmY1MTI3MjRmODZiZWJhYmUxOGFkYWJlYjRiID0gTC5tYXJrZXIoCiAgICAgICAgICAgICAgICBbNDMuNjUxMjEwMDAwMDAwMDUsIC03OS4zNzU0ODA1NzY5OTk5Nl0sCiAgICAgICAgICAgICAgICB7fQogICAgICAgICAgICApLmFkZFRvKG1hcF9lNDg3YjAzNzQ0YWE0NmIyOTNkNzFiMDc5NjhhNmE3NCk7CiAgICAgICAgCiAgICAKICAgICAgICB2YXIgcG9wdXBfMzBmYTU2NzY4MzI5NDYyMzhmYWVjNjRhN2ZlYWYxNGMgPSBMLnBvcHVwKHsibWF4V2lkdGgiOiAiMTAwJSJ9KTsKCiAgICAgICAgCiAgICAgICAgICAgIHZhciBodG1sX2NjMGIzNzljNjgyMDQyNTVhMmViZTM3NjkyYmY2NDE5ID0gJChgPGRpdiBpZD0iaHRtbF9jYzBiMzc5YzY4MjA0MjU1YTJlYmUzNzY5MmJmNjQxOSIgc3R5bGU9IndpZHRoOiAxMDAuMCU7IGhlaWdodDogMTAwLjAlOyI+U3QuIEphbWVzIFRvd248L2Rpdj5gKVswXTsKICAgICAgICAgICAgcG9wdXBfMzBmYTU2NzY4MzI5NDYyMzhmYWVjNjRhN2ZlYWYxNGMuc2V0Q29udGVudChodG1sX2NjMGIzNzljNjgyMDQyNTVhMmViZTM3NjkyYmY2NDE5KTsKICAgICAgICAKCiAgICAgICAgbWFya2VyX2EzN2ViMmY1MTI3MjRmODZiZWJhYmUxOGFkYWJlYjRiLmJpbmRQb3B1cChwb3B1cF8zMGZhNTY3NjgzMjk0NjIzOGZhZWM2NGE3ZmVhZjE0YykKICAgICAgICA7CgogICAgICAgIAogICAgCiAgICAKICAgICAgICAgICAgdmFyIG1hcmtlcl82MzRlN2JhZWY3ZDI0MGYxODU1NTMxOTMwNGUzZGNmNiA9IEwubWFya2VyKAogICAgICAgICAgICAgICAgWzQzLjY0NTE2MDE1NjAwMDAzLCAtNzkuMzczNjc0OTk5OTk5OTNdLAogICAgICAgICAgICAgICAge30KICAgICAgICAgICAgKS5hZGRUbyhtYXBfZTQ4N2IwMzc0NGFhNDZiMjkzZDcxYjA3OTY4YTZhNzQpOwogICAgICAgIAogICAgCiAgICAgICAgdmFyIHBvcHVwXzU1NWY5NDQ1YmIwNTQwMjE5Zjg5NDM5ZmFhMTkyZDI1ID0gTC5wb3B1cCh7Im1heFdpZHRoIjogIjEwMCUifSk7CgogICAgICAgIAogICAgICAgICAgICB2YXIgaHRtbF81YWNhMDA2YmVlZTM0MDk1YWRjNzY1NGRlMTYwOWNmNSA9ICQoYDxkaXYgaWQ9Imh0bWxfNWFjYTAwNmJlZWUzNDA5NWFkYzc2NTRkZTE2MDljZjUiIHN0eWxlPSJ3aWR0aDogMTAwLjAlOyBoZWlnaHQ6IDEwMC4wJTsiPkJlcmN6eSBQYXJrPC9kaXY+YClbMF07CiAgICAgICAgICAgIHBvcHVwXzU1NWY5NDQ1YmIwNTQwMjE5Zjg5NDM5ZmFhMTkyZDI1LnNldENvbnRlbnQoaHRtbF81YWNhMDA2YmVlZTM0MDk1YWRjNzY1NGRlMTYwOWNmNSk7CiAgICAgICAgCgogICAgICAgIG1hcmtlcl82MzRlN2JhZWY3ZDI0MGYxODU1NTMxOTMwNGUzZGNmNi5iaW5kUG9wdXAocG9wdXBfNTU1Zjk0NDViYjA1NDAyMTlmODk0MzlmYWExOTJkMjUpCiAgICAgICAgOwoKICAgICAgICAKICAgIAogICAgCiAgICAgICAgICAgIHZhciBtYXJrZXJfMTZlYmE0YWI2MzgwNDExZjg1ZDY5NDQ4MTg0NmEyYWUgPSBMLm1hcmtlcigKICAgICAgICAgICAgICAgIFs0My42NTYwOTA4MTMwMDAwNSwgLTc5LjM4NDkyOTk5OTk5OTk0XSwKICAgICAgICAgICAgICAgIHt9CiAgICAgICAgICAgICkuYWRkVG8obWFwX2U0ODdiMDM3NDRhYTQ2YjI5M2Q3MWIwNzk2OGE2YTc0KTsKICAgICAgICAKICAgIAogICAgICAgIHZhciBwb3B1cF9mNTdjMGY2MWJkNjE0OGZlYmU2MzA5YzllMTRkNzk1NyA9IEwucG9wdXAoeyJtYXhXaWR0aCI6ICIxMDAlIn0pOwoKICAgICAgICAKICAgICAgICAgICAgdmFyIGh0bWxfY2JjN2FhMjUyMzg3NDMyODk0N2QzZTNlNmE0MTAxNDcgPSAkKGA8ZGl2IGlkPSJodG1sX2NiYzdhYTI1MjM4NzQzMjg5NDdkM2UzZTZhNDEwMTQ3IiBzdHlsZT0id2lkdGg6IDEwMC4wJTsgaGVpZ2h0OiAxMDAuMCU7Ij5DZW50cmFsIEJheSBTdHJlZXQ8L2Rpdj5gKVswXTsKICAgICAgICAgICAgcG9wdXBfZjU3YzBmNjFiZDYxNDhmZWJlNjMwOWM5ZTE0ZDc5NTcuc2V0Q29udGVudChodG1sX2NiYzdhYTI1MjM4NzQzMjg5NDdkM2UzZTZhNDEwMTQ3KTsKICAgICAgICAKCiAgICAgICAgbWFya2VyXzE2ZWJhNGFiNjM4MDQxMWY4NWQ2OTQ0ODE4NDZhMmFlLmJpbmRQb3B1cChwb3B1cF9mNTdjMGY2MWJkNjE0OGZlYmU2MzA5YzllMTRkNzk1NykKICAgICAgICA7CgogICAgICAgIAogICAgCiAgICAKICAgICAgICAgICAgdmFyIG1hcmtlcl81NDdjMGEwNDIyN2M0ZTBlODlmMzQ3ZDJiMGQzYzY0NyA9IEwubWFya2VyKAogICAgICAgICAgICAgICAgWzQzLjY0OTcwMDAwMDAwMDA1LCAtNzkuMzgyNTgxNTczOTk5OTddLAogICAgICAgICAgICAgICAge30KICAgICAgICAgICAgKS5hZGRUbyhtYXBfZTQ4N2IwMzc0NGFhNDZiMjkzZDcxYjA3OTY4YTZhNzQpOwogICAgICAgIAogICAgCiAgICAgICAgdmFyIHBvcHVwXzk4MmQ5ZDNjYmUyMDRiYjA4MzMxYjhlNGFhOWQzOWRhID0gTC5wb3B1cCh7Im1heFdpZHRoIjogIjEwMCUifSk7CgogICAgICAgIAogICAgICAgICAgICB2YXIgaHRtbF81MGM1Njg2ZDdlZmM0ZGZhYTNlZDQ4MjUwOWI4YmIxNyA9ICQoYDxkaXYgaWQ9Imh0bWxfNTBjNTY4NmQ3ZWZjNGRmYWEzZWQ0ODI1MDliOGJiMTciIHN0eWxlPSJ3aWR0aDogMTAwLjAlOyBoZWlnaHQ6IDEwMC4wJTsiPkFkZWxhaWRlLCBLaW5nLCBSaWNobW9uZDwvZGl2PmApWzBdOwogICAgICAgICAgICBwb3B1cF85ODJkOWQzY2JlMjA0YmIwODMzMWI4ZTRhYTlkMzlkYS5zZXRDb250ZW50KGh0bWxfNTBjNTY4NmQ3ZWZjNGRmYWEzZWQ0ODI1MDliOGJiMTcpOwogICAgICAgIAoKICAgICAgICBtYXJrZXJfNTQ3YzBhMDQyMjdjNGUwZTg5ZjM0N2QyYjBkM2M2NDcuYmluZFBvcHVwKHBvcHVwXzk4MmQ5ZDNjYmUyMDRiYjA4MzMxYjhlNGFhOWQzOWRhKQogICAgICAgIDsKCiAgICAgICAgCiAgICAKICAgIAogICAgICAgICAgICB2YXIgbWFya2VyXzcwMTM5NDA5Yzc3OTQxZGFiMDk2NGE1MTZkZjhkYTA2ID0gTC5tYXJrZXIoCiAgICAgICAgICAgICAgICBbNDMuNjMwMjEwMDAwMDAwMDM0LCAtNzkuMzYyNDMzMjA4OTk5OTZdLAogICAgICAgICAgICAgICAge30KICAgICAgICAgICAgKS5hZGRUbyhtYXBfZTQ4N2IwMzc0NGFhNDZiMjkzZDcxYjA3OTY4YTZhNzQpOwogICAgICAgIAogICAgCiAgICAgICAgdmFyIHBvcHVwXzllOTI1OGVkZjRjMjRhMWI5OGM4ZWUyNDg2MWVjODk0ID0gTC5wb3B1cCh7Im1heFdpZHRoIjogIjEwMCUifSk7CgogICAgICAgIAogICAgICAgICAgICB2YXIgaHRtbF82NzMzMjhkMGRjNjU0NmFkYjQzZjQ5MDI3NjMwNTk4OCA9ICQoYDxkaXYgaWQ9Imh0bWxfNjczMzI4ZDBkYzY1NDZhZGI0M2Y0OTAyNzYzMDU5ODgiIHN0eWxlPSJ3aWR0aDogMTAwLjAlOyBoZWlnaHQ6IDEwMC4wJTsiPkhhcmJvdXJmcm9udCBFYXN0LCBUb3JvbnRvIElzbGFuZHMsIFVuaW9uIFN0YXRpb248L2Rpdj5gKVswXTsKICAgICAgICAgICAgcG9wdXBfOWU5MjU4ZWRmNGMyNGExYjk4YzhlZTI0ODYxZWM4OTQuc2V0Q29udGVudChodG1sXzY3MzMyOGQwZGM2NTQ2YWRiNDNmNDkwMjc2MzA1OTg4KTsKICAgICAgICAKCiAgICAgICAgbWFya2VyXzcwMTM5NDA5Yzc3OTQxZGFiMDk2NGE1MTZkZjhkYTA2LmJpbmRQb3B1cChwb3B1cF85ZTkyNThlZGY0YzI0YTFiOThjOGVlMjQ4NjFlYzg5NCkKICAgICAgICA7CgogICAgICAgIAogICAgCiAgICAKICAgICAgICAgICAgdmFyIG1hcmtlcl8wYzk2NjdiYTE2NzU0MzA1ODQ5NzdiY2I3YzE1MzY1YSA9IEwubWFya2VyKAogICAgICAgICAgICAgICAgWzQzLjY0NzEwMDAwMDAwMDA4LCAtNzkuMzgxNTMxMDk4OTk5OTddLAogICAgICAgICAgICAgICAge30KICAgICAgICAgICAgKS5hZGRUbyhtYXBfZTQ4N2IwMzc0NGFhNDZiMjkzZDcxYjA3OTY4YTZhNzQpOwogICAgICAgIAogICAgCiAgICAgICAgdmFyIHBvcHVwXzg1MzkxZmQ1MDc5YjQzMGI5YWI1ODY2NTBiNzhjZTA0ID0gTC5wb3B1cCh7Im1heFdpZHRoIjogIjEwMCUifSk7CgogICAgICAgIAogICAgICAgICAgICB2YXIgaHRtbF83ZjQxNWI1NWYzMDE0NWFkOTYyOGNiNTFmYWE1NzgwMiA9ICQoYDxkaXYgaWQ9Imh0bWxfN2Y0MTViNTVmMzAxNDVhZDk2MjhjYjUxZmFhNTc4MDIiIHN0eWxlPSJ3aWR0aDogMTAwLjAlOyBoZWlnaHQ6IDEwMC4wJTsiPkRlc2lnbiBFeGNoYW5nZSwgVG9yb250byBEb21pbmlvbiBDZW50cmU8L2Rpdj5gKVswXTsKICAgICAgICAgICAgcG9wdXBfODUzOTFmZDUwNzliNDMwYjlhYjU4NjY1MGI3OGNlMDQuc2V0Q29udGVudChodG1sXzdmNDE1YjU1ZjMwMTQ1YWQ5NjI4Y2I1MWZhYTU3ODAyKTsKICAgICAgICAKCiAgICAgICAgbWFya2VyXzBjOTY2N2JhMTY3NTQzMDU4NDk3N2JjYjdjMTUzNjVhLmJpbmRQb3B1cChwb3B1cF84NTM5MWZkNTA3OWI0MzBiOWFiNTg2NjUwYjc4Y2UwNCkKICAgICAgICA7CgogICAgICAgIAogICAgCiAgICAKICAgICAgICAgICAgdmFyIG1hcmtlcl8xZTAyYzYzMGNkM2U0NWFkYTg0YWIxYzBhMzE1MjhmOSA9IEwubWFya2VyKAogICAgICAgICAgICAgICAgWzQzLjY0ODM5NTAwMDAwMDA1LCAtNzkuMzc4ODY0OTEwOTk5OTRdLAogICAgICAgICAgICAgICAge30KICAgICAgICAgICAgKS5hZGRUbyhtYXBfZTQ4N2IwMzc0NGFhNDZiMjkzZDcxYjA3OTY4YTZhNzQpOwogICAgICAgIAogICAgCiAgICAgICAgdmFyIHBvcHVwXzZjNjMwNTQxYzVjYzRkYmVhNGIzNjA1YWVhYTRmNTFhID0gTC5wb3B1cCh7Im1heFdpZHRoIjogIjEwMCUifSk7CgogICAgICAgIAogICAgICAgICAgICB2YXIgaHRtbF9lMWU3NTdkN2M5Nzc0MzlkODNmNGRjNzUwNGI1Y2IxOSA9ICQoYDxkaXYgaWQ9Imh0bWxfZTFlNzU3ZDdjOTc3NDM5ZDgzZjRkYzc1MDRiNWNiMTkiIHN0eWxlPSJ3aWR0aDogMTAwLjAlOyBoZWlnaHQ6IDEwMC4wJTsiPkNvbW1lcmNlIENvdXJ0LCBWaWN0b3JpYSBIb3RlbDwvZGl2PmApWzBdOwogICAgICAgICAgICBwb3B1cF82YzYzMDU0MWM1Y2M0ZGJlYTRiMzYwNWFlYWE0ZjUxYS5zZXRDb250ZW50KGh0bWxfZTFlNzU3ZDdjOTc3NDM5ZDgzZjRkYzc1MDRiNWNiMTkpOwogICAgICAgIAoKICAgICAgICBtYXJrZXJfMWUwMmM2MzBjZDNlNDVhZGE4NGFiMWMwYTMxNTI4ZjkuYmluZFBvcHVwKHBvcHVwXzZjNjMwNTQxYzVjYzRkYmVhNGIzNjA1YWVhYTRmNTFhKQogICAgICAgIDsKCiAgICAgICAgCiAgICAKICAgIAogICAgICAgICAgICB2YXIgbWFya2VyX2IyZGRjNDExZTllODRiNjI4MjlkOWQ4NGVhZjA0MTZjID0gTC5tYXJrZXIoCiAgICAgICAgICAgICAgICBbNDMuNzM1NDYwMDAwMDAwMDQ2LCAtNzkuNDE5MTQ3ODc1OTk5OTVdLAogICAgICAgICAgICAgICAge30KICAgICAgICAgICAgKS5hZGRUbyhtYXBfZTQ4N2IwMzc0NGFhNDZiMjkzZDcxYjA3OTY4YTZhNzQpOwogICAgICAgIAogICAgCiAgICAgICAgdmFyIHBvcHVwX2RjNWYwOWI0MzRiZDQ3NjQ5NzQzZTk3YjdhMzlmZGUwID0gTC5wb3B1cCh7Im1heFdpZHRoIjogIjEwMCUifSk7CgogICAgICAgIAogICAgICAgICAgICB2YXIgaHRtbF83NmFmNWYzODhjYTM0NGQ0YmUzYjdkZTk4N2QwYTMyNyA9ICQoYDxkaXYgaWQ9Imh0bWxfNzZhZjVmMzg4Y2EzNDRkNGJlM2I3ZGU5ODdkMGEzMjciIHN0eWxlPSJ3aWR0aDogMTAwLjAlOyBoZWlnaHQ6IDEwMC4wJTsiPkJlZGZvcmQgUGFyaywgTGF3cmVuY2UgTWFub3IgRWFzdDwvZGl2PmApWzBdOwogICAgICAgICAgICBwb3B1cF9kYzVmMDliNDM0YmQ0NzY0OTc0M2U5N2I3YTM5ZmRlMC5zZXRDb250ZW50KGh0bWxfNzZhZjVmMzg4Y2EzNDRkNGJlM2I3ZGU5ODdkMGEzMjcpOwogICAgICAgIAoKICAgICAgICBtYXJrZXJfYjJkZGM0MTFlOWU4NGI2MjgyOWQ5ZDg0ZWFmMDQxNmMuYmluZFBvcHVwKHBvcHVwX2RjNWYwOWI0MzRiZDQ3NjQ5NzQzZTk3YjdhMzlmZGUwKQogICAgICAgIDsKCiAgICAgICAgCiAgICAKICAgIAogICAgICAgICAgICB2YXIgbWFya2VyXzA3Y2JlZDgzMmExYjQ5YTVhN2VlNTY4NTA5OTM4MDZkID0gTC5tYXJrZXIoCiAgICAgICAgICAgICAgICBbNDMuNzExOTQxMTU0MDAwMDQ0LCAtNzkuNDE5MTE5OTk5OTk5OTZdLAogICAgICAgICAgICAgICAge30KICAgICAgICAgICAgKS5hZGRUbyhtYXBfZTQ4N2IwMzc0NGFhNDZiMjkzZDcxYjA3OTY4YTZhNzQpOwogICAgICAgIAogICAgCiAgICAgICAgdmFyIHBvcHVwXzVjMTNmYjc3MWM0NTRjNjFhYjZmZjllNjFlMTNjMmI5ID0gTC5wb3B1cCh7Im1heFdpZHRoIjogIjEwMCUifSk7CgogICAgICAgIAogICAgICAgICAgICB2YXIgaHRtbF81ZDNlODE3MTBkMGY0OGMwYWNkMzhjOGM1NWYxZTk4NCA9ICQoYDxkaXYgaWQ9Imh0bWxfNWQzZTgxNzEwZDBmNDhjMGFjZDM4YzhjNTVmMWU5ODQiIHN0eWxlPSJ3aWR0aDogMTAwLjAlOyBoZWlnaHQ6IDEwMC4wJTsiPlJvc2VsYXduPC9kaXY+YClbMF07CiAgICAgICAgICAgIHBvcHVwXzVjMTNmYjc3MWM0NTRjNjFhYjZmZjllNjFlMTNjMmI5LnNldENvbnRlbnQoaHRtbF81ZDNlODE3MTBkMGY0OGMwYWNkMzhjOGM1NWYxZTk4NCk7CiAgICAgICAgCgogICAgICAgIG1hcmtlcl8wN2NiZWQ4MzJhMWI0OWE1YTdlZTU2ODUwOTkzODA2ZC5iaW5kUG9wdXAocG9wdXBfNWMxM2ZiNzcxYzQ1NGM2MWFiNmZmOWU2MWUxM2MyYjkpCiAgICAgICAgOwoKICAgICAgICAKICAgIAogICAgCiAgICAgICAgICAgIHZhciBtYXJrZXJfNTdjNDdlNWZmOTMxNDMxOGEwYjQyMTY1MzVlNzJhY2UgPSBMLm1hcmtlcigKICAgICAgICAgICAgICAgIFs0My42OTQ3ODUwMDAwMDAwOCwgLTc5LjQxNDQwNDgzMjk5OTk0XSwKICAgICAgICAgICAgICAgIHt9CiAgICAgICAgICAgICkuYWRkVG8obWFwX2U0ODdiMDM3NDRhYTQ2YjI5M2Q3MWIwNzk2OGE2YTc0KTsKICAgICAgICAKICAgIAogICAgICAgIHZhciBwb3B1cF83YmU1Y2JmYWZkYjE0OTJlODI3MWRhMWU0ZTQ0ODkwOSA9IEwucG9wdXAoeyJtYXhXaWR0aCI6ICIxMDAlIn0pOwoKICAgICAgICAKICAgICAgICAgICAgdmFyIGh0bWxfNDdlNmRlODczZDNlNDExM2FlNjY0NjFkYjJjNjU2YjUgPSAkKGA8ZGl2IGlkPSJodG1sXzQ3ZTZkZTg3M2QzZTQxMTNhZTY2NDYxZGIyYzY1NmI1IiBzdHlsZT0id2lkdGg6IDEwMC4wJTsgaGVpZ2h0OiAxMDAuMCU7Ij5Gb3Jlc3QgSGlsbCBOb3J0aCwgRm9yZXN0IEhpbGwgV2VzdDwvZGl2PmApWzBdOwogICAgICAgICAgICBwb3B1cF83YmU1Y2JmYWZkYjE0OTJlODI3MWRhMWU0ZTQ0ODkwOS5zZXRDb250ZW50KGh0bWxfNDdlNmRlODczZDNlNDExM2FlNjY0NjFkYjJjNjU2YjUpOwogICAgICAgIAoKICAgICAgICBtYXJrZXJfNTdjNDdlNWZmOTMxNDMxOGEwYjQyMTY1MzVlNzJhY2UuYmluZFBvcHVwKHBvcHVwXzdiZTVjYmZhZmRiMTQ5MmU4MjcxZGExZTRlNDQ4OTA5KQogICAgICAgIDsKCiAgICAgICAgCiAgICAKICAgIAogICAgICAgICAgICB2YXIgbWFya2VyXzEwNGU4NDU4NDdjMjQxZDc4NjM2N2RkOWM1NmRiZGZjID0gTC5tYXJrZXIoCiAgICAgICAgICAgICAgICBbNDMuNjc0ODQwMDAwMDAwMDc0LCAtNzkuNDAzNzY4MjM5OTk5OThdLAogICAgICAgICAgICAgICAge30KICAgICAgICAgICAgKS5hZGRUbyhtYXBfZTQ4N2IwMzc0NGFhNDZiMjkzZDcxYjA3OTY4YTZhNzQpOwogICAgICAgIAogICAgCiAgICAgICAgdmFyIHBvcHVwXzNhOWYyYWRhNWUyZTQzOTQ4OTM1NzliNWI3NGUwZGFjID0gTC5wb3B1cCh7Im1heFdpZHRoIjogIjEwMCUifSk7CgogICAgICAgIAogICAgICAgICAgICB2YXIgaHRtbF9lMjZiNzUzZWY2ZmM0NjRiYTA2NjU3YjZlODRjNGQ2NiA9ICQoYDxkaXYgaWQ9Imh0bWxfZTI2Yjc1M2VmNmZjNDY0YmEwNjY1N2I2ZTg0YzRkNjYiIHN0eWxlPSJ3aWR0aDogMTAwLjAlOyBoZWlnaHQ6IDEwMC4wJTsiPlRoZSBBbm5leCwgTm9ydGggTWlkdG93biwgWW9ya3ZpbGxlPC9kaXY+YClbMF07CiAgICAgICAgICAgIHBvcHVwXzNhOWYyYWRhNWUyZTQzOTQ4OTM1NzliNWI3NGUwZGFjLnNldENvbnRlbnQoaHRtbF9lMjZiNzUzZWY2ZmM0NjRiYTA2NjU3YjZlODRjNGQ2Nik7CiAgICAgICAgCgogICAgICAgIG1hcmtlcl8xMDRlODQ1ODQ3YzI0MWQ3ODYzNjdkZDljNTZkYmRmYy5iaW5kUG9wdXAocG9wdXBfM2E5ZjJhZGE1ZTJlNDM5NDg5MzU3OWI1Yjc0ZTBkYWMpCiAgICAgICAgOwoKICAgICAgICAKICAgIAogICAgCiAgICAgICAgICAgIHZhciBtYXJrZXJfMGZkNDllYjgzZDViNDkxNGFkYzE2MTM2YjM2YmNkYTEgPSBMLm1hcmtlcigKICAgICAgICAgICAgICAgIFs0My42NjMxMTAwMDAwMDAwNzQsIC03OS40MDE4MDA1NjY5OTk5NV0sCiAgICAgICAgICAgICAgICB7fQogICAgICAgICAgICApLmFkZFRvKG1hcF9lNDg3YjAzNzQ0YWE0NmIyOTNkNzFiMDc5NjhhNmE3NCk7CiAgICAgICAgCiAgICAKICAgICAgICB2YXIgcG9wdXBfMzIzZTczMTQ0Yzk0NDhhM2E5NTc4ZmNlMDUzYmQ1OWEgPSBMLnBvcHVwKHsibWF4V2lkdGgiOiAiMTAwJSJ9KTsKCiAgICAgICAgCiAgICAgICAgICAgIHZhciBodG1sXzQyNDZjM2RiNDc3MDRhNTA4ZmZhZjMzZjc3Y2QyNjNiID0gJChgPGRpdiBpZD0iaHRtbF80MjQ2YzNkYjQ3NzA0YTUwOGZmYWYzM2Y3N2NkMjYzYiIgc3R5bGU9IndpZHRoOiAxMDAuMCU7IGhlaWdodDogMTAwLjAlOyI+SGFyYm9yZCwgVW5pdmVyc2l0eSBvZiBUb3JvbnRvPC9kaXY+YClbMF07CiAgICAgICAgICAgIHBvcHVwXzMyM2U3MzE0NGM5NDQ4YTNhOTU3OGZjZTA1M2JkNTlhLnNldENvbnRlbnQoaHRtbF80MjQ2YzNkYjQ3NzA0YTUwOGZmYWYzM2Y3N2NkMjYzYik7CiAgICAgICAgCgogICAgICAgIG1hcmtlcl8wZmQ0OWViODNkNWI0OTE0YWRjMTYxMzZiMzZiY2RhMS5iaW5kUG9wdXAocG9wdXBfMzIzZTczMTQ0Yzk0NDhhM2E5NTc4ZmNlMDUzYmQ1OWEpCiAgICAgICAgOwoKICAgICAgICAKICAgIAogICAgCiAgICAgICAgICAgIHZhciBtYXJrZXJfN2I0MmJjZmU0Y2Q0NDZhMmJkNjJkMDA2NDYwY2U3MTYgPSBMLm1hcmtlcigKICAgICAgICAgICAgICAgIFs0My42NTM1MzAwMDAwMDAwNDYsIC03OS4zOTcyMzI2ODI5OTk5N10sCiAgICAgICAgICAgICAgICB7fQogICAgICAgICAgICApLmFkZFRvKG1hcF9lNDg3YjAzNzQ0YWE0NmIyOTNkNzFiMDc5NjhhNmE3NCk7CiAgICAgICAgCiAgICAKICAgICAgICB2YXIgcG9wdXBfNmYxMWJjODgzY2EwNDc4YWJhZWE0M2VlNGFkMjUwNGYgPSBMLnBvcHVwKHsibWF4V2lkdGgiOiAiMTAwJSJ9KTsKCiAgICAgICAgCiAgICAgICAgICAgIHZhciBodG1sXzk0NDM3NTEwZmJmOTQwODhhOTAxNTAxZTEyNjVhNzczID0gJChgPGRpdiBpZD0iaHRtbF85NDQzNzUxMGZiZjk0MDg4YTkwMTUwMWUxMjY1YTc3MyIgc3R5bGU9IndpZHRoOiAxMDAuMCU7IGhlaWdodDogMTAwLjAlOyI+Q2hpbmF0b3duLCBHcmFuZ2UgUGFyaywgS2Vuc2luZ3RvbiBNYXJrZXQ8L2Rpdj5gKVswXTsKICAgICAgICAgICAgcG9wdXBfNmYxMWJjODgzY2EwNDc4YWJhZWE0M2VlNGFkMjUwNGYuc2V0Q29udGVudChodG1sXzk0NDM3NTEwZmJmOTQwODhhOTAxNTAxZTEyNjVhNzczKTsKICAgICAgICAKCiAgICAgICAgbWFya2VyXzdiNDJiY2ZlNGNkNDQ2YTJiZDYyZDAwNjQ2MGNlNzE2LmJpbmRQb3B1cChwb3B1cF82ZjExYmM4ODNjYTA0NzhhYmFlYTQzZWU0YWQyNTA0ZikKICAgICAgICA7CgogICAgICAgIAogICAgCiAgICAKICAgICAgICAgICAgdmFyIG1hcmtlcl9jZjcwOWU1NzAxOGU0NzIyODIyZGJjOGZmYjRiZmE2YyA9IEwubWFya2VyKAogICAgICAgICAgICAgICAgWzQzLjY0MDgxNTAwMDAwMDAzLCAtNzkuMzk5NTM3ODE4OTk5OTldLAogICAgICAgICAgICAgICAge30KICAgICAgICAgICAgKS5hZGRUbyhtYXBfZTQ4N2IwMzc0NGFhNDZiMjkzZDcxYjA3OTY4YTZhNzQpOwogICAgICAgIAogICAgCiAgICAgICAgdmFyIHBvcHVwX2I4YjAzMDQ3ODViZTQ1MzI5NzIyYWU5ZDMzZjBhMzU2ID0gTC5wb3B1cCh7Im1heFdpZHRoIjogIjEwMCUifSk7CgogICAgICAgIAogICAgICAgICAgICB2YXIgaHRtbF9mYzBmMDZmMmQyNjE0ZmVkYTVjZTVhNTM4NWQwZGQ2ZSA9ICQoYDxkaXYgaWQ9Imh0bWxfZmMwZjA2ZjJkMjYxNGZlZGE1Y2U1YTUzODVkMGRkNmUiIHN0eWxlPSJ3aWR0aDogMTAwLjAlOyBoZWlnaHQ6IDEwMC4wJTsiPkNOIFRvd2VyLCBCYXRodXJzdCBRdWF5LCBJc2xhbmQgYWlycG9ydCwgSGFyYm91cmZyb250IFdlc3QsIEtpbmcgYW5kIFNwYWRpbmEsIFJhaWx3YXkgTGFuZHMsIFNvdXRoIE5pYWdhcmE8L2Rpdj5gKVswXTsKICAgICAgICAgICAgcG9wdXBfYjhiMDMwNDc4NWJlNDUzMjk3MjJhZTlkMzNmMGEzNTYuc2V0Q29udGVudChodG1sX2ZjMGYwNmYyZDI2MTRmZWRhNWNlNWE1Mzg1ZDBkZDZlKTsKICAgICAgICAKCiAgICAgICAgbWFya2VyX2NmNzA5ZTU3MDE4ZTQ3MjI4MjJkYmM4ZmZiNGJmYTZjLmJpbmRQb3B1cChwb3B1cF9iOGIwMzA0Nzg1YmU0NTMyOTcyMmFlOWQzM2YwYTM1NikKICAgICAgICA7CgogICAgICAgIAogICAgCiAgICAKICAgICAgICAgICAgdmFyIG1hcmtlcl82MDA0Y2UyMjMzOTQ0NjYwOGYzODYwMzc2NjAxNzc4OSA9IEwubWFya2VyKAogICAgICAgICAgICAgICAgWzQzLjY0ODY5MDAwMDAwMDA0NSwgLTc5LjM4NTQzOTk5OTk5OTk2XSwKICAgICAgICAgICAgICAgIHt9CiAgICAgICAgICAgICkuYWRkVG8obWFwX2U0ODdiMDM3NDRhYTQ2YjI5M2Q3MWIwNzk2OGE2YTc0KTsKICAgICAgICAKICAgIAogICAgICAgIHZhciBwb3B1cF8yMjRlY2VlNjRmYzg0ZGEwODk5Nzg2ZmQ1NWY3Yjc1NCA9IEwucG9wdXAoeyJtYXhXaWR0aCI6ICIxMDAlIn0pOwoKICAgICAgICAKICAgICAgICAgICAgdmFyIGh0bWxfNTQwMGNmOGViZWIzNGU1NDlkN2Q0YThkMjVmZmRlMjIgPSAkKGA8ZGl2IGlkPSJodG1sXzU0MDBjZjhlYmViMzRlNTQ5ZDdkNGE4ZDI1ZmZkZTIyIiBzdHlsZT0id2lkdGg6IDEwMC4wJTsgaGVpZ2h0OiAxMDAuMCU7Ij5TdG4gQSBQTyBCb3hlcyAyNSBUaGUgRXNwbGFuYWRlPC9kaXY+YClbMF07CiAgICAgICAgICAgIHBvcHVwXzIyNGVjZWU2NGZjODRkYTA4OTk3ODZmZDU1ZjdiNzU0LnNldENvbnRlbnQoaHRtbF81NDAwY2Y4ZWJlYjM0ZTU0OWQ3ZDRhOGQyNWZmZGUyMik7CiAgICAgICAgCgogICAgICAgIG1hcmtlcl82MDA0Y2UyMjMzOTQ0NjYwOGYzODYwMzc2NjAxNzc4OS5iaW5kUG9wdXAocG9wdXBfMjI0ZWNlZTY0ZmM4NGRhMDg5OTc4NmZkNTVmN2I3NTQpCiAgICAgICAgOwoKICAgICAgICAKICAgIAogICAgCiAgICAgICAgICAgIHZhciBtYXJrZXJfOTViZTdlOGM0MjM1NDI1Yzk5MDY1MzM1MmQxZDM1MWQgPSBMLm1hcmtlcigKICAgICAgICAgICAgICAgIFs0My42NDgyODAwMDAwMDAwNiwgLTc5LjM4MTQ2MDgyNTk5OTk3XSwKICAgICAgICAgICAgICAgIHt9CiAgICAgICAgICAgICkuYWRkVG8obWFwX2U0ODdiMDM3NDRhYTQ2YjI5M2Q3MWIwNzk2OGE2YTc0KTsKICAgICAgICAKICAgIAogICAgICAgIHZhciBwb3B1cF8xNjdmOTUwYmFkZmI0OTllYWE1ZDU1NzY0MzljMDUyMSA9IEwucG9wdXAoeyJtYXhXaWR0aCI6ICIxMDAlIn0pOwoKICAgICAgICAKICAgICAgICAgICAgdmFyIGh0bWxfZmM1OTliNWZjY2IwNDc4NzliY2Q3Y2NkN2NjMmMzYjEgPSAkKGA8ZGl2IGlkPSJodG1sX2ZjNTk5YjVmY2NiMDQ3ODc5YmNkN2NjZDdjYzJjM2IxIiBzdHlsZT0id2lkdGg6IDEwMC4wJTsgaGVpZ2h0OiAxMDAuMCU7Ij5GaXJzdCBDYW5hZGlhbiBQbGFjZSwgVW5kZXJncm91bmQgY2l0eTwvZGl2PmApWzBdOwogICAgICAgICAgICBwb3B1cF8xNjdmOTUwYmFkZmI0OTllYWE1ZDU1NzY0MzljMDUyMS5zZXRDb250ZW50KGh0bWxfZmM1OTliNWZjY2IwNDc4NzliY2Q3Y2NkN2NjMmMzYjEpOwogICAgICAgIAoKICAgICAgICBtYXJrZXJfOTViZTdlOGM0MjM1NDI1Yzk5MDY1MzM1MmQxZDM1MWQuYmluZFBvcHVwKHBvcHVwXzE2N2Y5NTBiYWRmYjQ5OWVhYTVkNTU3NjQzOWMwNTIxKQogICAgICAgIDsKCiAgICAgICAgCiAgICAKICAgIAogICAgICAgICAgICB2YXIgbWFya2VyX2IxN2RiMjNjN2Q4YTRkYzY5NmViN2JhZjg2ODlkY2EzID0gTC5tYXJrZXIoCiAgICAgICAgICAgICAgICBbNDMuNzIzMjcwMDAwMDAwMDcsIC03OS40NTEyODYwMTY5OTk5N10sCiAgICAgICAgICAgICAgICB7fQogICAgICAgICAgICApLmFkZFRvKG1hcF9lNDg3YjAzNzQ0YWE0NmIyOTNkNzFiMDc5NjhhNmE3NCk7CiAgICAgICAgCiAgICAKICAgICAgICB2YXIgcG9wdXBfMzMzOTAxZjdlMTlhNGIyYmIwMjk5NGJiZGQ2MGVkZmIgPSBMLnBvcHVwKHsibWF4V2lkdGgiOiAiMTAwJSJ9KTsKCiAgICAgICAgCiAgICAgICAgICAgIHZhciBodG1sXzExOWVlODdhNDdjMzRlZWQ5YTYzOWI4NDMzZTEzMDNhID0gJChgPGRpdiBpZD0iaHRtbF8xMTllZTg3YTQ3YzM0ZWVkOWE2MzliODQzM2UxMzAzYSIgc3R5bGU9IndpZHRoOiAxMDAuMCU7IGhlaWdodDogMTAwLjAlOyI+TGF3cmVuY2UgSGVpZ2h0cywgTGF3cmVuY2UgTWFub3I8L2Rpdj5gKVswXTsKICAgICAgICAgICAgcG9wdXBfMzMzOTAxZjdlMTlhNGIyYmIwMjk5NGJiZGQ2MGVkZmIuc2V0Q29udGVudChodG1sXzExOWVlODdhNDdjMzRlZWQ5YTYzOWI4NDMzZTEzMDNhKTsKICAgICAgICAKCiAgICAgICAgbWFya2VyX2IxN2RiMjNjN2Q4YTRkYzY5NmViN2JhZjg2ODlkY2EzLmJpbmRQb3B1cChwb3B1cF8zMzM5MDFmN2UxOWE0YjJiYjAyOTk0YmJkZDYwZWRmYikKICAgICAgICA7CgogICAgICAgIAogICAgCiAgICAKICAgICAgICAgICAgdmFyIG1hcmtlcl9mYjYxN2E3OTAxM2I0ZjFiYmZmMTJlMzg0YjM2MDE3MSA9IEwubWFya2VyKAogICAgICAgICAgICAgICAgWzQzLjcwNzk5MDAwMDAwMDA1LCAtNzkuNDQ4MzY3MzMxOTk5OThdLAogICAgICAgICAgICAgICAge30KICAgICAgICAgICAgKS5hZGRUbyhtYXBfZTQ4N2IwMzc0NGFhNDZiMjkzZDcxYjA3OTY4YTZhNzQpOwogICAgICAgIAogICAgCiAgICAgICAgdmFyIHBvcHVwXzI4ZGQ4Nzc0ODE5MjRlZjc5ZGZiYWQxYzVkNzY3NmYxID0gTC5wb3B1cCh7Im1heFdpZHRoIjogIjEwMCUifSk7CgogICAgICAgIAogICAgICAgICAgICB2YXIgaHRtbF8zZmU0MWU4NjI3MWU0MTc5OGU4YzJiYzFiZWM4M2YwYSA9ICQoYDxkaXYgaWQ9Imh0bWxfM2ZlNDFlODYyNzFlNDE3OThlOGMyYmMxYmVjODNmMGEiIHN0eWxlPSJ3aWR0aDogMTAwLjAlOyBoZWlnaHQ6IDEwMC4wJTsiPkdsZW5jYWlybjwvZGl2PmApWzBdOwogICAgICAgICAgICBwb3B1cF8yOGRkODc3NDgxOTI0ZWY3OWRmYmFkMWM1ZDc2NzZmMS5zZXRDb250ZW50KGh0bWxfM2ZlNDFlODYyNzFlNDE3OThlOGMyYmMxYmVjODNmMGEpOwogICAgICAgIAoKICAgICAgICBtYXJrZXJfZmI2MTdhNzkwMTNiNGYxYmJmZjEyZTM4NGIzNjAxNzEuYmluZFBvcHVwKHBvcHVwXzI4ZGQ4Nzc0ODE5MjRlZjc5ZGZiYWQxYzVkNzY3NmYxKQogICAgICAgIDsKCiAgICAgICAgCiAgICAKICAgIAogICAgICAgICAgICB2YXIgbWFya2VyXzIzNTY0Y2Q3MTZmZDQ1NDliZWUyMWM2OWYzNDM0MTUzID0gTC5tYXJrZXIoCiAgICAgICAgICAgICAgICBbNDMuNjkyMTA1MTc4MDAwMDgsIC03OS40MzAzNTQ5OTk5OTk5Nl0sCiAgICAgICAgICAgICAgICB7fQogICAgICAgICAgICApLmFkZFRvKG1hcF9lNDg3YjAzNzQ0YWE0NmIyOTNkNzFiMDc5NjhhNmE3NCk7CiAgICAgICAgCiAgICAKICAgICAgICB2YXIgcG9wdXBfOTE4Njc1YjJkZjE1NDY4NGFjMDI5YjNiMTZlNDFmOTAgPSBMLnBvcHVwKHsibWF4V2lkdGgiOiAiMTAwJSJ9KTsKCiAgICAgICAgCiAgICAgICAgICAgIHZhciBodG1sX2I2MzM3MDdmYmMxZTRhNjI4ZDM3OWIwYjRhYzE3MGQwID0gJChgPGRpdiBpZD0iaHRtbF9iNjMzNzA3ZmJjMWU0YTYyOGQzNzliMGI0YWMxNzBkMCIgc3R5bGU9IndpZHRoOiAxMDAuMCU7IGhlaWdodDogMTAwLjAlOyI+SHVtZXdvb2QtQ2VkYXJ2YWxlPC9kaXY+YClbMF07CiAgICAgICAgICAgIHBvcHVwXzkxODY3NWIyZGYxNTQ2ODRhYzAyOWIzYjE2ZTQxZjkwLnNldENvbnRlbnQoaHRtbF9iNjMzNzA3ZmJjMWU0YTYyOGQzNzliMGI0YWMxNzBkMCk7CiAgICAgICAgCgogICAgICAgIG1hcmtlcl8yMzU2NGNkNzE2ZmQ0NTQ5YmVlMjFjNjlmMzQzNDE1My5iaW5kUG9wdXAocG9wdXBfOTE4Njc1YjJkZjE1NDY4NGFjMDI5YjNiMTZlNDFmOTApCiAgICAgICAgOwoKICAgICAgICAKICAgIAogICAgCiAgICAgICAgICAgIHZhciBtYXJrZXJfMzMzMjlkZDk1ZTdiNDBkYzhhYzE5YTdjNTgxNzAwODggPSBMLm1hcmtlcigKICAgICAgICAgICAgICAgIFs0My42ODg2NDAwMDAwMDAwOCwgLTc5LjQ1MTAxNzYxMzk5OTk3XSwKICAgICAgICAgICAgICAgIHt9CiAgICAgICAgICAgICkuYWRkVG8obWFwX2U0ODdiMDM3NDRhYTQ2YjI5M2Q3MWIwNzk2OGE2YTc0KTsKICAgICAgICAKICAgIAogICAgICAgIHZhciBwb3B1cF84NzFhM2VkODU2ZTM0ZTVmYTg1OTRiYzIyNmIwMjU2NyA9IEwucG9wdXAoeyJtYXhXaWR0aCI6ICIxMDAlIn0pOwoKICAgICAgICAKICAgICAgICAgICAgdmFyIGh0bWxfNzA4YzNlY2MzZDliNDI1YTg4ODIxNmZiZWI4NWJjZGYgPSAkKGA8ZGl2IGlkPSJodG1sXzcwOGMzZWNjM2Q5YjQyNWE4ODgyMTZmYmViODViY2RmIiBzdHlsZT0id2lkdGg6IDEwMC4wJTsgaGVpZ2h0OiAxMDAuMCU7Ij5DYWxlZG9uaWEtRmFpcmJhbmtzPC9kaXY+YClbMF07CiAgICAgICAgICAgIHBvcHVwXzg3MWEzZWQ4NTZlMzRlNWZhODU5NGJjMjI2YjAyNTY3LnNldENvbnRlbnQoaHRtbF83MDhjM2VjYzNkOWI0MjVhODg4MjE2ZmJlYjg1YmNkZik7CiAgICAgICAgCgogICAgICAgIG1hcmtlcl8zMzMyOWRkOTVlN2I0MGRjOGFjMTlhN2M1ODE3MDA4OC5iaW5kUG9wdXAocG9wdXBfODcxYTNlZDg1NmUzNGU1ZmE4NTk0YmMyMjZiMDI1NjcpCiAgICAgICAgOwoKICAgICAgICAKICAgIAogICAgCiAgICAgICAgICAgIHZhciBtYXJrZXJfOWQ4MzYxMzcyMzc0NDA2Njk0NTkwNGYyYTU5NGJjMzMgPSBMLm1hcmtlcigKICAgICAgICAgICAgICAgIFs0My42Njg3ODEzMjgwMDAwOCwgLTc5LjQyMDcwOTk5OTk5OTk5XSwKICAgICAgICAgICAgICAgIHt9CiAgICAgICAgICAgICkuYWRkVG8obWFwX2U0ODdiMDM3NDRhYTQ2YjI5M2Q3MWIwNzk2OGE2YTc0KTsKICAgICAgICAKICAgIAogICAgICAgIHZhciBwb3B1cF84OTFjYTlkMDFkNmM0ODNlOGRhOTUxNGI0MjBlYTk1MCA9IEwucG9wdXAoeyJtYXhXaWR0aCI6ICIxMDAlIn0pOwoKICAgICAgICAKICAgICAgICAgICAgdmFyIGh0bWxfZDAyMTMzYjUzMzhhNGE2NDhlNTcwNjljODBmY2M2NzkgPSAkKGA8ZGl2IGlkPSJodG1sX2QwMjEzM2I1MzM4YTRhNjQ4ZTU3MDY5YzgwZmNjNjc5IiBzdHlsZT0id2lkdGg6IDEwMC4wJTsgaGVpZ2h0OiAxMDAuMCU7Ij5DaHJpc3RpZTwvZGl2PmApWzBdOwogICAgICAgICAgICBwb3B1cF84OTFjYTlkMDFkNmM0ODNlOGRhOTUxNGI0MjBlYTk1MC5zZXRDb250ZW50KGh0bWxfZDAyMTMzYjUzMzhhNGE2NDhlNTcwNjljODBmY2M2NzkpOwogICAgICAgIAoKICAgICAgICBtYXJrZXJfOWQ4MzYxMzcyMzc0NDA2Njk0NTkwNGYyYTU5NGJjMzMuYmluZFBvcHVwKHBvcHVwXzg5MWNhOWQwMWQ2YzQ4M2U4ZGE5NTE0YjQyMGVhOTUwKQogICAgICAgIDsKCiAgICAgICAgCiAgICAKICAgIAogICAgICAgICAgICB2YXIgbWFya2VyXzEyM2FhYTU2Mjc2OTQzMGY4Yzk4OGJjOWRkYWM4MWYxID0gTC5tYXJrZXIoCiAgICAgICAgICAgICAgICBbNDMuNjY1MDg2OTQzMDAwMDYsIC03OS40Mzg3MDQ5OTk5OTk5N10sCiAgICAgICAgICAgICAgICB7fQogICAgICAgICAgICApLmFkZFRvKG1hcF9lNDg3YjAzNzQ0YWE0NmIyOTNkNzFiMDc5NjhhNmE3NCk7CiAgICAgICAgCiAgICAKICAgICAgICB2YXIgcG9wdXBfMWI3NTBmNjAyNjI5NDY3OTgzZTFkMDhlZjc4YTAzOTUgPSBMLnBvcHVwKHsibWF4V2lkdGgiOiAiMTAwJSJ9KTsKCiAgICAgICAgCiAgICAgICAgICAgIHZhciBodG1sX2Q0Y2Y5ZTdlOTY5YTRiYjRiM2Y0MTRhYjA3MDgwMmUwID0gJChgPGRpdiBpZD0iaHRtbF9kNGNmOWU3ZTk2OWE0YmI0YjNmNDE0YWIwNzA4MDJlMCIgc3R5bGU9IndpZHRoOiAxMDAuMCU7IGhlaWdodDogMTAwLjAlOyI+RG92ZXJjb3VydCBWaWxsYWdlLCBEdWZmZXJpbjwvZGl2PmApWzBdOwogICAgICAgICAgICBwb3B1cF8xYjc1MGY2MDI2Mjk0Njc5ODNlMWQwOGVmNzhhMDM5NS5zZXRDb250ZW50KGh0bWxfZDRjZjllN2U5NjlhNGJiNGIzZjQxNGFiMDcwODAyZTApOwogICAgICAgIAoKICAgICAgICBtYXJrZXJfMTIzYWFhNTYyNzY5NDMwZjhjOTg4YmM5ZGRhYzgxZjEuYmluZFBvcHVwKHBvcHVwXzFiNzUwZjYwMjYyOTQ2Nzk4M2UxZDA4ZWY3OGEwMzk1KQogICAgICAgIDsKCiAgICAgICAgCiAgICAKICAgIAogICAgICAgICAgICB2YXIgbWFya2VyX2ZhZWRlNTQ1ZWMxMDQ3ZTg5YzQxYmIxMzM0ODc1OGM0ID0gTC5tYXJrZXIoCiAgICAgICAgICAgICAgICBbNDMuNjQ4NTI1MDAwMDAwMDYsIC03OS40MTc3NTcxMzM5OTk5NF0sCiAgICAgICAgICAgICAgICB7fQogICAgICAgICAgICApLmFkZFRvKG1hcF9lNDg3YjAzNzQ0YWE0NmIyOTNkNzFiMDc5NjhhNmE3NCk7CiAgICAgICAgCiAgICAKICAgICAgICB2YXIgcG9wdXBfOWM5M2Q3ODA5Mzg5NDA3Yjk1NDhmOGEwNDUxNTczMDggPSBMLnBvcHVwKHsibWF4V2lkdGgiOiAiMTAwJSJ9KTsKCiAgICAgICAgCiAgICAgICAgICAgIHZhciBodG1sX2I1MDU1NDI4MjdiZjRjZDY4MDgwMjZhYTMyYmY4NTZjID0gJChgPGRpdiBpZD0iaHRtbF9iNTA1NTQyODI3YmY0Y2Q2ODA4MDI2YWEzMmJmODU2YyIgc3R5bGU9IndpZHRoOiAxMDAuMCU7IGhlaWdodDogMTAwLjAlOyI+TGl0dGxlIFBvcnR1Z2FsLCBUcmluaXR5PC9kaXY+YClbMF07CiAgICAgICAgICAgIHBvcHVwXzljOTNkNzgwOTM4OTQwN2I5NTQ4ZjhhMDQ1MTU3MzA4LnNldENvbnRlbnQoaHRtbF9iNTA1NTQyODI3YmY0Y2Q2ODA4MDI2YWEzMmJmODU2Yyk7CiAgICAgICAgCgogICAgICAgIG1hcmtlcl9mYWVkZTU0NWVjMTA0N2U4OWM0MWJiMTMzNDg3NThjNC5iaW5kUG9wdXAocG9wdXBfOWM5M2Q3ODA5Mzg5NDA3Yjk1NDhmOGEwNDUxNTczMDgpCiAgICAgICAgOwoKICAgICAgICAKICAgIAogICAgCiAgICAgICAgICAgIHZhciBtYXJrZXJfN2VlY2E3YzQ5YmU2NDdkMGE0ZTU1MGE4MTU3NTRmYjQgPSBMLm1hcmtlcigKICAgICAgICAgICAgICAgIFs0My42Mzk0MTAwMDAwMDAwNTUsIC03OS40MjQzNjIwMTk5OTk5OV0sCiAgICAgICAgICAgICAgICB7fQogICAgICAgICAgICApLmFkZFRvKG1hcF9lNDg3YjAzNzQ0YWE0NmIyOTNkNzFiMDc5NjhhNmE3NCk7CiAgICAgICAgCiAgICAKICAgICAgICB2YXIgcG9wdXBfYTUzNTVhYTUwNmZjNDhhYmFjMjhhZTM1MWE3MmUxMTEgPSBMLnBvcHVwKHsibWF4V2lkdGgiOiAiMTAwJSJ9KTsKCiAgICAgICAgCiAgICAgICAgICAgIHZhciBodG1sXzFlZmZkNDg5OTk5MDQyM2ViZDEyN2JmM2FkZmFlZTJlID0gJChgPGRpdiBpZD0iaHRtbF8xZWZmZDQ4OTk5OTA0MjNlYmQxMjdiZjNhZGZhZWUyZSIgc3R5bGU9IndpZHRoOiAxMDAuMCU7IGhlaWdodDogMTAwLjAlOyI+QnJvY2t0b24sIEV4aGliaXRpb24gUGxhY2UsIFBhcmtkYWxlIFZpbGxhZ2U8L2Rpdj5gKVswXTsKICAgICAgICAgICAgcG9wdXBfYTUzNTVhYTUwNmZjNDhhYmFjMjhhZTM1MWE3MmUxMTEuc2V0Q29udGVudChodG1sXzFlZmZkNDg5OTk5MDQyM2ViZDEyN2JmM2FkZmFlZTJlKTsKICAgICAgICAKCiAgICAgICAgbWFya2VyXzdlZWNhN2M0OWJlNjQ3ZDBhNGU1NTBhODE1NzU0ZmI0LmJpbmRQb3B1cChwb3B1cF9hNTM1NWFhNTA2ZmM0OGFiYWMyOGFlMzUxYTcyZTExMSkKICAgICAgICA7CgogICAgICAgIAogICAgCiAgICAKICAgICAgICAgICAgdmFyIG1hcmtlcl82YzgzNjA5ZTI2NmU0ZDE5OTgyNjcxZTg1OWMyOTUyZiA9IEwubWFya2VyKAogICAgICAgICAgICAgICAgWzQzLjcxMzgxMDAwMDAwMDA4LCAtNzkuNDg4MzAwNzY4OTk5OThdLAogICAgICAgICAgICAgICAge30KICAgICAgICAgICAgKS5hZGRUbyhtYXBfZTQ4N2IwMzc0NGFhNDZiMjkzZDcxYjA3OTY4YTZhNzQpOwogICAgICAgIAogICAgCiAgICAgICAgdmFyIHBvcHVwXzRhMTk2NzU3NDRmNzRlZjg4NWIzOGU0N2RjM2JmZDYyID0gTC5wb3B1cCh7Im1heFdpZHRoIjogIjEwMCUifSk7CgogICAgICAgIAogICAgICAgICAgICB2YXIgaHRtbF9jZDdiMTM5MjIzOWY0YzA0YWYyZjViODBiZGE5MDA5ZCA9ICQoYDxkaXYgaWQ9Imh0bWxfY2Q3YjEzOTIyMzlmNGMwNGFmMmY1YjgwYmRhOTAwOWQiIHN0eWxlPSJ3aWR0aDogMTAwLjAlOyBoZWlnaHQ6IDEwMC4wJTsiPkRvd25zdmlldywgTm9ydGggUGFyaywgVXB3b29kIFBhcms8L2Rpdj5gKVswXTsKICAgICAgICAgICAgcG9wdXBfNGExOTY3NTc0NGY3NGVmODg1YjM4ZTQ3ZGMzYmZkNjIuc2V0Q29udGVudChodG1sX2NkN2IxMzkyMjM5ZjRjMDRhZjJmNWI4MGJkYTkwMDlkKTsKICAgICAgICAKCiAgICAgICAgbWFya2VyXzZjODM2MDllMjY2ZTRkMTk5ODI2NzFlODU5YzI5NTJmLmJpbmRQb3B1cChwb3B1cF80YTE5Njc1NzQ0Zjc0ZWY4ODViMzhlNDdkYzNiZmQ2MikKICAgICAgICA7CgogICAgICAgIAogICAgCiAgICAKICAgICAgICAgICAgdmFyIG1hcmtlcl85YmZkNTlkNzg2YzI0MmUzYjUyMDUxYzc3YTRiYjczNSA9IEwubWFya2VyKAogICAgICAgICAgICAgICAgWzQzLjY5NDUzMDAwMDAwMDA0LCAtNzkuNDg0NDg5NDMwOTk5OTldLAogICAgICAgICAgICAgICAge30KICAgICAgICAgICAgKS5hZGRUbyhtYXBfZTQ4N2IwMzc0NGFhNDZiMjkzZDcxYjA3OTY4YTZhNzQpOwogICAgICAgIAogICAgCiAgICAgICAgdmFyIHBvcHVwXzBkYzQ3YTNjMjJiMjQ0MDdhMGIzMjljODk5MTNiMjIxID0gTC5wb3B1cCh7Im1heFdpZHRoIjogIjEwMCUifSk7CgogICAgICAgIAogICAgICAgICAgICB2YXIgaHRtbF85NDI1M2Q1NGUzNWQ0MWU2YjIwYmFlZjZlMzI1MmYzNiA9ICQoYDxkaXYgaWQ9Imh0bWxfOTQyNTNkNTRlMzVkNDFlNmIyMGJhZWY2ZTMyNTJmMzYiIHN0eWxlPSJ3aWR0aDogMTAwLjAlOyBoZWlnaHQ6IDEwMC4wJTsiPkRlbCBSYXksIEtlZWxlc2RhbGUsIE1vdW50IERlbm5pcywgU2lsdmVydGhvcm48L2Rpdj5gKVswXTsKICAgICAgICAgICAgcG9wdXBfMGRjNDdhM2MyMmIyNDQwN2EwYjMyOWM4OTkxM2IyMjEuc2V0Q29udGVudChodG1sXzk0MjUzZDU0ZTM1ZDQxZTZiMjBiYWVmNmUzMjUyZjM2KTsKICAgICAgICAKCiAgICAgICAgbWFya2VyXzliZmQ1OWQ3ODZjMjQyZTNiNTIwNTFjNzdhNGJiNzM1LmJpbmRQb3B1cChwb3B1cF8wZGM0N2EzYzIyYjI0NDA3YTBiMzI5Yzg5OTEzYjIyMSkKICAgICAgICA7CgogICAgICAgIAogICAgCiAgICAKICAgICAgICAgICAgdmFyIG1hcmtlcl9jYmUyOGQxMDUxYjQ0ZjcxYWJmMWU2YzdiNWFlNDU1ZSA9IEwubWFya2VyKAogICAgICAgICAgICAgICAgWzQzLjY3NjEyNTAwMDAwMDA3LCAtNzkuNDgxOTMyMzQwOTk5OTVdLAogICAgICAgICAgICAgICAge30KICAgICAgICAgICAgKS5hZGRUbyhtYXBfZTQ4N2IwMzc0NGFhNDZiMjkzZDcxYjA3OTY4YTZhNzQpOwogICAgICAgIAogICAgCiAgICAgICAgdmFyIHBvcHVwXzhkZGM0M2I0ZDI1OTQ0ZjY5NjE1YzM0Mjc1MTFiYjM0ID0gTC5wb3B1cCh7Im1heFdpZHRoIjogIjEwMCUifSk7CgogICAgICAgIAogICAgICAgICAgICB2YXIgaHRtbF8zMWI1MzZlN2UyYzQ0NWFiOTMwYjI5NWZmMDc5MWE4ZCA9ICQoYDxkaXYgaWQ9Imh0bWxfMzFiNTM2ZTdlMmM0NDVhYjkzMGIyOTVmZjA3OTFhOGQiIHN0eWxlPSJ3aWR0aDogMTAwLjAlOyBoZWlnaHQ6IDEwMC4wJTsiPlRoZSBKdW5jdGlvbiBOb3J0aCwgUnVubnltZWRlPC9kaXY+YClbMF07CiAgICAgICAgICAgIHBvcHVwXzhkZGM0M2I0ZDI1OTQ0ZjY5NjE1YzM0Mjc1MTFiYjM0LnNldENvbnRlbnQoaHRtbF8zMWI1MzZlN2UyYzQ0NWFiOTMwYjI5NWZmMDc5MWE4ZCk7CiAgICAgICAgCgogICAgICAgIG1hcmtlcl9jYmUyOGQxMDUxYjQ0ZjcxYWJmMWU2YzdiNWFlNDU1ZS5iaW5kUG9wdXAocG9wdXBfOGRkYzQzYjRkMjU5NDRmNjk2MTVjMzQyNzUxMWJiMzQpCiAgICAgICAgOwoKICAgICAgICAKICAgIAogICAgCiAgICAgICAgICAgIHZhciBtYXJrZXJfYmU5NmEzN2Q0OWU1NDBiZWI4ODg4Yzc1M2U3YTU1NWIgPSBMLm1hcmtlcigKICAgICAgICAgICAgICAgIFs0My42NTk5MzUwMDAwMDAwNzUsIC03OS40NjMwMTkyNjI5OTk5OF0sCiAgICAgICAgICAgICAgICB7fQogICAgICAgICAgICApLmFkZFRvKG1hcF9lNDg3YjAzNzQ0YWE0NmIyOTNkNzFiMDc5NjhhNmE3NCk7CiAgICAgICAgCiAgICAKICAgICAgICB2YXIgcG9wdXBfNWYyM2RjMGJkNDQ1NGE1YjgwZTEyNGU2ZGJiMzk2YTEgPSBMLnBvcHVwKHsibWF4V2lkdGgiOiAiMTAwJSJ9KTsKCiAgICAgICAgCiAgICAgICAgICAgIHZhciBodG1sX2QxYTYyOWVkNDBhMTRiOTc5NGM0NWIxYzVkMmRhMGMwID0gJChgPGRpdiBpZD0iaHRtbF9kMWE2MjllZDQwYTE0Yjk3OTRjNDViMWM1ZDJkYTBjMCIgc3R5bGU9IndpZHRoOiAxMDAuMCU7IGhlaWdodDogMTAwLjAlOyI+SGlnaCBQYXJrLCBUaGUgSnVuY3Rpb24gU291dGg8L2Rpdj5gKVswXTsKICAgICAgICAgICAgcG9wdXBfNWYyM2RjMGJkNDQ1NGE1YjgwZTEyNGU2ZGJiMzk2YTEuc2V0Q29udGVudChodG1sX2QxYTYyOWVkNDBhMTRiOTc5NGM0NWIxYzVkMmRhMGMwKTsKICAgICAgICAKCiAgICAgICAgbWFya2VyX2JlOTZhMzdkNDllNTQwYmViODg4OGM3NTNlN2E1NTViLmJpbmRQb3B1cChwb3B1cF81ZjIzZGMwYmQ0NDU0YTViODBlMTI0ZTZkYmIzOTZhMSkKICAgICAgICA7CgogICAgICAgIAogICAgCiAgICAKICAgICAgICAgICAgdmFyIG1hcmtlcl82OGY3ZTE0NGEwOTc0Mjg1YjliYjE2NjExYTVjOWUyMyA9IEwubWFya2VyKAogICAgICAgICAgICAgICAgWzQzLjY0Nzg3MDAwMDAwMDA3LCAtNzkuNDQ5Nzc2MTkwOTk5OTZdLAogICAgICAgICAgICAgICAge30KICAgICAgICAgICAgKS5hZGRUbyhtYXBfZTQ4N2IwMzc0NGFhNDZiMjkzZDcxYjA3OTY4YTZhNzQpOwogICAgICAgIAogICAgCiAgICAgICAgdmFyIHBvcHVwXzc4ZjFkOWEwY2Q0NjQ2ZjVhZmI5OGRiZjFhNTdjNDZmID0gTC5wb3B1cCh7Im1heFdpZHRoIjogIjEwMCUifSk7CgogICAgICAgIAogICAgICAgICAgICB2YXIgaHRtbF8wYWRkM2MyMjE2YWE0MjRmOWE0MWVmNDgzMmRkMDM1ZiA9ICQoYDxkaXYgaWQ9Imh0bWxfMGFkZDNjMjIxNmFhNDI0ZjlhNDFlZjQ4MzJkZDAzNWYiIHN0eWxlPSJ3aWR0aDogMTAwLjAlOyBoZWlnaHQ6IDEwMC4wJTsiPlBhcmtkYWxlLCBSb25jZXN2YWxsZXM8L2Rpdj5gKVswXTsKICAgICAgICAgICAgcG9wdXBfNzhmMWQ5YTBjZDQ2NDZmNWFmYjk4ZGJmMWE1N2M0NmYuc2V0Q29udGVudChodG1sXzBhZGQzYzIyMTZhYTQyNGY5YTQxZWY0ODMyZGQwMzVmKTsKICAgICAgICAKCiAgICAgICAgbWFya2VyXzY4ZjdlMTQ0YTA5NzQyODViOWJiMTY2MTFhNWM5ZTIzLmJpbmRQb3B1cChwb3B1cF83OGYxZDlhMGNkNDY0NmY1YWZiOThkYmYxYTU3YzQ2ZikKICAgICAgICA7CgogICAgICAgIAogICAgCiAgICAKICAgICAgICAgICAgdmFyIG1hcmtlcl9mMmUwYTZlMDM5Mzg0NDIyOWZlMjY3ZThjNjVkZDMwZiA9IEwubWFya2VyKAogICAgICAgICAgICAgICAgWzQzLjY0OTYyMDAwMDAwMDAzLCAtNzkuNDc2MTQwODU4OTk5OTRdLAogICAgICAgICAgICAgICAge30KICAgICAgICAgICAgKS5hZGRUbyhtYXBfZTQ4N2IwMzc0NGFhNDZiMjkzZDcxYjA3OTY4YTZhNzQpOwogICAgICAgIAogICAgCiAgICAgICAgdmFyIHBvcHVwX2QzOWIxNDM0YjM0MTRhM2Y4ZjFiOWVkYjY0YjYzYzZjID0gTC5wb3B1cCh7Im1heFdpZHRoIjogIjEwMCUifSk7CgogICAgICAgIAogICAgICAgICAgICB2YXIgaHRtbF85YTY3YWIzNDk4Y2Y0OGE1YWZlOGI4ZTFlY2ZmYzA0OSA9ICQoYDxkaXYgaWQ9Imh0bWxfOWE2N2FiMzQ5OGNmNDhhNWFmZThiOGUxZWNmZmMwNDkiIHN0eWxlPSJ3aWR0aDogMTAwLjAlOyBoZWlnaHQ6IDEwMC4wJTsiPlJ1bm55bWVkZSwgU3dhbnNlYTwvZGl2PmApWzBdOwogICAgICAgICAgICBwb3B1cF9kMzliMTQzNGIzNDE0YTNmOGYxYjllZGI2NGI2M2M2Yy5zZXRDb250ZW50KGh0bWxfOWE2N2FiMzQ5OGNmNDhhNWFmZThiOGUxZWNmZmMwNDkpOwogICAgICAgIAoKICAgICAgICBtYXJrZXJfZjJlMGE2ZTAzOTM4NDQyMjlmZTI2N2U4YzY1ZGQzMGYuYmluZFBvcHVwKHBvcHVwX2QzOWIxNDM0YjM0MTRhM2Y4ZjFiOWVkYjY0YjYzYzZjKQogICAgICAgIDsKCiAgICAgICAgCiAgICAKICAgIAogICAgICAgICAgICB2YXIgbWFya2VyXzg2NGI5NzUyMzBkNDQ1NDNhM2RhNTc0ZGRlZjM2MDJmID0gTC5tYXJrZXIoCiAgICAgICAgICAgICAgICBbNDMuNjYxMTUwMzM1MDAwMDYsIC03OS4zOTE3MTQ5OTk5OTk5OF0sCiAgICAgICAgICAgICAgICB7fQogICAgICAgICAgICApLmFkZFRvKG1hcF9lNDg3YjAzNzQ0YWE0NmIyOTNkNzFiMDc5NjhhNmE3NCk7CiAgICAgICAgCiAgICAKICAgICAgICB2YXIgcG9wdXBfZThjMDJjYzNjZjg2NGRmZTlmZjkzYjM1YTVjMDMxOTggPSBMLnBvcHVwKHsibWF4V2lkdGgiOiAiMTAwJSJ9KTsKCiAgICAgICAgCiAgICAgICAgICAgIHZhciBodG1sXzk5MmU5MGQ5YWU2YTQyYWI5Y2RjZDg3NzBlYWUzZGMyID0gJChgPGRpdiBpZD0iaHRtbF85OTJlOTBkOWFlNmE0MmFiOWNkY2Q4NzcwZWFlM2RjMiIgc3R5bGU9IndpZHRoOiAxMDAuMCU7IGhlaWdodDogMTAwLjAlOyI+UXVlZW4ncyBQYXJrPC9kaXY+YClbMF07CiAgICAgICAgICAgIHBvcHVwX2U4YzAyY2MzY2Y4NjRkZmU5ZmY5M2IzNWE1YzAzMTk4LnNldENvbnRlbnQoaHRtbF85OTJlOTBkOWFlNmE0MmFiOWNkY2Q4NzcwZWFlM2RjMik7CiAgICAgICAgCgogICAgICAgIG1hcmtlcl84NjRiOTc1MjMwZDQ0NTQzYTNkYTU3NGRkZWYzNjAyZi5iaW5kUG9wdXAocG9wdXBfZThjMDJjYzNjZjg2NGRmZTlmZjkzYjM1YTVjMDMxOTgpCiAgICAgICAgOwoKICAgICAgICAKICAgIAogICAgCiAgICAgICAgICAgIHZhciBtYXJrZXJfZjEwYzFiNjIwODM1NDY2MjkzYWQwOTA0NDEzMDIxMzkgPSBMLm1hcmtlcigKICAgICAgICAgICAgICAgIFs0My42NDg2OTAwMDAwMDAwNDUsIC03OS4zODU0Mzk5OTk5OTk5Nl0sCiAgICAgICAgICAgICAgICB7fQogICAgICAgICAgICApLmFkZFRvKG1hcF9lNDg3YjAzNzQ0YWE0NmIyOTNkNzFiMDc5NjhhNmE3NCk7CiAgICAgICAgCiAgICAKICAgICAgICB2YXIgcG9wdXBfYjM3MjFhOWIwZTgwNGZkNzlmYzA5NTMzODlkN2U3ZTEgPSBMLnBvcHVwKHsibWF4V2lkdGgiOiAiMTAwJSJ9KTsKCiAgICAgICAgCiAgICAgICAgICAgIHZhciBodG1sXzQ5Y2I0NmE3MGE4ZjQ5M2VhYjM5NGNhNzBlMDA1NjIyID0gJChgPGRpdiBpZD0iaHRtbF80OWNiNDZhNzBhOGY0OTNlYWIzOTRjYTcwZTAwNTYyMiIgc3R5bGU9IndpZHRoOiAxMDAuMCU7IGhlaWdodDogMTAwLjAlOyI+Q2FuYWRhIFBvc3QgR2F0ZXdheSBQcm9jZXNzaW5nIENlbnRyZTwvZGl2PmApWzBdOwogICAgICAgICAgICBwb3B1cF9iMzcyMWE5YjBlODA0ZmQ3OWZjMDk1MzM4OWQ3ZTdlMS5zZXRDb250ZW50KGh0bWxfNDljYjQ2YTcwYThmNDkzZWFiMzk0Y2E3MGUwMDU2MjIpOwogICAgICAgIAoKICAgICAgICBtYXJrZXJfZjEwYzFiNjIwODM1NDY2MjkzYWQwOTA0NDEzMDIxMzkuYmluZFBvcHVwKHBvcHVwX2IzNzIxYTliMGU4MDRmZDc5ZmMwOTUzMzg5ZDdlN2UxKQogICAgICAgIDsKCiAgICAgICAgCiAgICAKICAgIAogICAgICAgICAgICB2YXIgbWFya2VyX2RhMzljNjA0ZmY0OTQzYmQ4OTAyOWMzNjdjZmQyNjYxID0gTC5tYXJrZXIoCiAgICAgICAgICAgICAgICBbNDMuNjQ4NjkwMDAwMDAwMDQ1LCAtNzkuMzg1NDM5OTk5OTk5OTZdLAogICAgICAgICAgICAgICAge30KICAgICAgICAgICAgKS5hZGRUbyhtYXBfZTQ4N2IwMzc0NGFhNDZiMjkzZDcxYjA3OTY4YTZhNzQpOwogICAgICAgIAogICAgCiAgICAgICAgdmFyIHBvcHVwXzJjM2IwYjlhNjM2NjQ2MGU4YjQ0ZmNiNzNhZDMzYTA0ID0gTC5wb3B1cCh7Im1heFdpZHRoIjogIjEwMCUifSk7CgogICAgICAgIAogICAgICAgICAgICB2YXIgaHRtbF8xZGI0ZjViYzg3NGE0OGI4OTM0NTQyMjZiZmZhMmZjNCA9ICQoYDxkaXYgaWQ9Imh0bWxfMWRiNGY1YmM4NzRhNDhiODkzNDU0MjI2YmZmYTJmYzQiIHN0eWxlPSJ3aWR0aDogMTAwLjAlOyBoZWlnaHQ6IDEwMC4wJTsiPkJ1c2luZXNzIFJlcGx5IE1haWwgUHJvY2Vzc2luZyBDZW50cmUgOTY5IEVhc3Rlcm48L2Rpdj5gKVswXTsKICAgICAgICAgICAgcG9wdXBfMmMzYjBiOWE2MzY2NDYwZThiNDRmY2I3M2FkMzNhMDQuc2V0Q29udGVudChodG1sXzFkYjRmNWJjODc0YTQ4Yjg5MzQ1NDIyNmJmZmEyZmM0KTsKICAgICAgICAKCiAgICAgICAgbWFya2VyX2RhMzljNjA0ZmY0OTQzYmQ4OTAyOWMzNjdjZmQyNjYxLmJpbmRQb3B1cChwb3B1cF8yYzNiMGI5YTYzNjY0NjBlOGI0NGZjYjczYWQzM2EwNCkKICAgICAgICA7CgogICAgICAgIAogICAgCiAgICAKICAgICAgICAgICAgdmFyIG1hcmtlcl8yODZiNTI2NDFhMDU0ZmZkYjk0YjU1OWU2OGU0YmVjNCA9IEwubWFya2VyKAogICAgICAgICAgICAgICAgWzQzLjYxMjIwMDAwMDAwMDAzLCAtNzkuNDk1MTQ1NjkwOTk5OTVdLAogICAgICAgICAgICAgICAge30KICAgICAgICAgICAgKS5hZGRUbyhtYXBfZTQ4N2IwMzc0NGFhNDZiMjkzZDcxYjA3OTY4YTZhNzQpOwogICAgICAgIAogICAgCiAgICAgICAgdmFyIHBvcHVwX2NmZDhkYjM3OTlmNjRlNTc4NDQ0ODNhYTM0YzI0OWQzID0gTC5wb3B1cCh7Im1heFdpZHRoIjogIjEwMCUifSk7CgogICAgICAgIAogICAgICAgICAgICB2YXIgaHRtbF9mMTQ4MDZhMWE4NzY0NDA0OTMyN2U2ODFjYTE1ODI0MCA9ICQoYDxkaXYgaWQ9Imh0bWxfZjE0ODA2YTFhODc2NDQwNDkzMjdlNjgxY2ExNTgyNDAiIHN0eWxlPSJ3aWR0aDogMTAwLjAlOyBoZWlnaHQ6IDEwMC4wJTsiPkh1bWJlciBCYXkgU2hvcmVzLCBNaW1pY28gU291dGgsIE5ldyBUb3JvbnRvPC9kaXY+YClbMF07CiAgICAgICAgICAgIHBvcHVwX2NmZDhkYjM3OTlmNjRlNTc4NDQ0ODNhYTM0YzI0OWQzLnNldENvbnRlbnQoaHRtbF9mMTQ4MDZhMWE4NzY0NDA0OTMyN2U2ODFjYTE1ODI0MCk7CiAgICAgICAgCgogICAgICAgIG1hcmtlcl8yODZiNTI2NDFhMDU0ZmZkYjk0YjU1OWU2OGU0YmVjNC5iaW5kUG9wdXAocG9wdXBfY2ZkOGRiMzc5OWY2NGU1Nzg0NDQ4M2FhMzRjMjQ5ZDMpCiAgICAgICAgOwoKICAgICAgICAKICAgIAogICAgCiAgICAgICAgICAgIHZhciBtYXJrZXJfZDE0MTk4NjkzMzI5NDFmMGFlZWM4ZGJjNzZhMjgxYWQgPSBMLm1hcmtlcigKICAgICAgICAgICAgICAgIFs0My42MDExMzA4MjEwMDAwMywgLTc5LjUzODc4NDk5OTk5OTk2XSwKICAgICAgICAgICAgICAgIHt9CiAgICAgICAgICAgICkuYWRkVG8obWFwX2U0ODdiMDM3NDRhYTQ2YjI5M2Q3MWIwNzk2OGE2YTc0KTsKICAgICAgICAKICAgIAogICAgICAgIHZhciBwb3B1cF9kNTYzMmI4ZTZiZjU0MGNjYjcwOGEwZTZiOWFkYjIyMCA9IEwucG9wdXAoeyJtYXhXaWR0aCI6ICIxMDAlIn0pOwoKICAgICAgICAKICAgICAgICAgICAgdmFyIGh0bWxfNGZhYjI2OWE2MDcyNDIyNjg4YThiOWRjNjliM2U4ZTUgPSAkKGA8ZGl2IGlkPSJodG1sXzRmYWIyNjlhNjA3MjQyMjY4OGE4YjlkYzY5YjNlOGU1IiBzdHlsZT0id2lkdGg6IDEwMC4wJTsgaGVpZ2h0OiAxMDAuMCU7Ij5BbGRlcndvb2QsIExvbmcgQnJhbmNoPC9kaXY+YClbMF07CiAgICAgICAgICAgIHBvcHVwX2Q1NjMyYjhlNmJmNTQwY2NiNzA4YTBlNmI5YWRiMjIwLnNldENvbnRlbnQoaHRtbF80ZmFiMjY5YTYwNzI0MjI2ODhhOGI5ZGM2OWIzZThlNSk7CiAgICAgICAgCgogICAgICAgIG1hcmtlcl9kMTQxOTg2OTMzMjk0MWYwYWVlYzhkYmM3NmEyODFhZC5iaW5kUG9wdXAocG9wdXBfZDU2MzJiOGU2YmY1NDBjY2I3MDhhMGU2YjlhZGIyMjApCiAgICAgICAgOwoKICAgICAgICAKICAgIAogICAgCiAgICAgICAgICAgIHZhciBtYXJrZXJfOWJiYzkxZDMyNTc3NDYxYjk0ZGUzMGU4MzI1NmE2YmYgPSBMLm1hcmtlcigKICAgICAgICAgICAgICAgIFs0My42NTM3NjAwMDAwMDAwMzQsIC03OS41MTA4OTAwNDE5OTk5N10sCiAgICAgICAgICAgICAgICB7fQogICAgICAgICAgICApLmFkZFRvKG1hcF9lNDg3YjAzNzQ0YWE0NmIyOTNkNzFiMDc5NjhhNmE3NCk7CiAgICAgICAgCiAgICAKICAgICAgICB2YXIgcG9wdXBfN2YxOWIzOGExYTlmNDI5ZGE0NDRlY2RiZjc5OWM1MTQgPSBMLnBvcHVwKHsibWF4V2lkdGgiOiAiMTAwJSJ9KTsKCiAgICAgICAgCiAgICAgICAgICAgIHZhciBodG1sX2I0ZWI4NmViZDQzNDRlNDg4YzcyZmQ3NmM0MmUwMTVmID0gJChgPGRpdiBpZD0iaHRtbF9iNGViODZlYmQ0MzQ0ZTQ4OGM3MmZkNzZjNDJlMDE1ZiIgc3R5bGU9IndpZHRoOiAxMDAuMCU7IGhlaWdodDogMTAwLjAlOyI+VGhlIEtpbmdzd2F5LCBNb250Z29tZXJ5IFJvYWQsIE9sZCBNaWxsIE5vcnRoPC9kaXY+YClbMF07CiAgICAgICAgICAgIHBvcHVwXzdmMTliMzhhMWE5ZjQyOWRhNDQ0ZWNkYmY3OTljNTE0LnNldENvbnRlbnQoaHRtbF9iNGViODZlYmQ0MzQ0ZTQ4OGM3MmZkNzZjNDJlMDE1Zik7CiAgICAgICAgCgogICAgICAgIG1hcmtlcl85YmJjOTFkMzI1Nzc0NjFiOTRkZTMwZTgzMjU2YTZiZi5iaW5kUG9wdXAocG9wdXBfN2YxOWIzOGExYTlmNDI5ZGE0NDRlY2RiZjc5OWM1MTQpCiAgICAgICAgOwoKICAgICAgICAKICAgIAogICAgCiAgICAgICAgICAgIHZhciBtYXJrZXJfN2Q1NjVlZDU2NTdhNDA1YWJjODMxYzU2MjNmMGE5ZDUgPSBMLm1hcmtlcigKICAgICAgICAgICAgICAgIFs0My42MzI4MzUwMDAwMDAwNiwgLTc5LjQ4OTU1MDQ0NTk5OTk1XSwKICAgICAgICAgICAgICAgIHt9CiAgICAgICAgICAgICkuYWRkVG8obWFwX2U0ODdiMDM3NDRhYTQ2YjI5M2Q3MWIwNzk2OGE2YTc0KTsKICAgICAgICAKICAgIAogICAgICAgIHZhciBwb3B1cF9kMmUxZWVmNDk1ODM0YmUwOGVlZjMzNjUwZDc1YmQ0NSA9IEwucG9wdXAoeyJtYXhXaWR0aCI6ICIxMDAlIn0pOwoKICAgICAgICAKICAgICAgICAgICAgdmFyIGh0bWxfNDlkODZjYzE3NWY1NDRiOTkzZjU0NjQ2OTdhZGZhNWUgPSAkKGA8ZGl2IGlkPSJodG1sXzQ5ZDg2Y2MxNzVmNTQ0Yjk5M2Y1NDY0Njk3YWRmYTVlIiBzdHlsZT0id2lkdGg6IDEwMC4wJTsgaGVpZ2h0OiAxMDAuMCU7Ij5IdW1iZXIgQmF5LCBLaW5nJ3MgTWlsbCBQYXJrLCBLaW5nc3dheSBQYXJrIFNvdXRoIEVhc3QsIE1pbWljbyBORSwgT2xkIE1pbGwgU291dGgsIFRoZSBRdWVlbnN3YXkgRWFzdCwgUm95YWwgWW9yayBTb3V0aCBFYXN0LCBTdW5ueWxlYTwvZGl2PmApWzBdOwogICAgICAgICAgICBwb3B1cF9kMmUxZWVmNDk1ODM0YmUwOGVlZjMzNjUwZDc1YmQ0NS5zZXRDb250ZW50KGh0bWxfNDlkODZjYzE3NWY1NDRiOTkzZjU0NjQ2OTdhZGZhNWUpOwogICAgICAgIAoKICAgICAgICBtYXJrZXJfN2Q1NjVlZDU2NTdhNDA1YWJjODMxYzU2MjNmMGE5ZDUuYmluZFBvcHVwKHBvcHVwX2QyZTFlZWY0OTU4MzRiZTA4ZWVmMzM2NTBkNzViZDQ1KQogICAgICAgIDsKCiAgICAgICAgCiAgICAKICAgIAogICAgICAgICAgICB2YXIgbWFya2VyXzkyODc1ZWU5NzMyNjQzN2RiZDA2OGY3NjA5NGE3ZjEyID0gTC5tYXJrZXIoCiAgICAgICAgICAgICAgICBbNDMuNjI0NjMwMDAwMDAwMDI1LCAtNzkuNTI2OTQ5NzYxOTk5OTZdLAogICAgICAgICAgICAgICAge30KICAgICAgICAgICAgKS5hZGRUbyhtYXBfZTQ4N2IwMzc0NGFhNDZiMjkzZDcxYjA3OTY4YTZhNzQpOwogICAgICAgIAogICAgCiAgICAgICAgdmFyIHBvcHVwX2EwMDhiNjVmYTE4ZjRhMmRhMTk4ZTg5ZGEzNWQyN2UyID0gTC5wb3B1cCh7Im1heFdpZHRoIjogIjEwMCUifSk7CgogICAgICAgIAogICAgICAgICAgICB2YXIgaHRtbF9hM2IwMTZkYjBjZDM0NjY0YmYwZmJiNjc2ZTNjZWZkOSA9ICQoYDxkaXYgaWQ9Imh0bWxfYTNiMDE2ZGIwY2QzNDY2NGJmMGZiYjY3NmUzY2VmZDkiIHN0eWxlPSJ3aWR0aDogMTAwLjAlOyBoZWlnaHQ6IDEwMC4wJTsiPktpbmdzd2F5IFBhcmsgU291dGggV2VzdCwgTWltaWNvIE5XLCBUaGUgUXVlZW5zd2F5IFdlc3QsIFJveWFsIFlvcmsgU291dGggV2VzdCwgU291dGggb2YgQmxvb3I8L2Rpdj5gKVswXTsKICAgICAgICAgICAgcG9wdXBfYTAwOGI2NWZhMThmNGEyZGExOThlODlkYTM1ZDI3ZTIuc2V0Q29udGVudChodG1sX2EzYjAxNmRiMGNkMzQ2NjRiZjBmYmI2NzZlM2NlZmQ5KTsKICAgICAgICAKCiAgICAgICAgbWFya2VyXzkyODc1ZWU5NzMyNjQzN2RiZDA2OGY3NjA5NGE3ZjEyLmJpbmRQb3B1cChwb3B1cF9hMDA4YjY1ZmExOGY0YTJkYTE5OGU4OWRhMzVkMjdlMikKICAgICAgICA7CgogICAgICAgIAogICAgCiAgICAKICAgICAgICAgICAgdmFyIG1hcmtlcl82NDBiNzM2MTA0NWM0ZGYyYjkzMWRiYzg1NmU2MzIyYyA9IEwubWFya2VyKAogICAgICAgICAgICAgICAgWzQzLjY2MjI5OTA4MzAwMDA1LCAtNzkuNTI4MTk0OTk5OTk5OThdLAogICAgICAgICAgICAgICAge30KICAgICAgICAgICAgKS5hZGRUbyhtYXBfZTQ4N2IwMzc0NGFhNDZiMjkzZDcxYjA3OTY4YTZhNzQpOwogICAgICAgIAogICAgCiAgICAgICAgdmFyIHBvcHVwX2I1MzI4YmExNDg0MTRmOTM5MTQwMzQzYjMwYzQyM2FlID0gTC5wb3B1cCh7Im1heFdpZHRoIjogIjEwMCUifSk7CgogICAgICAgIAogICAgICAgICAgICB2YXIgaHRtbF8xZjg5NzMzM2Y3MGY0MzcwYjI3OWYyYjIxZGE1ZGQzMSA9ICQoYDxkaXYgaWQ9Imh0bWxfMWY4OTczMzNmNzBmNDM3MGIyNzlmMmIyMWRhNWRkMzEiIHN0eWxlPSJ3aWR0aDogMTAwLjAlOyBoZWlnaHQ6IDEwMC4wJTsiPlF1ZWVuJ3MgUGFyazwvZGl2PmApWzBdOwogICAgICAgICAgICBwb3B1cF9iNTMyOGJhMTQ4NDE0ZjkzOTE0MDM0M2IzMGM0MjNhZS5zZXRDb250ZW50KGh0bWxfMWY4OTczMzNmNzBmNDM3MGIyNzlmMmIyMWRhNWRkMzEpOwogICAgICAgIAoKICAgICAgICBtYXJrZXJfNjQwYjczNjEwNDVjNGRmMmI5MzFkYmM4NTZlNjMyMmMuYmluZFBvcHVwKHBvcHVwX2I1MzI4YmExNDg0MTRmOTM5MTQwMzQzYjMwYzQyM2FlKQogICAgICAgIDsKCiAgICAgICAgCiAgICAKICAgIAogICAgICAgICAgICB2YXIgbWFya2VyXzJmNjUyYjk2OGFiZDQxNDE4M2EwYTA4ODA2MWZmYTU1ID0gTC5tYXJrZXIoCiAgICAgICAgICAgICAgICBbNDMuNjUwMzQ2OTgxMDAwMDQsIC03OS41NTUwMzk5OTk5OTk5Nl0sCiAgICAgICAgICAgICAgICB7fQogICAgICAgICAgICApLmFkZFRvKG1hcF9lNDg3YjAzNzQ0YWE0NmIyOTNkNzFiMDc5NjhhNmE3NCk7CiAgICAgICAgCiAgICAKICAgICAgICB2YXIgcG9wdXBfYjY2Njc4Y2RlYzliNDhkYTllMWJkZWI1MGJkYTIyMzEgPSBMLnBvcHVwKHsibWF4V2lkdGgiOiAiMTAwJSJ9KTsKCiAgICAgICAgCiAgICAgICAgICAgIHZhciBodG1sXzIwN2FmZWJiZWZjNDQ1MTFhMTJhNjNhNzg0NzQ0M2Y0ID0gJChgPGRpdiBpZD0iaHRtbF8yMDdhZmViYmVmYzQ0NTExYTEyYTYzYTc4NDc0NDNmNCIgc3R5bGU9IndpZHRoOiAxMDAuMCU7IGhlaWdodDogMTAwLjAlOyI+Q2xvdmVyZGFsZSwgSXNsaW5ndG9uLCBNYXJ0aW4gR3JvdmUsIFByaW5jZXNzIEdhcmRlbnMsIFdlc3QgRGVhbmUgUGFyazwvZGl2PmApWzBdOwogICAgICAgICAgICBwb3B1cF9iNjY2NzhjZGVjOWI0OGRhOWUxYmRlYjUwYmRhMjIzMS5zZXRDb250ZW50KGh0bWxfMjA3YWZlYmJlZmM0NDUxMWExMmE2M2E3ODQ3NDQzZjQpOwogICAgICAgIAoKICAgICAgICBtYXJrZXJfMmY2NTJiOTY4YWJkNDE0MTgzYTBhMDg4MDYxZmZhNTUuYmluZFBvcHVwKHBvcHVwX2I2NjY3OGNkZWM5YjQ4ZGE5ZTFiZGViNTBiZGEyMjMxKQogICAgICAgIDsKCiAgICAgICAgCiAgICAKICAgIAogICAgICAgICAgICB2YXIgbWFya2VyX2I1ZjJmMWNhM2FiYjQxYTE5Y2JmYjgzZTk2MzliZTVhID0gTC5tYXJrZXIoCiAgICAgICAgICAgICAgICBbNDMuNjQ4NTczNDQ5MDAwMDI1LCAtNzkuNTc4MjQ5OTk5OTk5OTddLAogICAgICAgICAgICAgICAge30KICAgICAgICAgICAgKS5hZGRUbyhtYXBfZTQ4N2IwMzc0NGFhNDZiMjkzZDcxYjA3OTY4YTZhNzQpOwogICAgICAgIAogICAgCiAgICAgICAgdmFyIHBvcHVwX2I5NzM1YTQ5NDMwYjQxZjdhODFhMTE1NjAxMjE4NGFhID0gTC5wb3B1cCh7Im1heFdpZHRoIjogIjEwMCUifSk7CgogICAgICAgIAogICAgICAgICAgICB2YXIgaHRtbF9hYTA4OTVhNGU5YTM0NjM4OTcwY2Q2YThlN2E1MDcxYyA9ICQoYDxkaXYgaWQ9Imh0bWxfYWEwODk1YTRlOWEzNDYzODk3MGNkNmE4ZTdhNTA3MWMiIHN0eWxlPSJ3aWR0aDogMTAwLjAlOyBoZWlnaHQ6IDEwMC4wJTsiPkJsb29yZGFsZSBHYXJkZW5zLCBFcmluZ2F0ZSwgTWFya2xhbmQgV29vZCwgT2xkIEJ1cm5oYW10aG9ycGU8L2Rpdj5gKVswXTsKICAgICAgICAgICAgcG9wdXBfYjk3MzVhNDk0MzBiNDFmN2E4MWExMTU2MDEyMTg0YWEuc2V0Q29udGVudChodG1sX2FhMDg5NWE0ZTlhMzQ2Mzg5NzBjZDZhOGU3YTUwNzFjKTsKICAgICAgICAKCiAgICAgICAgbWFya2VyX2I1ZjJmMWNhM2FiYjQxYTE5Y2JmYjgzZTk2MzliZTVhLmJpbmRQb3B1cChwb3B1cF9iOTczNWE0OTQzMGI0MWY3YTgxYTExNTYwMTIxODRhYSkKICAgICAgICA7CgogICAgICAgIAogICAgCiAgICAKICAgICAgICAgICAgdmFyIG1hcmtlcl85MTM5NGExOWU1Mzg0MWZhYjhhOThhOGZhNDQxYTVjYiA9IEwubWFya2VyKAogICAgICAgICAgICAgICAgWzQzLjc1OTUwMDAwMDAwMDA2LCAtNzkuNTU3MDI3ODU2OTk5OThdLAogICAgICAgICAgICAgICAge30KICAgICAgICAgICAgKS5hZGRUbyhtYXBfZTQ4N2IwMzc0NGFhNDZiMjkzZDcxYjA3OTY4YTZhNzQpOwogICAgICAgIAogICAgCiAgICAgICAgdmFyIHBvcHVwXzhhZjQ0NDUzODMxOTQ1ZmRhMmRlOTY1OThjMDJhMGJkID0gTC5wb3B1cCh7Im1heFdpZHRoIjogIjEwMCUifSk7CgogICAgICAgIAogICAgICAgICAgICB2YXIgaHRtbF9iZjlhYTAxY2NhYWU0M2Q5YmYwNzRhZjg3OTYxODcyMiA9ICQoYDxkaXYgaWQ9Imh0bWxfYmY5YWEwMWNjYWFlNDNkOWJmMDc0YWY4Nzk2MTg3MjIiIHN0eWxlPSJ3aWR0aDogMTAwLjAlOyBoZWlnaHQ6IDEwMC4wJTsiPkh1bWJlciBTdW1taXQ8L2Rpdj5gKVswXTsKICAgICAgICAgICAgcG9wdXBfOGFmNDQ0NTM4MzE5NDVmZGEyZGU5NjU5OGMwMmEwYmQuc2V0Q29udGVudChodG1sX2JmOWFhMDFjY2FhZTQzZDliZjA3NGFmODc5NjE4NzIyKTsKICAgICAgICAKCiAgICAgICAgbWFya2VyXzkxMzk0YTE5ZTUzODQxZmFiOGE5OGE4ZmE0NDFhNWNiLmJpbmRQb3B1cChwb3B1cF84YWY0NDQ1MzgzMTk0NWZkYTJkZTk2NTk4YzAyYTBiZCkKICAgICAgICA7CgogICAgICAgIAogICAgCiAgICAKICAgICAgICAgICAgdmFyIG1hcmtlcl9hYzAxYmJkOTI0MmY0YWY0YmRiMmNlZjQxMjJlNmVhOCA9IEwubWFya2VyKAogICAgICAgICAgICAgICAgWzQzLjczMzcwNTAwMDAwMDA0LCAtNzkuNTM3NTA3Njg1OTk5OTddLAogICAgICAgICAgICAgICAge30KICAgICAgICAgICAgKS5hZGRUbyhtYXBfZTQ4N2IwMzc0NGFhNDZiMjkzZDcxYjA3OTY4YTZhNzQpOwogICAgICAgIAogICAgCiAgICAgICAgdmFyIHBvcHVwXzczZmEyNjRhOTY0MjQzMzQ4YmM5Nzk5MzE0NWE3YzY1ID0gTC5wb3B1cCh7Im1heFdpZHRoIjogIjEwMCUifSk7CgogICAgICAgIAogICAgICAgICAgICB2YXIgaHRtbF9iZmM1NmI0MjUxYTk0NjExOTExMjExYmU0ZDA5Y2Y3MyA9ICQoYDxkaXYgaWQ9Imh0bWxfYmZjNTZiNDI1MWE5NDYxMTkxMTIxMWJlNGQwOWNmNzMiIHN0eWxlPSJ3aWR0aDogMTAwLjAlOyBoZWlnaHQ6IDEwMC4wJTsiPkVtZXJ5LCBIdW1iZXJsZWE8L2Rpdj5gKVswXTsKICAgICAgICAgICAgcG9wdXBfNzNmYTI2NGE5NjQyNDMzNDhiYzk3OTkzMTQ1YTdjNjUuc2V0Q29udGVudChodG1sX2JmYzU2YjQyNTFhOTQ2MTE5MTEyMTFiZTRkMDljZjczKTsKICAgICAgICAKCiAgICAgICAgbWFya2VyX2FjMDFiYmQ5MjQyZjRhZjRiZGIyY2VmNDEyMmU2ZWE4LmJpbmRQb3B1cChwb3B1cF83M2ZhMjY0YTk2NDI0MzM0OGJjOTc5OTMxNDVhN2M2NSkKICAgICAgICA7CgogICAgICAgIAogICAgCiAgICAKICAgICAgICAgICAgdmFyIG1hcmtlcl81ZmU3MmQwYWRjNmU0MTk2YTA3NTI2YmY5NTgzNDJjOCA9IEwubWFya2VyKAogICAgICAgICAgICAgICAgWzQzLjcwNDg0NTAwMDAwMDAzNCwgLTc5LjUxNzU0NjAxNTk5OTk4XSwKICAgICAgICAgICAgICAgIHt9CiAgICAgICAgICAgICkuYWRkVG8obWFwX2U0ODdiMDM3NDRhYTQ2YjI5M2Q3MWIwNzk2OGE2YTc0KTsKICAgICAgICAKICAgIAogICAgICAgIHZhciBwb3B1cF9iNzMxMWMzZmMxODA0ZTc2YTZjM2M0OWYzNGRiMGExYyA9IEwucG9wdXAoeyJtYXhXaWR0aCI6ICIxMDAlIn0pOwoKICAgICAgICAKICAgICAgICAgICAgdmFyIGh0bWxfZTdjYzM3NjQ2NWI4NDAxZGI3OGIxYThjZTdlOWJlNGYgPSAkKGA8ZGl2IGlkPSJodG1sX2U3Y2MzNzY0NjViODQwMWRiNzhiMWE4Y2U3ZTliZTRmIiBzdHlsZT0id2lkdGg6IDEwMC4wJTsgaGVpZ2h0OiAxMDAuMCU7Ij5XZXN0b248L2Rpdj5gKVswXTsKICAgICAgICAgICAgcG9wdXBfYjczMTFjM2ZjMTgwNGU3NmE2YzNjNDlmMzRkYjBhMWMuc2V0Q29udGVudChodG1sX2U3Y2MzNzY0NjViODQwMWRiNzhiMWE4Y2U3ZTliZTRmKTsKICAgICAgICAKCiAgICAgICAgbWFya2VyXzVmZTcyZDBhZGM2ZTQxOTZhMDc1MjZiZjk1ODM0MmM4LmJpbmRQb3B1cChwb3B1cF9iNzMxMWMzZmMxODA0ZTc2YTZjM2M0OWYzNGRiMGExYykKICAgICAgICA7CgogICAgICAgIAogICAgCiAgICAKICAgICAgICAgICAgdmFyIG1hcmtlcl8zNjlkMTQyZDc4NjM0MDdjYTE4MjdiYWE4MjlmNDU1ZCA9IEwubWFya2VyKAogICAgICAgICAgICAgICAgWzQzLjY5NjUwNTAwMDAwMDA2LCAtNzkuNTMwMjUyMzM3OTk5OTddLAogICAgICAgICAgICAgICAge30KICAgICAgICAgICAgKS5hZGRUbyhtYXBfZTQ4N2IwMzc0NGFhNDZiMjkzZDcxYjA3OTY4YTZhNzQpOwogICAgICAgIAogICAgCiAgICAgICAgdmFyIHBvcHVwX2Q0YjIxMTQ0M2ViNzRkNzg4ZmVjMDg1ZDEzMzZhZWJmID0gTC5wb3B1cCh7Im1heFdpZHRoIjogIjEwMCUifSk7CgogICAgICAgIAogICAgICAgICAgICB2YXIgaHRtbF81N2U2NzhmZjU0Njc0OGFjOWY0NTkxMjQzOGUwNzJiNyA9ICQoYDxkaXYgaWQ9Imh0bWxfNTdlNjc4ZmY1NDY3NDhhYzlmNDU5MTI0MzhlMDcyYjciIHN0eWxlPSJ3aWR0aDogMTAwLjAlOyBoZWlnaHQ6IDEwMC4wJTsiPldlc3Rtb3VudDwvZGl2PmApWzBdOwogICAgICAgICAgICBwb3B1cF9kNGIyMTE0NDNlYjc0ZDc4OGZlYzA4NWQxMzM2YWViZi5zZXRDb250ZW50KGh0bWxfNTdlNjc4ZmY1NDY3NDhhYzlmNDU5MTI0MzhlMDcyYjcpOwogICAgICAgIAoKICAgICAgICBtYXJrZXJfMzY5ZDE0MmQ3ODYzNDA3Y2ExODI3YmFhODI5ZjQ1NWQuYmluZFBvcHVwKHBvcHVwX2Q0YjIxMTQ0M2ViNzRkNzg4ZmVjMDg1ZDEzMzZhZWJmKQogICAgICAgIDsKCiAgICAgICAgCiAgICAKICAgIAogICAgICAgICAgICB2YXIgbWFya2VyXzI5ZmFhMjdiNDk1MzRlZTY4ZGZiMTAxOWJiYjQ1YmQ3ID0gTC5tYXJrZXIoCiAgICAgICAgICAgICAgICBbNDMuNjg2ODEwMDAwMDAwMDQsIC03OS41NTcyODM1NDA5OTk5NV0sCiAgICAgICAgICAgICAgICB7fQogICAgICAgICAgICApLmFkZFRvKG1hcF9lNDg3YjAzNzQ0YWE0NmIyOTNkNzFiMDc5NjhhNmE3NCk7CiAgICAgICAgCiAgICAKICAgICAgICB2YXIgcG9wdXBfMDliZmNhM2MxMmMzNDZmNThmNWJjMjE5YTFmZmZiOTEgPSBMLnBvcHVwKHsibWF4V2lkdGgiOiAiMTAwJSJ9KTsKCiAgICAgICAgCiAgICAgICAgICAgIHZhciBodG1sX2EwMWUzZjk2YjFmNTQ5Mzc4MzNiY2EzNzQ3NTk1MWFhID0gJChgPGRpdiBpZD0iaHRtbF9hMDFlM2Y5NmIxZjU0OTM3ODMzYmNhMzc0NzU5NTFhYSIgc3R5bGU9IndpZHRoOiAxMDAuMCU7IGhlaWdodDogMTAwLjAlOyI+S2luZ3N2aWV3IFZpbGxhZ2UsIE1hcnRpbiBHcm92ZSBHYXJkZW5zLCBSaWNodmlldyBHYXJkZW5zLCBTdC4gUGhpbGxpcHM8L2Rpdj5gKVswXTsKICAgICAgICAgICAgcG9wdXBfMDliZmNhM2MxMmMzNDZmNThmNWJjMjE5YTFmZmZiOTEuc2V0Q29udGVudChodG1sX2EwMWUzZjk2YjFmNTQ5Mzc4MzNiY2EzNzQ3NTk1MWFhKTsKICAgICAgICAKCiAgICAgICAgbWFya2VyXzI5ZmFhMjdiNDk1MzRlZTY4ZGZiMTAxOWJiYjQ1YmQ3LmJpbmRQb3B1cChwb3B1cF8wOWJmY2EzYzEyYzM0NmY1OGY1YmMyMTlhMWZmZmI5MSkKICAgICAgICA7CgogICAgICAgIAogICAgCiAgICAKICAgICAgICAgICAgdmFyIG1hcmtlcl84MDljZDhiYTc5NGU0MDM4OTBmOTYyZGZmMTUwOTRlZiA9IEwubWFya2VyKAogICAgICAgICAgICAgICAgWzQzLjc0MzE0NTAwMDAwMDAzLCAtNzkuNTg0NjYzODk2OTk5OThdLAogICAgICAgICAgICAgICAge30KICAgICAgICAgICAgKS5hZGRUbyhtYXBfZTQ4N2IwMzc0NGFhNDZiMjkzZDcxYjA3OTY4YTZhNzQpOwogICAgICAgIAogICAgCiAgICAgICAgdmFyIHBvcHVwXzUzMzgyNDJiMWNkOTRkMDk5NjM4MjU4YWRiOGE0N2VkID0gTC5wb3B1cCh7Im1heFdpZHRoIjogIjEwMCUifSk7CgogICAgICAgIAogICAgICAgICAgICB2YXIgaHRtbF8zNThlYTAyYWEyNDI0ZDU3YTRmMzNjZWMyMWNhMTQ5MyA9ICQoYDxkaXYgaWQ9Imh0bWxfMzU4ZWEwMmFhMjQyNGQ1N2E0ZjMzY2VjMjFjYTE0OTMiIHN0eWxlPSJ3aWR0aDogMTAwLjAlOyBoZWlnaHQ6IDEwMC4wJTsiPkFsYmlvbiBHYXJkZW5zLCBCZWF1bW9uZCBIZWlnaHRzLCBIdW1iZXJnYXRlLCBKYW1lc3Rvd24sIE1vdW50IE9saXZlLCBTaWx2ZXJzdG9uZSwgU291dGggU3RlZWxlcywgVGhpc3RsZXRvd248L2Rpdj5gKVswXTsKICAgICAgICAgICAgcG9wdXBfNTMzODI0MmIxY2Q5NGQwOTk2MzgyNThhZGI4YTQ3ZWQuc2V0Q29udGVudChodG1sXzM1OGVhMDJhYTI0MjRkNTdhNGYzM2NlYzIxY2ExNDkzKTsKICAgICAgICAKCiAgICAgICAgbWFya2VyXzgwOWNkOGJhNzk0ZTQwMzg5MGY5NjJkZmYxNTA5NGVmLmJpbmRQb3B1cChwb3B1cF81MzM4MjQyYjFjZDk0ZDA5OTYzODI1OGFkYjhhNDdlZCkKICAgICAgICA7CgogICAgICAgIAogICAgCiAgICAKICAgICAgICAgICAgdmFyIG1hcmtlcl80MGUyNDU4ODgxZWI0M2E3OTk4ZDRjOTU0NmMxNTgyNyA9IEwubWFya2VyKAogICAgICAgICAgICAgICAgWzQzLjcxMTc0MDAwMDAwMDA4LCAtNzkuNTc5MTgxMzQ1OTk5OThdLAogICAgICAgICAgICAgICAge30KICAgICAgICAgICAgKS5hZGRUbyhtYXBfZTQ4N2IwMzc0NGFhNDZiMjkzZDcxYjA3OTY4YTZhNzQpOwogICAgICAgIAogICAgCiAgICAgICAgdmFyIHBvcHVwXzdlY2FlZDI3MThiOTQ1Y2E4ZWU1Y2EwNDYyNzljZThiID0gTC5wb3B1cCh7Im1heFdpZHRoIjogIjEwMCUifSk7CgogICAgICAgIAogICAgICAgICAgICB2YXIgaHRtbF8wZjczOGZlOWM3ODk0ZjBkOGZjMTQ0N2IzOTZlYTczMSA9ICQoYDxkaXYgaWQ9Imh0bWxfMGY3MzhmZTljNzg5NGYwZDhmYzE0NDdiMzk2ZWE3MzEiIHN0eWxlPSJ3aWR0aDogMTAwLjAlOyBoZWlnaHQ6IDEwMC4wJTsiPk5vcnRod2VzdDwvZGl2PmApWzBdOwogICAgICAgICAgICBwb3B1cF83ZWNhZWQyNzE4Yjk0NWNhOGVlNWNhMDQ2Mjc5Y2U4Yi5zZXRDb250ZW50KGh0bWxfMGY3MzhmZTljNzg5NGYwZDhmYzE0NDdiMzk2ZWE3MzEpOwogICAgICAgIAoKICAgICAgICBtYXJrZXJfNDBlMjQ1ODg4MWViNDNhNzk5OGQ0Yzk1NDZjMTU4MjcuYmluZFBvcHVwKHBvcHVwXzdlY2FlZDI3MThiOTQ1Y2E4ZWU1Y2EwNDYyNzljZThiKQogICAgICAgIDsKCiAgICAgICAgCiAgICAKPC9zY3JpcHQ+\" style=\"position:absolute;width:100%;height:100%;left:0;top:0;border:none !important;\" allowfullscreen webkitallowfullscreen mozallowfullscreen></iframe></div></div>"
      ],
      "text/plain": [
       "<folium.folium.Map at 0x1e22a306240>"
      ]
     },
     "execution_count": 15,
     "metadata": {},
     "output_type": "execute_result"
    }
   ],
   "source": [
    "map_toronto = folium.Map(location=center, zoom_start=11) # Initialize the map\n",
    "\n",
    "for index, row in toronto_data.iterrows(): # Add the neighbourhoods\n",
    "    folium.Marker([row['Latitude'], row['Longitude']],\n",
    "        popup=row['Neighbourhood']\n",
    "    ).add_to(map_toronto)\n",
    "    \n",
    "map_toronto # Display the map. Note that this will not show on Github. Use a Notebook viewer online"
   ]
  },
  {
   "cell_type": "markdown",
   "metadata": {},
   "source": [
    "#### Defining Foursquare API Credentials and Version"
   ]
  },
  {
   "cell_type": "code",
   "execution_count": 16,
   "metadata": {},
   "outputs": [],
   "source": [
    "CLIENT_ID = '4VPWXU0OLOV2JJDGVKMQFZREWFNZUZEWIQFLH0OJTPF2MGRW'\n",
    "CLIENT_SECRET = 'GWL2IKBB51O5WTLOIK4IPZI5NILY4IKN52WZA4CACSOF1WBW'\n",
    "VERSION = '20200114' # Foursquare API version"
   ]
  },
  {
   "cell_type": "markdown",
   "metadata": {},
   "source": [
    "#### We get the list of breakfast restaurants that are in each neighbourhood within a radius of 2 kilometers. A radius of this choice is so that the larger neighbourhoods are better covered. There will be duplicates among the smaller neighbourhoods but this will be taken care of"
   ]
  },
  {
   "cell_type": "code",
   "execution_count": 30,
   "metadata": {},
   "outputs": [],
   "source": [
    "import requests\n",
    "radius = 2000\n",
    "LIMIT = 50\n",
    "query = \"breakfast\""
   ]
  },
  {
   "cell_type": "code",
   "execution_count": 31,
   "metadata": {},
   "outputs": [],
   "source": [
    "# Function to accomplish this\n",
    "def getNearbyBreakfastRestaurants(names, latitudes, longitudes, radius=2000):\n",
    "    venues_list = []\n",
    "    \n",
    "    for name, lat, lng in zip(names, latitudes, longitudes):\n",
    "        # create the API request URL\n",
    "        url = 'https://api.foursquare.com/v2/venues/explore?&client_id={}&client_secret={}&v={}&ll={},{}&radius={}&limit={}&query={}'.format(\n",
    "            CLIENT_ID, \n",
    "            CLIENT_SECRET, \n",
    "            VERSION, \n",
    "            lat, \n",
    "            lng, \n",
    "            radius, \n",
    "            LIMIT, \n",
    "            query\n",
    "        )\n",
    "            \n",
    "        # make the GET request\n",
    "        results = requests.get(url).json()[\"response\"]['groups'][0]['items']\n",
    "        \n",
    "        # return only relevant information for each nearby venue\n",
    "        venues_list.append([(\n",
    "            name, \n",
    "            lat, \n",
    "            lng, \n",
    "            venue['venue']['name'], \n",
    "            venue['venue']['id'],\n",
    "            venue['venue']['location']['lat'], \n",
    "            venue['venue']['location']['lng'],  \n",
    "            venue['venue']['categories'][0]['name']) for venue in results])\n",
    "\n",
    "    nearby_venues = pd.DataFrame([item for venue_list in venues_list for item in venue_list])\n",
    "    nearby_venues.columns = ['Neighbourhood', \n",
    "                  'Neighbourhood Latitude', \n",
    "                  'Neighbourhood Longitude', \n",
    "                  'Venue Name', \n",
    "                  'Venue ID',\n",
    "                  'Venue Latitude', \n",
    "                  'Venue Longitude', \n",
    "                  'Venue Category']\n",
    "    \n",
    "    return nearby_venues"
   ]
  },
  {
   "cell_type": "code",
   "execution_count": 51,
   "metadata": {},
   "outputs": [
    {
     "data": {
      "text/html": [
       "<div>\n",
       "<style scoped>\n",
       "    .dataframe tbody tr th:only-of-type {\n",
       "        vertical-align: middle;\n",
       "    }\n",
       "\n",
       "    .dataframe tbody tr th {\n",
       "        vertical-align: top;\n",
       "    }\n",
       "\n",
       "    .dataframe thead th {\n",
       "        text-align: right;\n",
       "    }\n",
       "</style>\n",
       "<table border=\"1\" class=\"dataframe\">\n",
       "  <thead>\n",
       "    <tr style=\"text-align: right;\">\n",
       "      <th></th>\n",
       "      <th>Neighbourhood</th>\n",
       "      <th>Neighbourhood Latitude</th>\n",
       "      <th>Neighbourhood Longitude</th>\n",
       "      <th>Venue Name</th>\n",
       "      <th>Venue ID</th>\n",
       "      <th>Venue Latitude</th>\n",
       "      <th>Venue Longitude</th>\n",
       "      <th>Venue Category</th>\n",
       "    </tr>\n",
       "  </thead>\n",
       "  <tbody>\n",
       "    <tr>\n",
       "      <th>0</th>\n",
       "      <td>Rouge, Malvern</td>\n",
       "      <td>43.811525</td>\n",
       "      <td>-79.195517</td>\n",
       "      <td>BeaverTails</td>\n",
       "      <td>4c546bef1b46c9b689e291ce</td>\n",
       "      <td>43.823376</td>\n",
       "      <td>-79.184616</td>\n",
       "      <td>Dessert Shop</td>\n",
       "    </tr>\n",
       "    <tr>\n",
       "      <th>1</th>\n",
       "      <td>Rouge, Malvern</td>\n",
       "      <td>43.811525</td>\n",
       "      <td>-79.195517</td>\n",
       "      <td>Pizza Pizza</td>\n",
       "      <td>4ba6f126f964a520ee7839e3</td>\n",
       "      <td>43.806613</td>\n",
       "      <td>-79.178445</td>\n",
       "      <td>Pizza Place</td>\n",
       "    </tr>\n",
       "    <tr>\n",
       "      <th>2</th>\n",
       "      <td>Rouge, Malvern</td>\n",
       "      <td>43.811525</td>\n",
       "      <td>-79.195517</td>\n",
       "      <td>Tim Hortons</td>\n",
       "      <td>4b16e23bf964a520edbe23e3</td>\n",
       "      <td>43.802000</td>\n",
       "      <td>-79.198169</td>\n",
       "      <td>Coffee Shop</td>\n",
       "    </tr>\n",
       "    <tr>\n",
       "      <th>3</th>\n",
       "      <td>Rouge, Malvern</td>\n",
       "      <td>43.811525</td>\n",
       "      <td>-79.195517</td>\n",
       "      <td>Tim Hortons / Esso</td>\n",
       "      <td>4e0b137722713e13018e7117</td>\n",
       "      <td>43.801863</td>\n",
       "      <td>-79.199296</td>\n",
       "      <td>Coffee Shop</td>\n",
       "    </tr>\n",
       "    <tr>\n",
       "      <th>4</th>\n",
       "      <td>Rouge, Malvern</td>\n",
       "      <td>43.811525</td>\n",
       "      <td>-79.195517</td>\n",
       "      <td>Peacock Café (Toronto Zoo)</td>\n",
       "      <td>4c82860fd8086dcb735c7752</td>\n",
       "      <td>43.820012</td>\n",
       "      <td>-79.181563</td>\n",
       "      <td>Café</td>\n",
       "    </tr>\n",
       "  </tbody>\n",
       "</table>\n",
       "</div>"
      ],
      "text/plain": [
       "    Neighbourhood  Neighbourhood Latitude  Neighbourhood Longitude  \\\n",
       "0  Rouge, Malvern               43.811525               -79.195517   \n",
       "1  Rouge, Malvern               43.811525               -79.195517   \n",
       "2  Rouge, Malvern               43.811525               -79.195517   \n",
       "3  Rouge, Malvern               43.811525               -79.195517   \n",
       "4  Rouge, Malvern               43.811525               -79.195517   \n",
       "\n",
       "                   Venue Name                  Venue ID  Venue Latitude  \\\n",
       "0                 BeaverTails  4c546bef1b46c9b689e291ce       43.823376   \n",
       "1                 Pizza Pizza  4ba6f126f964a520ee7839e3       43.806613   \n",
       "2                 Tim Hortons  4b16e23bf964a520edbe23e3       43.802000   \n",
       "3          Tim Hortons / Esso  4e0b137722713e13018e7117       43.801863   \n",
       "4  Peacock Café (Toronto Zoo)  4c82860fd8086dcb735c7752       43.820012   \n",
       "\n",
       "   Venue Longitude Venue Category  \n",
       "0       -79.184616   Dessert Shop  \n",
       "1       -79.178445    Pizza Place  \n",
       "2       -79.198169    Coffee Shop  \n",
       "3       -79.199296    Coffee Shop  \n",
       "4       -79.181563           Café  "
      ]
     },
     "execution_count": 51,
     "metadata": {},
     "output_type": "execute_result"
    }
   ],
   "source": [
    "toronto_restaurants = getNearbyBreakfastRestaurants(names=toronto_data['Neighbourhood'],\n",
    "                                   latitudes=toronto_data['Latitude'],\n",
    "                                   longitudes=toronto_data['Longitude']\n",
    "                                  )\n",
    "toronto_restaurants.head()"
   ]
  },
  {
   "cell_type": "code",
   "execution_count": 52,
   "metadata": {},
   "outputs": [],
   "source": [
    "toronto_restaurants.to_csv('toronto_restaurants_raw.csv') "
   ]
  },
  {
   "cell_type": "code",
   "execution_count": 53,
   "metadata": {},
   "outputs": [
    {
     "data": {
      "text/plain": [
       "(3995, 8)"
      ]
     },
     "execution_count": 53,
     "metadata": {},
     "output_type": "execute_result"
    }
   ],
   "source": [
    "toronto_restaurants.shape"
   ]
  },
  {
   "cell_type": "markdown",
   "metadata": {},
   "source": [
    "#### It is now time to filter out restaurants that aren't exactly breakfast restaurants, as well as handle any duplicates due to the 3 km radius overlap. We will remove fast food restaurants such as Tim Hortons, Subway, and Starbucks"
   ]
  },
  {
   "cell_type": "code",
   "execution_count": 54,
   "metadata": {},
   "outputs": [
    {
     "data": {
      "text/html": [
       "<div>\n",
       "<style scoped>\n",
       "    .dataframe tbody tr th:only-of-type {\n",
       "        vertical-align: middle;\n",
       "    }\n",
       "\n",
       "    .dataframe tbody tr th {\n",
       "        vertical-align: top;\n",
       "    }\n",
       "\n",
       "    .dataframe thead th {\n",
       "        text-align: right;\n",
       "    }\n",
       "</style>\n",
       "<table border=\"1\" class=\"dataframe\">\n",
       "  <thead>\n",
       "    <tr style=\"text-align: right;\">\n",
       "      <th></th>\n",
       "      <th>Total Venues</th>\n",
       "    </tr>\n",
       "  </thead>\n",
       "  <tbody>\n",
       "    <tr>\n",
       "      <th>Tim Hortons</th>\n",
       "      <td>345</td>\n",
       "    </tr>\n",
       "    <tr>\n",
       "      <th>Starbucks</th>\n",
       "      <td>233</td>\n",
       "    </tr>\n",
       "    <tr>\n",
       "      <th>Subway</th>\n",
       "      <td>211</td>\n",
       "    </tr>\n",
       "    <tr>\n",
       "      <th>Second Cup</th>\n",
       "      <td>56</td>\n",
       "    </tr>\n",
       "    <tr>\n",
       "      <th>No Frills</th>\n",
       "      <td>49</td>\n",
       "    </tr>\n",
       "    <tr>\n",
       "      <th>A&amp;W</th>\n",
       "      <td>42</td>\n",
       "    </tr>\n",
       "    <tr>\n",
       "      <th>Aroma Espresso Bar</th>\n",
       "      <td>39</td>\n",
       "    </tr>\n",
       "    <tr>\n",
       "      <th>Loblaws</th>\n",
       "      <td>30</td>\n",
       "    </tr>\n",
       "    <tr>\n",
       "      <th>Pizza Pizza</th>\n",
       "      <td>28</td>\n",
       "    </tr>\n",
       "    <tr>\n",
       "      <th>Country Style</th>\n",
       "      <td>27</td>\n",
       "    </tr>\n",
       "    <tr>\n",
       "      <th>Pilot Coffee Roasters</th>\n",
       "      <td>27</td>\n",
       "    </tr>\n",
       "    <tr>\n",
       "      <th>Sunset Grill</th>\n",
       "      <td>25</td>\n",
       "    </tr>\n",
       "    <tr>\n",
       "      <th>Booster Juice</th>\n",
       "      <td>24</td>\n",
       "    </tr>\n",
       "    <tr>\n",
       "      <th>DAVIDsTEA</th>\n",
       "      <td>24</td>\n",
       "    </tr>\n",
       "    <tr>\n",
       "      <th>Burger King</th>\n",
       "      <td>23</td>\n",
       "    </tr>\n",
       "    <tr>\n",
       "      <th>Jimmy's Coffee</th>\n",
       "      <td>23</td>\n",
       "    </tr>\n",
       "    <tr>\n",
       "      <th>Balzac's Coffee</th>\n",
       "      <td>19</td>\n",
       "    </tr>\n",
       "    <tr>\n",
       "      <th>Dark Horse Espresso Bar</th>\n",
       "      <td>19</td>\n",
       "    </tr>\n",
       "    <tr>\n",
       "      <th>Eggsmart</th>\n",
       "      <td>18</td>\n",
       "    </tr>\n",
       "    <tr>\n",
       "      <th>Fahrenheit Coffee</th>\n",
       "      <td>18</td>\n",
       "    </tr>\n",
       "    <tr>\n",
       "      <th>Pizza Nova</th>\n",
       "      <td>17</td>\n",
       "    </tr>\n",
       "    <tr>\n",
       "      <th>Coffee Time</th>\n",
       "      <td>16</td>\n",
       "    </tr>\n",
       "    <tr>\n",
       "      <th>KFC</th>\n",
       "      <td>15</td>\n",
       "    </tr>\n",
       "    <tr>\n",
       "      <th>The Bagel House</th>\n",
       "      <td>14</td>\n",
       "    </tr>\n",
       "    <tr>\n",
       "      <th>Rosalinda</th>\n",
       "      <td>14</td>\n",
       "    </tr>\n",
       "    <tr>\n",
       "      <th>Druxy's</th>\n",
       "      <td>14</td>\n",
       "    </tr>\n",
       "    <tr>\n",
       "      <th>Soho House Toronto</th>\n",
       "      <td>14</td>\n",
       "    </tr>\n",
       "    <tr>\n",
       "      <th>COBS Bread</th>\n",
       "      <td>13</td>\n",
       "    </tr>\n",
       "    <tr>\n",
       "      <th>Popeyes Louisiana Kitchen</th>\n",
       "      <td>13</td>\n",
       "    </tr>\n",
       "    <tr>\n",
       "      <th>Eggspectation Bell Trinity Square</th>\n",
       "      <td>12</td>\n",
       "    </tr>\n",
       "    <tr>\n",
       "      <th>...</th>\n",
       "      <td>...</td>\n",
       "    </tr>\n",
       "    <tr>\n",
       "      <th>Central Square Cafeteria</th>\n",
       "      <td>1</td>\n",
       "    </tr>\n",
       "    <tr>\n",
       "      <th>Cucinetta</th>\n",
       "      <td>1</td>\n",
       "    </tr>\n",
       "    <tr>\n",
       "      <th>Shawarma and Kebob</th>\n",
       "      <td>1</td>\n",
       "    </tr>\n",
       "    <tr>\n",
       "      <th>BeaverTails</th>\n",
       "      <td>1</td>\n",
       "    </tr>\n",
       "    <tr>\n",
       "      <th>Bagels On Fire</th>\n",
       "      <td>1</td>\n",
       "    </tr>\n",
       "    <tr>\n",
       "      <th>The Abbott</th>\n",
       "      <td>1</td>\n",
       "    </tr>\n",
       "    <tr>\n",
       "      <th>Jinks Art Factory</th>\n",
       "      <td>1</td>\n",
       "    </tr>\n",
       "    <tr>\n",
       "      <th>Faema Caffe</th>\n",
       "      <td>1</td>\n",
       "    </tr>\n",
       "    <tr>\n",
       "      <th>Cocoberry Cafe</th>\n",
       "      <td>1</td>\n",
       "    </tr>\n",
       "    <tr>\n",
       "      <th>Mr Onions</th>\n",
       "      <td>1</td>\n",
       "    </tr>\n",
       "    <tr>\n",
       "      <th>La Veranda</th>\n",
       "      <td>1</td>\n",
       "    </tr>\n",
       "    <tr>\n",
       "      <th>Yogoberri</th>\n",
       "      <td>1</td>\n",
       "    </tr>\n",
       "    <tr>\n",
       "      <th>COPS</th>\n",
       "      <td>1</td>\n",
       "    </tr>\n",
       "    <tr>\n",
       "      <th>The Local Cafe Restaurant</th>\n",
       "      <td>1</td>\n",
       "    </tr>\n",
       "    <tr>\n",
       "      <th>Appalachia BBQ</th>\n",
       "      <td>1</td>\n",
       "    </tr>\n",
       "    <tr>\n",
       "      <th>B&amp;A Bakery</th>\n",
       "      <td>1</td>\n",
       "    </tr>\n",
       "    <tr>\n",
       "      <th>The Tampered Press</th>\n",
       "      <td>1</td>\n",
       "    </tr>\n",
       "    <tr>\n",
       "      <th>Top Deck Bar</th>\n",
       "      <td>1</td>\n",
       "    </tr>\n",
       "    <tr>\n",
       "      <th>select sandwich</th>\n",
       "      <td>1</td>\n",
       "    </tr>\n",
       "    <tr>\n",
       "      <th>Tatsu's Bread</th>\n",
       "      <td>1</td>\n",
       "    </tr>\n",
       "    <tr>\n",
       "      <th>Vi Vetha</th>\n",
       "      <td>1</td>\n",
       "    </tr>\n",
       "    <tr>\n",
       "      <th>The Chartroom Bar &amp; Lounge</th>\n",
       "      <td>1</td>\n",
       "    </tr>\n",
       "    <tr>\n",
       "      <th>Patisserie Royale</th>\n",
       "      <td>1</td>\n",
       "    </tr>\n",
       "    <tr>\n",
       "      <th>Cakes by Robert</th>\n",
       "      <td>1</td>\n",
       "    </tr>\n",
       "    <tr>\n",
       "      <th>The Rivoli</th>\n",
       "      <td>1</td>\n",
       "    </tr>\n",
       "    <tr>\n",
       "      <th>Los Arrieros</th>\n",
       "      <td>1</td>\n",
       "    </tr>\n",
       "    <tr>\n",
       "      <th>Mr Jerk</th>\n",
       "      <td>1</td>\n",
       "    </tr>\n",
       "    <tr>\n",
       "      <th>Pickle Barrel</th>\n",
       "      <td>1</td>\n",
       "    </tr>\n",
       "    <tr>\n",
       "      <th>Lilings Kitchen</th>\n",
       "      <td>1</td>\n",
       "    </tr>\n",
       "    <tr>\n",
       "      <th>Fragrant Bakery</th>\n",
       "      <td>1</td>\n",
       "    </tr>\n",
       "  </tbody>\n",
       "</table>\n",
       "<p>1093 rows × 1 columns</p>\n",
       "</div>"
      ],
      "text/plain": [
       "                                   Total Venues\n",
       "Tim Hortons                                 345\n",
       "Starbucks                                   233\n",
       "Subway                                      211\n",
       "Second Cup                                   56\n",
       "No Frills                                    49\n",
       "A&W                                          42\n",
       "Aroma Espresso Bar                           39\n",
       "Loblaws                                      30\n",
       "Pizza Pizza                                  28\n",
       "Country Style                                27\n",
       "Pilot Coffee Roasters                        27\n",
       "Sunset Grill                                 25\n",
       "Booster Juice                                24\n",
       "DAVIDsTEA                                    24\n",
       "Burger King                                  23\n",
       "Jimmy's Coffee                               23\n",
       "Balzac's Coffee                              19\n",
       "Dark Horse Espresso Bar                      19\n",
       "Eggsmart                                     18\n",
       "Fahrenheit Coffee                            18\n",
       "Pizza Nova                                   17\n",
       "Coffee Time                                  16\n",
       "KFC                                          15\n",
       "The Bagel House                              14\n",
       "Rosalinda                                    14\n",
       "Druxy's                                      14\n",
       "Soho House Toronto                           14\n",
       "COBS Bread                                   13\n",
       "Popeyes Louisiana Kitchen                    13\n",
       "Eggspectation Bell Trinity Square            12\n",
       "...                                         ...\n",
       "Central Square Cafeteria                      1\n",
       "Cucinetta                                     1\n",
       "Shawarma and Kebob                            1\n",
       "BeaverTails                                   1\n",
       "Bagels On Fire                                1\n",
       "The Abbott                                    1\n",
       "Jinks Art Factory                             1\n",
       "Faema Caffe                                   1\n",
       "Cocoberry Cafe                                1\n",
       "Mr Onions                                     1\n",
       "La Veranda                                    1\n",
       "Yogoberri                                     1\n",
       "COPS                                          1\n",
       "The Local Cafe Restaurant                     1\n",
       "Appalachia BBQ                                1\n",
       "B&A Bakery                                    1\n",
       "The Tampered Press                            1\n",
       "Top Deck Bar                                  1\n",
       "select sandwich                               1\n",
       "Tatsu's Bread                                 1\n",
       "Vi Vetha                                      1\n",
       "The Chartroom Bar & Lounge                    1\n",
       "Patisserie Royale                             1\n",
       "Cakes by Robert                               1\n",
       "The Rivoli                                    1\n",
       "Los Arrieros                                  1\n",
       "Mr Jerk                                       1\n",
       "Pickle Barrel                                 1\n",
       "Lilings Kitchen                               1\n",
       "Fragrant Bakery                               1\n",
       "\n",
       "[1093 rows x 1 columns]"
      ]
     },
     "execution_count": 54,
     "metadata": {},
     "output_type": "execute_result"
    }
   ],
   "source": [
    "toronto_restaurants['Venue Name'].value_counts().to_frame('Total Venues')"
   ]
  },
  {
   "cell_type": "markdown",
   "metadata": {},
   "source": [
    "#### To remove the large fast food chain restaurants quickly, we can remove the locations that have more than 40 restaurants"
   ]
  },
  {
   "cell_type": "code",
   "execution_count": 55,
   "metadata": {},
   "outputs": [],
   "source": [
    "blacklist = toronto_restaurants['Venue Name'].value_counts()[toronto_restaurants['Venue Name'].value_counts() > 40].index.tolist()\n",
    "toronto_restaurants = toronto_restaurants[~(toronto_restaurants['Venue Name'].isin(blacklist))]"
   ]
  },
  {
   "cell_type": "markdown",
   "metadata": {},
   "source": [
    "#### Then we remove restaurants that have words like \"Pizza\", \"Burger\", \"Loblaws\", \"KFC\", \"Chicken\", \"Popeyes\" in the name"
   ]
  },
  {
   "cell_type": "code",
   "execution_count": 56,
   "metadata": {},
   "outputs": [
    {
     "data": {
      "text/html": [
       "<div>\n",
       "<style scoped>\n",
       "    .dataframe tbody tr th:only-of-type {\n",
       "        vertical-align: middle;\n",
       "    }\n",
       "\n",
       "    .dataframe tbody tr th {\n",
       "        vertical-align: top;\n",
       "    }\n",
       "\n",
       "    .dataframe thead th {\n",
       "        text-align: right;\n",
       "    }\n",
       "</style>\n",
       "<table border=\"1\" class=\"dataframe\">\n",
       "  <thead>\n",
       "    <tr style=\"text-align: right;\">\n",
       "      <th></th>\n",
       "      <th>Total Venues</th>\n",
       "    </tr>\n",
       "  </thead>\n",
       "  <tbody>\n",
       "    <tr>\n",
       "      <th>Aroma Espresso Bar</th>\n",
       "      <td>39</td>\n",
       "    </tr>\n",
       "    <tr>\n",
       "      <th>Country Style</th>\n",
       "      <td>27</td>\n",
       "    </tr>\n",
       "    <tr>\n",
       "      <th>Pilot Coffee Roasters</th>\n",
       "      <td>27</td>\n",
       "    </tr>\n",
       "    <tr>\n",
       "      <th>Sunset Grill</th>\n",
       "      <td>25</td>\n",
       "    </tr>\n",
       "    <tr>\n",
       "      <th>DAVIDsTEA</th>\n",
       "      <td>24</td>\n",
       "    </tr>\n",
       "    <tr>\n",
       "      <th>Booster Juice</th>\n",
       "      <td>24</td>\n",
       "    </tr>\n",
       "    <tr>\n",
       "      <th>Jimmy's Coffee</th>\n",
       "      <td>23</td>\n",
       "    </tr>\n",
       "    <tr>\n",
       "      <th>Balzac's Coffee</th>\n",
       "      <td>19</td>\n",
       "    </tr>\n",
       "    <tr>\n",
       "      <th>Dark Horse Espresso Bar</th>\n",
       "      <td>19</td>\n",
       "    </tr>\n",
       "    <tr>\n",
       "      <th>Eggsmart</th>\n",
       "      <td>18</td>\n",
       "    </tr>\n",
       "    <tr>\n",
       "      <th>Fahrenheit Coffee</th>\n",
       "      <td>18</td>\n",
       "    </tr>\n",
       "    <tr>\n",
       "      <th>Coffee Time</th>\n",
       "      <td>16</td>\n",
       "    </tr>\n",
       "    <tr>\n",
       "      <th>Druxy's</th>\n",
       "      <td>14</td>\n",
       "    </tr>\n",
       "    <tr>\n",
       "      <th>Rosalinda</th>\n",
       "      <td>14</td>\n",
       "    </tr>\n",
       "    <tr>\n",
       "      <th>The Bagel House</th>\n",
       "      <td>14</td>\n",
       "    </tr>\n",
       "    <tr>\n",
       "      <th>Soho House Toronto</th>\n",
       "      <td>14</td>\n",
       "    </tr>\n",
       "    <tr>\n",
       "      <th>COBS Bread</th>\n",
       "      <td>13</td>\n",
       "    </tr>\n",
       "    <tr>\n",
       "      <th>Eggspectation Bell Trinity Square</th>\n",
       "      <td>12</td>\n",
       "    </tr>\n",
       "    <tr>\n",
       "      <th>Brick Street Bakery</th>\n",
       "      <td>12</td>\n",
       "    </tr>\n",
       "    <tr>\n",
       "      <th>Café Plenty</th>\n",
       "      <td>12</td>\n",
       "    </tr>\n",
       "    <tr>\n",
       "      <th>Hailed Coffee</th>\n",
       "      <td>12</td>\n",
       "    </tr>\n",
       "    <tr>\n",
       "      <th>Cafe Landwer</th>\n",
       "      <td>12</td>\n",
       "    </tr>\n",
       "    <tr>\n",
       "      <th>Dineen Coffee</th>\n",
       "      <td>12</td>\n",
       "    </tr>\n",
       "    <tr>\n",
       "      <th>Maman</th>\n",
       "      <td>11</td>\n",
       "    </tr>\n",
       "    <tr>\n",
       "      <th>7-Eleven</th>\n",
       "      <td>11</td>\n",
       "    </tr>\n",
       "    <tr>\n",
       "      <th>Dineen @CommerceCourt</th>\n",
       "      <td>11</td>\n",
       "    </tr>\n",
       "    <tr>\n",
       "      <th>Boxcar Social Temperance</th>\n",
       "      <td>11</td>\n",
       "    </tr>\n",
       "    <tr>\n",
       "      <th>Leña</th>\n",
       "      <td>11</td>\n",
       "    </tr>\n",
       "    <tr>\n",
       "      <th>M Square Coffee Co</th>\n",
       "      <td>11</td>\n",
       "    </tr>\n",
       "    <tr>\n",
       "      <th>Mystic Muffin</th>\n",
       "      <td>10</td>\n",
       "    </tr>\n",
       "    <tr>\n",
       "      <th>...</th>\n",
       "      <td>...</td>\n",
       "    </tr>\n",
       "    <tr>\n",
       "      <th>Cucinetta</th>\n",
       "      <td>1</td>\n",
       "    </tr>\n",
       "    <tr>\n",
       "      <th>BeaverTails</th>\n",
       "      <td>1</td>\n",
       "    </tr>\n",
       "    <tr>\n",
       "      <th>Bagels On Fire</th>\n",
       "      <td>1</td>\n",
       "    </tr>\n",
       "    <tr>\n",
       "      <th>The Abbott</th>\n",
       "      <td>1</td>\n",
       "    </tr>\n",
       "    <tr>\n",
       "      <th>Jinks Art Factory</th>\n",
       "      <td>1</td>\n",
       "    </tr>\n",
       "    <tr>\n",
       "      <th>Faema Caffe</th>\n",
       "      <td>1</td>\n",
       "    </tr>\n",
       "    <tr>\n",
       "      <th>Cocoberry Cafe</th>\n",
       "      <td>1</td>\n",
       "    </tr>\n",
       "    <tr>\n",
       "      <th>Mr Onions</th>\n",
       "      <td>1</td>\n",
       "    </tr>\n",
       "    <tr>\n",
       "      <th>District 28</th>\n",
       "      <td>1</td>\n",
       "    </tr>\n",
       "    <tr>\n",
       "      <th>Premium Sweet</th>\n",
       "      <td>1</td>\n",
       "    </tr>\n",
       "    <tr>\n",
       "      <th>Art Square Gallery &amp; Cafe</th>\n",
       "      <td>1</td>\n",
       "    </tr>\n",
       "    <tr>\n",
       "      <th>Saving Grace</th>\n",
       "      <td>1</td>\n",
       "    </tr>\n",
       "    <tr>\n",
       "      <th>select sandwich</th>\n",
       "      <td>1</td>\n",
       "    </tr>\n",
       "    <tr>\n",
       "      <th>The Gallery Studio Cafe</th>\n",
       "      <td>1</td>\n",
       "    </tr>\n",
       "    <tr>\n",
       "      <th>Tatsu's Bread</th>\n",
       "      <td>1</td>\n",
       "    </tr>\n",
       "    <tr>\n",
       "      <th>Vi Vetha</th>\n",
       "      <td>1</td>\n",
       "    </tr>\n",
       "    <tr>\n",
       "      <th>Marathon Donuts &amp; Coffee 馬力雄</th>\n",
       "      <td>1</td>\n",
       "    </tr>\n",
       "    <tr>\n",
       "      <th>The Chartroom Bar &amp; Lounge</th>\n",
       "      <td>1</td>\n",
       "    </tr>\n",
       "    <tr>\n",
       "      <th>Patisserie Royale</th>\n",
       "      <td>1</td>\n",
       "    </tr>\n",
       "    <tr>\n",
       "      <th>Cakes by Robert</th>\n",
       "      <td>1</td>\n",
       "    </tr>\n",
       "    <tr>\n",
       "      <th>The Rivoli</th>\n",
       "      <td>1</td>\n",
       "    </tr>\n",
       "    <tr>\n",
       "      <th>Los Arrieros</th>\n",
       "      <td>1</td>\n",
       "    </tr>\n",
       "    <tr>\n",
       "      <th>Mr Jerk</th>\n",
       "      <td>1</td>\n",
       "    </tr>\n",
       "    <tr>\n",
       "      <th>Pickle Barrel</th>\n",
       "      <td>1</td>\n",
       "    </tr>\n",
       "    <tr>\n",
       "      <th>Lilings Kitchen</th>\n",
       "      <td>1</td>\n",
       "    </tr>\n",
       "    <tr>\n",
       "      <th>The Local Cafe Restaurant</th>\n",
       "      <td>1</td>\n",
       "    </tr>\n",
       "    <tr>\n",
       "      <th>COPS</th>\n",
       "      <td>1</td>\n",
       "    </tr>\n",
       "    <tr>\n",
       "      <th>Yogoberri</th>\n",
       "      <td>1</td>\n",
       "    </tr>\n",
       "    <tr>\n",
       "      <th>La Veranda</th>\n",
       "      <td>1</td>\n",
       "    </tr>\n",
       "    <tr>\n",
       "      <th>Skymark Deli</th>\n",
       "      <td>1</td>\n",
       "    </tr>\n",
       "  </tbody>\n",
       "</table>\n",
       "<p>1055 rows × 1 columns</p>\n",
       "</div>"
      ],
      "text/plain": [
       "                                   Total Venues\n",
       "Aroma Espresso Bar                           39\n",
       "Country Style                                27\n",
       "Pilot Coffee Roasters                        27\n",
       "Sunset Grill                                 25\n",
       "DAVIDsTEA                                    24\n",
       "Booster Juice                                24\n",
       "Jimmy's Coffee                               23\n",
       "Balzac's Coffee                              19\n",
       "Dark Horse Espresso Bar                      19\n",
       "Eggsmart                                     18\n",
       "Fahrenheit Coffee                            18\n",
       "Coffee Time                                  16\n",
       "Druxy's                                      14\n",
       "Rosalinda                                    14\n",
       "The Bagel House                              14\n",
       "Soho House Toronto                           14\n",
       "COBS Bread                                   13\n",
       "Eggspectation Bell Trinity Square            12\n",
       "Brick Street Bakery                          12\n",
       "Café Plenty                                  12\n",
       "Hailed Coffee                                12\n",
       "Cafe Landwer                                 12\n",
       "Dineen Coffee                                12\n",
       "Maman                                        11\n",
       "7-Eleven                                     11\n",
       "Dineen @CommerceCourt                        11\n",
       "Boxcar Social Temperance                     11\n",
       "Leña                                         11\n",
       "M Square Coffee Co                           11\n",
       "Mystic Muffin                                10\n",
       "...                                         ...\n",
       "Cucinetta                                     1\n",
       "BeaverTails                                   1\n",
       "Bagels On Fire                                1\n",
       "The Abbott                                    1\n",
       "Jinks Art Factory                             1\n",
       "Faema Caffe                                   1\n",
       "Cocoberry Cafe                                1\n",
       "Mr Onions                                     1\n",
       "District 28                                   1\n",
       "Premium Sweet                                 1\n",
       "Art Square Gallery & Cafe                     1\n",
       "Saving Grace                                  1\n",
       "select sandwich                               1\n",
       "The Gallery Studio Cafe                       1\n",
       "Tatsu's Bread                                 1\n",
       "Vi Vetha                                      1\n",
       "Marathon Donuts & Coffee 馬力雄                  1\n",
       "The Chartroom Bar & Lounge                    1\n",
       "Patisserie Royale                             1\n",
       "Cakes by Robert                               1\n",
       "The Rivoli                                    1\n",
       "Los Arrieros                                  1\n",
       "Mr Jerk                                       1\n",
       "Pickle Barrel                                 1\n",
       "Lilings Kitchen                               1\n",
       "The Local Cafe Restaurant                     1\n",
       "COPS                                          1\n",
       "Yogoberri                                     1\n",
       "La Veranda                                    1\n",
       "Skymark Deli                                  1\n",
       "\n",
       "[1055 rows x 1 columns]"
      ]
     },
     "execution_count": 56,
     "metadata": {},
     "output_type": "execute_result"
    }
   ],
   "source": [
    "blacklist = [\"Pizza\", \"Burger\", \"Loblaws\", \"KFC\", \"Chicken\", \"Popeyes\"]\n",
    "toronto_restaurants = toronto_restaurants[~toronto_restaurants['Venue Name'].str.contains('|'.join(blacklist))]\n",
    "toronto_restaurants['Venue Name'].value_counts().to_frame('Total Venues')"
   ]
  },
  {
   "cell_type": "code",
   "execution_count": 57,
   "metadata": {},
   "outputs": [
    {
     "data": {
      "text/plain": [
       "(2867, 8)"
      ]
     },
     "execution_count": 57,
     "metadata": {},
     "output_type": "execute_result"
    }
   ],
   "source": [
    "toronto_restaurants.shape"
   ]
  },
  {
   "cell_type": "markdown",
   "metadata": {},
   "source": [
    "#### It looks like we have a decent collection of breakfast restaurants! Let us check and handle duplicate restaurant locations across the neighbourhoods now"
   ]
  },
  {
   "cell_type": "code",
   "execution_count": 58,
   "metadata": {},
   "outputs": [
    {
     "data": {
      "text/html": [
       "<div>\n",
       "<style scoped>\n",
       "    .dataframe tbody tr th:only-of-type {\n",
       "        vertical-align: middle;\n",
       "    }\n",
       "\n",
       "    .dataframe tbody tr th {\n",
       "        vertical-align: top;\n",
       "    }\n",
       "\n",
       "    .dataframe thead th {\n",
       "        text-align: right;\n",
       "    }\n",
       "</style>\n",
       "<table border=\"1\" class=\"dataframe\">\n",
       "  <thead>\n",
       "    <tr style=\"text-align: right;\">\n",
       "      <th></th>\n",
       "      <th>Total Duplicates</th>\n",
       "    </tr>\n",
       "  </thead>\n",
       "  <tbody>\n",
       "    <tr>\n",
       "      <th>5aff06ca6e4650002cc6286b</th>\n",
       "      <td>13</td>\n",
       "    </tr>\n",
       "    <tr>\n",
       "      <th>4fff1f96e4b042ae8acddca5</th>\n",
       "      <td>13</td>\n",
       "    </tr>\n",
       "    <tr>\n",
       "      <th>50322b6ae4b09116a296568c</th>\n",
       "      <td>13</td>\n",
       "    </tr>\n",
       "    <tr>\n",
       "      <th>53c524bd498efaeebf73b291</th>\n",
       "      <td>11</td>\n",
       "    </tr>\n",
       "    <tr>\n",
       "      <th>537773d1498e74a75bb75c1e</th>\n",
       "      <td>11</td>\n",
       "    </tr>\n",
       "    <tr>\n",
       "      <th>514627d1e4b0dba1b85e9ba8</th>\n",
       "      <td>11</td>\n",
       "    </tr>\n",
       "    <tr>\n",
       "      <th>5b6c842bc36588002c80a934</th>\n",
       "      <td>11</td>\n",
       "    </tr>\n",
       "    <tr>\n",
       "      <th>59cd51c71b0ea516e9e7b3aa</th>\n",
       "      <td>11</td>\n",
       "    </tr>\n",
       "    <tr>\n",
       "      <th>54132b3b498ee9ca9332e189</th>\n",
       "      <td>10</td>\n",
       "    </tr>\n",
       "    <tr>\n",
       "      <th>5894c1f9266c1121f0a757d1</th>\n",
       "      <td>10</td>\n",
       "    </tr>\n",
       "    <tr>\n",
       "      <th>559a8f5a498e31f945041245</th>\n",
       "      <td>10</td>\n",
       "    </tr>\n",
       "    <tr>\n",
       "      <th>57d0a3fb498e0fb29e892eed</th>\n",
       "      <td>10</td>\n",
       "    </tr>\n",
       "    <tr>\n",
       "      <th>592c5bfb31fd147e47255fb3</th>\n",
       "      <td>10</td>\n",
       "    </tr>\n",
       "    <tr>\n",
       "      <th>4dcbf219d22d7ffe9d39197e</th>\n",
       "      <td>10</td>\n",
       "    </tr>\n",
       "    <tr>\n",
       "      <th>56df0683498e7d0423e91b5b</th>\n",
       "      <td>9</td>\n",
       "    </tr>\n",
       "    <tr>\n",
       "      <th>4e67c316483bef6eb8171e49</th>\n",
       "      <td>9</td>\n",
       "    </tr>\n",
       "    <tr>\n",
       "      <th>55314880498eca93a62e17ec</th>\n",
       "      <td>9</td>\n",
       "    </tr>\n",
       "    <tr>\n",
       "      <th>5a32970da42362290203a9d6</th>\n",
       "      <td>9</td>\n",
       "    </tr>\n",
       "    <tr>\n",
       "      <th>4fccaa8fe4b05a98df3d9417</th>\n",
       "      <td>9</td>\n",
       "    </tr>\n",
       "    <tr>\n",
       "      <th>4d5effa95b276dcbc3b201c6</th>\n",
       "      <td>9</td>\n",
       "    </tr>\n",
       "    <tr>\n",
       "      <th>4b72f550f964a5202e922de3</th>\n",
       "      <td>9</td>\n",
       "    </tr>\n",
       "    <tr>\n",
       "      <th>563d2f2dcd10bcf27ae37c3b</th>\n",
       "      <td>9</td>\n",
       "    </tr>\n",
       "    <tr>\n",
       "      <th>51ae5eaa498e5c629f21f431</th>\n",
       "      <td>9</td>\n",
       "    </tr>\n",
       "    <tr>\n",
       "      <th>5a6b737b35f98359eed11974</th>\n",
       "      <td>8</td>\n",
       "    </tr>\n",
       "    <tr>\n",
       "      <th>50e44770e4b0e03a48c0d8a8</th>\n",
       "      <td>8</td>\n",
       "    </tr>\n",
       "    <tr>\n",
       "      <th>4ae5f583f964a52084a321e3</th>\n",
       "      <td>8</td>\n",
       "    </tr>\n",
       "    <tr>\n",
       "      <th>557f05ca498ec78ac7b29315</th>\n",
       "      <td>8</td>\n",
       "    </tr>\n",
       "    <tr>\n",
       "      <th>4ba90db8f964a5203f073ae3</th>\n",
       "      <td>8</td>\n",
       "    </tr>\n",
       "    <tr>\n",
       "      <th>4f53aff7e4b07de37cecddf3</th>\n",
       "      <td>8</td>\n",
       "    </tr>\n",
       "    <tr>\n",
       "      <th>4b114234f964a520637923e3</th>\n",
       "      <td>8</td>\n",
       "    </tr>\n",
       "    <tr>\n",
       "      <th>...</th>\n",
       "      <td>...</td>\n",
       "    </tr>\n",
       "    <tr>\n",
       "      <th>536fac9d11d2034c97a3db0f</th>\n",
       "      <td>0</td>\n",
       "    </tr>\n",
       "    <tr>\n",
       "      <th>4d2205ac8629224b05072087</th>\n",
       "      <td>0</td>\n",
       "    </tr>\n",
       "    <tr>\n",
       "      <th>4bc228d0b492d13ace13a760</th>\n",
       "      <td>0</td>\n",
       "    </tr>\n",
       "    <tr>\n",
       "      <th>51e2a41f498ec07b5f39be58</th>\n",
       "      <td>0</td>\n",
       "    </tr>\n",
       "    <tr>\n",
       "      <th>4bf85e618d30d13a46a90018</th>\n",
       "      <td>0</td>\n",
       "    </tr>\n",
       "    <tr>\n",
       "      <th>585db72d2ec364572e5c9d4c</th>\n",
       "      <td>0</td>\n",
       "    </tr>\n",
       "    <tr>\n",
       "      <th>4cd56bc194848cfa2b1ae6b1</th>\n",
       "      <td>0</td>\n",
       "    </tr>\n",
       "    <tr>\n",
       "      <th>4c66f55719f3c9b66879a1ff</th>\n",
       "      <td>0</td>\n",
       "    </tr>\n",
       "    <tr>\n",
       "      <th>4bdb5db73904a593eb0a4a9e</th>\n",
       "      <td>0</td>\n",
       "    </tr>\n",
       "    <tr>\n",
       "      <th>4ec5551a61af4438d142e1a0</th>\n",
       "      <td>0</td>\n",
       "    </tr>\n",
       "    <tr>\n",
       "      <th>4cb0a2ba75ebb60c614ac6ad</th>\n",
       "      <td>0</td>\n",
       "    </tr>\n",
       "    <tr>\n",
       "      <th>4c48e1e36594be9af3245324</th>\n",
       "      <td>0</td>\n",
       "    </tr>\n",
       "    <tr>\n",
       "      <th>4fea5696e4b0232fd63e0245</th>\n",
       "      <td>0</td>\n",
       "    </tr>\n",
       "    <tr>\n",
       "      <th>4ae601d7f964a520fda321e3</th>\n",
       "      <td>0</td>\n",
       "    </tr>\n",
       "    <tr>\n",
       "      <th>59df4ec59be5225f461d5e1d</th>\n",
       "      <td>0</td>\n",
       "    </tr>\n",
       "    <tr>\n",
       "      <th>4bc8831b2f94d13a97b3137f</th>\n",
       "      <td>0</td>\n",
       "    </tr>\n",
       "    <tr>\n",
       "      <th>4f2ae606e4b0d4e47df46004</th>\n",
       "      <td>0</td>\n",
       "    </tr>\n",
       "    <tr>\n",
       "      <th>4bab94f7f964a5200bb63ae3</th>\n",
       "      <td>0</td>\n",
       "    </tr>\n",
       "    <tr>\n",
       "      <th>5064a891e4b0e1bb8155485f</th>\n",
       "      <td>0</td>\n",
       "    </tr>\n",
       "    <tr>\n",
       "      <th>515c4c7ae4b0668bec90c676</th>\n",
       "      <td>0</td>\n",
       "    </tr>\n",
       "    <tr>\n",
       "      <th>542c3917498e17795d30adc2</th>\n",
       "      <td>0</td>\n",
       "    </tr>\n",
       "    <tr>\n",
       "      <th>4c9e27d87c096dcb1020d2d1</th>\n",
       "      <td>0</td>\n",
       "    </tr>\n",
       "    <tr>\n",
       "      <th>4ba77ef9f964a5203a9839e3</th>\n",
       "      <td>0</td>\n",
       "    </tr>\n",
       "    <tr>\n",
       "      <th>4ad88bd0f964a520321221e3</th>\n",
       "      <td>0</td>\n",
       "    </tr>\n",
       "    <tr>\n",
       "      <th>4e405b68a809ba757c2f75d9</th>\n",
       "      <td>0</td>\n",
       "    </tr>\n",
       "    <tr>\n",
       "      <th>4ae0c599f964a520578221e3</th>\n",
       "      <td>0</td>\n",
       "    </tr>\n",
       "    <tr>\n",
       "      <th>5481b06c498ee191fa045a00</th>\n",
       "      <td>0</td>\n",
       "    </tr>\n",
       "    <tr>\n",
       "      <th>4b96e740f964a520aeec34e3</th>\n",
       "      <td>0</td>\n",
       "    </tr>\n",
       "    <tr>\n",
       "      <th>4c1b6f35b4e62d7f3951d993</th>\n",
       "      <td>0</td>\n",
       "    </tr>\n",
       "    <tr>\n",
       "      <th>4e30609b922e065e29f3a61b</th>\n",
       "      <td>0</td>\n",
       "    </tr>\n",
       "  </tbody>\n",
       "</table>\n",
       "<p>1293 rows × 1 columns</p>\n",
       "</div>"
      ],
      "text/plain": [
       "                          Total Duplicates\n",
       "5aff06ca6e4650002cc6286b                13\n",
       "4fff1f96e4b042ae8acddca5                13\n",
       "50322b6ae4b09116a296568c                13\n",
       "53c524bd498efaeebf73b291                11\n",
       "537773d1498e74a75bb75c1e                11\n",
       "514627d1e4b0dba1b85e9ba8                11\n",
       "5b6c842bc36588002c80a934                11\n",
       "59cd51c71b0ea516e9e7b3aa                11\n",
       "54132b3b498ee9ca9332e189                10\n",
       "5894c1f9266c1121f0a757d1                10\n",
       "559a8f5a498e31f945041245                10\n",
       "57d0a3fb498e0fb29e892eed                10\n",
       "592c5bfb31fd147e47255fb3                10\n",
       "4dcbf219d22d7ffe9d39197e                10\n",
       "56df0683498e7d0423e91b5b                 9\n",
       "4e67c316483bef6eb8171e49                 9\n",
       "55314880498eca93a62e17ec                 9\n",
       "5a32970da42362290203a9d6                 9\n",
       "4fccaa8fe4b05a98df3d9417                 9\n",
       "4d5effa95b276dcbc3b201c6                 9\n",
       "4b72f550f964a5202e922de3                 9\n",
       "563d2f2dcd10bcf27ae37c3b                 9\n",
       "51ae5eaa498e5c629f21f431                 9\n",
       "5a6b737b35f98359eed11974                 8\n",
       "50e44770e4b0e03a48c0d8a8                 8\n",
       "4ae5f583f964a52084a321e3                 8\n",
       "557f05ca498ec78ac7b29315                 8\n",
       "4ba90db8f964a5203f073ae3                 8\n",
       "4f53aff7e4b07de37cecddf3                 8\n",
       "4b114234f964a520637923e3                 8\n",
       "...                                    ...\n",
       "536fac9d11d2034c97a3db0f                 0\n",
       "4d2205ac8629224b05072087                 0\n",
       "4bc228d0b492d13ace13a760                 0\n",
       "51e2a41f498ec07b5f39be58                 0\n",
       "4bf85e618d30d13a46a90018                 0\n",
       "585db72d2ec364572e5c9d4c                 0\n",
       "4cd56bc194848cfa2b1ae6b1                 0\n",
       "4c66f55719f3c9b66879a1ff                 0\n",
       "4bdb5db73904a593eb0a4a9e                 0\n",
       "4ec5551a61af4438d142e1a0                 0\n",
       "4cb0a2ba75ebb60c614ac6ad                 0\n",
       "4c48e1e36594be9af3245324                 0\n",
       "4fea5696e4b0232fd63e0245                 0\n",
       "4ae601d7f964a520fda321e3                 0\n",
       "59df4ec59be5225f461d5e1d                 0\n",
       "4bc8831b2f94d13a97b3137f                 0\n",
       "4f2ae606e4b0d4e47df46004                 0\n",
       "4bab94f7f964a5200bb63ae3                 0\n",
       "5064a891e4b0e1bb8155485f                 0\n",
       "515c4c7ae4b0668bec90c676                 0\n",
       "542c3917498e17795d30adc2                 0\n",
       "4c9e27d87c096dcb1020d2d1                 0\n",
       "4ba77ef9f964a5203a9839e3                 0\n",
       "4ad88bd0f964a520321221e3                 0\n",
       "4e405b68a809ba757c2f75d9                 0\n",
       "4ae0c599f964a520578221e3                 0\n",
       "5481b06c498ee191fa045a00                 0\n",
       "4b96e740f964a520aeec34e3                 0\n",
       "4c1b6f35b4e62d7f3951d993                 0\n",
       "4e30609b922e065e29f3a61b                 0\n",
       "\n",
       "[1293 rows x 1 columns]"
      ]
     },
     "execution_count": 58,
     "metadata": {},
     "output_type": "execute_result"
    }
   ],
   "source": [
    "(toronto_restaurants['Venue ID'].value_counts().to_frame('Total Duplicates')['Total Duplicates'] - 1).to_frame('Total Duplicates')"
   ]
  },
  {
   "cell_type": "markdown",
   "metadata": {},
   "source": [
    "#### The highest number of duplicates for a restaurant is 13. This number is not very large. If we remove duplicates then we risk bias towards venues that are at the \"top of the list\" in the restaurants dataframe. I think it is best to not remove duplicates for now\n",
    "\n",
    "#### Time to export the cleaned dataframe"
   ]
  },
  {
   "cell_type": "code",
   "execution_count": 59,
   "metadata": {},
   "outputs": [],
   "source": [
    "toronto_restaurants.to_csv('toronto_restaurants_processed.csv') "
   ]
  },
  {
   "cell_type": "markdown",
   "metadata": {},
   "source": [
    "#### What is the number of breakfast restaurants per neighbourhood?"
   ]
  },
  {
   "cell_type": "code",
   "execution_count": 67,
   "metadata": {},
   "outputs": [
    {
     "data": {
      "text/html": [
       "<div>\n",
       "<style scoped>\n",
       "    .dataframe tbody tr th:only-of-type {\n",
       "        vertical-align: middle;\n",
       "    }\n",
       "\n",
       "    .dataframe tbody tr th {\n",
       "        vertical-align: top;\n",
       "    }\n",
       "\n",
       "    .dataframe thead th {\n",
       "        text-align: right;\n",
       "    }\n",
       "</style>\n",
       "<table border=\"1\" class=\"dataframe\">\n",
       "  <thead>\n",
       "    <tr style=\"text-align: right;\">\n",
       "      <th></th>\n",
       "      <th>Neighbourhood</th>\n",
       "      <th>Total Breakfast Restaurants</th>\n",
       "    </tr>\n",
       "  </thead>\n",
       "  <tbody>\n",
       "    <tr>\n",
       "      <th>0</th>\n",
       "      <td>Queen's Park</td>\n",
       "      <td>61</td>\n",
       "    </tr>\n",
       "    <tr>\n",
       "      <th>1</th>\n",
       "      <td>Little Portugal, Trinity</td>\n",
       "      <td>50</td>\n",
       "    </tr>\n",
       "    <tr>\n",
       "      <th>2</th>\n",
       "      <td>Christie</td>\n",
       "      <td>49</td>\n",
       "    </tr>\n",
       "    <tr>\n",
       "      <th>3</th>\n",
       "      <td>Cabbagetown, St. James Town</td>\n",
       "      <td>49</td>\n",
       "    </tr>\n",
       "    <tr>\n",
       "      <th>4</th>\n",
       "      <td>The Annex, North Midtown, Yorkville</td>\n",
       "      <td>48</td>\n",
       "    </tr>\n",
       "    <tr>\n",
       "      <th>5</th>\n",
       "      <td>Brockton, Exhibition Place, Parkdale Village</td>\n",
       "      <td>48</td>\n",
       "    </tr>\n",
       "    <tr>\n",
       "      <th>6</th>\n",
       "      <td>Parkdale, Roncesvalles</td>\n",
       "      <td>48</td>\n",
       "    </tr>\n",
       "    <tr>\n",
       "      <th>7</th>\n",
       "      <td>Chinatown, Grange Park, Kensington Market</td>\n",
       "      <td>48</td>\n",
       "    </tr>\n",
       "    <tr>\n",
       "      <th>8</th>\n",
       "      <td>Rosedale</td>\n",
       "      <td>48</td>\n",
       "    </tr>\n",
       "    <tr>\n",
       "      <th>9</th>\n",
       "      <td>First Canadian Place, Underground city</td>\n",
       "      <td>47</td>\n",
       "    </tr>\n",
       "    <tr>\n",
       "      <th>10</th>\n",
       "      <td>Berczy Park</td>\n",
       "      <td>47</td>\n",
       "    </tr>\n",
       "    <tr>\n",
       "      <th>11</th>\n",
       "      <td>Dovercourt Village, Dufferin</td>\n",
       "      <td>47</td>\n",
       "    </tr>\n",
       "    <tr>\n",
       "      <th>12</th>\n",
       "      <td>Canada Post Gateway Processing Centre</td>\n",
       "      <td>47</td>\n",
       "    </tr>\n",
       "    <tr>\n",
       "      <th>13</th>\n",
       "      <td>Business Reply Mail Processing Centre 969 Eastern</td>\n",
       "      <td>47</td>\n",
       "    </tr>\n",
       "    <tr>\n",
       "      <th>14</th>\n",
       "      <td>Harbord, University of Toronto</td>\n",
       "      <td>47</td>\n",
       "    </tr>\n",
       "    <tr>\n",
       "      <th>15</th>\n",
       "      <td>Ryerson, Garden District</td>\n",
       "      <td>47</td>\n",
       "    </tr>\n",
       "    <tr>\n",
       "      <th>16</th>\n",
       "      <td>St. James Town</td>\n",
       "      <td>47</td>\n",
       "    </tr>\n",
       "    <tr>\n",
       "      <th>17</th>\n",
       "      <td>Stn A PO Boxes 25 The Esplanade</td>\n",
       "      <td>47</td>\n",
       "    </tr>\n",
       "    <tr>\n",
       "      <th>18</th>\n",
       "      <td>Commerce Court, Victoria Hotel</td>\n",
       "      <td>47</td>\n",
       "    </tr>\n",
       "    <tr>\n",
       "      <th>19</th>\n",
       "      <td>Design Exchange, Toronto Dominion Centre</td>\n",
       "      <td>46</td>\n",
       "    </tr>\n",
       "    <tr>\n",
       "      <th>20</th>\n",
       "      <td>Central Bay Street</td>\n",
       "      <td>46</td>\n",
       "    </tr>\n",
       "    <tr>\n",
       "      <th>21</th>\n",
       "      <td>Adelaide, King, Richmond</td>\n",
       "      <td>46</td>\n",
       "    </tr>\n",
       "    <tr>\n",
       "      <th>22</th>\n",
       "      <td>Harbourfront</td>\n",
       "      <td>46</td>\n",
       "    </tr>\n",
       "    <tr>\n",
       "      <th>23</th>\n",
       "      <td>CN Tower, Bathurst Quay, Island airport, Harbo...</td>\n",
       "      <td>45</td>\n",
       "    </tr>\n",
       "    <tr>\n",
       "      <th>24</th>\n",
       "      <td>Studio District</td>\n",
       "      <td>45</td>\n",
       "    </tr>\n",
       "    <tr>\n",
       "      <th>25</th>\n",
       "      <td>Church and Wellesley</td>\n",
       "      <td>44</td>\n",
       "    </tr>\n",
       "    <tr>\n",
       "      <th>26</th>\n",
       "      <td>Deer Park, Forest Hill SE, Rathnelly, South Hi...</td>\n",
       "      <td>44</td>\n",
       "    </tr>\n",
       "    <tr>\n",
       "      <th>27</th>\n",
       "      <td>High Park, The Junction South</td>\n",
       "      <td>43</td>\n",
       "    </tr>\n",
       "    <tr>\n",
       "      <th>28</th>\n",
       "      <td>The Beaches West, India Bazaar</td>\n",
       "      <td>41</td>\n",
       "    </tr>\n",
       "    <tr>\n",
       "      <th>29</th>\n",
       "      <td>Runnymede, Swansea</td>\n",
       "      <td>39</td>\n",
       "    </tr>\n",
       "    <tr>\n",
       "      <th>...</th>\n",
       "      <td>...</td>\n",
       "      <td>...</td>\n",
       "    </tr>\n",
       "    <tr>\n",
       "      <th>72</th>\n",
       "      <td>Maryvale, Wexford</td>\n",
       "      <td>17</td>\n",
       "    </tr>\n",
       "    <tr>\n",
       "      <th>73</th>\n",
       "      <td>Clairlea, Golden Mile, Oakridge</td>\n",
       "      <td>17</td>\n",
       "    </tr>\n",
       "    <tr>\n",
       "      <th>74</th>\n",
       "      <td>Harbourfront East, Toronto Islands, Union Station</td>\n",
       "      <td>17</td>\n",
       "    </tr>\n",
       "    <tr>\n",
       "      <th>75</th>\n",
       "      <td>Woodbine Gardens, Parkview Hill</td>\n",
       "      <td>16</td>\n",
       "    </tr>\n",
       "    <tr>\n",
       "      <th>76</th>\n",
       "      <td>Del Ray, Keelesdale, Mount Dennis, Silverthorn</td>\n",
       "      <td>16</td>\n",
       "    </tr>\n",
       "    <tr>\n",
       "      <th>77</th>\n",
       "      <td>Bathurst Manor, Downsview North, Wilson Heights</td>\n",
       "      <td>15</td>\n",
       "    </tr>\n",
       "    <tr>\n",
       "      <th>78</th>\n",
       "      <td>Downsview, North Park, Upwood Park</td>\n",
       "      <td>14</td>\n",
       "    </tr>\n",
       "    <tr>\n",
       "      <th>79</th>\n",
       "      <td>Willowdale West</td>\n",
       "      <td>14</td>\n",
       "    </tr>\n",
       "    <tr>\n",
       "      <th>80</th>\n",
       "      <td>Bayview Village</td>\n",
       "      <td>14</td>\n",
       "    </tr>\n",
       "    <tr>\n",
       "      <th>81</th>\n",
       "      <td>Humber Summit</td>\n",
       "      <td>14</td>\n",
       "    </tr>\n",
       "    <tr>\n",
       "      <th>82</th>\n",
       "      <td>Weston</td>\n",
       "      <td>13</td>\n",
       "    </tr>\n",
       "    <tr>\n",
       "      <th>83</th>\n",
       "      <td>Cloverdale, Islington, Martin Grove, Princess ...</td>\n",
       "      <td>12</td>\n",
       "    </tr>\n",
       "    <tr>\n",
       "      <th>84</th>\n",
       "      <td>Kingsview Village, Martin Grove Gardens, Richv...</td>\n",
       "      <td>12</td>\n",
       "    </tr>\n",
       "    <tr>\n",
       "      <th>85</th>\n",
       "      <td>Scarborough Village</td>\n",
       "      <td>11</td>\n",
       "    </tr>\n",
       "    <tr>\n",
       "      <th>86</th>\n",
       "      <td>Downsview West</td>\n",
       "      <td>10</td>\n",
       "    </tr>\n",
       "    <tr>\n",
       "      <th>87</th>\n",
       "      <td>Northwest</td>\n",
       "      <td>10</td>\n",
       "    </tr>\n",
       "    <tr>\n",
       "      <th>88</th>\n",
       "      <td>Woburn</td>\n",
       "      <td>10</td>\n",
       "    </tr>\n",
       "    <tr>\n",
       "      <th>89</th>\n",
       "      <td>Bloordale Gardens, Eringate, Markland Wood, Ol...</td>\n",
       "      <td>10</td>\n",
       "    </tr>\n",
       "    <tr>\n",
       "      <th>90</th>\n",
       "      <td>East Birchmount Park, Ionview, Kennedy Park</td>\n",
       "      <td>9</td>\n",
       "    </tr>\n",
       "    <tr>\n",
       "      <th>91</th>\n",
       "      <td>Albion Gardens, Beaumond Heights, Humbergate, ...</td>\n",
       "      <td>9</td>\n",
       "    </tr>\n",
       "    <tr>\n",
       "      <th>92</th>\n",
       "      <td>Downsview Northwest</td>\n",
       "      <td>8</td>\n",
       "    </tr>\n",
       "    <tr>\n",
       "      <th>93</th>\n",
       "      <td>Birch Cliff, Cliffside West</td>\n",
       "      <td>8</td>\n",
       "    </tr>\n",
       "    <tr>\n",
       "      <th>94</th>\n",
       "      <td>Westmount</td>\n",
       "      <td>8</td>\n",
       "    </tr>\n",
       "    <tr>\n",
       "      <th>95</th>\n",
       "      <td>Downsview Central</td>\n",
       "      <td>8</td>\n",
       "    </tr>\n",
       "    <tr>\n",
       "      <th>96</th>\n",
       "      <td>Guildwood, Morningside, West Hill</td>\n",
       "      <td>8</td>\n",
       "    </tr>\n",
       "    <tr>\n",
       "      <th>97</th>\n",
       "      <td>Cliffcrest, Cliffside, Scarborough Village West</td>\n",
       "      <td>7</td>\n",
       "    </tr>\n",
       "    <tr>\n",
       "      <th>98</th>\n",
       "      <td>Highland Creek, Rouge Hill, Port Union</td>\n",
       "      <td>5</td>\n",
       "    </tr>\n",
       "    <tr>\n",
       "      <th>99</th>\n",
       "      <td>Rouge, Malvern</td>\n",
       "      <td>5</td>\n",
       "    </tr>\n",
       "    <tr>\n",
       "      <th>100</th>\n",
       "      <td>Upper Rouge</td>\n",
       "      <td>3</td>\n",
       "    </tr>\n",
       "    <tr>\n",
       "      <th>101</th>\n",
       "      <td>Emery, Humberlea</td>\n",
       "      <td>3</td>\n",
       "    </tr>\n",
       "  </tbody>\n",
       "</table>\n",
       "<p>102 rows × 2 columns</p>\n",
       "</div>"
      ],
      "text/plain": [
       "                                         Neighbourhood  \\\n",
       "0                                         Queen's Park   \n",
       "1                             Little Portugal, Trinity   \n",
       "2                                             Christie   \n",
       "3                          Cabbagetown, St. James Town   \n",
       "4                  The Annex, North Midtown, Yorkville   \n",
       "5         Brockton, Exhibition Place, Parkdale Village   \n",
       "6                               Parkdale, Roncesvalles   \n",
       "7            Chinatown, Grange Park, Kensington Market   \n",
       "8                                             Rosedale   \n",
       "9               First Canadian Place, Underground city   \n",
       "10                                         Berczy Park   \n",
       "11                        Dovercourt Village, Dufferin   \n",
       "12               Canada Post Gateway Processing Centre   \n",
       "13   Business Reply Mail Processing Centre 969 Eastern   \n",
       "14                      Harbord, University of Toronto   \n",
       "15                            Ryerson, Garden District   \n",
       "16                                      St. James Town   \n",
       "17                     Stn A PO Boxes 25 The Esplanade   \n",
       "18                      Commerce Court, Victoria Hotel   \n",
       "19            Design Exchange, Toronto Dominion Centre   \n",
       "20                                  Central Bay Street   \n",
       "21                            Adelaide, King, Richmond   \n",
       "22                                        Harbourfront   \n",
       "23   CN Tower, Bathurst Quay, Island airport, Harbo...   \n",
       "24                                     Studio District   \n",
       "25                                Church and Wellesley   \n",
       "26   Deer Park, Forest Hill SE, Rathnelly, South Hi...   \n",
       "27                       High Park, The Junction South   \n",
       "28                      The Beaches West, India Bazaar   \n",
       "29                                  Runnymede, Swansea   \n",
       "..                                                 ...   \n",
       "72                                   Maryvale, Wexford   \n",
       "73                     Clairlea, Golden Mile, Oakridge   \n",
       "74   Harbourfront East, Toronto Islands, Union Station   \n",
       "75                     Woodbine Gardens, Parkview Hill   \n",
       "76      Del Ray, Keelesdale, Mount Dennis, Silverthorn   \n",
       "77     Bathurst Manor, Downsview North, Wilson Heights   \n",
       "78                  Downsview, North Park, Upwood Park   \n",
       "79                                     Willowdale West   \n",
       "80                                     Bayview Village   \n",
       "81                                       Humber Summit   \n",
       "82                                              Weston   \n",
       "83   Cloverdale, Islington, Martin Grove, Princess ...   \n",
       "84   Kingsview Village, Martin Grove Gardens, Richv...   \n",
       "85                                 Scarborough Village   \n",
       "86                                      Downsview West   \n",
       "87                                           Northwest   \n",
       "88                                              Woburn   \n",
       "89   Bloordale Gardens, Eringate, Markland Wood, Ol...   \n",
       "90         East Birchmount Park, Ionview, Kennedy Park   \n",
       "91   Albion Gardens, Beaumond Heights, Humbergate, ...   \n",
       "92                                 Downsview Northwest   \n",
       "93                         Birch Cliff, Cliffside West   \n",
       "94                                           Westmount   \n",
       "95                                   Downsview Central   \n",
       "96                   Guildwood, Morningside, West Hill   \n",
       "97     Cliffcrest, Cliffside, Scarborough Village West   \n",
       "98              Highland Creek, Rouge Hill, Port Union   \n",
       "99                                      Rouge, Malvern   \n",
       "100                                        Upper Rouge   \n",
       "101                                   Emery, Humberlea   \n",
       "\n",
       "     Total Breakfast Restaurants  \n",
       "0                             61  \n",
       "1                             50  \n",
       "2                             49  \n",
       "3                             49  \n",
       "4                             48  \n",
       "5                             48  \n",
       "6                             48  \n",
       "7                             48  \n",
       "8                             48  \n",
       "9                             47  \n",
       "10                            47  \n",
       "11                            47  \n",
       "12                            47  \n",
       "13                            47  \n",
       "14                            47  \n",
       "15                            47  \n",
       "16                            47  \n",
       "17                            47  \n",
       "18                            47  \n",
       "19                            46  \n",
       "20                            46  \n",
       "21                            46  \n",
       "22                            46  \n",
       "23                            45  \n",
       "24                            45  \n",
       "25                            44  \n",
       "26                            44  \n",
       "27                            43  \n",
       "28                            41  \n",
       "29                            39  \n",
       "..                           ...  \n",
       "72                            17  \n",
       "73                            17  \n",
       "74                            17  \n",
       "75                            16  \n",
       "76                            16  \n",
       "77                            15  \n",
       "78                            14  \n",
       "79                            14  \n",
       "80                            14  \n",
       "81                            14  \n",
       "82                            13  \n",
       "83                            12  \n",
       "84                            12  \n",
       "85                            11  \n",
       "86                            10  \n",
       "87                            10  \n",
       "88                            10  \n",
       "89                            10  \n",
       "90                             9  \n",
       "91                             9  \n",
       "92                             8  \n",
       "93                             8  \n",
       "94                             8  \n",
       "95                             8  \n",
       "96                             8  \n",
       "97                             7  \n",
       "98                             5  \n",
       "99                             5  \n",
       "100                            3  \n",
       "101                            3  \n",
       "\n",
       "[102 rows x 2 columns]"
      ]
     },
     "execution_count": 67,
     "metadata": {},
     "output_type": "execute_result"
    }
   ],
   "source": [
    "neighbourhood_restaurants = toronto_restaurants['Neighbourhood'].value_counts().to_frame().reset_index()\n",
    "neighbourhood_restaurants.columns = ['Neighbourhood', 'Total Breakfast Restaurants']\n",
    "neighbourhood_restaurants"
   ]
  },
  {
   "cell_type": "markdown",
   "metadata": {},
   "source": [
    "#### It should be no surprise that Queen's Park has the largest number of breakfast restaurants (61) within a 2 km radius. It is an urban park centralized in Downtown Toronto. It also enclaves the University of Toronto"
   ]
  },
  {
   "cell_type": "markdown",
   "metadata": {},
   "source": [
    "#### Let's map out the distribution of these restaurants using a heatmap. We will draw 3 circles, indicating a 1, 2, and 3 km radius from the center of Toronto"
   ]
  },
  {
   "cell_type": "code",
   "execution_count": 77,
   "metadata": {},
   "outputs": [],
   "source": [
    "from folium import plugins\n",
    "from folium.plugins import HeatMap"
   ]
  },
  {
   "cell_type": "code",
   "execution_count": 97,
   "metadata": {},
   "outputs": [
    {
     "data": {
      "text/html": [
       "<div style=\"width:100%;\"><div style=\"position:relative;width:100%;height:0;padding-bottom:60%;\"><iframe src=\"data:text/html;charset=utf-8;base64,PCFET0NUWVBFIGh0bWw+CjxoZWFkPiAgICAKICAgIDxtZXRhIGh0dHAtZXF1aXY9ImNvbnRlbnQtdHlwZSIgY29udGVudD0idGV4dC9odG1sOyBjaGFyc2V0PVVURi04IiAvPgogICAgCiAgICAgICAgPHNjcmlwdD4KICAgICAgICAgICAgTF9OT19UT1VDSCA9IGZhbHNlOwogICAgICAgICAgICBMX0RJU0FCTEVfM0QgPSBmYWxzZTsKICAgICAgICA8L3NjcmlwdD4KICAgIAogICAgPHNjcmlwdCBzcmM9Imh0dHBzOi8vY2RuLmpzZGVsaXZyLm5ldC9ucG0vbGVhZmxldEAxLjUuMS9kaXN0L2xlYWZsZXQuanMiPjwvc2NyaXB0PgogICAgPHNjcmlwdCBzcmM9Imh0dHBzOi8vY29kZS5qcXVlcnkuY29tL2pxdWVyeS0xLjEyLjQubWluLmpzIj48L3NjcmlwdD4KICAgIDxzY3JpcHQgc3JjPSJodHRwczovL21heGNkbi5ib290c3RyYXBjZG4uY29tL2Jvb3RzdHJhcC8zLjIuMC9qcy9ib290c3RyYXAubWluLmpzIj48L3NjcmlwdD4KICAgIDxzY3JpcHQgc3JjPSJodHRwczovL2NkbmpzLmNsb3VkZmxhcmUuY29tL2FqYXgvbGlicy9MZWFmbGV0LmF3ZXNvbWUtbWFya2Vycy8yLjAuMi9sZWFmbGV0LmF3ZXNvbWUtbWFya2Vycy5qcyI+PC9zY3JpcHQ+CiAgICA8bGluayByZWw9InN0eWxlc2hlZXQiIGhyZWY9Imh0dHBzOi8vY2RuLmpzZGVsaXZyLm5ldC9ucG0vbGVhZmxldEAxLjUuMS9kaXN0L2xlYWZsZXQuY3NzIi8+CiAgICA8bGluayByZWw9InN0eWxlc2hlZXQiIGhyZWY9Imh0dHBzOi8vbWF4Y2RuLmJvb3RzdHJhcGNkbi5jb20vYm9vdHN0cmFwLzMuMi4wL2Nzcy9ib290c3RyYXAubWluLmNzcyIvPgogICAgPGxpbmsgcmVsPSJzdHlsZXNoZWV0IiBocmVmPSJodHRwczovL21heGNkbi5ib290c3RyYXBjZG4uY29tL2Jvb3RzdHJhcC8zLjIuMC9jc3MvYm9vdHN0cmFwLXRoZW1lLm1pbi5jc3MiLz4KICAgIDxsaW5rIHJlbD0ic3R5bGVzaGVldCIgaHJlZj0iaHR0cHM6Ly9tYXhjZG4uYm9vdHN0cmFwY2RuLmNvbS9mb250LWF3ZXNvbWUvNC42LjMvY3NzL2ZvbnQtYXdlc29tZS5taW4uY3NzIi8+CiAgICA8bGluayByZWw9InN0eWxlc2hlZXQiIGhyZWY9Imh0dHBzOi8vY2RuanMuY2xvdWRmbGFyZS5jb20vYWpheC9saWJzL0xlYWZsZXQuYXdlc29tZS1tYXJrZXJzLzIuMC4yL2xlYWZsZXQuYXdlc29tZS1tYXJrZXJzLmNzcyIvPgogICAgPGxpbmsgcmVsPSJzdHlsZXNoZWV0IiBocmVmPSJodHRwczovL3Jhd2Nkbi5naXRoYWNrLmNvbS9weXRob24tdmlzdWFsaXphdGlvbi9mb2xpdW0vbWFzdGVyL2ZvbGl1bS90ZW1wbGF0ZXMvbGVhZmxldC5hd2Vzb21lLnJvdGF0ZS5jc3MiLz4KICAgIDxzdHlsZT5odG1sLCBib2R5IHt3aWR0aDogMTAwJTtoZWlnaHQ6IDEwMCU7bWFyZ2luOiAwO3BhZGRpbmc6IDA7fTwvc3R5bGU+CiAgICA8c3R5bGU+I21hcCB7cG9zaXRpb246YWJzb2x1dGU7dG9wOjA7Ym90dG9tOjA7cmlnaHQ6MDtsZWZ0OjA7fTwvc3R5bGU+CiAgICAKICAgICAgICAgICAgPG1ldGEgbmFtZT0idmlld3BvcnQiIGNvbnRlbnQ9IndpZHRoPWRldmljZS13aWR0aCwKICAgICAgICAgICAgICAgIGluaXRpYWwtc2NhbGU9MS4wLCBtYXhpbXVtLXNjYWxlPTEuMCwgdXNlci1zY2FsYWJsZT1ubyIgLz4KICAgICAgICAgICAgPHN0eWxlPgogICAgICAgICAgICAgICAgI21hcF9lYzRlZDkwMWJiMDk0YjM0YWM4M2JiMzQxM2NjYTU1YSB7CiAgICAgICAgICAgICAgICAgICAgcG9zaXRpb246IHJlbGF0aXZlOwogICAgICAgICAgICAgICAgICAgIHdpZHRoOiAxMDAuMCU7CiAgICAgICAgICAgICAgICAgICAgaGVpZ2h0OiAxMDAuMCU7CiAgICAgICAgICAgICAgICAgICAgbGVmdDogMC4wJTsKICAgICAgICAgICAgICAgICAgICB0b3A6IDAuMCU7CiAgICAgICAgICAgICAgICB9CiAgICAgICAgICAgIDwvc3R5bGU+CiAgICAgICAgCiAgICA8c2NyaXB0IHNyYz0iaHR0cHM6Ly9sZWFmbGV0LmdpdGh1Yi5pby9MZWFmbGV0LmhlYXQvZGlzdC9sZWFmbGV0LWhlYXQuanMiPjwvc2NyaXB0Pgo8L2hlYWQ+Cjxib2R5PiAgICAKICAgIAogICAgICAgICAgICA8ZGl2IGNsYXNzPSJmb2xpdW0tbWFwIiBpZD0ibWFwX2VjNGVkOTAxYmIwOTRiMzRhYzgzYmIzNDEzY2NhNTVhIiA+PC9kaXY+CiAgICAgICAgCjwvYm9keT4KPHNjcmlwdD4gICAgCiAgICAKICAgICAgICAgICAgdmFyIG1hcF9lYzRlZDkwMWJiMDk0YjM0YWM4M2JiMzQxM2NjYTU1YSA9IEwubWFwKAogICAgICAgICAgICAgICAgIm1hcF9lYzRlZDkwMWJiMDk0YjM0YWM4M2JiMzQxM2NjYTU1YSIsCiAgICAgICAgICAgICAgICB7CiAgICAgICAgICAgICAgICAgICAgY2VudGVyOiBbNDMuNzI1NTQwMDAwMDAwMDgsIC03OS40MDIzMTk5OTk5OTk5N10sCiAgICAgICAgICAgICAgICAgICAgY3JzOiBMLkNSUy5FUFNHMzg1NywKICAgICAgICAgICAgICAgICAgICB6b29tOiAxMSwKICAgICAgICAgICAgICAgICAgICB6b29tQ29udHJvbDogdHJ1ZSwKICAgICAgICAgICAgICAgICAgICBwcmVmZXJDYW52YXM6IGZhbHNlLAogICAgICAgICAgICAgICAgfQogICAgICAgICAgICApOwoKICAgICAgICAgICAgCgogICAgICAgIAogICAgCiAgICAgICAgICAgIHZhciB0aWxlX2xheWVyXzYyYTQzMWNiYzFmOTQzZGVhMzgxMGVjOGY5N2E2YmZkID0gTC50aWxlTGF5ZXIoCiAgICAgICAgICAgICAgICAiaHR0cHM6Ly97c30udGlsZS5vcGVuc3RyZWV0bWFwLm9yZy97en0ve3h9L3t5fS5wbmciLAogICAgICAgICAgICAgICAgeyJhdHRyaWJ1dGlvbiI6ICJEYXRhIGJ5IFx1MDAyNmNvcHk7IFx1MDAzY2EgaHJlZj1cImh0dHA6Ly9vcGVuc3RyZWV0bWFwLm9yZ1wiXHUwMDNlT3BlblN0cmVldE1hcFx1MDAzYy9hXHUwMDNlLCB1bmRlciBcdTAwM2NhIGhyZWY9XCJodHRwOi8vd3d3Lm9wZW5zdHJlZXRtYXAub3JnL2NvcHlyaWdodFwiXHUwMDNlT0RiTFx1MDAzYy9hXHUwMDNlLiIsICJkZXRlY3RSZXRpbmEiOiBmYWxzZSwgIm1heE5hdGl2ZVpvb20iOiAxOCwgIm1heFpvb20iOiAxOCwgIm1pblpvb20iOiAwLCAibm9XcmFwIjogZmFsc2UsICJvcGFjaXR5IjogMSwgInN1YmRvbWFpbnMiOiAiYWJjIiwgInRtcyI6IGZhbHNlfQogICAgICAgICAgICApLmFkZFRvKG1hcF9lYzRlZDkwMWJiMDk0YjM0YWM4M2JiMzQxM2NjYTU1YSk7CiAgICAgICAgCiAgICAKICAgICAgICAgICAgdmFyIHRpbGVfbGF5ZXJfNGI3MmZiMjA3YzJlNDU2YWE4ZTc2NDNhMWQyMDkwMjQgPSBMLnRpbGVMYXllcigKICAgICAgICAgICAgICAgICJodHRwczovL2NhcnRvZGItYmFzZW1hcHMte3N9Lmdsb2JhbC5zc2wuZmFzdGx5Lm5ldC9saWdodF9hbGwve3p9L3t4fS97eX0ucG5nIiwKICAgICAgICAgICAgICAgIHsiYXR0cmlidXRpb24iOiAiXHUwMDI2Y29weTsgXHUwMDNjYSBocmVmPVwiaHR0cDovL3d3dy5vcGVuc3RyZWV0bWFwLm9yZy9jb3B5cmlnaHRcIlx1MDAzZU9wZW5TdHJlZXRNYXBcdTAwM2MvYVx1MDAzZSBjb250cmlidXRvcnMgXHUwMDI2Y29weTsgXHUwMDNjYSBocmVmPVwiaHR0cDovL2NhcnRvZGIuY29tL2F0dHJpYnV0aW9uc1wiXHUwMDNlQ2FydG9EQlx1MDAzYy9hXHUwMDNlLCBDYXJ0b0RCIFx1MDAzY2EgaHJlZiA9XCJodHRwOi8vY2FydG9kYi5jb20vYXR0cmlidXRpb25zXCJcdTAwM2VhdHRyaWJ1dGlvbnNcdTAwM2MvYVx1MDAzZSIsICJkZXRlY3RSZXRpbmEiOiBmYWxzZSwgIm1heE5hdGl2ZVpvb20iOiAxOCwgIm1heFpvb20iOiAxOCwgIm1pblpvb20iOiAwLCAibm9XcmFwIjogZmFsc2UsICJvcGFjaXR5IjogMSwgInN1YmRvbWFpbnMiOiAiYWJjIiwgInRtcyI6IGZhbHNlfQogICAgICAgICAgICApLmFkZFRvKG1hcF9lYzRlZDkwMWJiMDk0YjM0YWM4M2JiMzQxM2NjYTU1YSk7CiAgICAgICAgCiAgICAKICAgICAgICAgICAgdmFyIGhlYXRfbWFwXzFjYzE4NzQwMGI0ZDQ3NDBiZjc1OTEwYWRjYjk0ZWEzID0gTC5oZWF0TGF5ZXIoCiAgICAgICAgICAgICAgICBbWzQzLjgyMzM3NiwgLTc5LjE4NDYxNl0sIFs0My44MDE4NjMwMTc3OTMxNCwgLTc5LjE5OTI5NTc4MDkzMzVdLCBbNDMuODIwMDEyMTI5MzcyODMsIC03OS4xODE1NjMxNzA5MTQ3N10sIFs0My44MDEyNjIyMTk1NTQyNzUsIC03OS4xOTk3NTgxODMzMzc3NV0sIFs0My43OTg4ODgsIC03OS4xOTY0NzNdLCBbNDMuNzk3OTcxNDA0NTE4MSwgLTc5LjE0ODQzMjI4NzI2MDM5XSwgWzQzLjc4NDQ2Nzk2NzQ0NjIxLCAtNzkuMTY5MjAwNDU3MTYzOV0sIFs0My43OTc5NzksIC03OS4xNDkyMDddLCBbNDMuNzk3MTkwNDYyNDA4MTksIC03OS4xNDk2OTk1Mjk3MTM1N10sIFs0My43Nzk2NDU5MDM5NjU3NCwgLTc5LjEzNzg4NDk3NDQ3OTY4XSwgWzQzLjc2ODc1MTcxNzcxMjg5LCAtNzkuMTg3OTgxNzQ2MTYwNjldLCBbNDMuNzcwNjY4MTMsIC03OS4xODQxNTA0Ml0sIFs0My43NzIzMTg1NDk5NDQ2MSwgLTc5LjE4NDkwMDExNzM2MzcxXSwgWzQzLjc2OTMxOTQyNzg1NjQ1LCAtNzkuMTg0NDQyMzUyMzQ3ODJdLCBbNDMuNzU5Mjg0MDMyNzQyMiwgLTc5LjE4MDUzNDAwMDQ1NzEzXSwgWzQzLjc3NDk4Njk2Mzk4NDQwNCwgLTc5LjE3ODk1NTkxMTI2NTFdLCBbNDMuNzY3OCwgLTc5LjE5MDQ2Nl0sIFs0My43NjYyOTkwODQ0NzA3OTUsIC03OS4xOTA3MTk4MDU4Mzk0MV0sIFs0My43NjI0Njk2NDAyNzk5MSwgLTc5LjIxNDE2Mzc1MTYyNzE0XSwgWzQzLjc2MjU2NjE3ODU0Mjg5LCAtNzkuMjE1NTcwNjkwMzQzNjRdLCBbNDMuNzc2Mjc3ODgzNjM4MDYsIC03OS4yMzQwMjY0MDg2OTM3OF0sIFs0My43NjEzMzcsIC03OS4yMTY0MTddLCBbNDMuNzY4MTU4MDAxNzExMTksIC03OS4yMjkxNTg1MDQ2Nzc5NV0sIFs0My43NzM3MTYwMjg3NDUxMiwgLTc5LjIwNzAyNjYzMDU0NDhdLCBbNDMuNzgzMjcxNDc4ODk0NDIsIC03OS4yMDQzOTMwMjkyMTI5NV0sIFs0My43NzYyNTg0MzI4MzI2NTUsIC03OS4yMzQxMzE1ODM4Mzg3XSwgWzQzLjc4MDQyNzg1NTc1MTEsIC03OS4yMDUwNDkzOTAzOTg2MV0sIFs0My43NTczNzY4NDMyNzc2OCwgLTc5LjIzNTk4MTk2NDc1OTQ1XSwgWzQzLjc4MDY3OTM1NzUwNzE4LCAtNzkuMjQ3MzIwMjU5MjkxNzRdLCBbNDMuNzgzNDE2ODg1MjQ1NjYsIC03OS4yNTMxMDcxOTY2NzE1Ml0sIFs0My43NzY2MTMyNjUyNDYyMiwgLTc5LjI1ODUxNTYwOTM5MzQ3XSwgWzQzLjc3Njg1NTQwOTQxMDE4LCAtNzkuMjUxODg1NTg5NDk1MDNdLCBbNDMuNzc2ODgyNDQ4OTA4Mzk1LCAtNzkuMjUxNzMyODAyOTc3NjNdLCBbNDMuNzc0MzkwNzQzODkxMTQsIC03OS4yNDM4NzY4NDY0ODU0Ml0sIFs0My43NzUwNTc2NTQzOTY1MzQsIC03OS4yNTcxMzMwMzc5ODcyXSwgWzQzLjc3NjI3Nzg4MzYzODA2LCAtNzkuMjM0MDI2NDA4NjkzNzhdLCBbNDMuNzY4MTU4MDAxNzExMTksIC03OS4yMjkxNTg1MDQ2Nzc5NV0sIFs0My43NzYyNTg0MzI4MzI2NTUsIC03OS4yMzQxMzE1ODM4Mzg3XSwgWzQzLjc3Mjg0MDg1NzI1MDY2NCwgLTc5LjI0OTg5MTY5NzU5MjQ5XSwgWzQzLjc1MzA4OTg2NzUyODU1LCAtNzkuMjQ0NjgyNjcyMzIzMjRdLCBbNDMuNzc1MTM5MTU4MDY5OTIsIC03OS4yNTcxMDQ3MDMzMDQzMl0sIFs0My43NzY5MjI2MTQwODQ2NCwgLTc5LjI1MTgwOTE4MDY0MjldLCBbNDMuNzU3NTM0NjkwMTEwMDYsIC03OS4yMzg3MDIzOTkxMzY2OF0sIFs0My43NTczNzY4NDMyNzc2OCwgLTc5LjIzNTk4MTk2NDc1OTQ1XSwgWzQzLjc3NTE3MDE3NDA0NjQ2LCAtNzkuMjU3MTg3Mjk1NjA5NDddLCBbNDMuNzc2Mjg1LCAtNzkuMjU4NTk3XSwgWzQzLjc3NjgyMTkxNTY0NTY1LCAtNzkuMjU4NDEzMzE0MjE0MTFdLCBbNDMuNzc2NzU1LCAtNzkuMjU5MDA4XSwgWzQzLjc4NDQ1MjMwMDQwMjcsIC03OS4yMzA1NzgyNjAxNTk0M10sIFs0My43Mzc4NjcyMDAyMjI5MiwgLTc5LjIxNzQxOTg0OTEzNjldLCBbNDMuNzI3MTQ4MjYxNTU4ODYsIC03OS4yMjk2NDAxODMzNjYzOV0sIFs0My43NDIyMzQsIC03OS4yMjM3N10sIFs0My43NDMyNjA4MjYxNDM4NzQsIC03OS4yMTUwNjM5MzIxNDE3Nl0sIFs0My43NDAzNzc1OTM4MzU0MjYsIC03OS4yMzI2NTYzMDY1MTU0Ml0sIFs0My43NTMwODk4Njc1Mjg1NSwgLTc5LjI0NDY4MjY3MjMyMzI0XSwgWzQzLjczNzU0MSwgLTc5LjIxNzM0Ml0sIFs0My43MzUzOTYzNjA0NjkyMjQsIC03OS4yNDY5NDU4MjU1NzA0OF0sIFs0My43MzY3MywgLTc5LjI0OTA1MV0sIFs0My43NTczNzY4NDMyNzc2OCwgLTc5LjIzNTk4MTk2NDc1OTQ1XSwgWzQzLjc1NzUzNDY5MDExMDA2LCAtNzkuMjM4NzAyMzk5MTM2NjhdLCBbNDMuNzMyMzI3NzY3NTEyOTYsIC03OS4yNjkzMjczNzg3NzM5Ml0sIFs0My43MzE4Mjc3NTY4MTcyMDQsIC03OS4yNjc5MTQwODY5MTk3Nl0sIFs0My43Mjc1NiwgLTc5LjI4NzE4NF0sIFs0My43MTYxODE4ODcxMDYwOSwgLTc5LjI2MTYxOTczODQyMjg4XSwgWzQzLjcyODA4MDU5MjExNDg0LCAtNzkuMjc4ODU1ODcyNTk1NjFdLCBbNDMuNzE4ODUzMjIxODM4MjQsIC03OS4yNTA4MDU3MjUwNzI3XSwgWzQzLjczNjczLCAtNzkuMjQ5MDUxXSwgWzQzLjczNTM5NjM2MDQ2OTIyNCwgLTc5LjI0Njk0NTgyNTU3MDQ4XSwgWzQzLjcyMTA3NTQ5MDI0MjM1NiwgLTc5LjI4NDM0MjE5MjM3MzFdLCBbNDMuNzA3ODQ0LCAtNzkuMjk1NThdLCBbNDMuNzE3MjE2NDkxNjk5MjIsIC03OS4yOTM4MDc5ODMzOTg0NF0sIFs0My43MjI5MTI2MzExNDQxOCwgLTc5LjI4OTQwNDc0MjUwODk2XSwgWzQzLjcxMzI2MDMzMTc0NDg2LCAtNzkuMzA4MDYzMTg2MDI3MTNdLCBbNDMuNzExMjcwOTA1MjA1NzY1LCAtNzkuMjc5NTA1ODc2NjE3MDRdLCBbNDMuNzExMTUxMDQzNzQxNDgsIC03OS4yNzk0NjkyMzUxMjkyMV0sIFs0My43Mjc1NiwgLTc5LjI4NzE4NF0sIFs0My43MjEwNzU0OTAyNDIzNTYsIC03OS4yODQzNDIxOTIzNzMxXSwgWzQzLjcwNzQxMTI4Nzg1MjUxNiwgLTc5LjI2OTAxMjgzODMxNzhdLCBbNDMuNzAyMjExNzg3MzEzOTcsIC03OS4yOTY4MDk0MzM1MDg4Nl0sIFs0My43MTUxMTI0NzkwNDgzNDQsIC03OS4zMDUzNjE0MTU4NDI4NV0sIFs0My43MjgwODA1OTIxMTQ4NCwgLTc5LjI3ODg1NTg3MjU5NTYxXSwgWzQzLjcxMzI0OTA1MzM0MTU1LCAtNzkuMzA3ODUyMDgyNjc2NDldLCBbNDMuNzI2NDgsIC03OS4yOTk3OF0sIFs0My43MTYxODE4ODcxMDYwOSwgLTc5LjI2MTYxOTczODQyMjg4XSwgWzQzLjcxMzI2NDA1NTYzMDg0LCAtNzkuMzA5ODUxNzE4MzE1MDddLCBbNDMuNzIzODUzMjc0MDIxMzE2LCAtNzkuMjk5MjI1MjYzMTA1MDFdLCBbNDMuNzI3MTQ4MjYxNTU4ODYsIC03OS4yMjk2NDAxODMzNjYzOV0sIFs0My43Mzc4NjcyMDAyMjI5MiwgLTc5LjIxNzQxOTg0OTEzNjldLCBbNDMuNzExMzE2MDgyOTUyNDcsIC03OS4yMjgzNzczNDIyMjQxMl0sIFs0My43Mzc1NDEsIC03OS4yMTczNDJdLCBbNDMuNzQwMzc3NTkzODM1NDI2LCAtNzkuMjMyNjU2MzA2NTE1NDJdLCBbNDMuNzE4ODUzMjIxODM4MjQsIC03OS4yNTA4MDU3MjUwNzI3XSwgWzQzLjczNTM5NjM2MDQ2OTIyNCwgLTc5LjI0Njk0NTgyNTU3MDQ4XSwgWzQzLjY5MTY2NjQ0NDA2NTQxLCAtNzkuMjY0NTMxNTg0ODE2ODJdLCBbNDMuNzA3MDQ4LCAtNzkuMjUwMTg5XSwgWzQzLjY4OTA0NzcxMDk4MTQ1LCAtNzkuMjY5NDg2Mjc1MTg2MjhdLCBbNDMuNzA0NzUyNzczOTc5MjksIC03OS4yNTIxNzY3NDk2MDI5XSwgWzQzLjY5NTU2NjA4ODM2NjYwNCwgLTc5LjI3NjAyMDU2MDUxMzM5XSwgWzQzLjcwNzQxMTI4Nzg1MjUxNiwgLTc5LjI2OTAxMjgzODMxNzhdLCBbNDMuNzA4Njk5NTM4NjQ5OTk1LCAtNzkuMjUwMTczMzgzNTc4NTZdLCBbNDMuNjg5MTQwODkxNDM3MDMsIC03OS4yNzgwMDc3Mjk1NTgwNl0sIFs0My43NDkyMTk0NjM0MTg5MSwgLTc5LjI3NTA4MjAwNzUyMDA2XSwgWzQzLjc2MTY2OTk1ODMyMDUsIC03OS4yNjk1MDY3NDI2MzQ1Nl0sIFs0My43NzIzODUzODk4MzgzLCAtNzkuMjgyOTEwNzU4MTgwMzJdLCBbNDMuNzczMTUzMjcyMzk0OTgsIC03OS4yODA4MTMxNjA0NDkyN10sIFs0My43NzM4MTg0NDk4MjM3MSwgLTc5LjI2ODE0MjM0MTI3MDNdLCBbNDMuNzczNTgxNjQ4ODI4OTEsIC03OS4yODI4ODMyMTk5NjIyMl0sIFs0My43NzUwNTc2NTQzOTY1MzQsIC03OS4yNTcxMzMwMzc5ODcyXSwgWzQzLjc2ODc4NTM3OTE0MTY5LCAtNzkuMjgxOTI2ODk3NzM2XSwgWzQzLjc1NDQ2MywgLTc5LjI2NzkzNF0sIFs0My43NjQ5MDgsIC03OS4yNzk5MDRdLCBbNDMuNzUyMTQxMjI1OTczNDQsIC03OS4yNjE2OTI2NDkzMzk2OF0sIFs0My43NzA3MzcwNzg0MTQyMTQsIC03OS4yNjg1MTA2NTI1MTc3XSwgWzQzLjc1MDU2NDE1ODI0NDQ5NCwgLTc5LjI3NzE0OTAxMzQ4NTI5XSwgWzQzLjc1MDM0NTg1MTU0MTksIC03OS4yNzcxODgzMDEyODg1M10sIFs0My43NDkxMzIyMjE2NjYzOCwgLTc5LjI3NTEwMDM4NjE5NzY2XSwgWzQzLjc3NTEzOTE1ODA2OTkyLCAtNzkuMjU3MTA0NzAzMzA0MzJdLCBbNDMuNzY5MDI4LCAtNzkuMjgxNjVdLCBbNDMuNzczMzA3NzIzNTI5MzM1LCAtNzkuMjcyODk5NTQwNDQzMjhdLCBbNDMuNzc2Mjg1LCAtNzkuMjU4NTk3XSwgWzQzLjc2MDYwNTExNDg3MjksIC03OS4zMDE4Mjk2NDM3ODg0NV0sIFs0My43NDYwMzAwNDQ1OTcyLCAtNzkuMjkzODQzMzA5MDcxNTNdLCBbNDMuNzQyMjI4ODM1MjU0NjY0LCAtNzkuMzEzNTc2OTY0NTI4NDFdLCBbNDMuNzQ2MTQzLCAtNzkuMzI0NjNdLCBbNDMuNzYyMDA4LCAtNzkuMjk1NzI2XSwgWzQzLjc1MjgxNCwgLTc5LjMxNDA2N10sIFs0My43NTkzMzQ4NTA5MDc4ODQsIC03OS4zMDk4MzE2NDA4ODk3XSwgWzQzLjc0NzU0MzcwNzg4NzIsIC03OS4yODM2MDU3MDQ2NjU1Nl0sIFs0My43NDE0NTE4ODQyNzEzNSwgLTc5LjMxOTYzMzQ4NTkzMjFdLCBbNDMuNzM2NjAyNzI0NzQ2NDA1LCAtNzkuMzA3ODExNzM5MDI4NDFdLCBbNDMuNzM1OTg2NTQ3MzQ0NTEsIC03OS4zMDYyMDg4NjY5MjEwN10sIFs0My43MzU5NjgxMDkzNTgzMSwgLTc5LjMwNjIzNjM4MTQzNzQ3XSwgWzQzLjczNTk0MywgLTc5LjMwODAxNF0sIFs0My43NjY5MjIxMTE5NTgxOTUsIC03OS4zMDI5MTI1NjkxNTcyNF0sIFs0My43NTAzNDU4NTE1NDE5LCAtNzkuMjc3MTg4MzAxMjg4NTNdLCBbNDMuNzUwNTY0MTU4MjQ0NDk0LCAtNzkuMjc3MTQ5MDEzNDg1MjldLCBbNDMuNzQwNzQzLCAtNzkuMzIwODM2XSwgWzQzLjc4NzU2Nzg0NjczMDcyNCwgLTc5LjI2OTU4NTM2NjMyMTA1XSwgWzQzLjc5Nzg4NDg2NDYyMjYzLCAtNzkuMjcwNTg0NjE2MDYwNjJdLCBbNDMuNzkxNzIwODI3ODg0MjU1LCAtNzkuMjUxMTMxODY4NTgzNTddLCBbNDMuNzkyMzcwMDEwOTI1MDYsIC03OS4yNjAyMDMyNTgwNTk3OF0sIFs0My43ODc3MTU5NTMzMTIsIC03OS4yNTY4NTIzMjkzOTA4OF0sIFs0My43ODc1NjQ5MTc3MzIwOCwgLTc5LjI2ODgwOTc3MTExODgyXSwgWzQzLjc4MzQxNjg4NTI0NTY2LCAtNzkuMjUzMTA3MTk2NjcxNTJdLCBbNDMuODEwMTUxNzg2NTQ5NTgsIC03OS4yNTczMTYzNTAwMzQ3N10sIFs0My43ODc3NzQyMzA2MjI5MiwgLTc5LjI3MDI5MzkzNzA1MDA0XSwgWzQzLjgwOTkxNDgxMTA0Nzk4LCAtNzkuMjY5MzgxNjc4ODc0NzVdLCBbNDMuNzkyNjQ3Njk1MjgzODc1LCAtNzkuMjU5MjA3NzUzMzUyNjhdLCBbNDMuNzg3MDM2MTU4NDMxOTcsIC03OS4yNjkzODAzMDI1NjU4OV0sIFs0My43ODcxMDc4MTk2Nzk2NiwgLTc5LjI3NTkzMDUwNTM4NzU2XSwgWzQzLjc4Nzg4NDgzOTQ5OTQxLCAtNzkuMjY2OTk3OTUyMzI4MjFdLCBbNDMuODAzODc0MjI4MzQzMjEsIC03OS4yODgwNTg1MjUyNzUxM10sIFs0My44MDQzNjI4MDU0MDIyMywgLTc5LjI4NzM0NzA2MTUyMTA2XSwgWzQzLjc4NjcxOTE1Nzk5MDU3NSwgLTc5LjI3NDM4MTYxODg0OTldLCBbNDMuNzg5NDY5MzIxNDUyMjgsIC03OS4yNTg2MjQxNTA1NDYyM10sIFs0My43ODY4OTU5NjQxMDMzNiwgLTc5LjI3Mzk3Mjc5NjQ3ODU1XSwgWzQzLjc4NjkzMjYxMTUzNzAyLCAtNzkuMjc0MjMwMDczMTQzNTZdLCBbNDMuNzg2NTM3NTE4MzMzMTIsIC03OS4yNzU3NTY2ODY3MTk0NV0sIFs0My43ODY2NjkyMjEwODg3MywgLTc5LjI3NzEzODAwNDI1MzcxXSwgWzQzLjgwODk1NTQyOTc1MTk0LCAtNzkuMjY4MTEyNjU2NDY0ODVdLCBbNDMuNzgxOTE5NDI1OTYzMTQ2LCAtNzkuMjU5MTQyODMyMjg2NTRdLCBbNDMuODA0NTk2NzAzMDQzNjYsIC03OS4yODcxNDc2NDU1MjA5OV0sIFs0My44MDc4NTE1NTM3MDM1MTQsIC03OS4yNzAyOTU1MTYzODU5OV0sIFs0My44MDkyNDc4NTA4Mjc1NDYsIC03OS4yNjkwMjkzNTM1OTc2OV0sIFs0My44MDk4NjAwNTg5NTA2NywgLTc5LjI2OTUzMDMxNTcwMzU2XSwgWzQzLjc3Nzk3OTg1MTY1ODc2LCAtNzkuMjYyNDExOTk4Mzc5MjRdLCBbNDMuNzgwNTA0NzM0NDUzNzIsIC03OS4yOTg4NDM5MTMxNDQ3Nl0sIFs0My43NzIzODUzODk4MzgzLCAtNzkuMjgyOTEwNzU4MTgwMzJdLCBbNDMuNzczMTUzMjcyMzk0OTgsIC03OS4yODA4MTMxNjA0NDkyN10sIFs0My43NzY5NDE4MjMwOTQ2NCwgLTc5LjI4Mjc4OTM4MDU2NzUyXSwgWzQzLjc3MzU4MTY0ODgyODkxLCAtNzkuMjgyODgzMjE5OTYyMjJdLCBbNDMuNzg0MDUzMDYzNTg2MjksIC03OS4yOTI4MzAzNDg1Mjg5Ml0sIFs0My43ODM4MDg2MjExMDE1MzUsIC03OS4yOTI4NDY4NTk2MDUxXSwgWzQzLjc4MjY3ODE0ODA5NDY1LCAtNzkuMjg5MjgxMjQ2MTIxMTNdLCBbNDMuNzgyOTQ2MTQyMTAxMywgLTc5LjI4ODE3NDEwODY0Nzg4XSwgWzQzLjc4NzEwNzgxOTY3OTY2LCAtNzkuMjc1OTMwNTA1Mzg3NTZdLCBbNDMuNzkxNjU2MTI3NTA0MzA0LCAtNzkuMzEzMzE2Njk3Mjg4MjRdLCBbNDMuNzc2NjQ0OTk5MzMyMDksIC03OS4yODI2NzYwOTU3MTA4NF0sIFs0My43OTkxMDE4MjgxNTE2MSwgLTc5LjMwNjQ4MzI2ODczNzhdLCBbNDMuNzc2NDA0OTMyNjYyMjgsIC03OS4zMTcxMDk0ODI5ODMzM10sIFs0My43ODY2NjkyMjEwODg3MywgLTc5LjI3NzEzODAwNDI1MzcxXSwgWzQzLjc4NjUzNzUxODMzMzEyLCAtNzkuMjc1NzU2Njg2NzE5NDVdLCBbNDMuNzg2NzE5MTU3OTkwNTc1LCAtNzkuMjc0MzgxNjE4ODQ5OV0sIFs0My43ODY3Nzg1NjYxMTQ4MiwgLTc5LjI3NzE3OTA0MzA3OTZdLCBbNDMuODEwMTY5NjE5ODEwOTUsIC03OS4yODAxMTI3NDMyMDcxNl0sIFs0My44MTM1NzA0NjQyNTA0NSwgLTc5LjI5NTQyMDU1ODMzMDgyXSwgWzQzLjgyMDk1MzM0MjE0MDI4LCAtNzkuMzA0NTYzODA3NzQ4MThdLCBbNDMuODA5OTE0ODExMDQ3OTgsIC03OS4yNjkzODE2Nzg4NzQ3NV0sIFs0My44MjY5NzE0MTczMTA3NywgLTc5LjI5MTE4Mjk5OTE2NTcxXSwgWzQzLjgxNDM4MDU1MTAzNTc2LCAtNzkuMjk0NzE0MTYwNzUzOTVdLCBbNDMuODE0NTAwMzM1NTc2MTcsIC03OS4yOTQzNDM5MTQ1NDIxNV0sIFs0My44MDYyNjkxNTY0MDU2MywgLTc5LjI4ODU3NzgxNzc1NTVdLCBbNDMuODIyNjMzMjI5NzEzMTU1LCAtNzkuMjk4OTU3Njk5ODI3NjJdLCBbNDMuODAzODc0MjI4MzQzMjEsIC03OS4yODgwNTg1MjUyNzUxM10sIFs0My44MDQzNjI4MDU0MDIyMywgLTc5LjI4NzM0NzA2MTUyMTA2XSwgWzQzLjgwODk1NTQyOTc1MTk0LCAtNzkuMjY4MTEyNjU2NDY0ODVdLCBbNDMuODAzMDc2NzI5ODMwNDksIC03OS4yOTM2MTcyNTkzNDExOF0sIFs0My44MjU5ODg0MzIzOTU4NzQsIC03OS4yNzc0Mjk3NDg0NTI4M10sIFs0My44MjU5Mjg5MjIwMDA0ODYsIC03OS4yNzcwOTQ4MjczMTA5M10sIFs0My44MjYwNzMsIC03OS4yNzc1MzRdLCBbNDMuODI2MTM5ODc1MjY2OTYsIC03OS4yNzcxODIwNDExNzIyNF0sIFs0My44MTM2NTM0MjUzMjY5NywgLTc5LjI5MTIzNDI2NDA2MDE4XSwgWzQzLjgxMzk4NTI2NTc5OTIxLCAtNzkuMjkxNDU3Njc2NjY4Nl0sIFs0My44MTM2MTE4Nzg3NjcwODQsIC03OS4yOTEzNzcwNjc1NjU5Ml0sIFs0My44MDQ1OTY3MDMwNDM2NiwgLTc5LjI4NzE0NzY0NTUyMDk5XSwgWzQzLjgwOTg2MDA1ODk1MDY3LCAtNzkuMjY5NTMwMzE1NzAzNTZdLCBbNDMuODA5MjQ3ODUwODI3NTQ2LCAtNzkuMjY5MDI5MzUzNTk3NjldLCBbNDMuODI2OTMyLCAtNzkuMjkwNzg5XSwgWzQzLjgwNzg1MTU1MzcwMzUxNCwgLTc5LjI3MDI5NTUxNjM4NTk5XSwgWzQzLjgyMjg2NTM0OTU4MTYwNSwgLTc5LjMwMDI4NTc2Njk5MjY0XSwgWzQzLjgwNTg4ODI2NzQ5NTQ5LCAtNzkuMjg5MDE2MjExNzY0NjVdLCBbNDMuODA1NDY5MjM4MjEwODMsIC03OS4yODc5MTIxNTkyODkyMl0sIFs0My44MjA3MTIsIC03OS4yNjE3MThdLCBbNDMuODA1MTU0NDU4MjcxMTI2LCAtNzkuMjg4OTMzNjUyOTcwOTRdLCBbNDMuODAzODMwODUzMzM4NjQ2LCAtNzkuMjg5MTE2NjM4MjMwMzRdLCBbNDMuODIyNywgLTc5LjMwMDgwMl0sIFs0My44MDYyMzUxMTczNDkwOCwgLTc5LjI4ODUxNDQ1Njc4ODY2XSwgWzQzLjgyNTYyNywgLTc5LjI5OTM4MV0sIFs0My44MTE3NTU5Nzc0NzA3MSwgLTc5LjMwMTY5MDg3MzMwNzMyXSwgWzQzLjgyMzY1NywgLTc5LjMwMjQ4Nl0sIFs0My44MzE3MDIzOTY3MDcwNDQsIC03OS4yNjU4MTA2ODgyMTkyOV0sIFs0My44MTE2NjgsIC03OS4zMDI5MzldLCBbNDMuODMxOTY3MzQzMTE3MzEsIC03OS4yNjcwODQ4NTU5MzMyXSwgWzQzLjc5ODU3OTA3MTAwNTU4NCwgLTc5LjMzMjM4ODg5NTk2NzkyXSwgWzQzLjc4ODI0MzcwOTAzNjUxNCwgLTc5LjMzMDIwOTcwMzY3Nl0sIFs0My43OTgxOTc3NTQzNDE2MywgLTc5LjMxODQzMTUyMzgyNzkxXSwgWzQzLjgxNDY5Nzk5NTUxMzExNCwgLTc5LjMyMzk0NTUyMTY3OTA1XSwgWzQzLjc5NjM3NSwgLTc5LjMxODY4MV0sIFs0My44MTMxMTQsIC03OS4zMjI5MTRdLCBbNDMuODA2Nzk2MjI3MDQwMDQsIC03OS4zMzgzMDU3NDg5MDQ1Ml0sIFs0My44MDQ1NDc0MTE0MTU2MywgLTc5LjMzMDk5MTM2NDUxODkyXSwgWzQzLjgwNjU0NTA5MDM2MTk1LCAtNzkuMzM4MzcyNDk4NzMxMzZdLCBbNDMuNzk4ODk3ODU4MTg3Mzk1LCAtNzkuMzE4NzAxMjI3NTkzODVdLCBbNDMuNzk3OTUxNTc4NzA1OTMsIC03OS4zMTg2Nzc2MTQxNjAwOF0sIFs0My43OTIzMzEsIC03OS4zMjY3OTM2NTk5OTk5OV0sIFs0My43OTE2NTYxMjc1MDQzMDQsIC03OS4zMTMzMTY2OTcyODgyNF0sIFs0My43OTkxMDE4MjgxNTE2MSwgLTc5LjMwNjQ4MzI2ODczNzhdLCBbNDMuODAzNzU0NzAyOTAwNTU1LCAtNzkuMzM1MzIwMTg2NTA4MjRdLCBbNDMuNzg5NDM2NDIxODc0MjQsIC03OS4zMzM3MTM4MjY2MTNdLCBbNDMuODAxNDc5ODYyMTAyMTA2LCAtNzkuMzQzOTM0NjQzMjk3NzddLCBbNDMuODExNjY4LCAtNzkuMzAyOTM5XSwgWzQzLjgxMTc1NTk3NzQ3MDcxLCAtNzkuMzAxNjkwODczMzA3MzJdLCBbNDMuODE0OTIzNTUzMDEzMTI0LCAtNzkuMzIzNDkxMDkyOTY3MDddLCBbNDMuODA0MDI2MTIzNjkxODA2LCAtNzkuMzM1ODU2NTQ5NTU4MDZdLCBbNDMuODE4NzksIC03OS4yMDQzMDRdLCBbNDMuODE4NzQ1ODI4NDc2MzYsIC03OS4yMDQyMjg1NTExNjUxOV0sIFs0My44MTg3MjMsIC03OS4yMDQyMThdLCBbNDMuODA3NzIyMTExNDYxNjcsIC03OS4zNTY3OTc4MTA5OTgwNl0sIFs0My43OTg1NzkwNzEwMDU1ODQsIC03OS4zMzIzODg4OTU5Njc5Ml0sIFs0My44MTc3MjIzODU2NDk3NCwgLTc5LjM0OTQyNDA3NjA0NzUxXSwgWzQzLjgwNjc5NjIyNzA0MDA0LCAtNzkuMzM4MzA1NzQ4OTA0NTJdLCBbNDMuODA2NTQ1MDkwMzYxOTUsIC03OS4zMzgzNzI0OTg3MzEzNl0sIFs0My44MTI4NDU0MDQxMTc5MiwgLTc5LjM1ODM4NzM3NzE3MTExXSwgWzQzLjc5MTI2OTk2NzI3MjU3LCAtNzkuMzY3Njc5MTk0MzU2NjhdLCBbNDMuODAxNDc5ODYyMTAyMTA2LCAtNzkuMzQzOTM0NjQzMjk3NzddLCBbNDMuNzk1MDU5NDQ2ODMzLCAtNzkuMzUwMDM5NjYwOTMwNjNdLCBbNDMuNzk0MDMxMjAzODQwMzgsIC03OS4zNDkzNTQ2NzcyNzg0OF0sIFs0My44MTMwNjM1NzM0NDQ5OCwgLTc5LjM1ODM1MTEzMTc2ODE3XSwgWzQzLjc5OTU4NzU2NjM1MDQyLCAtNzkuMzY5MDkzNDU1MDY5ODldLCBbNDMuODEyNjgzMzA5NTMzOSwgLTc5LjM0NTI2MDI5NjYyNDAyXSwgWzQzLjgxNTI4MzA0NTQ3MzkzLCAtNzkuMzQ1NTczNzM2MzAyNl0sIFs0My44MDM3NTQ3MDI5MDA1NTUsIC03OS4zMzUzMjAxODY1MDgyNF0sIFs0My44MjAxMDcsIC03OS4zNTA3NzldLCBbNDMuNzk0MTY4MTc5NDM2ODcsIC03OS4zNTM1MTkwMjkyNzc2M10sIFs0My43OTExMTQ1MDU5MDM4OSwgLTc5LjM2NzA2NjkzMTUwMTA3XSwgWzQzLjgwNDAyNjEyMzY5MTgwNiwgLTc5LjMzNTg1NjU0OTU1ODA2XSwgWzQzLjc3NzA4MjI3MjIwNDAzLCAtNzkuMzQ0NTU2NTMwMDM0MTRdLCBbNDMuNzg4MjQzNzA5MDM2NTE0LCAtNzkuMzMwMjA5NzAzNjc2XSwgWzQzLjc3ODg2Mjk2MTYyNzEwNSwgLTc5LjM2NDI3MzMyNDcxMTY1XSwgWzQzLjc3NzcwMDE5NzkwMjcyNSwgLTc5LjM0NDY1MTY2OTcyMDA1XSwgWzQzLjc3MDg4LCAtNzkuMzMxNzc1XSwgWzQzLjc3MzgwOTUzMTI3NTk2NSwgLTc5LjM2Nzc0NTcwNDczMDE3XSwgWzQzLjc3MzAwMTU2ODQxNzM2NCwgLTc5LjMzMjUzMjg4OTAyNjEzXSwgWzQzLjc3ODc4NzAyNTI2MTY0LCAtNzkuMzQ0NDQ3MDI5NzY1NTNdLCBbNDMuNzc4MzEzLCAtNzkuMzQ0NTgzXSwgWzQzLjc3NzI1ODIxOTEyODc2LCAtNzkuMzQ0NjI2ODYyOTMyNDZdLCBbNDMuNzc1NzksIC03OS4zNDYzNF0sIFs0My43NzQzMjU4NDYwMDgyNCwgLTc5LjM0NjY4NDk0MDMyMTkyXSwgWzQzLjc5MTI2OTk2NzI3MjU3LCAtNzkuMzY3Njc5MTk0MzU2NjhdLCBbNDMuNzc0NjAwMjM0MzM1MjUsIC03OS4zMzc4Mzk2OTUxMzA3OF0sIFs0My43Njk2MSwgLTc5LjMzMDkwNF0sIFs0My43NzIxMDgzMjIyNDI2NiwgLTc5LjMzNzUwOTYzMjM4MzUyXSwgWzQzLjc5NDAzMTIwMzg0MDM4LCAtNzkuMzQ5MzU0Njc3Mjc4NDhdLCBbNDMuNzg5NDM2NDIxODc0MjQsIC03OS4zMzM3MTM4MjY2MTNdLCBbNDMuNzY2OTg5NjU0MDgyNDgsIC03OS4zNDY5OTg0NjkwMTQzMV0sIFs0My43OTUwNTk0NDY4MzMsIC03OS4zNTAwMzk2NjA5MzA2M10sIFs0My43NzE3NTg0MDI5NDU1LCAtNzkuMzY0MDkyNDMxMjk3NTJdLCBbNDMuNzcyNzk3MzkwMDU4MzcsIC03OS4zMjgxOTU0MDc1NjM2M10sIFs0My43NzAxNzMxMzQ5NDEwMSwgLTc5LjMzMDIwNjgwOTEwNTc3XSwgWzQzLjc3MDE3NDQ1Nzg5OTY1LCAtNzkuMzMwMTczNDg2MjExMThdLCBbNDMuNzc0MjU1NTAwMzcwNjUsIC03OS4zMjUxODA5NTAyMDI0NF0sIFs0My43OTQxNjgxNzk0MzY4NywgLTc5LjM1MzUxOTAyOTI3NzYzXSwgWzQzLjc5MTExNDUwNTkwMzg5LCAtNzkuMzY3MDY2OTMxNTAxMDddLCBbNDMuNzc4ODYyOTYxNjI3MTA1LCAtNzkuMzY0MjczMzI0NzExNjVdLCBbNDMuNzcwMTYyMTAzMjQwNzM2LCAtNzkuMzc0Nzc3OTg4MjE5NTZdLCBbNDMuNzY4MzU4ODI2ODQ3NDMsIC03OS4zNjg1MTcwOTY1MTYwM10sIFs0My43Njg1NTA0MTI0MDkyNiwgLTc5LjM4NjUwMTg1ODQxNzM5XSwgWzQzLjc3MzgwOTUzMTI3NTk2NSwgLTc5LjM2Nzc0NTcwNDczMDE3XSwgWzQzLjc3MDg4NjIyODA4MDYzNCwgLTc5LjM2OTQ1OTI3ODc2MzU0XSwgWzQzLjc5MDg0MywgLTc5LjM5MjA0NV0sIFs0My43OTEyNjk5NjcyNzI1NywgLTc5LjM2NzY3OTE5NDM1NjY4XSwgWzQzLjc2OTMwNDYwODg0MDI1LCAtNzkuMzg2NTUzMjU3Nzk5MjZdLCBbNDMuNzY5MDE1NDQ5ODk0NzgsIC03OS4zODQxNjE5NzYxMTY4OV0sIFs0My43Njg2MTUwMzk1NDYyOSwgLTc5LjM4NjMyMTAzNzExNDFdLCBbNDMuNzcxNzU4NDAyOTQ1NSwgLTc5LjM2NDA5MjQzMTI5NzUyXSwgWzQzLjc2NjU2NSwgLTc5LjM5MjkwNV0sIFs0My43OTExMTQ1MDU5MDM4OSwgLTc5LjM2NzA2NjkzMTUwMTA3XSwgWzQzLjc1NDMzMDA4MTk5MTQ3NiwgLTc5LjM1NzQ2NDY1NDY0ODU1XSwgWzQzLjc2ODM1ODgyNjg0NzQzLCAtNzkuMzY4NTE3MDk2NTE2MDNdLCBbNDMuNzcwMTYyMTAzMjQwNzM2LCAtNzkuMzc0Nzc3OTg4MjE5NTZdLCBbNDMuNzY4NTUwNDEyNDA5MjYsIC03OS4zODY1MDE4NTg0MTczOV0sIFs0My43NTM3NjY3MSwgLTc5LjM1OTAwNDY3XSwgWzQzLjc2Mzk3MTQzNzY4NzE4LCAtNzkuMzk4ODY3ODgwMjkyNDNdLCBbNDMuNzcwODg2MjI4MDgwNjM0LCAtNzkuMzY5NDU5Mjc4NzYzNTRdLCBbNDMuNzUzMzA5NjM0MTE4NzEsIC03OS4zNTg4MzY2NzE0MTEzXSwgWzQzLjc2OTMwNDYwODg0MDI1LCAtNzkuMzg2NTUzMjU3Nzk5MjZdLCBbNDMuNzY5MDE1NDQ5ODk0NzgsIC03OS4zODQxNjE5NzYxMTY4OV0sIFs0My43Njg2MTUwMzk1NDYyOSwgLTc5LjM4NjMyMTAzNzExNDFdLCBbNDMuNzQ3NDk3MzQ4MTk1NDIsIC03OS4zODQ5MzUwNjMxMDA1NF0sIFs0My43NDcyOTY4MjMyODczNjQsIC03OS4zODUwNDA0NTc4MDk2MV0sIFs0My43NDcxMDMsIC03OS4zODQ2ODldLCBbNDMuNzY2NTY1LCAtNzkuMzkyOTA1XSwgWzQzLjc2MzkwMDI1NDYyMzUsIC03OS4zOTkzMDk5MTQ5NDA1OV0sIFs0My43NTI5NjIyMDU3NDMwNywgLTc5LjM1OTc4MDczNzY4NTUxXSwgWzQzLjc5MDU0ODk0NzA5MDg4LCAtNzkuNDE4Mjc5NDU5MzIwNTZdLCBbNDMuNzk4MDIxMTIyMzcxMzgsIC03OS40MjUyMjQyNTkxODI0Nl0sIFs0My43OTUyMDQ0NDI4OTc2NCwgLTc5LjQzNDUyNjQ5MjM2Mjk2XSwgWzQzLjgwNDcyMDQzMTIxNTg0LCAtNzkuNDIxMzUwMzM4MDIwOTddLCBbNDMuNzgxMjU3Nzk0OTY0NDQ2LCAtNzkuNDE1ODAwNzc4MTUwNDFdLCBbNDMuNzc5Mzg2MzA4NDk2MTY0LCAtNzkuNDE1NTEwNjQ1OTY0MzJdLCBbNDMuNzgwNTYzMjQ0NTcyMjUsIC03OS40MTU4MDA2MTI1Mjk1NV0sIFs0My43ODEwOTIyNSwgLTc5LjQxNjY2ODc1XSwgWzQzLjc4MjIwMjU0Njg3NDczLCAtNzkuNDE1NDc3NTE0MjY2OTddLCBbNDMuNzc4MzUyNjg0MDYxODY1LCAtNzkuNDE1MDAwMDgxMDYyMzJdLCBbNDMuNzk1NzU5MTUyNTAxNjk1LCAtNzkuNDIyOTMwNzE0Mzg5XSwgWzQzLjc4NzEzNzgxMjg5NzksIC03OS40MTc0OTcwODQ0Mzg1OF0sIFs0My43ODAxNzgsIC03OS40MTY0MDhdLCBbNDMuODAyMDMxLCAtNzkuNDIwNjM4XSwgWzQzLjc5NTg3NSwgLTc5LjQyMjI5NV0sIFs0My43OTA4NDMsIC03OS4zOTIwNDVdLCBbNDMuNzc3OTc3LCAtNzkuNDE1MjhdLCBbNDMuNzk1ODI4NzUxMzgxNzg0LCAtNzkuNDIxMTkxMTMzNjkzMjZdLCBbNDMuNzg2OTUzNzA2OTAyNzQsIC03OS40MTc1ODEyODg3OTg3OV0sIFs0My43OTc2MTA1ODY2MjMxNywgLTc5LjQyNDY3NjUyODQ0MzMzXSwgWzQzLjc5NjcxMTEzMzM3MDI0NSwgLTc5LjQxOTQ5NjE2MDQ5NTcxXSwgWzQzLjc4MDQ1Mjc1NzQ3MjE2LCAtNzkuNDE2NDc2NjY4MjY2NDRdLCBbNDMuNzc3MzM1MzUyMTE1NDksIC03OS40MTQ3OTQ4MTcwOTQ4N10sIFs0My43OTU4MDk3ODIzODg4NDQsIC03OS40MjIzNzk1Nzg1Njg2NF0sIFs0My43ODMyMzU2NTQyMDQ5NjUsIC03OS40MTYxODMwNzAwOTA5MV0sIFs0My43ODEwNjYsIC03OS40MTY0MDhdLCBbNDMuNzk4Mjg2LCAtNzkuNDI1MTExXSwgWzQzLjc4MDY4MjkwNzEwNDA2LCAtNzkuNDE2MjE4MzM4NjEwMzVdLCBbNDMuNzgwNjQzMjIxMTE0OTg1LCAtNzkuNDE2NDg3MDc0NzA4MTddLCBbNDMuNzgwNjI2MDMyMTAyNjQ2LCAtNzkuNDE2NTEwMjA1Mzc5OTVdLCBbNDMuNzgwNTUxNzEzNTYxODQsIC03OS40MTc1MTkzMjMzNDI2Nl0sIFs0My43ODAwOTU2MTA0MTE1MTQsIC03OS40MTYxNzQ4ODg2MTA4NF0sIFs0My43NzkyNTUzNzU4OTQ1ODYsIC03OS40MTU1OTUwNTEyMDg1N10sIFs0My44MDM1NTMyMjg5ODUwNSwgLTc5LjQyMDA3ODA5MzA1NDU4XSwgWzQzLjgwNjIxMywgLTc5LjQxMDkyMV0sIFs0My43Njk0NDg4MjA5OTE4MSwgLTc5LjQxMzA4MTA3NzM1Njc1XSwgWzQzLjc2Mzk2ODgwOTAzOTUyNSwgLTc5LjQxMTY0MDk5MDk3NjIxXSwgWzQzLjc1Nzk1MjI3NDMyMzEyLCAtNzkuNDA4OTM2MjMyMzkxMzddLCBbNDMuNzY4ODksIC03OS40MTI5ODk5XSwgWzQzLjc3MzMyNzgxMjg2NDcxNCwgLTc5LjQxMzkxNDUxNTQ0MzE3XSwgWzQzLjc3OTM4NjMwODQ5NjE2NCwgLTc5LjQxNTUxMDY0NTk2NDMyXSwgWzQzLjc3MTQ0NCwgLTc5LjQxMzEzOV0sIFs0My43NzEwNzU0NDAwMzMzMiwgLTc5LjQxMzM5NjI0NjEwMTYzXSwgWzQzLjc4MTI1Nzc5NDk2NDQ0NiwgLTc5LjQxNTgwMDc3ODE1MDQxXSwgWzQzLjc2NjAxMTcwODk3MTE5LCAtNzkuNDEwODQ0NDM2NzkwNzddLCBbNDMuNzYzOTcxNDM3Njg3MTgsIC03OS4zOTg4Njc4ODAyOTI0M10sIFs0My43Njg1NTA0MTI0MDkyNiwgLTc5LjM4NjUwMTg1ODQxNzM5XSwgWzQzLjc2ODQ2MTI3MjQzODUzLCAtNzkuNDEyMzc3MTA2MDgwNV0sIFs0My43NTg5MjIsIC03OS40MTAwMV0sIFs0My43ODA1NjMyNDQ1NzIyNSwgLTc5LjQxNTgwMDYxMjUyOTU1XSwgWzQzLjc3ODM1MjY4NDA2MTg2NSwgLTc5LjQxNTAwMDA4MTA2MjMyXSwgWzQzLjc1ODM0MywgLTc5LjQwOTg4XSwgWzQzLjc4MTA5MjI1LCAtNzkuNDE2NjY4NzVdLCBbNDMuNzgyMjAyNTQ2ODc0NzMsIC03OS40MTU0Nzc1MTQyNjY5N10sIFs0My43ODAxNzgsIC03OS40MTY0MDhdLCBbNDMuNzc3OTc3LCAtNzkuNDE1MjhdLCBbNDMuNzY1OTk0NTcyMTI2Mzc0LCAtNzkuNDEwODA2OTkwNDk1ODFdLCBbNDMuNzc3MzM1MzUyMTE1NDksIC03OS40MTQ3OTQ4MTcwOTQ4N10sIFs0My43Njg0NTM2Mzg4NjIxNTUsIC03OS40MTMwMzAzODExODk0N10sIFs0My43NjQ3ODc3OTY1NTY4NzQsIC03OS40MTA3MTYyOTQ4MzcxOV0sIFs0My43MzEzMzg3NzI5NzQzNSwgLTc5LjQwMzc2OTQ0NzY2OTE4XSwgWzQzLjczMzE4MTc5NTUzOTczNiwgLTc5LjQwNDMyMjg0MjA3OTc2XSwgWzQzLjc1Nzk1MjI3NDMyMzEyLCAtNzkuNDA4OTM2MjMyMzkxMzddLCBbNDMuNzMxMTkzMDI2MjM3NzUsIC03OS40MDM2Nzc1OTU3NjIxNV0sIFs0My43MzE3MTE0NDk3Mjc5MywgLTc5LjQwMzkwNzY0NzU3NDc0XSwgWzQzLjczMDgwNjYyNTczNzA1LCAtNzkuNDAzODIzMTYxODAzMTVdLCBbNDMuNzMyNTM0NzgzMDc0ODcsIC03OS40MDQxMDc3NTU3OTM4Nl0sIFs0My43NTg5MjIsIC03OS40MTAwMV0sIFs0My43NjM5NzE0Mzc2ODcxOCwgLTc5LjM5ODg2Nzg4MDI5MjQzXSwgWzQzLjc1ODM0MywgLTc5LjQwOTg4XSwgWzQzLjc0NDU1OTE0OTc4MjY3LCAtNzkuNDA0NDAyNjM4MDQ2NDNdLCBbNDMuNzQ0NzU5NDMzMzA1OTcsIC03OS40MDYzNTQ5OTQ4MTQzXSwgWzQzLjc0NDYzNzI3OTg0OTM5LCAtNzkuNDA2NTAwMjIxMTc5NjRdLCBbNDMuNzQ2MzU1LCAtNzkuNDA4Mjc3XSwgWzQzLjc0NzI5NjgyMzI4NzM2NCwgLTc5LjM4NTA0MDQ1NzgwOTYxXSwgWzQzLjc0NzQ5NzM0ODE5NTQyLCAtNzkuMzg0OTM1MDYzMTAwNTRdLCBbNDMuNzQ3MTAzLCAtNzkuMzg0Njg5XSwgWzQzLjc1Nzg0NDAyNTMyNjYyLCAtNzkuNDA5MzUzMTAwNDI2NV0sIFs0My43NTk3MTg4NTgzNTgxOSwgLTc5LjQxMDMzMTUyNDI2MDMzXSwgWzQzLjc2MDA0MSwgLTc5LjQxMDc4NF0sIFs0My43NjExOTQsIC03OS40MDc5MjVdLCBbNDMuNzYzMTIzNDg0OTczMjUsIC03OS40MDUyMDg0MjYwNTcxM10sIFs0My43NjMwNDg0ODQwNzIyNiwgLTc5LjQwNjI0MTg2MzYwMDY2XSwgWzQzLjc2MzkwMDI1NDYyMzUsIC03OS4zOTkzMDk5MTQ5NDA1OV0sIFs0My43NjExOTkxMDUzODUwNywgLTc5LjQxMjQzNzczODY2MTI1XSwgWzQzLjc2MjI1MTA1Mjc4MzkyLCAtNzkuNDEwNDc5OTM1OTU4NTNdLCBbNDMuNzYyNDgzLCAtNzkuNDEwMjYxXSwgWzQzLjc2MjcxMTY0MDA1NDE4LCAtNzkuNDEwMDA3MjE2Mzg1NzFdLCBbNDMuNzkxNjMzMTYwMzMxOTUsIC03OS40NDc4OTE1MDE1NzA5OF0sIFs0My43ODQyMTM2OTcxMzMzNywgLTc5LjQ0NjA5NzcxNjQ2MTk4XSwgWzQzLjc3NTc2ODk5MzE0NzE3NSwgLTc5LjQzNDI3MTYzNDAxODJdLCBbNDMuNzk0ODA4MDUwMTU4NDgsIC03OS40NDYwNjAzMDc3NTM2N10sIFs0My43NzQzMjU0NTU2MTUxNTYsIC03OS40NDI2NTEzMzY3OTU0Ml0sIFs0My43NzQwMDgzNzQ0MDk5NCwgLTc5LjQ0MjY5NzI4NzU3ODA4XSwgWzQzLjc4NDMxMjE1MjAyNzc4LCAtNzkuNDQ2MjEyNzE3NTA3MjVdLCBbNDMuNzkxNzYwNzE4OTUwODYsIC03OS40NDQ3MTgxNzU4MjY1Ml0sIFs0My43OTI5MzAyMTkzOTc2OCwgLTc5LjQ0NjU1MzM4MTY5NzUzXSwgWzQzLjc5MjY2MzM5NjIzMTQzLCAtNzkuNDQxMzI4MzQxMDgxXSwgWzQzLjc5NDA1OSwgLTc5LjQ0NTk0N10sIFs0My43NzUxODI3NzYwMDg3OCwgLTc5LjQ2ODY4Mjg1OTI0NjFdLCBbNDMuNzY5NDQyNjAwMzc2ODcsIC03OS40Njc0MjQ4OTYzNTcwM10sIFs0My43NjkxNzY0ODMxNTQzLCAtNzkuNDY3NzUwNTQ5MzE2NF0sIFs0My43NTk4NDAzNTIwMzE1NywgLTc5LjMyNDcxODc5OTE3NTEzXSwgWzQzLjc0NjE0MywgLTc5LjMyNDYzXSwgWzQzLjc1ODI1ODU4NzkxMzU4LCAtNzkuMzQ4ODg1NzQ3ODg3Nl0sIFs0My43NDIyMjg4MzUyNTQ2NjQsIC03OS4zMTM1NzY5NjQ1Mjg0MV0sIFs0My43NTQ1ODMwOTQ3NjY0MiwgLTc5LjM1MTU0MjkzOTM1ODE0XSwgWzQzLjc1NDQ5NjEzODE3MjcyLCAtNzkuMzUxNDAxMjQwNjYwNzZdLCBbNDMuNzYwNzA0MTYyNDk3NzEsIC03OS4zMjUzOTU1MTk1NDI3MV0sIFs0My43NDE0NTE4ODQyNzEzNSwgLTc5LjMxOTYzMzQ4NTkzMjFdLCBbNDMuNzUyODE0LCAtNzkuMzE0MDY3XSwgWzQzLjc2OTYxLCAtNzkuMzMwOTA0XSwgWzQzLjc0MDQ0Njk3MzE3MDIzNiwgLTc5LjMyNDE2ODYxNjM5MDYyXSwgWzQzLjc2NDYwNzY0NDY5MDY1NiwgLTc5LjMzNjEwNjE1NDA1OTkyXSwgWzQzLjc0MDc0MywgLTc5LjMyMDgzNl0sIFs0My43NTI1NTcyMTg3Nzk4NSwgLTc5LjM0Nzg2OTI4Nzk0MzAxXSwgWzQzLjc1NjI1ODY1OTYzNDIxLCAtNzkuMzQ5NTcwOTc3Nzk3MDFdLCBbNDMuNzU2OTI2MDg0NjYxMzcsIC03OS4zNTA2MDA0MzcwMDU5NV0sIFs0My43NTQzOTkwODQzMzQxLCAtNzkuMzUxNjYwOTM3NDc3MzhdLCBbNDMuNzU5MzM0ODUwOTA3ODg0LCAtNzkuMzA5ODMxNjQwODg5N10sIFs0My43NjkzMjI4NTk5NTQ1OCwgLTc5LjMyMjQ0NjUyMzI2OTkyXSwgWzQzLjc3MDE3MzEzNDk0MTAxLCAtNzkuMzMwMjA2ODA5MTA1NzddLCBbNDMuNzcwMTc0NDU3ODk5NjUsIC03OS4zMzAxNzM0ODYyMTExOF0sIFs0My43NTQ3MzgxMTUzMzE1NywgLTc5LjM1MDA2OTgyNjI5Mzk1XSwgWzQzLjc1NDMzMDA4MTk5MTQ3NiwgLTc5LjM1NzQ2NDY1NDY0ODU1XSwgWzQzLjc1Mzc2NjcxLCAtNzkuMzU5MDA0NjddLCBbNDMuNzU4MjU4NTg3OTEzNTgsIC03OS4zNDg4ODU3NDc4ODc2XSwgWzQzLjczNjI1NjQwMDI1MzM4LCAtNzkuMzQ1MTMxNTIwODE3MTZdLCBbNDMuNzUzMzA5NjM0MTE4NzEsIC03OS4zNTg4MzY2NzE0MTEzXSwgWzQzLjc1NDU4MzA5NDc2NjQyLCAtNzkuMzUxNTQyOTM5MzU4MTRdLCBbNDMuNzU0NDk2MTM4MTcyNzIsIC03OS4zNTE0MDEyNDA2NjA3Nl0sIFs0My43NTI5NjIyMDU3NDMwNywgLTc5LjM1OTc4MDczNzY4NTUxXSwgWzQzLjc1MzU5MzU5NDQ0NzUyLCAtNzkuMzU0NDczMzM5NzQ5NDldLCBbNDMuNzU0Mzk5MDg0MzM0MSwgLTc5LjM1MTY2MDkzNzQ3NzM4XSwgWzQzLjc1NjI1ODY1OTYzNDIxLCAtNzkuMzQ5NTcwOTc3Nzk3MDFdLCBbNDMuNzU3ODc5NTQxMTUwNzE0LCAtNzkuMzUzNDMwMTU3NDIxNTZdLCBbNDMuNzUyNTU3MjE4Nzc5ODUsIC03OS4zNDc4NjkyODc5NDMwMV0sIFs0My43NTY5MjYwODQ2NjEzNywgLTc5LjM1MDYwMDQzNzAwNTk1XSwgWzQzLjc1NDczODExNTMzMTU3LCAtNzkuMzUwMDY5ODI2MjkzOTVdLCBbNDMuNzQ3MTAzLCAtNzkuMzg0Njg5XSwgWzQzLjc0NzQ5NzM0ODE5NTQyLCAtNzkuMzg0OTM1MDYzMTAwNTRdLCBbNDMuNzQ3Mjk2ODIzMjg3MzY0LCAtNzkuMzg1MDQwNDU3ODA5NjFdLCBbNDMuNzM0Mzk5NjgxODUzMDYsIC03OS4zNDUyMDM4MDkwODYxXSwgWzQzLjczNTc2NDM1MjY1MDk3NSwgLTc5LjM0NDE1NTkxMjEyMDE5XSwgWzQzLjcxMjcxMTk5MDQzMjU1LCAtNzkuMzU4Mzg5Mzc3NTk0XSwgWzQzLjczNDgyODksIC03OS4zNDM4ODc2XSwgWzQzLjczNjI1NjQwMDI1MzM4LCAtNzkuMzQ1MTMxNTIwODE3MTZdLCBbNDMuNzI3NTM2MDk2NDkxNjQsIC03OS4zMzk1NDczNzM1NTg2Nl0sIFs0My43MTAwODA1MTE0MDk5NCwgLTc5LjM2MjUyOTM3NTkwNzg0XSwgWzQzLjcyMzY4NjY2NzY0MTAwNSwgLTc5LjMzNjcwMDk3MzcwMjcyXSwgWzQzLjcxNjAyNTY1MzM2NDA0LCAtNzkuMzQwMzE0MzY5NjI3OThdLCBbNDMuNzIyNDUyNTc2OTI2Mjk0LCAtNzkuMzM0NTU3MzY2NTEwMV0sIFs0My43MjA5MDU0MDAwOTgwMiwgLTc5LjMzMjMzODQ5NjQ0NzY1XSwgWzQzLjcyMDM2OTY1ODc2NDc0LCAtNzkuMzMxNTE4NzkwMDAxOF0sIFs0My43MDc1Mzc4MjI2MTQ1NzYsIC03OS4zNDM3NDI3Nzk1MDIxNl0sIFs0My43MTMyNzQ2MTk4MDA5NCwgLTc5LjM2NTAyNjcyNzMyMTM2XSwgWzQzLjcyODgyODk4OTE0NzEzLCAtNzkuMzI5MTU2Mzk0OTI5MDddLCBbNDMuNzE0MDgwODQxNjc3ODg0LCAtNzkuMzYwMjM2ODkxMTcxNDNdLCBbNDMuNzEwNDkwMTEwOTM2NTU0LCAtNzkuMzU4MDIwODkzODA5ODddLCBbNDMuNzA1MTE2NTAzNzk5NTY2LCAtNzkuMzUwNTk3NTYwNDA1NzldLCBbNDMuNzU1Mzk0ODQ0MDAzNzEsIC03OS40NDA2ODU5Nzg5OTY5XSwgWzQzLjc1MTIxODYyMDMxMzE0NiwgLTc5LjQ1NzQ0NTU3NTc2NTE1XSwgWzQzLjc1NDE4NTkxMDczMTkyLCAtNzkuNDY4NzA1MDI1NDcwMzZdLCBbNDMuNzU5NTg3LCAtNzkuNDY1MTE4XSwgWzQzLjc1NjIwOTg3MTU5OTA1LCAtNzkuNDM5Mjk0NDgwODI2MzhdLCBbNDMuNzUxMDU3NjcxMTQ4MzQsIC03OS40NTU1OTA4NTM5MjU0N10sIFs0My43NTU3ODAxNzA3NzEzMSwgLTc5LjQzNzQzNzQzMjU2MzA0XSwgWzQzLjc1MDg2NiwgLTc5LjQ1NjQ4NV0sIFs0My43NTQzNjEyNzU1MjQxLCAtNzkuNDY2MzgxMTU4NjAwMTZdLCBbNDMuNzY0OTUyODQyMzAxNjI1LCAtNzkuNDY3NjY2NjAyMzU1MzRdLCBbNDMuNzU0OTI5OTI0NDUxNjIsIC03OS40NzA5MDYxMzM2NjQ2OF0sIFs0My43NzQwMDgzNzQ0MDk5NCwgLTc5LjQ0MjY5NzI4NzU3ODA4XSwgWzQzLjc3NDMyNTQ1NTYxNTE1NiwgLTc5LjQ0MjY1MTMzNjc5NTQyXSwgWzQzLjc2OTQ0MjYwMDM3Njg3LCAtNzkuNDY3NDI0ODk2MzU3MDNdLCBbNDMuNzY5MTc2NDgzMTU0MywgLTc5LjQ2Nzc1MDU0OTMxNjRdLCBbNDMuNzY0MTU1LCAtNzkuNDkwMjI3XSwgWzQzLjc1OTkxMzQyOTU5MzYzLCAtNzkuNDg4ODg0NjMyOTkxNTldLCBbNDMuNzU0NDA4NDQ5NDI0MTgsIC03OS40ODc3ODMxNjM3ODU5M10sIFs0My43NTU3NTA5MjE4NzA1OSwgLTc5LjQ3MzY1Mjg5OTIzNDExXSwgWzQzLjc1NDE4NTkxMDczMTkyLCAtNzkuNDY4NzA1MDI1NDcwMzZdLCBbNDMuNzU5NTg3LCAtNzkuNDY1MTE4XSwgWzQzLjc2OTkxOCwgLTc5LjUwMjIxN10sIFs0My43NzMzMzYwNywgLTc5LjUwNTI3NjQ4XSwgWzQzLjc3MzE5NzE2ODk3NzY1LCAtNzkuNTAxMjkyMjk2MzI0MDddLCBbNDMuNzc0MTEyNTM3NjgzMzEsIC03OS41MDE5NDU3MDcwNDEwNl0sIFs0My43NzQxNjgxMzE3Mzc5NCwgLTc5LjUwMTg4ODc2OTgzNzE4XSwgWzQzLjc3Mjg1NDg1MDU1MTUyNSwgLTc5LjQ5ODQwNzUwODYyMTE4XSwgWzQzLjc3Mjc2OTU1OTgwNTMyLCAtNzkuNDk4ODAyODkzNDcxNjhdLCBbNDMuNzczOTEsIC03OS41MDI5NjNdLCBbNDMuNzczNTU0NDA0OTA0NywgLTc5LjUwMTU2NTA0ODI5MjExXSwgWzQzLjc1NTk0OTgyMjMzNDYxNCwgLTc5LjQ3NDA4ODA1ODA4MjJdLCBbNDMuNzc0MjA2NzE3ODYwMDUsIC03OS41MDE1NDMwODMxNzUyNV0sIFs0My43NzQyNTM0NTc2Mzc0MiwgLTc5LjUwMTU3NDc4Mjc5NDg5XSwgWzQzLjc3NDI2MjI4NjczNzAzLCAtNzkuNTAyMTAzMTkyMDA2NDRdLCBbNDMuNzczNzgwNzUxNjM4NDA1LCAtNzkuNTAyOTk2MTgwNzM4OTZdLCBbNDMuNzczNjQzMTE4MzA4NTIsIC03OS41MDM3NzIyMDUwMzIzNl0sIFs0My43NjQ5NTI4NDIzMDE2MjUsIC03OS40Njc2NjY2MDIzNTUzNF0sIFs0My43NjkxNzY0ODMxNTQzLCAtNzkuNDY3NzUwNTQ5MzE2NF0sIFs0My43Njk0NDI2MDAzNzY4NywgLTc5LjQ2NzQyNDg5NjM1NzAzXSwgWzQzLjc3NjUzMTE2MjA0NjksIC03OS41MDI0MDUyMTAwNTA1NF0sIFs0My43NTQ5Mjk5MjQ0NTE2MiwgLTc5LjQ3MDkwNjEzMzY2NDY4XSwgWzQzLjc3NDI4NDY2MTc2MjAyLCAtNzkuNTAxMzk0MTY2OTUwMTldLCBbNDMuNzgxNzgyNDQ5NDYzMTUsIC03OS40OTAyNDY4MjMwOTY3M10sIFs0My43NzUxODI3NzYwMDg3OCwgLTc5LjQ2ODY4Mjg1OTI0NjFdLCBbNDMuNzgyMTksIC03OS40OTA0OTFdLCBbNDMuNzgyMjYwMTM0MjYzOTQsIC03OS40OTA0MjgwNTc1MjU3NV0sIFs0My43ODE4OTE5NjYzMDcwMywgLTc5LjQ5MzY2Mjc1NzA3MDg1XSwgWzQzLjc4MTk4NiwgLTc5LjQ5Mzk5Nl0sIFs0My43NzI3NzIyMzM0MjkyNywgLTc5LjUwNDYyNjM4NDgwOTY3XSwgWzQzLjc1NDE4NTkxMDczMTkyLCAtNzkuNDY4NzA1MDI1NDcwMzZdLCBbNDMuNzUxMjE4NjIwMzEzMTQ2LCAtNzkuNDU3NDQ1NTc1NzY1MTVdLCBbNDMuNzI2NTIzOTMxODA3NDQsIC03OS40ODM2NTkzMzgwMjQ1N10sIFs0My43Mjg0MDM2NzA0NzI2OTQsIC03OS40Nzk3ODg1MTY0OTA0N10sIFs0My43MjYyOTk4Mjg1NzI0NCwgLTc5LjQ1MjI2NDE4OTEzMzQyXSwgWzQzLjc1NTc1MDkyMTg3MDU5LCAtNzkuNDczNjUyODk5MjM0MTFdLCBbNDMuNzI1MDgxNTkwNzY0MywgLTc5LjQ1MzM2NDg1MjAyNTZdLCBbNDMuNzUxMDU3NjcxMTQ4MzQsIC03OS40NTU1OTA4NTM5MjU0N10sIFs0My43Mzc5MzA5ODk3NjA3OSwgLTc5LjQ3MTE0MzgwMjI3NDEzXSwgWzQzLjczMTg3MzcwMzU1MDQzLCAtNzkuNDU5MjAzMTMyODE4MDNdLCBbNDMuNzMyNzA3LCAtNzkuNDUyMTU1XSwgWzQzLjc1MDg2NiwgLTc5LjQ1NjQ4NV0sIFs0My43NTQzNjEyNzU1MjQxLCAtNzkuNDY2MzgxMTU4NjAwMTZdLCBbNDMuNzI2MjI5NDY3NzU2OSwgLTc5LjQ4MDU1MzAwNDUyNTA0XSwgWzQzLjcyNzE0MDkxMzM5MTI3NCwgLTc5LjQ4MjQyNzQ1MTU3MjgyXSwgWzQzLjc0NjQ1NTE4MTE2MDY4LCAtNzkuNDg3MjIxNzMyNzk2NTNdLCBbNDMuNzU0OTI5OTI0NDUxNjIsIC03OS40NzA5MDYxMzM2NjQ2OF0sIFs0My43MjQ2NDYsIC03OS40NTUyNDddLCBbNDMuNzI1Njc4LCAtNzkuNDUyMTc1XSwgWzQzLjcyNTM5OTkzMzE2NDA4NCwgLTc5LjQ1MTc0MDExMjgyOTUzXSwgWzQzLjc1NTk0OTgyMjMzNDYxNCwgLTc5LjQ3NDA4ODA1ODA4MjJdLCBbNDMuNzE4NjQzNDM1NTIxNTM1LCAtNzkuNTA3NjUyNjYwMDA3ODJdLCBbNDMuNzIwNDIwMDU5MzgzOTksIC03OS41MTM3MzY0Njk2NjA5XSwgWzQzLjcxMTk0NjA1Mjc2NzEwNCwgLTc5LjUzMTUwOTU3MzIyNjU2XSwgWzQzLjcxOTcyMjA1NjMxODY5LCAtNzkuNTEyOTQ4OTg5ODY4MTZdLCBbNDMuNzE4OTQ1Nzk3OTQwNjksIC03OS41MjU5MjExMTM0ODU4XSwgWzQzLjcyNDExNCwgLTc5LjUwODk1XSwgWzQzLjcxNTYwMTcwNDY4MjM2LCAtNzkuNTA2ODU4NDg3NTc4NjVdLCBbNDMuNzExNDEyMTc1MTk5MzQsIC03OS41MzUxMjk5NzM1NTcwOV0sIFs0My43MDYyNywgLTc5LjUwNDc5XSwgWzQzLjcxMTYzMjY1MjIyOTAyLCAtNzkuNTMyNTc5ODUzNzQ2MDZdLCBbNDMuNzI2NTIzOTMxODA3NDQsIC03OS40ODM2NTkzMzgwMjQ1N10sIFs0My43Mjg0MDM2NzA0NzI2OTQsIC03OS40Nzk3ODg1MTY0OTA0N10sIFs0My43MTg2NDM0MzU1MjE1MzUsIC03OS41MDc2NTI2NjAwMDc4Ml0sIFs0My43MjcxNDA5MTMzOTEyNzQsIC03OS40ODI0Mjc0NTE1NzI4Ml0sIFs0My43MjQxMTQsIC03OS41MDg5NV0sIFs0My43Mzk4NiwgLTc5LjUxMzMzXSwgWzQzLjcyNjIyOTQ2Nzc1NjksIC03OS40ODA1NTMwMDQ1MjUwNF0sIFs0My43NDY0NTUxODExNjA2OCwgLTc5LjQ4NzIyMTczMjc5NjUzXSwgWzQzLjc0ODY3OCwgLTc5LjUxNzI2MTUxXSwgWzQzLjc1NzUyMDI1MzQ0MDMyNiwgLTc5LjUxNDYyNzg2NjUyODU4XSwgWzQzLjc1NjU2NzQ3MzIzODU4LCAtNzkuNTI3NDc0NzE3NzI2MjRdLCBbNDMuNzY5MzM1NjYyODg2MTksIC03OS41MjExMDY0MTkyMzAxNl0sIFs0My43NjE1ODA0NjkzOTAzNDYsIC03OS41NDAwNTA4MDA4MDk4Ml0sIFs0My43Mzk4NiwgLTc5LjUxMzMzXSwgWzQzLjc1MzY2MiwgLTc5LjU0MjY4OTk2NzcwOTQ4XSwgWzQzLjc0ODY3MDU2NTM3OTQ3LCAtNzkuNTQyMTkxNDcxNDExNzhdLCBbNDMuNzEzMjYwMzMxNzQ0ODYsIC03OS4zMDgwNjMxODYwMjcxM10sIFs0My43NDIyMjg4MzUyNTQ2NjQsIC03OS4zMTM1NzY5NjQ1Mjg0MV0sIFs0My43NDYxNDMsIC03OS4zMjQ2M10sIFs0My43MjU4MTg3NjI2NzI0MiwgLTc5LjMxMjc4NTQxNDcwNjcxXSwgWzQzLjcyNzA1MTMwNjAzNDA3LCAtNzkuMzE3NDE3NjA5MDg2NzldLCBbNDMuNzM2NjAyNzI0NzQ2NDA1LCAtNzkuMzA3ODExNzM5MDI4NDFdLCBbNDMuNzM1OTY4MTA5MzU4MzEsIC03OS4zMDYyMzYzODE0Mzc0N10sIFs0My43NDE0NTE4ODQyNzEzNSwgLTc5LjMxOTYzMzQ4NTkzMjFdLCBbNDMuNzIwMjI5LCAtNzkuMzEzNTYxXSwgWzQzLjcyNjQ4LCAtNzkuMjk5NzhdLCBbNDMuNzQwNzQzLCAtNzkuMzIwODM2XSwgWzQzLjcyODgyODk4OTE0NzEzLCAtNzkuMzI5MTU2Mzk0OTI5MDddLCBbNDMuNzQwNDQ2OTczMTcwMjM2LCAtNzkuMzI0MTY4NjE2MzkwNjJdLCBbNDMuNzE0NjM4NTY1MTg0NTUsIC03OS4zMTU1NDkwMDQ0ODA2Nl0sIFs0My43MTUxMTI0NzkwNDgzNDQsIC03OS4zMDUzNjE0MTU4NDI4NV0sIFs0My43MjAzNjk2NTg3NjQ3NCwgLTc5LjMzMTUxODc5MDAwMThdLCBbNDMuNzIwOTA1NDAwMDk4MDIsIC03OS4zMzIzMzg0OTY0NDc2NV0sIFs0My43MjI0NTI1NzY5MjYyOTQsIC03OS4zMzQ1NTczNjY1MTAxXSwgWzQzLjcxMzI2NDA1NTYzMDg0LCAtNzkuMzA5ODUxNzE4MzE1MDddLCBbNDMuNzEzMjQ5MDUzMzQxNTUsIC03OS4zMDc4NTIwODI2NzY0OV0sIFs0My43MTMyNjAzMzE3NDQ4NiwgLTc5LjMwODA2MzE4NjAyNzEzXSwgWzQzLjcwNzg0NCwgLTc5LjI5NTU4XSwgWzQzLjY5NjkyMiwgLTc5LjMyOTUyXSwgWzQzLjcxNzIxNjQ5MTY5OTIyLCAtNzkuMjkzODA3OTgzMzk4NDRdLCBbNDMuNzA4MTM2Mjc4MTQ3OTIsIC03OS4zMTQxMDQ1ODg2NjIzXSwgWzQzLjcwNjgzMjc3MTkxNzA2NCwgLTc5LjMxMTc4MzE0MjIzODM1XSwgWzQzLjcwNTc2OSwgLTc5LjMxMTYzOF0sIFs0My43MTMyNjQwNTU2MzA4NCwgLTc5LjMwOTg1MTcxODMxNTA3XSwgWzQzLjcxMzI0OTA1MzM0MTU1LCAtNzkuMzA3ODUyMDgyNjc2NDldLCBbNDMuNzE0NjM4NTY1MTg0NTUsIC03OS4zMTU1NDkwMDQ0ODA2Nl0sIFs0My43MTUxMTI0NzkwNDgzNDQsIC03OS4zMDUzNjE0MTU4NDI4NV0sIFs0My43MDIyMTE3ODczMTM5NywgLTc5LjI5NjgwOTQzMzUwODg2XSwgWzQzLjcyMDIyOSwgLTc5LjMxMzU2MV0sIFs0My42OTI3ODksIC03OS4zMTU5NTFdLCBbNDMuNjk3NDA3MDIzNjY2NjYsIC03OS4zMjkxNzUxNTk5MzQzOF0sIFs0My42OTc0NzU0NTIzNjQ4LCAtNzkuMzI5MDU1Mzk4NzAyNl0sIFs0My42ODY1MjcxMDgxNzQyMSwgLTc5LjMwODg5NzI1Njg1MTJdLCBbNDMuNjg1MzI1MTI2MDIxOTY1LCAtNzkuMzE0OTgxNzEyMzUxMTZdLCBbNDMuNjc4MDc3MDkzMjgwNzgsIC03OS4zMTQ4Njc1MDUxMTE3XSwgWzQzLjY4MDM2MzEyNjE5OTIyLCAtNzkuMjg5NjkxNzM0MTYxMjRdLCBbNDMuNjgyMzQwMDkwNTcyNTgsIC03OS4zMjg1Mjk4NTI2MzU3XSwgWzQzLjY4MjQsIC03OS4zMjg3M10sIFs0My42ODUzOTI3NTI2NzEyODQsIC03OS4zMTQxNjE2NTczNTIxN10sIFs0My42ODMyMDEsIC03OS4zMjU4NDldLCBbNDMuNjgzMDcyNzM1NTc5MDYsIC03OS4yOTk4NzQ4MDkzNTkzXSwgWzQzLjY4NDU2MjU5MTU0ODUzLCAtNzkuMzA3MzYyMDY1NDQzNjhdLCBbNDMuNjk2OTIyLCAtNzkuMzI5NTJdLCBbNDMuNjgyNTE0MjM1NjUxNzgsIC03OS4zMjcwMTk3Mzc1NTU4XSwgWzQzLjY4NTUxODAzOTkxNDcyLCAtNzkuMzEzODcyODUwNDEzNTddLCBbNDMuNjg4ODI5NTMyMzExNDk1LCAtNzkuMzI2MDAyMTA5NjgxODVdLCBbNDMuNjgzNjMwNDQ2NjY3MjEsIC03OS4zMjMyMTE1MzU4Nzg0NF0sIFs0My42ODA3ODEsIC03OS4yODU3MjddLCBbNDMuNjg0OTc0ODUzNzQ3NjA1LCAtNzkuMzE2MTA0Mzk3ODQwMTVdLCBbNDMuNjg4NTYwNjUyNjQwNjc1LCAtNzkuMzAxOTE1MjU2OTgyNTRdLCBbNDMuNjg3NTgxMzg3ODU5OTQsIC03OS4zMDE3MzQ4OTg2NjA2OF0sIFs0My42OTExMzA5NDYxMTI5LCAtNzkuMjg3OTkxNTAyMTA0MDVdLCBbNDMuNjg1NjU0ODM0OTc3Mzg1LCAtNzkuMzEyOTk5MjAzNDQ3NTldLCBbNDMuNjg4OTQ3LCAtNzkuMjk3NjY1XSwgWzQzLjY5Mjc4OSwgLTc5LjMxNTk1MV0sIFs0My42ODUwMDQ5MDI4MTk0NSwgLTc5LjMxNDkxNjEzMzg4MDYyXSwgWzQzLjY4Mzk2NjkzOTI0NTMxNiwgLTc5LjMwMDExMTQ1MDAyMzczXSwgWzQzLjY4MTc2NjI1OTcwMjY2LCAtNzkuMzEwNTEyMDM4Njg1NzJdLCBbNDMuNjg2MjY5LCAtNzkuMzEyNDldLCBbNDMuNjkwMDA1MjE1NzQ1MTYsIC03OS4yOTM1MjkzMTQ4NjgyMV0sIFs0My42ODk4NjgsIC03OS4yOTMzMDZdLCBbNDMuNjc4ODg3ODg1OTM3MDk0LCAtNzkuMjk4MTY2NzQyNDYwMzJdLCBbNDMuNjc4ODk3MDc4MTU4MTEsIC03OS4yOTc3NDUwMTY3MDc4NV0sIFs0My42NzY4ODgyMjM5MDQyNywgLTc5LjMwMzk3NDY2MTExNTVdLCBbNDMuNjgzNjQ2LCAtNzkuMzIyODA4XSwgWzQzLjY4MzEyMjY3MTQyNDc4LCAtNzkuMzI0MTMwMTAzNDczOTldLCBbNDMuNjg5OTc0NTIwNTQ2ODksIC03OS4zMjYzOTg1NTU4NDEwMl0sIFs0My42ODAzNjMxMjYxOTkyMiwgLTc5LjI4OTY5MTczNDE2MTI0XSwgWzQzLjY3MjExMzk0NzI2OTU2NSwgLTc5LjI5MDMzMTQwMDY4ODQzXSwgWzQzLjY3Mjg2NDAwNzYxOSwgLTc5LjI4Njc4MzU1NDIzOTg4XSwgWzQzLjY3MjgwMDkxODU0ODM3LCAtNzkuMjg3MDM4MDIyMzI0NjFdLCBbNDMuNjY5Mzc0NzI5Nzc4ODMsIC03OS4zMDMyMTc2MzkyMDU2Nl0sIFs0My42NzAzNjM1MDI5MjE3MSwgLTc5LjI4NDY5NTUzNjk2OTIyXSwgWzQzLjY3MTkzODAwNjEyMTA3LCAtNzkuMjkxMjM4MDE3NDE3MzddLCBbNDMuNjcwMjEzNzAxMTY3MjUsIC03OS4yOTk2NTMzNjM0NDgwN10sIFs0My42ODY1MjcxMDgxNzQyMSwgLTc5LjMwODg5NzI1Njg1MTJdLCBbNDMuNjc4MDc3MDkzMjgwNzgsIC03OS4zMTQ4Njc1MDUxMTE3XSwgWzQzLjY3MzcyMDQ2MzE5NjM2LCAtNzkuMjgyMTU0ODM5MDEzNTddLCBbNDMuNjczNzY3LCAtNzkuMjgyNzAzXSwgWzQzLjY4NTMyNTEyNjAyMTk2NSwgLTc5LjMxNDk4MTcxMjM1MTE2XSwgWzQzLjY2OTcyNDExOTUzNzMsIC03OS4zMDE1MDI2MjQwMzExMl0sIFs0My42Njk4ODA3Mjc4NDMyNiwgLTc5LjMwMDgyNzkyMjEwMjczXSwgWzQzLjY2ODM3MjEwMTc3OTA0LCAtNzkuMzA4MDA3NTQwMDgyODhdLCBbNDMuNjgzMDcyNzM1NTc5MDYsIC03OS4yOTk4NzQ4MDkzNTkzXSwgWzQzLjY4MDc4MSwgLTc5LjI4NTcyN10sIFs0My42Njg1MDczNDY0NDUyMjQsIC03OS4zMDcyMDY1MDM5OTEzMV0sIFs0My42NzEwNjE4OTAyMTUxMywgLTc5LjI5NTc1NDc4MDgyOTg0XSwgWzQzLjY4NDU2MjU5MTU0ODUzLCAtNzkuMzA3MzYyMDY1NDQzNjhdLCBbNDMuNjg1MzkyNzUyNjcxMjg0LCAtNzkuMzE0MTYxNjU3MzUyMTddLCBbNDMuNjcyODE0MDkwODM5NTksIC03OS4zMTk0Mzc2OTEzMjgzNl0sIFs0My42Njg0OTUsIC03OS4zMDY4OV0sIFs0My42NzI2MzI1NzE3MTU3NjYsIC03OS4yODc0NjcyNTE1MzAyN10sIFs0My42ODU1MTgwMzk5MTQ3MiwgLTc5LjMxMzg3Mjg1MDQxMzU3XSwgWzQzLjY3MjYxNDcxOTUyNjU0LCAtNzkuMjg3NDkxNTM2MTYxNzJdLCBbNDMuNjg0OTc0ODUzNzQ3NjA1LCAtNzkuMzE2MTA0Mzk3ODQwMTVdLCBbNDMuNjY2NjYyNTg0MDAxNzksIC03OS4zMTUwODExODAyNTQ5XSwgWzQzLjY3MzI3MSwgLTc5LjI4NTg1NF0sIFs0My42Nzg4OTcwNzgxNTgxMSwgLTc5LjI5Nzc0NTAxNjcwNzg1XSwgWzQzLjY3ODg4Nzg4NTkzNzA5NCwgLTc5LjI5ODE2Njc0MjQ2MDMyXSwgWzQzLjY3MTMwNiwgLTc5LjI5NDA5Ml0sIFs0My42NzEwMjIxOTM2MDYyMSwgLTc5LjI5NTgwOTA0MTQyOTMxXSwgWzQzLjY3MjE5MzY5MjQ4NDcyNiwgLTc5LjI4OTczMTU2MDk2NDUxXSwgWzQzLjY3Njg4ODIyMzkwNDI3LCAtNzkuMzAzOTc0NjYxMTE1NV0sIFs0My43MTI3MTE5OTA0MzI1NSwgLTc5LjM1ODM4OTM3NzU5NF0sIFs0My43MDU2MTA2NTYxMzk4NiwgLTc5LjM2MDc3NDY4NTE4MDk4XSwgWzQzLjcwNTc1MTIwODE4NzM5NCwgLTc5LjM3NTM0MjY0NjQ0MDI3XSwgWzQzLjcwNjE3Mjc3LCAtNzkuMzYwNjUxOTRdLCBbNDMuNzA2NjE2MDYzODI3NTI1LCAtNzkuMzc1NTQ4OTEwMDAwMzJdLCBbNDMuNzA2MzI3LCAtNzkuMzc1NDI5XSwgWzQzLjcxMjYzNzM0NzIzMDc4LCAtNzkuMzc2OTEzNTM1NjI1N10sIFs0My43MDQ5MjMzNzAyNTA3MDQsIC03OS4zNzQ5MTc5OTk3ODY1Ml0sIFs0My43MDU1OTE3NTIzMzY0NDYsIC03OS4zNzUxNzc5NDg0NTcwNF0sIFs0My43MDQ0Mzg3OTExMDExMjYsIC03OS4zNzQ1ODk4NzcyMzQwOV0sIFs0My43MDQ5ODc3OTIwNjE2NSwgLTc5LjM3NDkwNzI2OTQyMzk3XSwgWzQzLjcxMDA4MDUxMTQwOTk0LCAtNzkuMzYyNTI5Mzc1OTA3ODRdLCBbNDMuNzA0MjY1MDc3ODgyMzksIC03OS4zNzQ2Mjg4Mzg5NDE1Ml0sIFs0My43MTMyNzQ2MTk4MDA5NCwgLTc5LjM2NTAyNjcyNzMyMTM2XSwgWzQzLjcwMzUzLCAtNzkuMzc0NTkxXSwgWzQzLjcxMDQ5MDExMDkzNjU1NCwgLTc5LjM1ODAyMDg5MzgwOTg3XSwgWzQzLjcxNDA4MDg0MTY3Nzg4NCwgLTc5LjM2MDIzNjg5MTE3MTQzXSwgWzQzLjcwNjA5NCwgLTc5LjM3NTI1NV0sIFs0My43MDg4MjU3Njc5MTE2NiwgLTc5LjM2MjgyOTQ5NzMxOTY1XSwgWzQzLjcwNzUzNzgyMjYxNDU3NiwgLTc5LjM0Mzc0Mjc3OTUwMjE2XSwgWzQzLjcyMTc4NjAyNDEzMjY4LCAtNzkuMzc0MTUwNDM3MjM4MzFdLCBbNDMuNzIxNjI5NTIwNzk4MywgLTc5LjM3NjQyNDU1MTAxMDEzXSwgWzQzLjcyMjQ0MzM0NzUxMjA5LCAtNzkuMzc0OTY0MjY4NjExMjJdLCBbNDMuNzIxODEzODA0MTE0NTUsIC03OS4zNzY1MjA0MjYyNjUxMl0sIFs0My43MDgzMDEzMDk0OTE5LCAtNzkuMzg4NDI0NDQyMDcwNTRdLCBbNDMuNzA1MTE2NTAzNzk5NTY2LCAtNzkuMzUwNTk3NTYwNDA1NzldLCBbNDMuNzA1NjEwNjU2MTM5ODYsIC03OS4zNjA3NzQ2ODUxODA5OF0sIFs0My43MTI3MTE5OTA0MzI1NSwgLTc5LjM1ODM4OTM3NzU5NF0sIFs0My42OTQxMDc4MDM1NjA3MiwgLTc5LjM0Mjc5MzM0NTUxMjk2XSwgWzQzLjY5MTgxMjA1OTk5NDk3LCAtNzkuMzQyMTA4NTY1Mjc2NF0sIFs0My43MDYxNzI3NywgLTc5LjM2MDY1MTk0XSwgWzQzLjY5NjkyMiwgLTc5LjMyOTUyXSwgWzQzLjY5MzQ3MTgwMDc4MTA3LCAtNzkuMzQ5NjMzNzkwOTY2MTFdLCBbNDMuNjg0NDc3MTQ1MDIyMjMsIC03OS4zNDY4MzYwOTAzNTY2XSwgWzQzLjY4NDA4MjA2NDQwMTI0NSwgLTc5LjM1Njc4OTAzMjEzMDE4XSwgWzQzLjcxMDA4MDUxMTQwOTk0LCAtNzkuMzYyNTI5Mzc1OTA3ODRdLCBbNDMuNzA3NTM3ODIyNjE0NTc2LCAtNzkuMzQzNzQyNzc5NTAyMTZdLCBbNDMuNjg0NTg1OTQwNDMyLCAtNzkuMzQ2OTA5NTIzMDEwMjVdLCBbNDMuNjk1MTc4LCAtNzkuMzQyNzc3XSwgWzQzLjcxMzI3NDYxOTgwMDk0LCAtNzkuMzY1MDI2NzI3MzIxMzZdLCBbNDMuNzEwNDkwMTEwOTM2NTU0LCAtNzkuMzU4MDIwODkzODA5ODddLCBbNDMuNjg5OTAyMTA0MDE2MDQsIC03OS4zNDkyOTM1MjE3NzkwNl0sIFs0My42ODg5MDcsIC03OS4zNDg2OTRdLCBbNDMuNjg4NjcsIC03OS4zNDgzN10sIFs0My43MDUxMTY1MDM3OTk1NjYsIC03OS4zNTA1OTc1NjA0MDU3OV0sIFs0My42ODY1MzczMzE4MDk0NTQsIC03OS4zNDgxOTc1Njg5ODk3OF0sIFs0My43MTQwODA4NDE2Nzc4ODQsIC03OS4zNjAyMzY4OTExNzE0M10sIFs0My42OTc0MDcwMjM2NjY2NiwgLTc5LjMyOTE3NTE1OTkzNDM4XSwgWzQzLjcxNjAyNTY1MzM2NDA0LCAtNzkuMzQwMzE0MzY5NjI3OThdLCBbNDMuNzA4ODI1NzY3OTExNjYsIC03OS4zNjI4Mjk0OTczMTk2NV0sIFs0My42OTc0NzU0NTIzNjQ4LCAtNzkuMzI5MDU1Mzk4NzAyNl0sIFs0My42ODIzNDAwOTA1NzI1OCwgLTc5LjMyODUyOTg1MjYzNTddLCBbNDMuNjgyNCwgLTc5LjMyODczXSwgWzQzLjY4MzEzOTQxODc4Njc0NSwgLTc5LjM0NjUzMTIyOTcwMTU1XSwgWzQzLjY3OTkwNiwgLTc5LjMzOTgwN10sIFs0My42OTE4MTIwNTk5OTQ5NywgLTc5LjM0MjEwODU2NTI3NjRdLCBbNDMuNjgzMjAxLCAtNzkuMzI1ODQ5XSwgWzQzLjY5NjkyMiwgLTc5LjMyOTUyXSwgWzQzLjY3OTg0ODU5NDcwNjI5LCAtNzkuMzQwMTAxMDkzNTExNDFdLCBbNDMuNjk0MTA3ODAzNTYwNzIsIC03OS4zNDI3OTMzNDU1MTI5Nl0sIFs0My42ODUzMjUxMjYwMjE5NjUsIC03OS4zMTQ5ODE3MTIzNTExNl0sIFs0My42NzkxOTUwNDk4MTg3OSwgLTc5LjM0MzQwMzgzMDY2ODU5XSwgWzQzLjY4MDcxNTUzNDc2ODM2LCAtNzkuMzM3NTI1OTQyNjU0NTRdLCBbNDMuNjgyNTE0MjM1NjUxNzgsIC03OS4zMjcwMTk3Mzc1NTU4XSwgWzQzLjY3ODA3NzA5MzI4MDc4LCAtNzkuMzE0ODY3NTA1MTExN10sIFs0My42NzE3NTc5NTU0Nzk1MzUsIC03OS4zMjg0NDQ0MjQ2NjU4XSwgWzQzLjY3MzgwMDUzMTIwMjUyNCwgLTc5LjMzMDA0Mzc5MjcyNDYxXSwgWzQzLjY4MDQzMjU2NTY4MTQ5LCAtNzkuMzM3ODgwNzc2ODMyMzFdLCBbNDMuNjgyMjI0LCAtNzkuMzQ2MzRdLCBbNDMuNjg4ODI5NTMyMzExNDk1LCAtNzkuMzI2MDAyMTA5NjgxODVdLCBbNDMuNjg0NDc3MTQ1MDIyMjMsIC03OS4zNDY4MzYwOTAzNTY2XSwgWzQzLjY3OTM1MzExNjk0NDM2LCAtNzkuMzQzNTM2NDQ3MTczMjFdLCBbNDMuNjc1MTcwOTk2MzkzOTgsIC03OS4zNDMzOTQ5NzcxNzU4NV0sIFs0My42Nzg2Mjk1MzA4NjM4NDQsIC03OS4zNDc0NjAxMzcyNTI2OF0sIFs0My42NzkwMjUyMTU0ODA0MSwgLTc5LjM0NDE2MjQ5NjU0OTNdLCBbNDMuNjc3MjY3LCAtNzkuMzUzMjc0XSwgWzQzLjY5MzQ3MTgwMDc4MTA3LCAtNzkuMzQ5NjMzNzkwOTY2MTFdLCBbNDMuNjc3NDM4LCAtNzkuMzUyNjgzXSwgWzQzLjY3NzU5NDM3MDAyMzk1LCAtNzkuMzUxNzYxNDQzNzI1OThdLCBbNDMuNjg1MzkyNzUyNjcxMjg0LCAtNzkuMzE0MTYxNjU3MzUyMTddLCBbNDMuNjgzNjMwNDQ2NjY3MjEsIC03OS4zMjMyMTE1MzU4Nzg0NF0sIFs0My42Nzc0ODQ1NTE4MjYyLCAtNzkuMzUzMDc1NjI4NjExNzVdLCBbNDMuNjc4ODM1LCAtNzkuMzQ0NjE0NDRdLCBbNDMuNjg0MDgyMDY0NDAxMjQ1LCAtNzkuMzU2Nzg5MDMyMTMwMThdLCBbNDMuNjg1NTE4MDM5OTE0NzIsIC03OS4zMTM4NzI4NTA0MTM1N10sIFs0My42ODQ5NzQ4NTM3NDc2MDUsIC03OS4zMTYxMDQzOTc4NDAxNV0sIFs0My42ODQ1ODU5NDA0MzIsIC03OS4zNDY5MDk1MjMwMTAyNV0sIFs0My42ODMxMzk0MTg3ODY3NDUsIC03OS4zNDY1MzEyMjk3MDE1NV0sIFs0My42NzcwNjE3NzQ5NTk4MjQsIC03OS4zNTM5MzQyODg5MTY4Ml0sIFs0My42NzgzNjYzMTQyNjk5OSwgLTc5LjM1ODM2NjYxMjAxNDI1XSwgWzQzLjY3NzI2NywgLTc5LjM1MzI3NF0sIFs0My42NzY2NDMwODUyMDI4NywgLTc5LjM1Njg0NjM0NTg1MTA1XSwgWzQzLjY3NzA4NjM0NjM3NzI0LCAtNzkuMzU4ODk0MDE2NzA3NTddLCBbNDMuNjc5OTA2LCAtNzkuMzM5ODA3XSwgWzQzLjY4NDUzNzQ0OTIyNiwgLTc5LjM2NTE0MDQ5NzY4NDQ4XSwgWzQzLjY3MTE4NDA1MTE1MDk0NSwgLTc5LjM0NjgxNTg3Mzk1MTM0XSwgWzQzLjY2OTE3NzEwNzc0NDIwNCwgLTc5LjM1MzEzMzUyOTE0MjkyXSwgWzQzLjY3OTE5NTA0OTgxODc5LCAtNzkuMzQzNDAzODMwNjY4NTldLCBbNDMuNjc3NDM4LCAtNzkuMzUyNjgzXSwgWzQzLjY4MjIyNCwgLTc5LjM0NjM0XSwgWzQzLjY3OTg0ODU5NDcwNjI5LCAtNzkuMzQwMTAxMDkzNTExNDFdLCBbNDMuNjc2MDEyNjQ5MzMwNTY2LCAtNzkuMzU4NzE0NjI1MjYyODVdLCBbNDMuNjc3NTk0MzcwMDIzOTUsIC03OS4zNTE3NjE0NDM3MjU5OF0sIFs0My42Nzg2Mjk1MzA4NjM4NDQsIC03OS4zNDc0NjAxMzcyNTI2OF0sIFs0My42ODQ0NzcxNDUwMjIyMywgLTc5LjM0NjgzNjA5MDM1NjZdLCBbNDMuNjY2OSwgLTc5LjM0NTQzMl0sIFs0My42OTE4MTIwNTk5OTQ5NywgLTc5LjM0MjEwODU2NTI3NjRdLCBbNDMuNjc1MTcwOTk2MzkzOTgsIC03OS4zNDMzOTQ5NzcxNzU4NV0sIFs0My42NzkwMjUyMTU0ODA0MSwgLTc5LjM0NDE2MjQ5NjU0OTNdLCBbNDMuNjc5MzUzMTE2OTQ0MzYsIC03OS4zNDM1MzY0NDcxNzMyMV0sIFs0My42NjU4Njc5NzIwMjA4NSwgLTc5LjM1MDY3MDk4Njk3NTAzXSwgWzQzLjY2NjA0ODQzMzU0MjA2NiwgLTc5LjM0OTI0MTM2NjU5NDUxXSwgWzQzLjY3NzQ4NDU1MTgyNjIsIC03OS4zNTMwNzU2Mjg2MTE3NV0sIFs0My42ODQwODIwNjQ0MDEyNDUsIC03OS4zNTY3ODkwMzIxMzAxOF0sIFs0My42OTQxMDc4MDM1NjA3MiwgLTc5LjM0Mjc5MzM0NTUxMjk2XSwgWzQzLjY4MDcxNTUzNDc2ODM2LCAtNzkuMzM3NTI1OTQyNjU0NTRdLCBbNDMuNjgwNDMyNTY1NjgxNDksIC03OS4zMzc4ODA3NzY4MzIzMV0sIFs0My42NzU3NDksIC03OS4zNTg1NzJdLCBbNDMuNjkzNDcxODAwNzgxMDcsIC03OS4zNDk2MzM3OTA5NjYxMV0sIFs0My42Nzg4MzUsIC03OS4zNDQ2MTQ0NF0sIFs0My42Nzc1ODEsIC03OS4zNTMxOTldLCBbNDMuNjg0NTg1OTQwNDMyLCAtNzkuMzQ2OTA5NTIzMDEwMjVdLCBbNDMuNjY0NDg0MjgwOTU3MTIsIC03OS4zMjUxNjE1MjcwNDIxXSwgWzQzLjY2OTM3NDcyOTc3ODgzLCAtNzkuMzAzMjE3NjM5MjA1NjZdLCBbNDMuNjcyNTU0Mjg5NTgwMzA0LCAtNzkuMzIwNDYzNTc3OTgzMzNdLCBbNDMuNjc4MDc3MDkzMjgwNzgsIC03OS4zMTQ4Njc1MDUxMTE3XSwgWzQzLjY3MTc1Nzk1NTQ3OTUzNSwgLTc5LjMyODQ0NDQyNDY2NThdLCBbNDMuNjYzNjk2NjUwMTM0MzcsIC03OS4zMjg5OTM4MTIzOTc2N10sIFs0My42NjgzNzIxMDE3NzkwNCwgLTc5LjMwODAwNzU0MDA4Mjg4XSwgWzQzLjY3MzgwMDUzMTIwMjUyNCwgLTc5LjMzMDA0Mzc5MjcyNDYxXSwgWzQzLjY2MjIxMDAwMzgzMjYxLCAtNzkuMzM0ODMwNDU2Nzg5MzJdLCBbNDMuNjcwMjEzNzAxMTY3MjUsIC03OS4yOTk2NTMzNjM0NDgwN10sIFs0My42ODIzNDAwOTA1NzI1OCwgLTc5LjMyODUyOTg1MjYzNTddLCBbNDMuNjcyODE0MDkwODM5NTksIC03OS4zMTk0Mzc2OTEzMjgzNl0sIFs0My42ODUzMjUxMjYwMjE5NjUsIC03OS4zMTQ5ODE3MTIzNTExNl0sIFs0My42NzE4NzUyNTIwOTIyMSwgLTc5LjMyNDExMzY5Mjc0NjQ4XSwgWzQzLjY2MzY5NzQzNjUwMTE3LCAtNzkuMzI5MTM2NjQ5MDg4NF0sIFs0My42NjI1MzEzODExMTQ0LCAtNzkuMzMzNjk1ODY0Nzc4ODddLCBbNDMuNjgyNCwgLTc5LjMyODczXSwgWzQzLjY2OTcyNDExOTUzNzMsIC03OS4zMDE1MDI2MjQwMzExMl0sIFs0My42Njg1MDczNDY0NDUyMjQsIC03OS4zMDcyMDY1MDM5OTEzMV0sIFs0My42Njk4ODA3Mjc4NDMyNiwgLTc5LjMwMDgyNzkyMjEwMjczXSwgWzQzLjY2NjM0ODIwMjQ4ODA4LCAtNzkuMzE2ODU0MDA5OTYzNDZdLCBbNDMuNjgzMjAxLCAtNzkuMzI1ODQ5XSwgWzQzLjY2MTg1Mzc0MTg3MTk3LCAtNzkuMzM2MTk1OTExNTg4NTNdLCBbNDMuNjY0NzI4MjUwNTQ3OTgsIC03OS4zMjQxMTcxOTM1MTg2OV0sIFs0My42NTk4NDIyMTc4NjcxOCwgLTc5LjMzMTg2NTM3ODE3MTk1XSwgWzQzLjY2ODQ5NSwgLTc5LjMwNjg5XSwgWzQzLjY3MTkzODAwNjEyMTA3LCAtNzkuMjkxMjM4MDE3NDE3MzddLCBbNDMuNjYzMjI0OTMyMzMwNywgLTc5LjMzMDQ4ODM4ODM0NDVdLCBbNDMuNjgyNTE0MjM1NjUxNzgsIC03OS4zMjcwMTk3Mzc1NTU4XSwgWzQzLjY2OTA5NDI3ODMzNTE5NCwgLTc5LjMzNjY2NTg1Nzg3MjQ2XSwgWzQzLjY2NjY2MjU4NDAwMTc5LCAtNzkuMzE1MDgxMTgwMjU0OV0sIFs0My42ODUzOTI3NTI2NzEyODQsIC03OS4zMTQxNjE2NTczNTIxN10sIFs0My42NjM3ODE4MTcxODM0MzQsIC03OS4zMjgxMTAyNTYzODcyNl0sIFs0My42ODQ1NjI1OTE1NDg1MywgLTc5LjMwNzM2MjA2NTQ0MzY4XSwgWzQzLjY3MDgwMDkxMTc4NDE1NiwgLTc5LjMyODEyNDg1OTk0ODczXSwgWzQzLjY3MTE4OTk2NDc2MDUzLCAtNzkuMzI3MDU4MTUzMTIyNTRdLCBbNDMuNjgzNjMwNDQ2NjY3MjEsIC03OS4zMjMyMTE1MzU4Nzg0NF0sIFs0My42NzEwNjE4OTAyMTUxMywgLTc5LjI5NTc1NDc4MDgyOTg0XSwgWzQzLjY3Mjg3OTY3OTc2NDA4LCAtNzkuMzE5NDg4MDc5OTgwOTddLCBbNDMuNjg1NTE4MDM5OTE0NzIsIC03OS4zMTM4NzI4NTA0MTM1N10sIFs0My42ODQ5NzQ4NTM3NDc2MDUsIC03OS4zMTYxMDQzOTc4NDAxNV0sIFs0My42NjIyMTAwMDM4MzI2MSwgLTc5LjMzNDgzMDQ1Njc4OTMyXSwgWzQzLjY2MTM3MjgxNjc1MDQ5LCAtNzkuMzM4NTc3MzYyODMzNzddLCBbNDMuNjYwODkyMjEzMDkwNjksIC03OS4zNDA2MjU5OTM4MDgxMl0sIFs0My42NjM2OTY2NTAxMzQzNywgLTc5LjMyODk5MzgxMjM5NzY3XSwgWzQzLjY2MjUzMTM4MTExNDQsIC03OS4zMzM2OTU4NjQ3Nzg4N10sIFs0My42NjE4NTM3NDE4NzE5NywgLTc5LjMzNjE5NTkxMTU4ODUzXSwgWzQzLjY2NDQ4NDI4MDk1NzEyLCAtNzkuMzI1MTYxNTI3MDQyMV0sIFs0My42NjA2ODQ1MzIxMzAwNCwgLTc5LjM0MjUwMTM0NzQ5NDhdLCBbNDMuNjU1MTczODgxNjA1MDcsIC03OS4zNDA1OTc2MDEzNzc2MV0sIFs0My42NjY5LCAtNzkuMzQ1NDMyXSwgWzQzLjY2MDUwMTE1MDczOTczNCwgLTc5LjM0MjU2NDkwODQ1MTc4XSwgWzQzLjY1OTczNDQwMjg2Nzk5LCAtNzkuMzQ2MjY2MTQzNDIxODZdLCBbNDMuNjU5ODQyMjE3ODY3MTgsIC03OS4zMzE4NjUzNzgxNzE5NV0sIFs0My42NTg2NzQ2MDAzODcxOCwgLTc5LjM1MTA3Mzc5MjIxNjMzXSwgWzQzLjY2MDgwNjE1MjM1MTg4LCAtNzkuMzQxMjQwNjQ4NDExMTldLCBbNDMuNjY1MDI0NDM5MjkwNzMsIC03OS4zNDEzNzUyMjY5OTY4OV0sIFs0My42NjM2OTc0MzY1MDExNywgLTc5LjMyOTEzNjY0OTA4ODRdLCBbNDMuNjU4NDk4MDc1ODU0MDksIC03OS4zNTIzNTYzOTYyMTE2M10sIFs0My42NzE3NTc5NTU0Nzk1MzUsIC03OS4zMjg0NDQ0MjQ2NjU4XSwgWzQzLjY1OTkxNiwgLTc5LjM1Mzk2M10sIFs0My42NzExODQwNTExNTA5NDUsIC03OS4zNDY4MTU4NzM5NTEzNF0sIFs0My42NjYwNDg0MzM1NDIwNjYsIC03OS4zNDkyNDEzNjY1OTQ1MV0sIFs0My42NjU4Njc5NzIwMjA4NSwgLTc5LjM1MDY3MDk4Njk3NTAzXSwgWzQzLjY2OTE3NzEwNzc0NDIwNCwgLTc5LjM1MzEzMzUyOTE0MjkyXSwgWzQzLjY1ODc0NCwgLTc5LjM0OTI3Nl0sIFs0My42NjAzMzUzMDMxNTc2NSwgLTc5LjM1MDQ3NzEyMjU3OTY2XSwgWzQzLjY1NjM2ODUwNTQzMjc5LCAtNzkuMzU2OTc5Njg3NTA2OTRdLCBbNDMuNjczODAwNTMxMjAyNTI0LCAtNzkuMzMwMDQzNzkyNzI0NjFdLCBbNDMuNjYzMjI0OTMyMzMwNywgLTc5LjMzMDQ4ODM4ODM0NDVdLCBbNDMuNjYzMjE2LCAtNzkuMzUxNTJdLCBbNDMuNjU2NzM4NTQ0OTI4MDU0LCAtNzkuMzU2NTAzMDUyNjc3NTRdLCBbNDMuNjY5MDk0Mjc4MzM1MTk0LCAtNzkuMzM2NjY1ODU3ODcyNDZdLCBbNDMuNjcyNTU0Mjg5NTgwMzA0LCAtNzkuMzIwNDYzNTc3OTgzMzNdLCBbNDMuNjY1MTc4NzUyMTIzOTM2LCAtNzkuMzUyNTMwODIzNDM1MjddLCBbNDMuNjU4Mjk4OTAzNjAyMjgsIC03OS4zNTIzOTcwNDcwNjgxN10sIFs0My42NzUxNzA5OTYzOTM5OCwgLTc5LjM0MzM5NDk3NzE3NTg1XSwgWzQzLjY2NDcyODI1MDU0Nzk4LCAtNzkuMzI0MTE3MTkzNTE4NjldLCBbNDMuNjcxODc1MjUyMDkyMjEsIC03OS4zMjQxMTM2OTI3NDY0OF0sIFs0My42NTMwODA1Nzg4NDQyNzUsIC03OS4zNTcwNzc4NjIxMTIyXSwgWzQzLjY2Mzc4MTgxNzE4MzQzNCwgLTc5LjMyODExMDI1NjM4NzI2XSwgWzQzLjY3MjgxNDA5MDgzOTU5LCAtNzkuMzE5NDM3NjkxMzI4MzZdLCBbNDMuNjY2MzQ4MjAyNDg4MDgsIC03OS4zMTY4NTQwMDk5NjM0Nl0sIFs0My42NTk1ODE4LCAtNzkuMzI5MDYxNV0sIFs0My42NjIwMTAxOTI4NzEwOTQsIC03OS4zMzU3MDg2MTgxNjQwNl0sIFs0My42NTgyMzksIC03OS4zMzkwNzddLCBbNDMuNzMxMzM4NzcyOTc0MzUsIC03OS40MDM3Njk0NDc2NjkxOF0sIFs0My43MTU0OTkxNDkxMDY4OSwgLTc5LjM5Mjg4MTI1OTg4MDE2XSwgWzQzLjczMzE4MTc5NTUzOTczNiwgLTc5LjQwNDMyMjg0MjA3OTc2XSwgWzQzLjcxMzQ4NjE4MTM3NTcxNCwgLTc5LjM5OTgxMTM3MjE1ODgxXSwgWzQzLjczMTE5MzAyNjIzNzc1LCAtNzkuNDAzNjc3NTk1NzYyMTVdLCBbNDMuNzMxNzExNDQ5NzI3OTMsIC03OS40MDM5MDc2NDc1NzQ3NF0sIFs0My43MTI2MzczNDcyMzA3OCwgLTc5LjM3NjkxMzUzNTYyNTddLCBbNDMuNzMwODA2NjI1NzM3MDUsIC03OS40MDM4MjMxNjE4MDMxNV0sIFs0My43MTQ0NTI0MzY4NTg4LCAtNzkuNDAwMDkwNTc2NTYxMTVdLCBbNDMuNzEyNjQxMjAzOTc0NDQsIC03OS4zOTE1NTY1NTE5OTk0NF0sIFs0My43MzI1MzQ3ODMwNzQ4NywgLTc5LjQwNDEwNzc1NTc5Mzg2XSwgWzQzLjcyNzMxMTI3MDYzNTM4LCAtNzkuMzc3ODM0NjE2Nzg1NzNdLCBbNDMuNzIxODEzODA0MTE0NTUsIC03OS4zNzY1MjA0MjYyNjUxMl0sIFs0My43MjE2Mjk1MjA3OTgzLCAtNzkuMzc2NDI0NTUxMDEwMTNdLCBbNDMuNzIyNDQzMzQ3NTEyMDksIC03OS4zNzQ5NjQyNjg2MTEyMl0sIFs0My43MjUzNDM0NzYyNTk0MSwgLTc5LjQwMjQwMDI3NTk2NzMyXSwgWzQzLjcyMTc4NjAyNDEzMjY4LCAtNzkuMzc0MTUwNDM3MjM4MzFdLCBbNDMuNzI1MzcsIC03OS40MDI4MTddLCBbNDMuNzMxNTA0NjAxNTQ5OTMsIC03OS40MDM5NzcwODExMjEzOF0sIFs0My43MTUxODQ4ODYxNDYxMSwgLTc5LjQwMDE2MjAwNjQ1MTI4XSwgWzQzLjcxNDAwNCwgLTc5LjM5OTk1M10sIFs0My43MDc4OTA3NjYxNjc0NCwgLTc5LjM5MzA0ODg0MzQ1MTY4XSwgWzQzLjcxNTQ5OTE0OTEwNjg5LCAtNzkuMzkyODgxMjU5ODgwMTZdLCBbNDMuNzA5NzY0NTg4ODQzNDIsIC03OS4zOTg5NDEwMTUwMTU1OF0sIFs0My43MTE3OTEzNzE3OTAyOSwgLTc5LjM5OTQwMzAwMzk5NjA3XSwgWzQzLjcxMzQ4NjE4MTM3NTcxNCwgLTc5LjM5OTgxMTM3MjE1ODgxXSwgWzQzLjcwNDEzNzk5Njk0MzA0LCAtNzkuMzg4NDEyNjA0NDIxNjddLCBbNDMuNzA0NTEzODc3NDUzMjY2LCAtNzkuMzg4NjE2MDI1NTE3NThdLCBbNDMuNzA2OTYxLCAtNzkuMzk0ODA4XSwgWzQzLjcwOTMyODgyODY5NTMyLCAtNzkuMzk4ODIyNjA3ODE5NzddLCBbNDMuNzA1NzUxMjA4MTg3Mzk0LCAtNzkuMzc1MzQyNjQ2NDQwMjddLCBbNDMuNzEyNjQxMjAzOTc0NDQsIC03OS4zOTE1NTY1NTE5OTk0NF0sIFs0My43MDczMDM1OTkxMTEwMywgLTc5LjM5NjkwMTM2NzAzNjI2XSwgWzQzLjcwNjk0Mzg3MTU5NTcxLCAtNzkuMzk4NDEzMjE4OTE4NTldLCBbNDMuNzA2NjE2MDYzODI3NTI1LCAtNzkuMzc1NTQ4OTEwMDAwMzJdLCBbNDMuNzEyNjM3MzQ3MjMwNzgsIC03OS4zNzY5MTM1MzU2MjU3XSwgWzQzLjcxMTY3NTk5Njk1MTAyLCAtNzkuMzk5MzUxMjM4NDgyMzddLCBbNDMuNzA2ODc5Mzc1ODkxOTQsIC03OS4zOTY2NDU5MjYzMTU3NF0sIFs0My43MDYzMjcsIC03OS4zNzU0MjldLCBbNDMuNzE0NDUyNDM2ODU4OCwgLTc5LjQwMDA5MDU3NjU2MTE1XSwgWzQzLjcwNjEwMzk3NTgxMjQ3LCAtNzkuMzk4NjgyMjU0MjMyODddLCBbNDMuNzExNDQ4OTY2NDQzNjIsIC03OS4zOTkzNDI1NzQ4NzI3OV0sIFs0My43MDEwMjEyNzQzMTU2MSwgLTc5LjM5NzAyNzQ2MDg3OTI2XSwgWzQzLjcwNjQ4NTU4MTg4OTY0NSwgLTc5LjM5OTc2Mjc4NjM0OTg1XSwgWzQzLjcwNTc0ODA0ODAwNzkxLCAtNzkuNDAzNDgxNTIxNjI0OV0sIFs0My43MDcxMjcsIC03OS4zOTU4MDFdLCBbNDMuNzA1NTkxNzUyMzM2NDQ2LCAtNzkuMzc1MTc3OTQ4NDU3MDRdLCBbNDMuNzA3NTA1MzgsIC03OS4zOTg4OTczOF0sIFs0My43MDQ5MjMzNzAyNTA3MDQsIC03OS4zNzQ5MTc5OTk3ODY1Ml0sIFs0My43MDQ0Mzg3OTExMDExMjYsIC03OS4zNzQ1ODk4NzcyMzQwOV0sIFs0My43MDQ5ODc3OTIwNjE2NSwgLTc5LjM3NDkwNzI2OTQyMzk3XSwgWzQzLjcwMjEwMjY3NTExNTQyLCAtNzkuMzg3NjE3NjQ2ODE3Ml0sIFs0My43MDkxNDA3NDYwODI2OCwgLTc5LjM5ODcwNjQ1ODg1Nzc1XSwgWzQzLjcxMzQ4NjE4MTM3NTcxNCwgLTc5LjM5OTgxMTM3MjE1ODgxXSwgWzQzLjcxMTc5MTM3MTc5MDI5LCAtNzkuMzk5NDAzMDAzOTk2MDddLCBbNDMuNzA5NzY0NTg4ODQzNDIsIC03OS4zOTg5NDEwMTUwMTU1OF0sIFs0My43MDkzMjg4Mjg2OTUzMiwgLTc5LjM5ODgyMjYwNzgxOTc3XSwgWzQzLjcwNzg5MDc2NjE2NzQ0LCAtNzkuMzkzMDQ4ODQzNDUxNjhdLCBbNDMuNzE1NDk5MTQ5MTA2ODksIC03OS4zOTI4ODEyNTk4ODAxNl0sIFs0My43MDY5NjEsIC03OS4zOTQ4MDhdLCBbNDMuNzE0NDUyNDM2ODU4OCwgLTc5LjQwMDA5MDU3NjU2MTE1XSwgWzQzLjcwMzUyOTQ3NjgyMTgxLCAtNzkuNDEzNjk4MjgyMzM1OV0sIFs0My43MTE2NzU5OTY5NTEwMiwgLTc5LjM5OTM1MTIzODQ4MjM3XSwgWzQzLjcwNjk0Mzg3MTU5NTcxLCAtNzkuMzk4NDEzMjE4OTE4NTldLCBbNDMuNzA0MTM3OTk2OTQzMDQsIC03OS4zODg0MTI2MDQ0MjE2N10sIFs0My43MDQxMTY0NjYyMjc1NzUsIC03OS40MTExMzUyMjQ5OTM0M10sIFs0My43MDQ1MTM4Nzc0NTMyNjYsIC03OS4zODg2MTYwMjU1MTc1OF0sIFs0My43MDczMDM1OTkxMTEwMywgLTc5LjM5NjkwMTM2NzAzNjI2XSwgWzQzLjcxMTQ0ODk2NjQ0MzYyLCAtNzkuMzk5MzQyNTc0ODcyNzldLCBbNDMuNzMxMzM4NzcyOTc0MzUsIC03OS40MDM3Njk0NDc2NjkxOF0sIFs0My43MDU3NDgwNDgwMDc5MSwgLTc5LjQwMzQ4MTUyMTYyNDldLCBbNDMuNzI4MzM3NDMyMTU3MywgLTc5LjQxODA4OTIxNzU4NjVdLCBbNDMuNzA2MTAzOTc1ODEyNDcsIC03OS4zOTg2ODIyNTQyMzI4N10sIFs0My43MDY4NzkzNzU4OTE5NCwgLTc5LjM5NjY0NTkyNjMxNTc0XSwgWzQzLjcwNjQ4NTU4MTg4OTY0NSwgLTc5LjM5OTc2Mjc4NjM0OTg1XSwgWzQzLjcwMTAyMTI3NDMxNTYxLCAtNzkuMzk3MDI3NDYwODc5MjZdLCBbNDMuNzEyNjQxMjAzOTc0NDQsIC03OS4zOTE1NTY1NTE5OTk0NF0sIFs0My43MzExOTMwMjYyMzc3NSwgLTc5LjQwMzY3NzU5NTc2MjE1XSwgWzQzLjcwNzEyNywgLTc5LjM5NTgwMV0sIFs0My43MDc1MDUzOCwgLTc5LjM5ODg5NzM4XSwgWzQzLjczMTcxMTQ0OTcyNzkzLCAtNzkuNDAzOTA3NjQ3NTc0NzRdLCBbNDMuNzMwODA2NjI1NzM3MDUsIC03OS40MDM4MjMxNjE4MDMxNV0sIFs0My43MjgwOTEzODA3MDQxNiwgLTc5LjQxODAyMTcyNTcwMTVdLCBbNDMuNzA5MTQwNzQ2MDgyNjgsIC03OS4zOTg3MDY0NTg4NTc3NV0sIFs0My43MDY3MzIwMjMxMzM2NCwgLTc5LjM5ODQ5OTgxNTk2NTI4XSwgWzQzLjcwNDEzNzk5Njk0MzA0LCAtNzkuMzg4NDEyNjA0NDIxNjddLCBbNDMuNzA0NTEzODc3NDUzMjY2LCAtNzkuMzg4NjE2MDI1NTE3NThdLCBbNDMuNzA3ODkwNzY2MTY3NDQsIC03OS4zOTMwNDg4NDM0NTE2OF0sIFs0My43MDY5NjEsIC03OS4zOTQ4MDhdLCBbNDMuNzA1NzUxMjA4MTg3Mzk0LCAtNzkuMzc1MzQyNjQ2NDQwMjddLCBbNDMuNzA5NzY0NTg4ODQzNDIsIC03OS4zOTg5NDEwMTUwMTU1OF0sIFs0My43MTE3OTEzNzE3OTAyOSwgLTc5LjM5OTQwMzAwMzk5NjA3XSwgWzQzLjcwNjYxNjA2MzgyNzUyNSwgLTc5LjM3NTU0ODkxMDAwMDMyXSwgWzQzLjcwOTMyODgyODY5NTMyLCAtNzkuMzk4ODIyNjA3ODE5NzddLCBbNDMuNzA2MzI3LCAtNzkuMzc1NDI5XSwgWzQzLjcwMTAyMTI3NDMxNTYxLCAtNzkuMzk3MDI3NDYwODc5MjZdLCBbNDMuNzEzNDg2MTgxMzc1NzE0LCAtNzkuMzk5ODExMzcyMTU4ODFdLCBbNDMuNzE1NDk5MTQ5MTA2ODksIC03OS4zOTI4ODEyNTk4ODAxNl0sIFs0My43MDczMDM1OTkxMTEwMywgLTc5LjM5NjkwMTM2NzAzNjI2XSwgWzQzLjcwNjk0Mzg3MTU5NTcxLCAtNzkuMzk4NDEzMjE4OTE4NTldLCBbNDMuNzA2ODc5Mzc1ODkxOTQsIC03OS4zOTY2NDU5MjYzMTU3NF0sIFs0My42ODczNzM4ODg4MDkzNywgLTc5LjM5MzY5NjM0MzQzMjA1XSwgWzQzLjcwNjEwMzk3NTgxMjQ3LCAtNzkuMzk4NjgyMjU0MjMyODddLCBbNDMuNzEyNjM3MzQ3MjMwNzgsIC03OS4zNzY5MTM1MzU2MjU3XSwgWzQzLjY4ODM3NjEzMjg0NzQ1LCAtNzkuMzk0MTU4MzcxNzA1M10sIFs0My42ODg2NTk2NzQ3MzY0MSwgLTc5LjM5MTk0MDE2MzA2NDhdLCBbNDMuNzA0OTIzMzcwMjUwNzA0LCAtNzkuMzc0OTE3OTk5Nzg2NTJdLCBbNDMuNzExNjc1OTk2OTUxMDIsIC03OS4zOTkzNTEyMzg0ODIzN10sIFs0My43MDU1OTE3NTIzMzY0NDYsIC03OS4zNzUxNzc5NDg0NTcwNF0sIFs0My43MDIxMDI2NzUxMTU0MiwgLTc5LjM4NzYxNzY0NjgxNzJdLCBbNDMuNzA0NDM4NzkxMTAxMTI2LCAtNzkuMzc0NTg5ODc3MjM0MDldLCBbNDMuNzA2NDg1NTgxODg5NjQ1LCAtNzkuMzk5NzYyNzg2MzQ5ODVdLCBbNDMuNzA1NzQ4MDQ4MDA3OTEsIC03OS40MDM0ODE1MjE2MjQ5XSwgWzQzLjY4NzcwOCwgLTc5LjM5NTA2Ml0sIFs0My43MTI2NDEyMDM5NzQ0NCwgLTc5LjM5MTU1NjU1MTk5OTQ0XSwgWzQzLjcwNzEyNywgLTc5LjM5NTgwMV0sIFs0My43MTE0NDg5NjY0NDM2MiwgLTc5LjM5OTM0MjU3NDg3Mjc5XSwgWzQzLjcxNDQ1MjQzNjg1ODgsIC03OS40MDAwOTA1NzY1NjExNV0sIFs0My42ODcxNDUyNjMxMDg5NCwgLTc5LjM5MzUyMDUzNzM2OTc4XSwgWzQzLjcwNDk4Nzc5MjA2MTY1LCAtNzkuMzc0OTA3MjY5NDIzOTddLCBbNDMuNzA3NTA1MzgsIC03OS4zOTg4OTczOF0sIFs0My43MDE1MzgsIC03OS4zODcyNF0sIFs0My42ODY1MTE4MTcyOTY0OSwgLTc5LjM5MzUwNzE4Nzc0NTI3XSwgWzQzLjY4NzM3Mzg4ODgwOTM3LCAtNzkuMzkzNjk2MzQzNDMyMDVdLCBbNDMuNjgxNzQ5NzQxMzAxNDY2LCAtNzkuMzkxNDQ2NjQzOTg5NjVdLCBbNDMuNjg4NjU5Njc0NzM2NDEsIC03OS4zOTE5NDAxNjMwNjQ4XSwgWzQzLjY3OTEwMTE3ODA4MzA2LCAtNzkuMzkwNjg1NTUxMDcyODZdLCBbNDMuNjg4Mzc2MTMyODQ3NDUsIC03OS4zOTQxNTgzNzE3MDUzXSwgWzQzLjY4MjgxMDk1NDY5ODk2NSwgLTc5LjM5MTk0NDY2OTI5OTY5XSwgWzQzLjY3NzAxNTg3ODM5NjgxLCAtNzkuMzg5MzY2NjE5ODQ1MjhdLCBbNDMuNzA0MTM3OTk2OTQzMDQsIC03OS4zODg0MTI2MDQ0MjE2N10sIFs0My42ODc3MDgsIC03OS4zOTUwNjJdLCBbNDMuNzA0NTEzODc3NDUzMjY2LCAtNzkuMzg4NjE2MDI1NTE3NThdLCBbNDMuNjg3MTQ1MjYzMTA4OTQsIC03OS4zOTM1MjA1MzczNjk3OF0sIFs0My43MDU3NTEyMDgxODczOTQsIC03OS4zNzUzNDI2NDY0NDAyN10sIFs0My42NzgzMTI0MjcxODIwODUsIC03OS4zOTAxMDkxNDEzMzk2NV0sIFs0My42ODQ1Mzc0NDkyMjYsIC03OS4zNjUxNDA0OTc2ODQ0OF0sIFs0My43MDEwMjEyNzQzMTU2MSwgLTc5LjM5NzAyNzQ2MDg3OTI2XSwgWzQzLjcwNjYxNjA2MzgyNzUyNSwgLTc5LjM3NTU0ODkxMDAwMDMyXSwgWzQzLjY4NjUxMTgxNzI5NjQ5LCAtNzkuMzkzNTA3MTg3NzQ1MjddLCBbNDMuNzA2MzI3LCAtNzkuMzc1NDI5XSwgWzQzLjY4NjczNCwgLTc5LjM5MzU1OF0sIFs0My42ODAzOTEwODg2OTcyODQsIC03OS4zOTA3OTczMDU0OTY0OV0sIFs0My42NzgxNzU2NTM0ODk1OSwgLTc5LjM5MDE0MTI2NTEyNTFdLCBbNDMuNjc4MTY4MDEyMjk1NDUsIC03OS4zOTAxNTQxMjMzOTMxNl0sIFs0My43MDQ0Mzg3OTExMDExMjYsIC03OS4zNzQ1ODk4NzcyMzQwOV0sIFs0My43MDQ5MjMzNzAyNTA3MDQsIC03OS4zNzQ5MTc5OTk3ODY1Ml0sIFs0My43MDU1OTE3NTIzMzY0NDYsIC03OS4zNzUxNzc5NDg0NTcwNF0sIFs0My43MDIxMDI2NzUxMTU0MiwgLTc5LjM4NzYxNzY0NjgxNzJdLCBbNDMuNzA0OTg3NzkyMDYxNjUsIC03OS4zNzQ5MDcyNjk0MjM5N10sIFs0My42OTAwMzQ3NjI5MjQ2NCwgLTc5LjM5NDg1MzE0NzMwMDVdLCBbNDMuNzAxNTM4LCAtNzkuMzg3MjRdLCBbNDMuNjk2NjQ0MzY5OTYxOTUsIC03OS4zOTYzNTI1NjEwOTY1NV0sIFs0My43MDQyNjUwNzc4ODIzOSwgLTc5LjM3NDYyODgzODk0MTUyXSwgWzQzLjY3NDg5NDI5MTc4ODM2LCAtNzkuMzg4NzM5MTIwNDY1ODZdLCBbNDMuNjgyNjA0MDgwNjI2MDgsIC03OS4zOTE5MDkyODQyMjQ0XSwgWzQzLjY4ODY4NSwgLTc5LjM5MjIxOF0sIFs0My42ODczNzM4ODg4MDkzNywgLTc5LjM5MzY5NjM0MzQzMjA1XSwgWzQzLjY4MTc0OTc0MTMwMTQ2NiwgLTc5LjM5MTQ0NjY0Mzk4OTY1XSwgWzQzLjY3OTEwMTE3ODA4MzA2LCAtNzkuMzkwNjg1NTUxMDcyODZdLCBbNDMuNjg4Mzc2MTMyODQ3NDUsIC03OS4zOTQxNTgzNzE3MDUzXSwgWzQzLjY4MjgxMDk1NDY5ODk2NSwgLTc5LjM5MTk0NDY2OTI5OTY5XSwgWzQzLjY4ODE2OTYwMTI3ODMyLCAtNzkuNDEyNTk4Njk2NzQxODJdLCBbNDMuNjg3NzA4LCAtNzkuMzk1MDYyXSwgWzQzLjY4ODI5Njk0MzE3ODk1NSwgLTc5LjQxMjU2MzQwNTcwNTIzXSwgWzQzLjY3NTY2ODQ3NTg4MjgsIC03OS40MDM2MTY1OTc1MjQ0M10sIFs0My42NzUxNTI4MzMyMzAyOSwgLTc5LjQwNTg1ODQ2NDE1MzAzXSwgWzQzLjY3NzAxNTg3ODM5NjgxLCAtNzkuMzg5MzY2NjE5ODQ1MjhdLCBbNDMuNjg4NjU5Njc0NzM2NDEsIC03OS4zOTE5NDAxNjMwNjQ4XSwgWzQzLjY4ODA3OTE2MjA5MTc5NiwgLTc5LjQxNDU0MzUzMzA4Nzk0XSwgWzQzLjY3NDEwMDIwODU1ODg1LCAtNzkuNDEwODM3ODA0MDQyNzNdLCBbNDMuNjg3MTQ1MjYzMTA4OTQsIC03OS4zOTM1MjA1MzczNjk3OF0sIFs0My42NzM4OTQ3MzM4MjIyNjYsIC03OS40MTE4MTc3MDIxMTUzOV0sIFs0My42Nzk4NDYsIC03OS40MTY5ODldLCBbNDMuNjczNjk1MzMyNzM1NiwgLTc5LjM5NjAzNzQyMDU1ODA1XSwgWzQzLjY3ODMxMjQyNzE4MjA4NSwgLTc5LjM5MDEwOTE0MTMzOTY1XSwgWzQzLjY4MTc2ODE4MTgzMTk0LCAtNzkuNDI1MTU3NjMzODQ2NDVdLCBbNDMuNjY5ODgzMTY1NzA4MzgsIC03OS4zOTMzNTg1ODEyMTI2Ml0sIFs0My42ODY1MTE4MTcyOTY0OSwgLTc5LjM5MzUwNzE4Nzc0NTI3XSwgWzQzLjY2OTk1Mzc1MTg3ODQ1LCAtNzkuMzkxODI4MTI2MjYxMDZdLCBbNDMuNjcyODk1MzEwNTU2OTIsIC03OS40MTQxMDc4MzI1MzU4OF0sIFs0My42ODY3MzQsIC03OS4zOTM1NThdLCBbNDMuNjgxNjE0NDMwNDUyMTMsIC03OS40MjYwNzUyODk4OTEzN10sIFs0My42NzExNTQzMzU1MzkxNjQsIC03OS4zOTA4MDE1MTIyMDk0OF0sIFs0My43MDEwMjEyNzQzMTU2MSwgLTc5LjM5NzAyNzQ2MDg3OTI2XSwgWzQzLjY3MTkxNjczNTE2ODQ3LCAtNzkuMzg5MjM1ODY5MjA0MDNdLCBbNDMuNjgwMzkxMDg4Njk3Mjg0LCAtNzkuMzkwNzk3MzA1NDk2NDldLCBbNDMuNjcwMjkwNjc4MTEyMDksIC03OS4zOTA1Nzc3NTg3ODkwNl0sIFs0My42NzgxNzU2NTM0ODk1OSwgLTc5LjM5MDE0MTI2NTEyNTFdLCBbNDMuNjgxNjgwNTY2Mzg4OTMsIC03OS40MjU0NTI5MTY3MTg4NF0sIFs0My42NzE1OTI5NjUxODQ1MiwgLTc5LjM4OTk1MzUyMDU1OTM1XSwgWzQzLjY3MDg4NDU1ODI5NDgsIC03OS4zOTExMzUyOTIzNjIzNF0sIFs0My42NzU4MTc5MDIxMjc5MjUsIC03OS40MDI3OTMwOTA3NjA3Ml0sIFs0My42NzExMzQ2OTYzOTYxNiwgLTc5LjM5MDc4Njk5MDEzNjY1XSwgWzQzLjY3MDgwOTM2ODI3NTUzNSwgLTc5LjM5MzI3MjQwMDEzMDAzXSwgWzQzLjY3MjAwNDkzNDI3NjI3LCAtNzkuMzk1NDA0NzA5OTMwNjldLCBbNDMuNjc4MTY4MDEyMjk1NDUsIC03OS4zOTAxNTQxMjMzOTMxNl0sIFs0My42NzAxODA5MDU1NDUzNSwgLTc5LjM5MDg5MzAyNzgwMDM5XSwgWzQzLjY3MTY2NzY5NzgyNTUxLCAtNzkuMzkyMDU0NzcxOTc1NjVdLCBbNDMuNjcwNDg3LCAtNzkuMzkwMzI5XSwgWzQzLjY4MjA1Mjg2NjkwMzAxNCwgLTc5LjQyMzU0NjgxNjU3OTE1XSwgWzQzLjY3OTEwMTE3ODA4MzA2LCAtNzkuMzkwNjg1NTUxMDcyODZdLCBbNDMuNjgxNzQ5NzQxMzAxNDY2LCAtNzkuMzkxNDQ2NjQzOTg5NjVdLCBbNDMuNjc3MDE1ODc4Mzk2ODEsIC03OS4zODkzNjY2MTk4NDUyOF0sIFs0My42ODI4MTA5NTQ2OTg5NjUsIC03OS4zOTE5NDQ2NjkyOTk2OV0sIFs0My42Njk2NTM3ODU3MTk1NCwgLTc5LjM3OTg3MDU2NjY4Nl0sIFs0My42ODczNzM4ODg4MDkzNywgLTc5LjM5MzY5NjM0MzQzMjA1XSwgWzQzLjY2OTc1MzU2Mjc4NDY0LCAtNzkuMzg4NzE5Nzk3MTM0NF0sIFs0My42ODQ1Mzc0NDkyMjYsIC03OS4zNjUxNDA0OTc2ODQ0OF0sIFs0My42NjY5MjY2Njc0NTg4NCwgLTc5LjM4MTQyMTM1OTU0MjY3XSwgWzQzLjY3ODMxMjQyNzE4MjA4NSwgLTc5LjM5MDEwOTE0MTMzOTY1XSwgWzQzLjY4ODY1OTY3NDczNjQxLCAtNzkuMzkxOTQwMTYzMDY0OF0sIFs0My42NjYzNzY3NzU4NTQwOSwgLTc5LjM4MDk2Mzk2ODUwNDA5XSwgWzQzLjY3MTI4MDYwMjgyMDE3NSwgLTc5LjM3NDkyMDE2MjY0Mzg5XSwgWzQzLjY4ODM3NjEzMjg0NzQ1LCAtNzkuMzk0MTU4MzcxNzA1M10sIFs0My42NzE3MjYyOTI0MDQ4OCwgLTc5LjM4Njk1MTU3NDk5NjEzXSwgWzQzLjY3ODM2NjMxNDI2OTk5LCAtNzkuMzU4MzY2NjEyMDE0MjVdLCBbNDMuNjcxOTE2NzM1MTY4NDcsIC03OS4zODkyMzU4NjkyMDQwM10sIFs0My42Njk4ODMxNjU3MDgzOCwgLTc5LjM5MzM1ODU4MTIxMjYyXSwgWzQzLjY2ODI5MjIxNDE3MTQ2LCAtNzkuMzgxODc3Mjc3NjcwMDRdLCBbNDMuNjY5NzU3NDI2NTUxMjM2LCAtNzkuMzg0NTc0MTk4Nzg4NF0sIFs0My42NjczODE0OTAxNjAxOSwgLTc5LjM2OTMxMTI5MjI5NDU3XSwgWzQzLjY2NTI3MTE5MzUwODc1LCAtNzkuMzgwNzg1MTI2NzI1MDRdLCBbNDMuNjY0Mzk5MzYzMjQ0NjMsIC03OS4zODA0MjcxODQxNDIzNV0sIFs0My42Njk5NTM3NTE4Nzg0NSwgLTc5LjM5MTgyODEyNjI2MTA2XSwgWzQzLjY4NzcwOCwgLTc5LjM5NTA2Ml0sIFs0My42NzExNTQzMzU1MzkxNjQsIC03OS4zOTA4MDE1MTIyMDk0OF0sIFs0My42NjY2MzAyMDMwMTg1MSwgLTc5LjM2ODc5MTg0MTk5ODIyXSwgWzQzLjY2ODI4NjQwNTk0MzMzLCAtNzkuMzgyNTIwMjY3MTE0MTldLCBbNDMuNjczNjk1MzMyNzM1NiwgLTc5LjM5NjAzNzQyMDU1ODA1XSwgWzQzLjY3MDI5MDY3ODExMjA5LCAtNzkuMzkwNTc3NzU4Nzg5MDZdLCBbNDMuNjY4NjY1MDMyNzUyNzEsIC03OS4zODY4Mjk1MzkzNjQyNF0sIFs0My42NzA0MjEwNDY4LCAtNzkuMzg5NzkzMDkyMTk2NDZdLCBbNDMuNjc3MDg2MzQ2Mzc3MjQsIC03OS4zNTg4OTQwMTY3MDc1N10sIFs0My42Njc5NjI2Mzc0OTA4MiwgLTc5LjM4ODg3Mjc0MTk3NTgyXSwgWzQzLjY3MTU5Mjk2NTE4NDUyLCAtNzkuMzg5OTUzNTIwNTU5MzVdLCBbNDMuNjY0OTkwNTk4NTMyMDQsIC03OS4zODQ4MTQxNTcyNzc2N10sIFs0My42ODcxNDUyNjMxMDg5NCwgLTc5LjM5MzUyMDUzNzM2OTc4XSwgWzQzLjY2OTE0NDY1NDIwNTY4LCAtNzkuMzgyNTA0NjU4MjE3NDFdLCBbNDMuNjc2NjQzMDg1MjAyODcsIC03OS4zNTY4NDYzNDU4NTEwNV0sIFs0My42NjY1MjgyODgwNTU4ODYsIC03OS4zNzYwMTYwNDAwMjUzOF0sIFs0My42Njk5MTYwNjgxNzA2NjQsIC03OS4zNzU4OTQzMDk3NDg2N10sIFs0My42NzA4ODQ1NTgyOTQ4LCAtNzkuMzkxMTM1MjkyMzYyMzRdLCBbNDMuNjgwMzkxMDg4Njk3Mjg0LCAtNzkuMzkwNzk3MzA1NDk2NDldLCBbNDMuNjY3NDY5NDYyNDYxOTk1LCAtNzkuMzY5Mjc2NTQ3NDcxOTZdLCBbNDMuNjcxMTM0Njk2Mzk2MTYsIC03OS4zOTA3ODY5OTAxMzY2NV0sIFs0My42Njk4ODkxMzI0Mjc1NTYsIC03OS4zODg0Mjk5NDAwNDg1N10sIFs0My42NzYwMTI2NDkzMzA1NjYsIC03OS4zNTg3MTQ2MjUyNjI4NV0sIFs0My42NjU4MTE0MjM5NTYwOSwgLTc5LjM2ODY0ODI1NjQwMDc2XSwgWzQzLjY2NzM4MTQ5MDE2MDE5LCAtNzkuMzY5MzExMjkyMjk0NTddLCBbNDMuNjY2NjMwMjAzMDE4NTEsIC03OS4zNjg3OTE4NDE5OTgyMl0sIFs0My42NjM5NjQ4NjA5NjQ5MjQsIC03OS4zNjc3OTU0MDg4NjkzOF0sIFs0My42NjM1MDQzODY2MzcyNCwgLTc5LjM3MjIzMDcyMjc0NjEyXSwgWzQzLjY2NTgxMTQyMzk1NjA5LCAtNzkuMzY4NjQ4MjU2NDAwNzZdLCBbNDMuNjY3NDY5NDYyNDYxOTk1LCAtNzkuMzY5Mjc2NTQ3NDcxOTZdLCBbNDMuNjY5MTc3MTA3NzQ0MjA0LCAtNzkuMzUzMTMzNTI5MTQyOTJdLCBbNDMuNjY5NjUzNzg1NzE5NTQsIC03OS4zNzk4NzA1NjY2ODZdLCBbNDMuNjYyMzQxNjc5MDEwMDUsIC03OS4zNzc0MzM3NjE0NDkwM10sIFs0My42NjYzNzY3NzU4NTQwOSwgLTc5LjM4MDk2Mzk2ODUwNDA5XSwgWzQzLjY2NjkyNjY2NzQ1ODg0LCAtNzkuMzgxNDIxMzU5NTQyNjddLCBbNDMuNjY0Mzk5MzYzMjQ0NjMsIC03OS4zODA0MjcxODQxNDIzNV0sIFs0My42NTk5MTYsIC03OS4zNTM5NjNdLCBbNDMuNjU3NzcxNjExMTI2MDEsIC03OS4zNzYwNzI1NjkxNjgxXSwgWzQzLjY2NTI3MTE5MzUwODc1LCAtNzkuMzgwNzg1MTI2NzI1MDRdLCBbNDMuNjY2NTI4Mjg4MDU1ODg2LCAtNzkuMzc2MDE2MDQwMDI1MzhdLCBbNDMuNjcxMjgwNjAyODIwMTc1LCAtNzkuMzc0OTIwMTYyNjQzODldLCBbNDMuNjU4MTM1NDA1NTMzMDgsIC03OS4zNTk1MTU0OTAxMTg0NV0sIFs0My42NTYzNjg1MDU0MzI3OSwgLTc5LjM1Njk3OTY4NzUwNjk0XSwgWzQzLjY1ODQ5ODA3NTg1NDA5LCAtNzkuMzUyMzU2Mzk2MjExNjNdLCBbNDMuNjc3MDYxNzc0OTU5ODI0LCAtNzkuMzUzOTM0Mjg4OTE2ODJdLCBbNDMuNjY1ODY3OTcyMDIwODUsIC03OS4zNTA2NzA5ODY5NzUwM10sIFs0My42NTg2NzQ2MDAzODcxOCwgLTc5LjM1MTA3Mzc5MjIxNjMzXSwgWzQzLjY1MzU1ODcwOTU5OTQ0LCAtNzkuMzYxODA5NDU5MTM1MTNdLCBbNDMuNjU4ODMyOTY5ODIzNTIsIC03OS4zODM2ODM1MTk4NjU5OF0sIFs0My42NzExODQwNTExNTA5NDUsIC03OS4zNDY4MTU4NzM5NTEzNF0sIFs0My42NjgyOTIyMTQxNzE0NiwgLTc5LjM4MTg3NzI3NzY3MDA0XSwgWzQzLjY3ODM2NjMxNDI2OTk5LCAtNzkuMzU4MzY2NjEyMDE0MjVdLCBbNDMuNjUzMzQ2Nzk4MjY2MTgsIC03OS4zNjk1MTczMTc1NTE0MV0sIFs0My42NjYwNDg0MzM1NDIwNjYsIC03OS4zNDkyNDEzNjY1OTQ1MV0sIFs0My42NjY5LCAtNzkuMzQ1NDMyXSwgWzQzLjY1NTY3NDU1NDI3Mzg4LCAtNzkuMzY0NTAzMjg5MjQ5NF0sIFs0My42NTIzODM1ODcyNjYxMiwgLTc5LjM3MjcxOTAzODQ4MjcxXSwgWzQzLjY1Mjk3LCAtNzkuMzcxNDY3XSwgWzQzLjY1MjI0OTUxNzkyNzY4NiwgLTc5LjM2NjM1NTMwNTAwMzQ3XSwgWzQzLjY1NjczODU0NDkyODA1NCwgLTc5LjM1NjUwMzA1MjY3NzU0XSwgWzQzLjY3NjY0MzA4NTIwMjg3LCAtNzkuMzU2ODQ2MzQ1ODUxMDVdLCBbNDMuNjY5NzUzNTYyNzg0NjQsIC03OS4zODg3MTk3OTcxMzQ0XSwgWzQzLjY1MjQ4MzU1MDQ5OTMyNiwgLTc5LjM3MjY1NDcyODQ1MTc2XSwgWzQzLjY2OTkxNjA2ODE3MDY2NCwgLTc5LjM3NTg5NDMwOTc0ODY3XSwgWzQzLjY3NzA4NjM0NjM3NzI0LCAtNzkuMzU4ODk0MDE2NzA3NTddLCBbNDMuNjY0OTkwNTk4NTMyMDQsIC03OS4zODQ4MTQxNTcyNzc2N10sIFs0My42NjMyMTYsIC03OS4zNTE1Ml0sIFs0My42NjAwNTA0NzU5MDM2MjQsIC03OS4zNjI4NTQ3MDk3MTgzOV0sIFs0My42NTE4Njg3MzMwMDMxMzQsIC03OS4zNjg1MDY0MjM4NzY3NF0sIFs0My42NjgyODY0MDU5NDMzMywgLTc5LjM4MjUyMDI2NzExNDE5XSwgWzQzLjY2MTQzNTgyNTE0MTM1LCAtNzkuMzgxNDkzMTk2Mjk0Ml0sIFs0My42NTg0MjEyMzU3NDQ5NiwgLTc5LjM4NTYxMzE5NTUxMTExXSwgWzQzLjY2NTE3ODc1MjEyMzkzNiwgLTc5LjM1MjUzMDgyMzQzNTI3XSwgWzQzLjY2NjkyNjY2NzQ1ODg0LCAtNzkuMzgxNDIxMzU5NTQyNjddLCBbNDMuNjY2Mzc2Nzc1ODU0MDksIC03OS4zODA5NjM5Njg1MDQwOV0sIFs0My42NjQzOTkzNjMyNDQ2MywgLTc5LjM4MDQyNzE4NDE0MjM1XSwgWzQzLjY2NTI3MTE5MzUwODc1LCAtNzkuMzgwNzg1MTI2NzI1MDRdLCBbNDMuNjY5NjUzNzg1NzE5NTQsIC03OS4zNzk4NzA1NjY2ODZdLCBbNDMuNjY4MjkyMjE0MTcxNDYsIC03OS4zODE4NzcyNzc2NzAwNF0sIFs0My42NjQ5OTA1OTg1MzIwNCwgLTc5LjM4NDgxNDE1NzI3NzY3XSwgWzQzLjY2OTc1MzU2Mjc4NDY0LCAtNzkuMzg4NzE5Nzk3MTM0NF0sIFs0My42NjIzNDE2NzkwMTAwNSwgLTc5LjM3NzQzMzc2MTQ0OTAzXSwgWzQzLjY2ODI4NjQwNTk0MzMzLCAtNzkuMzgyNTIwMjY3MTE0MTldLCBbNDMuNjU4ODMyOTY5ODIzNTIsIC03OS4zODM2ODM1MTk4NjU5OF0sIFs0My42NTg0MjEyMzU3NDQ5NiwgLTc5LjM4NTYxMzE5NTUxMTExXSwgWzQzLjY2OTc1NzQyNjU1MTIzNiwgLTc5LjM4NDU3NDE5ODc4ODRdLCBbNDMuNjYzNTA0Mzg2NjM3MjQsIC03OS4zNzIyMzA3MjI3NDYxMl0sIFs0My42NTc3NzE2MTExMjYwMSwgLTc5LjM3NjA3MjU2OTE2ODFdLCBbNDMuNjYxNDM1ODI1MTQxMzUsIC03OS4zODE0OTMxOTYyOTQyXSwgWzQzLjY2NjUyODI4ODA1NTg4NiwgLTc5LjM3NjAxNjA0MDAyNTM4XSwgWzQzLjY2ODY2NTAzMjc1MjcxLCAtNzkuMzg2ODI5NTM5MzY0MjRdLCBbNDMuNjY3OTYyNjM3NDkwODIsIC03OS4zODg4NzI3NDE5NzU4Ml0sIFs0My42NjAzOTA5MTE4OTg1NDYsIC03OS4zODc2NjQyMTE5MjcwNV0sIFs0My42NjkxNDQ2NTQyMDU2OCwgLTc5LjM4MjUwNDY1ODIxNzQxXSwgWzQzLjY2OTg4MzE2NTcwODM4LCAtNzkuMzkzMzU4NTgxMjEyNjJdLCBbNDMuNjY1MzMsIC03OS4zODc0ODRdLCBbNDMuNjY3MzgxNDkwMTYwMTksIC03OS4zNjkzMTEyOTIyOTQ1N10sIFs0My42Njk5NTM3NTE4Nzg0NSwgLTc5LjM5MTgyODEyNjI2MTA2XSwgWzQzLjY3MTcyNjI5MjQwNDg4LCAtNzkuMzg2OTUxNTc0OTk2MTNdLCBbNDMuNjY2NjMwMjAzMDE4NTEsIC03OS4zNjg3OTE4NDE5OTgyMl0sIFs0My42NzcwMTU4NzgzOTY4MSwgLTc5LjM4OTM2NjYxOTg0NTI4XSwgWzQzLjY1NzYwMTAxNDMyNjY1LCAtNzkuMzgxNjE5NjMwMTcxNzRdLCBbNDMuNjYwNzYyOTkxNDkzMjMsIC03OS4zODYxODQwOTAzMzA2Nl0sIFs0My42NTcwMjkyNTEyMTM1NiwgLTc5LjM4MTM4NTEyNzI4MDUxXSwgWzQzLjY3MTI4MDYwMjgyMDE3NSwgLTc5LjM3NDkyMDE2MjY0Mzg5XSwgWzQzLjY3MDI5MDY3ODExMjA5LCAtNzkuMzkwNTc3NzU4Nzg5MDZdLCBbNDMuNjcxOTE2NzM1MTY4NDcsIC03OS4zODkyMzU4NjkyMDQwM10sIFs0My42NjM5NjQ4NjA5NjQ5MjQsIC03OS4zNjc3OTU0MDg4NjkzOF0sIFs0My42NzExNTQzMzU1MzkxNjQsIC03OS4zOTA4MDE1MTIyMDk0OF0sIFs0My42NzA0MjEwNDY4LCAtNzkuMzg5NzkzMDkyMTk2NDZdLCBbNDMuNjc5MTAxMTc4MDgzMDYsIC03OS4zOTA2ODU1NTEwNzI4Nl0sIFs0My42NTU4MjcxMDMyMjIyNCwgLTc5LjM5MjA0MjE2ODg4NTU1XSwgWzQzLjY2OTkxNjA2ODE3MDY2NCwgLTc5LjM3NTg5NDMwOTc0ODY3XSwgWzQzLjY2OTg4OTEzMjQyNzU1NiwgLTc5LjM4ODQyOTk0MDA0ODU3XSwgWzQzLjY1MzE0MzgzODg4NTg3LCAtNzkuMzgxOTgwMTY2NzgxNjddLCBbNDMuNjY1ODExNDIzOTU2MDksIC03OS4zNjg2NDgyNTY0MDA3Nl0sIFs0My42NTIzODM1ODcyNjYxMiwgLTc5LjM3MjcxOTAzODQ4MjcxXSwgWzQzLjY0OTk2MjgwMzY2OTQ1LCAtNzkuMzYxNDQxNzgzMjU1MjJdLCBbNDMuNjQ5Nzk3MTQxNDc2MTg1LCAtNzkuMzU5MTQxOTk2NDQzMDNdLCBbNDMuNjUwNTc0MDM5NjgzOTc0LCAtNzkuMzU5NTM5NDI5ODE0MDVdLCBbNDMuNjUzNTU4NzA5NTk5NDQsIC03OS4zNjE4MDk0NTkxMzUxM10sIFs0My42NDk5Njk4ODIzMDM4MTQsIC03OS4zNTg4NDk0NjM4ODE5MV0sIFs0My42NTIyNDk1MTc5Mjc2ODYsIC03OS4zNjYzNTUzMDUwMDM0N10sIFs0My42NTYzNjg1MDU0MzI3OSwgLTc5LjM1Njk3OTY4NzUwNjk0XSwgWzQzLjY1MDcwMjM0MTU4ODA0LCAtNzkuMzY5MjU5Mzk2ODE3MzFdLCBbNDMuNjUxODY4NzMzMDAzMTM0LCAtNzkuMzY4NTA2NDIzODc2NzRdLCBbNDMuNjUzMzQ2Nzk4MjY2MTgsIC03OS4zNjk1MTczMTc1NTE0MV0sIFs0My42NDk2NDg0MjY1MTMyNSwgLTc5LjM2NjQwNzgwNTc2NTRdLCBbNDMuNjU2NzM4NTQ0OTI4MDU0LCAtNzkuMzU2NTAzMDUyNjc3NTRdLCBbNDMuNjUwNjM2ODMwNzIwMjMsIC03OS4zNzEyNzU3MzY5OTc5Ml0sIFs0My42NTg0OTgwNzU4NTQwOSwgLTc5LjM1MjM1NjM5NjIxMTYzXSwgWzQzLjY0OTk1OTkzOTU2MzA1LCAtNzkuMzYzODg4NDUzNzA1MTZdLCBbNDMuNjU4MTM1NDA1NTMzMDgsIC03OS4zNTk1MTU0OTAxMTg0NV0sIFs0My42NTIzODM1ODcyNjYxMiwgLTc5LjM3MjcxOTAzODQ4MjcxXSwgWzQzLjY1Mjk3LCAtNzkuMzcxNDY3XSwgWzQzLjY1NTY3NDU1NDI3Mzg4LCAtNzkuMzY0NTAzMjg5MjQ5NF0sIFs0My42NTk5MTYsIC03OS4zNTM5NjNdLCBbNDMuNjU4Njc0NjAwMzg3MTgsIC03OS4zNTEwNzM3OTIyMTYzM10sIFs0My42NTI0ODM1NTA0OTkzMjYsIC03OS4zNzI2NTQ3Mjg0NTE3Nl0sIFs0My42NTMwODA1Nzg4NDQyNzUsIC03OS4zNTcwNzc4NjIxMTIyXSwgWzQzLjY0ODY2ODIyMTU0MjA5NiwgLTc5LjM3MTYwOTYyMzAyMDQ5XSwgWzQzLjY1MDgyMjQ4NjIwMDMwNSwgLTc5LjM3MDQzODYwMDA0OTkyXSwgWzQzLjY0ODc1NzE0NzU3NjM3LCAtNzkuMzcxNjQ1Mzk3NjU4MTddLCBbNDMuNjQ4NDk1MDkwNDM5MywgLTc5LjM3MTQ2MjMxNzkzODkyXSwgWzQzLjY0ODcwNzI3ODE3NzMsIC03OS4zNzE1ODAwNTEyNzU2M10sIFs0My42NDg0NTY1MDEzMTkzMiwgLTc5LjM3MTc4OTkzNzI0NDA3XSwgWzQzLjY0ODczNjE0MzQwMzg4LCAtNzkuMzcxNjIzMDY3NDg0ODJdLCBbNDMuNjQ4NjEwODM1MDMyNTQsIC03OS4zNzE0OTcyMzU1NDkyM10sIFs0My42NTA0OTcsIC03OS4zNzg3NjVdLCBbNDMuNjU3NzcxNjExMTI2MDEsIC03OS4zNzYwNzI1NjkxNjgxXSwgWzQzLjY0OTAzNSwgLTc5LjM3MTg5OV0sIFs0My42NDY2NTc3MzYyODU3OTYsIC03OS4zNzc2NDEwMjg1Njk0NF0sIFs0My42NDc2ODY4MDg5MzA4ODUsIC03OS4zNzcyOTUzODg0MDMzXSwgWzQzLjY1OTczNDQwMjg2Nzk5LCAtNzkuMzQ2MjY2MTQzNDIxODZdLCBbNDMuNjQ4ODM1MzkxMjQ1ODk2LCAtNzkuMzgwOTM1ODEyNTAzM10sIFs0My42NDkxMTc5MzU0NTc3LCAtNzkuMzc4MzEyODgzODA0MzhdLCBbNDMuNjQ1MDE4MTQ0NjQ2OTgsIC03OS4zODA0MTUwOTMxMTk5XSwgWzQzLjY1ODc0NCwgLTc5LjM0OTI3Nl0sIFs0My42NDkyOTgzNDM5NjM0NywgLTc5LjM3NjQzMDY3MjUxODY3XSwgWzQzLjY2MDMzNTMwMzE1NzY1LCAtNzkuMzUwNDc3MTIyNTc5NjZdLCBbNDMuNjQxNjM5NTQ1MjAyNjcsIC03OS4zNzc1NTE3Nzg2NzYyXSwgWzQzLjY0NjkxMjIzMTkwOTI3NiwgLTc5LjM3OTU5NjYxNjk2NDYzXSwgWzQzLjY0ODI1MDU0MzM2NTU1NiwgLTc5LjM4MDEyNzI4MjIwODY5XSwgWzQzLjY1Nzc3MTYxMTEyNjAxLCAtNzkuMzc2MDcyNTY5MTY4MV0sIFs0My42NTg4MzI5Njk4MjM1MiwgLTc5LjM4MzY4MzUxOTg2NTk4XSwgWzQzLjY1NzAyOTI1MTIxMzU2LCAtNzkuMzgxMzg1MTI3MjgwNTFdLCBbNDMuNjU3NjAxMDE0MzI2NjUsIC03OS4zODE2MTk2MzAxNzE3NF0sIFs0My42NTg0MjEyMzU3NDQ5NiwgLTc5LjM4NTYxMzE5NTUxMTExXSwgWzQzLjY1MjM4MzU4NzI2NjEyLCAtNzkuMzcyNzE5MDM4NDgyNzFdLCBbNDMuNjU1NjQwOTE0NTUzMzUsIC03OS4zNzkxOTg4MjU3NTU1N10sIFs0My42NTI0ODM1NTA0OTkzMjYsIC03OS4zNzI2NTQ3Mjg0NTE3Nl0sIFs0My42NTMxNDM4Mzg4ODU4NywgLTc5LjM4MTk4MDE2Njc4MTY3XSwgWzQzLjY2MjM0MTY3OTAxMDA1LCAtNzkuMzc3NDMzNzYxNDQ5MDNdLCBbNDMuNjUwNDk3LCAtNzkuMzc4NzY1XSwgWzQzLjY1Mjk3LCAtNzkuMzcxNDY3XSwgWzQzLjY1MzM0Njc5ODI2NjE4LCAtNzkuMzY5NTE3MzE3NTUxNDFdLCBbNDMuNjY0Mzk5MzYzMjQ0NjMsIC03OS4zODA0MjcxODQxNDIzNV0sIFs0My42NTc4NTQ0MDY3MjI3NywgLTc5LjM3OTE5OTgxMTU1MTU3XSwgWzQzLjY1MTcyMiwgLTc5LjM3OTIwNV0sIFs0My42NTA2MzY4MzA3MjAyMywgLTc5LjM3MTI3NTczNjk5NzkyXSwgWzQzLjY1MDcwMjM0MTU4ODA0LCAtNzkuMzY5MjU5Mzk2ODE3MzFdLCBbNDMuNjQ4ODM1MzkxMjQ1ODk2LCAtNzkuMzgwOTM1ODEyNTAzM10sIFs0My42NjE0MzU4MjUxNDEzNSwgLTc5LjM4MTQ5MzE5NjI5NDJdLCBbNDMuNjUwMjUyNDgzMDY5Mjk1LCAtNzkuMzg1MTU1NzU2MjAwNzVdLCBbNDMuNjUxMjE3OTcyNTM3NzcsIC03OS4zODM1NTQ1OTkzMjI0N10sIFs0My42NTgwNzc5NDQ3Njc1MzQsIC03OS4zNzgzMTQ5Nzk5MDEyNV0sIFs0My42NjM1MDQzODY2MzcyNCwgLTc5LjM3MjIzMDcyMjc0NjEyXSwgWzQzLjY1MTg2ODczMzAwMzEzNCwgLTc5LjM2ODUwNjQyMzg3Njc0XSwgWzQzLjY2NTI3MTE5MzUwODc1LCAtNzkuMzgwNzg1MTI2NzI1MDRdLCBbNDMuNjUyMjQ5NTE3OTI3Njg2LCAtNzkuMzY2MzU1MzA1MDAzNDddLCBbNDMuNjU2MzE3OTYsIC03OS4zODI3NjQ4N10sIFs0My42NjYzNzY3NzU4NTQwOSwgLTc5LjM4MDk2Mzk2ODUwNDA5XSwgWzQzLjY1NjA2Mjg3MjQ1NjQzLCAtNzkuMzgzNjk0NzI0NDY0NjVdLCBbNDMuNjYwMzkwOTExODk4NTQ2LCAtNzkuMzg3NjY0MjExOTI3MDVdLCBbNDMuNjUwNTU3MjUyNDk0MDUsIC03OS4zODE5NTYzNDY0MDA2M10sIFs0My42NDg3MzQzMDY1OTY2MiwgLTc5LjM4NjU0MTE3NTY0ODM4XSwgWzQzLjY0ODMwODczODA0Njg0LCAtNzkuMzgyMjUzMzM4OTg4MDVdLCBbNDMuNjY2OTI2NjY3NDU4ODQsIC03OS4zODE0MjEzNTk1NDI2N10sIFs0My42NTcxMDc0NTMyNzQxOSwgLTc5LjM4MTU3NDM5MjMxODczXSwgWzQzLjY0OTExNzkzNTQ1NzcsIC03OS4zNzgzMTI4ODM4MDQzOF0sIFs0My42NTE4NTU2ODc5MDAxMjQsIC03OS4zNzgwNTU0MDkwNjUxOF0sIFs0My42NTE2NjE2MjM3ODAzNywgLTc5LjM3OTA3NTEzMDMyNzFdLCBbNDMuNjUwODIyNDg2MjAwMzA1LCAtNzkuMzcwNDM4NjAwMDQ5OTJdLCBbNDMuNjUyMTAxMTczMTM4NDA1LCAtNzkuMzgxMTc4MjgzOTk5MzldLCBbNDMuNjQ4NjY4MjIxNTQyMDk2LCAtNzkuMzcxNjA5NjIzMDIwNDldLCBbNDMuNjQ4ODE1MTYzMTYxNSwgLTc5LjM4MDYwNDY4NjEwOTQ5XSwgWzQzLjY1NDQxMjgyNzQwNzk5LCAtNzkuMzkwOTAxNjEzNTE3MjRdLCBbNDMuNjUwOTM5NjU3MzM4MzIsIC03OS4zNzkwNDU0NTgyNDM3MV0sIFs0My42NTM2OTg5MjgzMTg1MjYsIC03OS4zOTA3NDMxMzU2ODY5Ml0sIFs0My42NTA1Nzg4NjUwOTM5MzQsIC03OS4zODM0MTE5MzAzNjE0XSwgWzQzLjY1MjM4MzU4NzI2NjEyLCAtNzkuMzcyNzE5MDM4NDgyNzFdLCBbNDMuNjUwNDk3LCAtNzkuMzc4NzY1XSwgWzQzLjY1MjQ4MzU1MDQ5OTMyNiwgLTc5LjM3MjY1NDcyODQ1MTc2XSwgWzQzLjY1MDYzNjgzMDcyMDIzLCAtNzkuMzcxMjc1NzM2OTk3OTJdLCBbNDMuNjUyOTcsIC03OS4zNzE0NjddLCBbNDMuNjUwNzAyMzQxNTg4MDQsIC03OS4zNjkyNTkzOTY4MTczMV0sIFs0My42NDg2NjgyMjE1NDIwOTYsIC03OS4zNzE2MDk2MjMwMjA0OV0sIFs0My42NDg4MzUzOTEyNDU4OTYsIC03OS4zODA5MzU4MTI1MDMzXSwgWzQzLjY1MzM0Njc5ODI2NjE4LCAtNzkuMzY5NTE3MzE3NTUxNDFdLCBbNDMuNjQ5MTE3OTM1NDU3NywgLTc5LjM3ODMxMjg4MzgwNDM4XSwgWzQzLjY0NjY1NzczNjI4NTc5NiwgLTc5LjM3NzY0MTAyODU2OTQ0XSwgWzQzLjY0ODc1NzE0NzU3NjM3LCAtNzkuMzcxNjQ1Mzk3NjU4MTddLCBbNDMuNjUxODY4NzMzMDAzMTM0LCAtNzkuMzY4NTA2NDIzODc2NzRdLCBbNDMuNjUwODIyNDg2MjAwMzA1LCAtNzkuMzcwNDM4NjAwMDQ5OTJdLCBbNDMuNjQ3Njg2ODA4OTMwODg1LCAtNzkuMzc3Mjk1Mzg4NDAzM10sIFs0My42NTE3MjIsIC03OS4zNzkyMDVdLCBbNDMuNjQ4NzA3Mjc4MTc3MywgLTc5LjM3MTU4MDA1MTI3NTYzXSwgWzQzLjY0ODQ5NTA5MDQzOTMsIC03OS4zNzE0NjIzMTc5Mzg5Ml0sIFs0My42NDkyOTgzNDM5NjM0NywgLTc5LjM3NjQzMDY3MjUxODY3XSwgWzQzLjY1Nzc3MTYxMTEyNjAxLCAtNzkuMzc2MDcyNTY5MTY4MV0sIFs0My42NTMxNDM4Mzg4ODU4NywgLTc5LjM4MTk4MDE2Njc4MTY3XSwgWzQzLjY0ODgxNTE2MzE2MTUsIC03OS4zODA2MDQ2ODYxMDk0OV0sIFs0My42NDgyNTA1NDMzNjU1NTYsIC03OS4zODAxMjcyODIyMDg2OV0sIFs0My42NDgzMDg3MzgwNDY4NCwgLTc5LjM4MjI1MzMzODk4ODA1XSwgWzQzLjY1MjI0OTUxNzkyNzY4NiwgLTc5LjM2NjM1NTMwNTAwMzQ3XSwgWzQzLjY0ODQ1NjUwMTMxOTMyLCAtNzkuMzcxNzg5OTM3MjQ0MDddLCBbNDMuNjUxODU1Njg3OTAwMTI0LCAtNzkuMzc4MDU1NDA5MDY1MThdLCBbNDMuNjQ2OTEyMjMxOTA5Mjc2LCAtNzkuMzc5NTk2NjE2OTY0NjNdLCBbNDMuNjUwOTM5NjU3MzM4MzIsIC03OS4zNzkwNDU0NTgyNDM3MV0sIFs0My42NDg3MzYxNDM0MDM4OCwgLTc5LjM3MTYyMzA2NzQ4NDgyXSwgWzQzLjY0NTAxODE0NDY0Njk4LCAtNzkuMzgwNDE1MDkzMTE5OV0sIFs0My42NTAyNTI0ODMwNjkyOTUsIC03OS4zODUxNTU3NTYyMDA3NV0sIFs0My42NTE2NjE2MjM3ODAzNywgLTc5LjM3OTA3NTEzMDMyNzFdLCBbNDMuNjUwNTU3MjUyNDk0MDUsIC03OS4zODE5NTYzNDY0MDA2M10sIFs0My42NTEyMTc5NzI1Mzc3NywgLTc5LjM4MzU1NDU5OTMyMjQ3XSwgWzQzLjY0ODM1NzA4NTE5OTIyLCAtNzkuMzgyMTkyNDE4NTg3MjddLCBbNDMuNjQ4NzM0MzA2NTk2NjIsIC03OS4zODY1NDExNzU2NDgzOF0sIFs0My42NDg2MTA4MzUwMzI1NCwgLTc5LjM3MTQ5NzIzNTU0OTIzXSwgWzQzLjY0OTAzNSwgLTc5LjM3MTg5OV0sIFs0My42NTA1NTY1MDQ4OTkzNiwgLTc5LjM4MTE3NTQzMjI0Mzk1XSwgWzQzLjY0ODgzMTUwMDU0NjE5LCAtNzkuMzgxOTcwMDYzNDU0NTddLCBbNDMuNjQ3ODgxMzcwMTQwMjgsIC03OS4zODQzMzE1MjgzNjgyOV0sIFs0My42NDg3NTM0OTkzMjA1OSwgLTc5LjM4NTM2NzM2MDcyODldLCBbNDMuNjQ4NTQ2NTk0NjUxODYsIC03OS4zODE2MjQwNjQ3MDE2MV0sIFs0My42NTA1Nzg4NjUwOTM5MzQsIC03OS4zODM0MTE5MzAzNjE0XSwgWzQzLjY1MjEwMTE3MzEzODQwNSwgLTc5LjM4MTE3ODI4Mzk5OTM5XSwgWzQzLjY1ODgzMjk2OTgyMzUyLCAtNzkuMzgzNjgzNTE5ODY1OThdLCBbNDMuNjQ2NjU3NzM2Mjg1Nzk2LCAtNzkuMzc3NjQxMDI4NTY5NDRdLCBbNDMuNjQ4NjY4MjIxNTQyMDk2LCAtNzkuMzcxNjA5NjIzMDIwNDldLCBbNDMuNjQ1MDE4MTQ0NjQ2OTgsIC03OS4zODA0MTUwOTMxMTk5XSwgWzQzLjY0NzY4NjgwODkzMDg4NSwgLTc5LjM3NzI5NTM4ODQwMzNdLCBbNDMuNjQxNjM5NTQ1MjAyNjcsIC03OS4zNzc1NTE3Nzg2NzYyXSwgWzQzLjY0ODQ5NTA5MDQzOTMsIC03OS4zNzE0NjIzMTc5Mzg5Ml0sIFs0My42NDg3NTcxNDc1NzYzNywgLTc5LjM3MTY0NTM5NzY1ODE3XSwgWzQzLjY1MDcwMjM0MTU4ODA0LCAtNzkuMzY5MjU5Mzk2ODE3MzFdLCBbNDMuNjQ4NzA3Mjc4MTc3MywgLTc5LjM3MTU4MDA1MTI3NTYzXSwgWzQzLjY1MDYzNjgzMDcyMDIzLCAtNzkuMzcxMjc1NzM2OTk3OTJdLCBbNDMuNjUwNDk3LCAtNzkuMzc4NzY1XSwgWzQzLjY0Mjg1MSwgLTc5LjM4MjA4MV0sIFs0My42NDY5MTIyMzE5MDkyNzYsIC03OS4zNzk1OTY2MTY5NjQ2M10sIFs0My42NDg4MzUzOTEyNDU4OTYsIC03OS4zODA5MzU4MTI1MDMzXSwgWzQzLjY1MjM4MzU4NzI2NjEyLCAtNzkuMzcyNzE5MDM4NDgyNzFdLCBbNDMuNjQ4NDU2NTAxMzE5MzIsIC03OS4zNzE3ODk5MzcyNDQwN10sIFs0My42NTI0ODM1NTA0OTkzMjYsIC03OS4zNzI2NTQ3Mjg0NTE3Nl0sIFs0My42NDkxMTc5MzU0NTc3LCAtNzkuMzc4MzEyODgzODA0MzhdLCBbNDMuNjQ4NzM2MTQzNDAzODgsIC03OS4zNzE2MjMwNjc0ODQ4Ml0sIFs0My42NDgyNTA1NDMzNjU1NTYsIC03OS4zODAxMjcyODIyMDg2OV0sIFs0My42NDgzMDg3MzgwNDY4NCwgLTc5LjM4MjI1MzMzODk4ODA1XSwgWzQzLjY0ODYxMDgzNTAzMjU0LCAtNzkuMzcxNDk3MjM1NTQ5MjNdLCBbNDMuNjUwODIyNDg2MjAwMzA1LCAtNzkuMzcwNDM4NjAwMDQ5OTJdLCBbNDMuNjUyOTcsIC03OS4zNzE0NjddLCBbNDMuNjUxODY4NzMzMDAzMTM0LCAtNzkuMzY4NTA2NDIzODc2NzRdLCBbNDMuNjQ4ODE1MTYzMTYxNSwgLTc5LjM4MDYwNDY4NjEwOTQ5XSwgWzQzLjY0NDM3MjU4NDE0ODM2NCwgLTc5LjM4MzA2NDcwMDI3NDIzXSwgWzQzLjY1MjI0OTUxNzkyNzY4NiwgLTc5LjM2NjM1NTMwNTAwMzQ3XSwgWzQzLjY0OTI5ODM0Mzk2MzQ3LCAtNzkuMzc2NDMwNjcyNTE4NjddLCBbNDMuNjUzMzQ2Nzk4MjY2MTgsIC03OS4zNjk1MTczMTc1NTE0MV0sIFs0My42NDkwMzUsIC03OS4zNzE4OTldLCBbNDMuNjQ3MjYxNiwgLTc5LjM3ODU5OThdLCBbNDMuNjQ4MzU3MDg1MTk5MjIsIC03OS4zODIxOTI0MTg1ODcyN10sIFs0My42NDg3MzQzMDY1OTY2MiwgLTc5LjM4NjU0MTE3NTY0ODM4XSwgWzQzLjY0Nzg4MTM3MDE0MDI4LCAtNzkuMzg0MzMxNTI4MzY4MjldLCBbNDMuNjQ5OTYyODAzNjY5NDUsIC03OS4zNjE0NDE3ODMyNTUyMl0sIFs0My42NDI4MDQ0ODM5OTI1MSwgLTc5LjM4MzkyMTQ5NDE1MzgxXSwgWzQzLjY1MDI1MjQ4MzA2OTI5NSwgLTc5LjM4NTE1NTc1NjIwMDc1XSwgWzQzLjY0ODgzMTUwMDU0NjE5LCAtNzkuMzgxOTcwMDYzNDU0NTddLCBbNDMuNjQ5NjQ4NDI2NTEzMjUsIC03OS4zNjY0MDc4MDU3NjU0XSwgWzQzLjY0NTQzMTE3NzI2MTI1LCAtNzkuMzg3MDU4NTg4OTU0OTFdLCBbNDMuNjQ4NzUzNDk5MzIwNTksIC03OS4zODUzNjczNjA3Mjg5XSwgWzQzLjYzODMxOTA2NTExNTQ5LCAtNzkuMzgyNDYzMTE5MjEyNDddLCBbNDMuNjQ4NTQ2NTk0NjUxODYsIC03OS4zODE2MjQwNjQ3MDE2MV0sIFs0My42NTE3MjIsIC03OS4zNzkyMDVdLCBbNDMuNjUwNTU3MjUyNDk0MDUsIC03OS4zODE5NTYzNDY0MDA2M10sIFs0My42NDQ5MTg1MjExNzQzNiwgLTc5LjM4MjM1Nzc3NjM3MTA4XSwgWzQzLjY1ODgzMjk2OTgyMzUyLCAtNzkuMzgzNjgzNTE5ODY1OThdLCBbNDMuNjU4NDIxMjM1NzQ0OTYsIC03OS4zODU2MTMxOTU1MTExMV0sIFs0My42NTMxNDM4Mzg4ODU4NywgLTc5LjM4MTk4MDE2Njc4MTY3XSwgWzQzLjY1NzAyOTI1MTIxMzU2LCAtNzkuMzgxMzg1MTI3MjgwNTFdLCBbNDMuNjU3NjAxMDE0MzI2NjUsIC03OS4zODE2MTk2MzAxNzE3NF0sIFs0My42NTQ0MTI4Mjc0MDc5OSwgLTc5LjM5MDkwMTYxMzUxNzI0XSwgWzQzLjY1MzY5ODkyODMxODUyNiwgLTc5LjM5MDc0MzEzNTY4NjkyXSwgWzQzLjY1MDI1MjQ4MzA2OTI5NSwgLTc5LjM4NTE1NTc1NjIwMDc1XSwgWzQzLjY1NTgyNzEwMzIyMjI0LCAtNzkuMzkyMDQyMTY4ODg1NTVdLCBbNDMuNjU3NzcxNjExMTI2MDEsIC03OS4zNzYwNzI1NjkxNjgxXSwgWzQzLjY1MTIxNzk3MjUzNzc3LCAtNzkuMzgzNTU0NTk5MzIyNDddLCBbNDMuNjUwNDk3LCAtNzkuMzc4NzY1XSwgWzQzLjY0ODczNDMwNjU5NjYyLCAtNzkuMzg2NTQxMTc1NjQ4MzhdLCBbNDMuNjU0NTcxMjU4OTQzNTcsIC03OS4zODk0NDk3NjUzNjg1Ml0sIFs0My42NjAzOTA5MTE4OTg1NDYsIC03OS4zODc2NjQyMTE5MjcwNV0sIFs0My42NTYwNjI4NzI0NTY0MywgLTc5LjM4MzY5NDcyNDQ2NDY1XSwgWzQzLjY0ODgzNTM5MTI0NTg5NiwgLTc5LjM4MDkzNTgxMjUwMzNdLCBbNDMuNjU2MzE3OTYsIC03OS4zODI3NjQ4N10sIFs0My42NTU2NDA5MTQ1NTMzNSwgLTc5LjM3OTE5ODgyNTc1NTU3XSwgWzQzLjY0ODc1MzQ5OTMyMDU5LCAtNzkuMzg1MzY3MzYwNzI4OV0sIFs0My42NTA1NTcyNTI0OTQwNSwgLTc5LjM4MTk1NjM0NjQwMDYzXSwgWzQzLjY0ODMwODczODA0Njg0LCAtNzkuMzgyMjUzMzM4OTg4MDVdLCBbNDMuNjUwNTc4ODY1MDkzOTM0LCAtNzkuMzgzNDExOTMwMzYxNF0sIFs0My42NTIzODM1ODcyNjYxMiwgLTc5LjM3MjcxOTAzODQ4MjcxXSwgWzQzLjY1MTcyMiwgLTc5LjM3OTIwNV0sIFs0My42NTA1MDQ3NTU0NDAwNSwgLTc5LjM4ODU3NzIzMzg5ODk3XSwgWzQzLjY1MjQ4MzU1MDQ5OTMyNiwgLTc5LjM3MjY1NDcyODQ1MTc2XSwgWzQzLjY2MjM0MTY3OTAxMDA1LCAtNzkuMzc3NDMzNzYxNDQ5MDNdLCBbNDMuNjQ5MDIyNzM2NzYxNTE2LCAtNzkuMzg1ODI2MzU1MjEyMzNdLCBbNDMuNjYwNzYyOTkxNDkzMjMsIC03OS4zODYxODQwOTAzMzA2Nl0sIFs0My42NTIxMDExNzMxMzg0MDUsIC03OS4zODExNzgyODM5OTkzOV0sIFs0My42NjQzOTkzNjMyNDQ2MywgLTc5LjM4MDQyNzE4NDE0MjM1XSwgWzQzLjY0Nzg4MTM3MDE0MDI4LCAtNzkuMzg0MzMxNTI4MzY4MjldLCBbNDMuNjQ4MjkxNjE2Nzk5ODEsIC03OS4zOTAzOTA0MDE1NTkzN10sIFs0My42NDg4MTUxNjMxNjE1LCAtNzkuMzgwNjA0Njg2MTA5NDldLCBbNDMuNjYxNDM1ODI1MTQxMzUsIC03OS4zODE0OTMxOTYyOTQyXSwgWzQzLjY1NTY2OTI3MDk2MTY1LCAtNzkuMzg0Mjk3ODEwODM3NV0sIFs0My42NDgzNTcwODUxOTkyMiwgLTc5LjM4MjE5MjQxODU4NzI3XSwgWzQzLjY1Mjk3LCAtNzkuMzcxNDY3XSwgWzQzLjY1MDU1NjUwNDg5OTM2LCAtNzkuMzgxMTc1NDMyMjQzOTVdLCBbNDMuNjU3MTA3NDUzMjc0MTksIC03OS4zODE1NzQzOTIzMTg3M10sIFs0My42NTAzNjQzNDgwMDQ4NywgLTc5LjM4ODY2OTA3NTc1NzI2XSwgWzQzLjY0ODI1MDU0MzM2NTU1NiwgLTc5LjM4MDEyNzI4MjIwODY5XSwgWzQzLjY0OTExNzkzNTQ1NzcsIC03OS4zNzgzMTI4ODM4MDQzOF0sIFs0My42NTQzNDA4ODAyNTgzLCAtNzkuMzkxMzU0OTA5Nzc5NjJdLCBbNDMuNjUwMzYzMTI1ODY1MTU1LCAtNzkuMzg1ODAxODQxMTk5OTJdLCBbNDMuNjQ4ODM1MzkxMjQ1ODk2LCAtNzkuMzgwOTM1ODEyNTAzM10sIFs0My42NTAyNTI0ODMwNjkyOTUsIC03OS4zODUxNTU3NTYyMDA3NV0sIFs0My42NTA0OTcsIC03OS4zNzg3NjVdLCBbNDMuNjQ4MzA4NzM4MDQ2ODQsIC03OS4zODIyNTMzMzg5ODgwNV0sIFs0My42NDg3MzQzMDY1OTY2MiwgLTc5LjM4NjU0MTE3NTY0ODM4XSwgWzQzLjY0ODc1MzQ5OTMyMDU5LCAtNzkuMzg1MzY3MzYwNzI4OV0sIFs0My42NTEyMTc5NzI1Mzc3NywgLTc5LjM4MzU1NDU5OTMyMjQ3XSwgWzQzLjY0Nzg4MTM3MDE0MDI4LCAtNzkuMzg0MzMxNTI4MzY4MjldLCBbNDMuNjQ4ODE1MTYzMTYxNSwgLTc5LjM4MDYwNDY4NjEwOTQ5XSwgWzQzLjY0ODM1NzA4NTE5OTIyLCAtNzkuMzgyMTkyNDE4NTg3MjddLCBbNDMuNjQ4MjUwNTQzMzY1NTU2LCAtNzkuMzgwMTI3MjgyMjA4NjldLCBbNDMuNjUwNTU3MjUyNDk0MDUsIC03OS4zODE5NTYzNDY0MDA2M10sIFs0My42NTMxNDM4Mzg4ODU4NywgLTc5LjM4MTk4MDE2Njc4MTY3XSwgWzQzLjY0OTAyMjczNjc2MTUxNiwgLTc5LjM4NTgyNjM1NTIxMjMzXSwgWzQzLjY0ODgzMTUwMDU0NjE5LCAtNzkuMzgxOTcwMDYzNDU0NTddLCBbNDMuNjQ1MDE4MTQ0NjQ2OTgsIC03OS4zODA0MTUwOTMxMTk5XSwgWzQzLjY1MDU3ODg2NTA5MzkzNCwgLTc5LjM4MzQxMTkzMDM2MTRdLCBbNDMuNjQ2NjU3NzM2Mjg1Nzk2LCAtNzkuMzc3NjQxMDI4NTY5NDRdLCBbNDMuNjQ2OTEyMjMxOTA5Mjc2LCAtNzkuMzc5NTk2NjE2OTY0NjNdLCBbNDMuNjQ5MTE3OTM1NDU3NywgLTc5LjM3ODMxMjg4MzgwNDM4XSwgWzQzLjY0ODU0NjU5NDY1MTg2LCAtNzkuMzgxNjI0MDY0NzAxNjFdLCBbNDMuNjQ1NDMxMTc3MjYxMjUsIC03OS4zODcwNTg1ODg5NTQ5MV0sIFs0My42NTA1NTY1MDQ4OTkzNiwgLTc5LjM4MTE3NTQzMjI0Mzk1XSwgWzQzLjY1MTcyMiwgLTc5LjM3OTIwNV0sIFs0My42NDc2ODY4MDg5MzA4ODUsIC03OS4zNzcyOTUzODg0MDMzXSwgWzQzLjY0Mjg1MSwgLTc5LjM4MjA4MV0sIFs0My42NDgyOTE2MTY3OTk4MSwgLTc5LjM5MDM5MDQwMTU1OTM3XSwgWzQzLjY1MjM4MzU4NzI2NjEyLCAtNzkuMzcyNzE5MDM4NDgyNzFdLCBbNDMuNjQ0MzcyNTg0MTQ4MzY0LCAtNzkuMzgzMDY0NzAwMjc0MjNdLCBbNDMuNjUwOTM5NjU3MzM4MzIsIC03OS4zNzkwNDU0NTgyNDM3MV0sIFs0My42NTA1MDQ3NTU0NDAwNSwgLTc5LjM4ODU3NzIzMzg5ODk3XSwgWzQzLjY1MDM2MzEyNTg2NTE1NSwgLTc5LjM4NTgwMTg0MTE5OTkyXSwgWzQzLjY1MjEwMTE3MzEzODQwNSwgLTc5LjM4MTE3ODI4Mzk5OTM5XSwgWzQzLjY1MjQ4MzU1MDQ5OTMyNiwgLTc5LjM3MjY1NDcyODQ1MTc2XSwgWzQzLjY1MTY2MTYyMzc4MDM3LCAtNzkuMzc5MDc1MTMwMzI3MV0sIFs0My42NDgyNjg4MTY2MTc0NywgLTc5LjM4NjMyODIxMjM0MTM0XSwgWzQzLjY1MzY5ODkyODMxODUyNiwgLTc5LjM5MDc0MzEzNTY4NjkyXSwgWzQzLjY1MDYzNjgzMDcyMDIzLCAtNzkuMzcxMjc1NzM2OTk3OTJdLCBbNDMuNjU4ODMyOTY5ODIzNTIsIC03OS4zODM2ODM1MTk4NjU5OF0sIFs0My42NDkyOTgzNDM5NjM0NywgLTc5LjM3NjQzMDY3MjUxODY3XSwgWzQzLjY1MDM2NDM0ODAwNDg3LCAtNzkuMzg4NjY5MDc1NzU3MjZdLCBbNDMuNjU0NDEyODI3NDA3OTksIC03OS4zOTA5MDE2MTM1MTcyNF0sIFs0My42NDg2NjgyMjE1NDIwOTYsIC03OS4zNzE2MDk2MjMwMjA0OV0sIFs0My42NDcyNjE2LCAtNzkuMzc4NTk5OF0sIFs0My42NTI5NywgLTc5LjM3MTQ2N10sIFs0My42NTE4NTU2ODc5MDAxMjQsIC03OS4zNzgwNTU0MDkwNjUxOF0sIFs0My42NDE2Mzk1NDUyMDI2NywgLTc5LjM3NzU1MTc3ODY3NjJdLCBbNDMuNjM4MzE5MDY1MTE1NDksIC03OS4zODI0NjMxMTkyMTI0N10sIFs0My42NDIyMjAyMTQzMTg2NywgLTc5LjM3Nzk0NDU5MDA0MjQzXSwgWzQzLjY0MDQ4NTkwODQ3NDY5NSwgLTc5LjM3NjA0MzUzOTE3NTUxXSwgWzQzLjY0MTE3ODU4NTgyNjc3LCAtNzkuMzc4MTQ0NDgyMjQ3ODNdLCBbNDMuNjQwNzQwMTczMDQxNjUsIC03OS4zNzg0Nzc5MDExNTcxOF0sIFs0My42Mzk1Mzc0NjI5MjU5MSwgLTc5LjM4MTc2MzIyNjg2NTYzXSwgWzQzLjY0NTY0NDE0Nzc2MTcyLCAtNzkuMzUyMzc5Njk1NDg2N10sIFs0My42MzgzNDczMDA0ODU2OCwgLTc5LjM4MzA0NTc1NTA1OF0sIFs0My42NDE0NjAwNjcxNjUxODQsIC03OS4zNzc3MTkxNDQ3MjU2Nl0sIFs0My42NDIzOTE1MzI4NjAzOSwgLTc5LjM3NzUxMTg2NzA0NDQzXSwgWzQzLjY0MDcxOTExNjA5NjI4LCAtNzkuMzc4OTAyMzIyMTQ2NF0sIFs0My42NDM5OTYxOTgyNTM4NywgLTc5LjM2Njg5MTEzMjIwODIyXSwgWzQzLjYyNDMyMzA3MzY3NjU3LCAtNzkuMzgxNzAzMzIxNTc5NzhdLCBbNDMuNjIzNjE4Mzk0NTYzOTgsIC03OS4zODEzMjQ2OTE4MjgyXSwgWzQzLjYzODE2MiwgLTc5LjM4MDMzOV0sIFs0My42Mzk5NTksIC03OS4zODA2MDNdLCBbNDMuNjQ4ODM1MzkxMjQ1ODk2LCAtNzkuMzgwOTM1ODEyNTAzM10sIFs0My42NDUwMTgxNDQ2NDY5OCwgLTc5LjM4MDQxNTA5MzExOTldLCBbNDMuNjQ4MzA4NzM4MDQ2ODQsIC03OS4zODIyNTMzMzg5ODgwNV0sIFs0My42NDY2NTc3MzYyODU3OTYsIC03OS4zNzc2NDEwMjg1Njk0NF0sIFs0My42NDY5MTIyMzE5MDkyNzYsIC03OS4zNzk1OTY2MTY5NjQ2M10sIFs0My42NTA0OTcsIC03OS4zNzg3NjVdLCBbNDMuNjQ4NzM0MzA2NTk2NjIsIC03OS4zODY1NDExNzU2NDgzOF0sIFs0My42NDc4ODEzNzAxNDAyOCwgLTc5LjM4NDMzMTUyODM2ODI5XSwgWzQzLjY0ODI1MDU0MzM2NTU1NiwgLTc5LjM4MDEyNzI4MjIwODY5XSwgWzQzLjY0ODgxNTE2MzE2MTUsIC03OS4zODA2MDQ2ODYxMDk0OV0sIFs0My42NDI4NTEsIC03OS4zODIwODFdLCBbNDMuNjQ4MzU3MDg1MTk5MjIsIC03OS4zODIxOTI0MTg1ODcyN10sIFs0My42NTAyNTI0ODMwNjkyOTUsIC03OS4zODUxNTU3NTYyMDA3NV0sIFs0My42NDg3NTM0OTkzMjA1OSwgLTc5LjM4NTM2NzM2MDcyODldLCBbNDMuNjQ0MzcyNTg0MTQ4MzY0LCAtNzkuMzgzMDY0NzAwMjc0MjNdLCBbNDMuNjQ3Njg2ODA4OTMwODg1LCAtNzkuMzc3Mjk1Mzg4NDAzM10sIFs0My42NDU0MzExNzcyNjEyNSwgLTc5LjM4NzA1ODU4ODk1NDkxXSwgWzQzLjY0ODgzMTUwMDU0NjE5LCAtNzkuMzgxOTcwMDYzNDU0NTddLCBbNDMuNjQ5MTE3OTM1NDU3NywgLTc5LjM3ODMxMjg4MzgwNDM4XSwgWzQzLjY0ODU0NjU5NDY1MTg2LCAtNzkuMzgxNjI0MDY0NzAxNjFdLCBbNDMuNjQ5MDIyNzM2NzYxNTE2LCAtNzkuMzg1ODI2MzU1MjEyMzNdLCBbNDMuNjUxMjE3OTcyNTM3NzcsIC03OS4zODM1NTQ1OTkzMjI0N10sIFs0My42NTA1NTcyNTI0OTQwNSwgLTc5LjM4MTk1NjM0NjQwMDYzXSwgWzQzLjY0MjgwNDQ4Mzk5MjUxLCAtNzkuMzgzOTIxNDk0MTUzODFdLCBbNDMuNjQ0OTE4NTIxMTc0MzYsIC03OS4zODIzNTc3NzYzNzEwOF0sIFs0My42NTA1Nzg4NjUwOTM5MzQsIC03OS4zODM0MTE5MzAzNjE0XSwgWzQzLjY1MzE0MzgzODg4NTg3LCAtNzkuMzgxOTgwMTY2NzgxNjddLCBbNDMuNjQ3MjYxNiwgLTc5LjM3ODU5OThdLCBbNDMuNjQxNjM5NTQ1MjAyNjcsIC03OS4zNzc1NTE3Nzg2NzYyXSwgWzQzLjY0ODI5MTYxNjc5OTgxLCAtNzkuMzkwMzkwNDAxNTU5MzddLCBbNDMuNjUyMzgzNTg3MjY2MTIsIC03OS4zNzI3MTkwMzg0ODI3MV0sIFs0My42NTA1NTY1MDQ4OTkzNiwgLTc5LjM4MTE3NTQzMjI0Mzk1XSwgWzQzLjY1MTcyMiwgLTc5LjM3OTIwNV0sIFs0My42NDc3NDM2OTI1ODcwODUsIC03OS4zNzk1ODgxNDI1MDU5OF0sIFs0My42NDg2NjgyMjE1NDIwOTYsIC03OS4zNzE2MDk2MjMwMjA0OV0sIFs0My42NTI0ODM1NTA0OTkzMjYsIC03OS4zNzI2NTQ3Mjg0NTE3Nl0sIFs0My42NDkyOTgzNDM5NjM0NywgLTc5LjM3NjQzMDY3MjUxODY3XSwgWzQzLjY1MDYzNjgzMDcyMDIzLCAtNzkuMzcxMjc1NzM2OTk3OTJdLCBbNDMuNjUwOTM5NjU3MzM4MzIsIC03OS4zNzkwNDU0NTgyNDM3MV0sIFs0My42NDgyNjg4MTY2MTc0NywgLTc5LjM4NjMyODIxMjM0MTM0XSwgWzQzLjY0MTU3OTkxNzYxODA4LCAtNzkuMzgzNDU2NDQwMzA3OTVdLCBbNDMuNjUwNTA0NzU1NDQwMDUsIC03OS4zODg1NzcyMzM4OTg5N10sIFs0My42NTA3MDIzNDE1ODgwNCwgLTc5LjM2OTI1OTM5NjgxNzMxXSwgWzQzLjY0ODc1NzE0NzU3NjM3LCAtNzkuMzcxNjQ1Mzk3NjU4MTddLCBbNDMuNjQyMzIwOTEwMzg0NiwgLTc5LjM4Mzc0OTMyNjQ4OTU0XSwgWzQzLjY0ODQ5NTA5MDQzOTMsIC03OS4zNzE0NjIzMTc5Mzg5Ml0sIFs0My42NTA0OTcsIC03OS4zNzg3NjVdLCBbNDMuNjQ4ODM1MzkxMjQ1ODk2LCAtNzkuMzgwOTM1ODEyNTAzM10sIFs0My42NDY2NTc3MzYyODU3OTYsIC03OS4zNzc2NDEwMjg1Njk0NF0sIFs0My42NDgzMDg3MzgwNDY4NCwgLTc5LjM4MjI1MzMzODk4ODA1XSwgWzQzLjY0NjkxMjIzMTkwOTI3NiwgLTc5LjM3OTU5NjYxNjk2NDYzXSwgWzQzLjY0NTAxODE0NDY0Njk4LCAtNzkuMzgwNDE1MDkzMTE5OV0sIFs0My42NDc2ODY4MDg5MzA4ODUsIC03OS4zNzcyOTUzODg0MDMzXSwgWzQzLjY0ODI1MDU0MzM2NTU1NiwgLTc5LjM4MDEyNzI4MjIwODY5XSwgWzQzLjY0ODgxNTE2MzE2MTUsIC03OS4zODA2MDQ2ODYxMDk0OV0sIFs0My42NDkxMTc5MzU0NTc3LCAtNzkuMzc4MzEyODgzODA0MzhdLCBbNDMuNjQ4MzU3MDg1MTk5MjIsIC03OS4zODIxOTI0MTg1ODcyN10sIFs0My42NTAyNTI0ODMwNjkyOTUsIC03OS4zODUxNTU3NTYyMDA3NV0sIFs0My42NDg3MzQzMDY1OTY2MiwgLTc5LjM4NjU0MTE3NTY0ODM4XSwgWzQzLjY1MjM4MzU4NzI2NjEyLCAtNzkuMzcyNzE5MDM4NDgyNzFdLCBbNDMuNjQ4ODMxNTAwNTQ2MTksIC03OS4zODE5NzAwNjM0NTQ1N10sIFs0My42NDc4ODEzNzAxNDAyOCwgLTc5LjM4NDMzMTUyODM2ODI5XSwgWzQzLjY0Mjg1MSwgLTc5LjM4MjA4MV0sIFs0My42NDg1NDY1OTQ2NTE4NiwgLTc5LjM4MTYyNDA2NDcwMTYxXSwgWzQzLjY1MDU1NzI1MjQ5NDA1LCAtNzkuMzgxOTU2MzQ2NDAwNjNdLCBbNDMuNjUyNDgzNTUwNDk5MzI2LCAtNzkuMzcyNjU0NzI4NDUxNzZdLCBbNDMuNjQ4NzUzNDk5MzIwNTksIC03OS4zODUzNjczNjA3Mjg5XSwgWzQzLjY0ODY2ODIyMTU0MjA5NiwgLTc5LjM3MTYwOTYyMzAyMDQ5XSwgWzQzLjY0OTI5ODM0Mzk2MzQ3LCAtNzkuMzc2NDMwNjcyNTE4NjddLCBbNDMuNjUxMjE3OTcyNTM3NzcsIC03OS4zODM1NTQ1OTkzMjI0N10sIFs0My42NTA2MzY4MzA3MjAyMywgLTc5LjM3MTI3NTczNjk5NzkyXSwgWzQzLjY1MTcyMiwgLTc5LjM3OTIwNV0sIFs0My42NTMxNDM4Mzg4ODU4NywgLTc5LjM4MTk4MDE2Njc4MTY3XSwgWzQzLjY1MDcwMjM0MTU4ODA0LCAtNzkuMzY5MjU5Mzk2ODE3MzFdLCBbNDMuNjQ3MjYxNiwgLTc5LjM3ODU5OThdLCBbNDMuNjQ0MzcyNTg0MTQ4MzY0LCAtNzkuMzgzMDY0NzAwMjc0MjNdLCBbNDMuNjUwOTM5NjU3MzM4MzIsIC03OS4zNzkwNDU0NTgyNDM3MV0sIFs0My42NTA1NTY1MDQ4OTkzNiwgLTc5LjM4MTE3NTQzMjI0Mzk1XSwgWzQzLjY0ODc1NzE0NzU3NjM3LCAtNzkuMzcxNjQ1Mzk3NjU4MTddLCBbNDMuNjUyOTcsIC03OS4zNzE0NjddLCBbNDMuNjUwNTc4ODY1MDkzOTM0LCAtNzkuMzgzNDExOTMwMzYxNF0sIFs0My42NDU0MzExNzcyNjEyNSwgLTc5LjM4NzA1ODU4ODk1NDkxXSwgWzQzLjY0ODQ5NTA5MDQzOTMsIC03OS4zNzE0NjIzMTc5Mzg5Ml0sIFs0My42NDg3MDcyNzgxNzczLCAtNzkuMzcxNTgwMDUxMjc1NjNdLCBbNDMuNjQ5MDIyNzM2NzYxNTE2LCAtNzkuMzg1ODI2MzU1MjEyMzNdLCBbNDMuNjQxNjM5NTQ1MjAyNjcsIC03OS4zNzc1NTE3Nzg2NzYyXSwgWzQzLjY0Nzc0MzY5MjU4NzA4NSwgLTc5LjM3OTU4ODE0MjUwNTk4XSwgWzQzLjY1MTY2MTYyMzc4MDM3LCAtNzkuMzc5MDc1MTMwMzI3MV0sIFs0My42NDg0NTY1MDEzMTkzMiwgLTc5LjM3MTc4OTkzNzI0NDA3XSwgWzQzLjY1MDgyMjQ4NjIwMDMwNSwgLTc5LjM3MDQzODYwMDA0OTkyXSwgWzQzLjY1MTg1NTY4NzkwMDEyNCwgLTc5LjM3ODA1NTQwOTA2NTE4XSwgWzQzLjY1MzM0Njc5ODI2NjE4LCAtNzkuMzY5NTE3MzE3NTUxNDFdLCBbNDMuNjQyODA0NDgzOTkyNTEsIC03OS4zODM5MjE0OTQxNTM4MV0sIFs0My43MzU5NzUwNDQ4MDc1NSwgLTc5LjQyMDM5MDgwODg3NDI1XSwgWzQzLjcyODMzNzQzMjE1NzMsIC03OS40MTgwODkyMTc1ODY1XSwgWzQzLjczMTMzODc3Mjk3NDM1LCAtNzkuNDAzNzY5NDQ3NjY5MThdLCBbNDMuNzMzMTgxNzk1NTM5NzM2LCAtNzkuNDA0MzIyODQyMDc5NzZdLCBbNDMuNzQwODA0NDUzNTI2NTIsIC03OS40MzUxOTAxMjE2NTA5XSwgWzQzLjczNjIwNDQ2MjA3NTEsIC03OS40MjAzNTg4NTQ0MTg5OF0sIFs0My43MzExOTMwMjYyMzc3NSwgLTc5LjQwMzY3NzU5NTc2MjE1XSwgWzQzLjcyMDA0MjgwOTk0MjYsIC03OS40MzEwOTQ1NjA0MDI5NV0sIFs0My43MjcwNjIzNjkxNDM5NSwgLTc5LjQzMTU4Njc3Nzc0MTA5XSwgWzQzLjczNjcxNzExMzAyMTcwNSwgLTc5LjQzNzQ5NzI0ODkxNzJdLCBbNDMuNzMxNTgyNDU1NDEwNDU0LCAtNzkuNDE5MTA5MzkwOTUyMTldLCBbNDMuNzM4Mzk5MjcyNzQ4MTQsIC03OS40MzQxOTQyODM5OTc5N10sIFs0My43MjkxNDgyODkwMTUxMzYsIC03OS40MzE5NTU3Njk3MjU3Ml0sIFs0My43MzE3MTE0NDk3Mjc5MywgLTc5LjQwMzkwNzY0NzU3NDc0XSwgWzQzLjcyODA5MTM4MDcwNDE2LCAtNzkuNDE4MDIxNzI1NzAxNV0sIFs0My43MzE2MzAzNTYwNDIxNzQsIC03OS40MzMwMTM3NTYzNTEyMl0sIFs0My43MzA4MDY2MjU3MzcwNSwgLTc5LjQwMzgyMzE2MTgwMzE1XSwgWzQzLjcyNzczODQxMTUwMzUzLCAtNzkuNDMxNTkyNjY5MjQ1ODJdLCBbNDMuNzMyNTM0NzgzMDc0ODcsIC03OS40MDQxMDc3NTU3OTM4Nl0sIFs0My43Mzk2OTM5NzE5Mzg5NSwgLTc5LjQzNDQ2MTgwMzk5OTM0XSwgWzQzLjczMjYxMDgsIC03OS40MzI0OTQ0XSwgWzQzLjczNTMwOSwgLTc5LjQyMDE4N10sIFs0My43MzQ4ODYsIC03OS40MTk2MzJdLCBbNDMuNzMxMzQzMDg3MjIwMDc1LCAtNzkuNDE1ODk0MDUxNDIyMzddLCBbNDMuNzMxNTU4MzM0MTU2OTQsIC03OS40MzI4ODE4NjcwODk5NV0sIFs0My43MzgwMzUsIC03OS40MzQzNTRdLCBbNDMuNzI5MTY1MjAwNDc4NDM0LCAtNzkuNDMyMjIyNDE3OTUwNDZdLCBbNDMuNzI4OTIyLCAtNzkuNDMyMDIyXSwgWzQzLjcyODkwODYyOTY3OTQ3LCAtNzkuNDMyMTUwOTc3MzQzNTddLCBbNDMuNzI4NDI0OTE0ODQ4MjIsIC03OS40MzE3MzMyMzE4MjkyNF0sIFs0My43MDM1Mjk0NzY4MjE4MSwgLTc5LjQxMzY5ODI4MjMzNTldLCBbNDMuNzIwMDQyODA5OTQyNiwgLTc5LjQzMTA5NDU2MDQwMjk1XSwgWzQzLjcxMTc5MTM3MTc5MDI5LCAtNzkuMzk5NDAzMDAzOTk2MDddLCBbNDMuNzA5NzY0NTg4ODQzNDIsIC03OS4zOTg5NDEwMTUwMTU1OF0sIFs0My43MTM0ODYxODEzNzU3MTQsIC03OS4zOTk4MTEzNzIxNTg4MV0sIFs0My43MDQxMTY0NjYyMjc1NzUsIC03OS40MTExMzUyMjQ5OTM0M10sIFs0My42OTk2NDk5NTY2MzMxMiwgLTc5LjQzMjExMjUwOTMwMTQ5XSwgWzQzLjcwOTMyODgyODY5NTMyLCAtNzkuMzk4ODIyNjA3ODE5NzddLCBbNDMuNzI4MzM3NDMyMTU3MywgLTc5LjQxODA4OTIxNzU4NjVdLCBbNDMuNzA1NzQ4MDQ4MDA3OTEsIC03OS40MDM0ODE1MjE2MjQ5XSwgWzQzLjcwMDY0NjEwNTE1NjA5NiwgLTc5LjQyNzA1OTI1MDQ1MzcxXSwgWzQzLjcwNjk0Mzg3MTU5NTcxLCAtNzkuMzk4NDEzMjE4OTE4NTldLCBbNDMuNzExNjc1OTk2OTUxMDIsIC03OS4zOTkzNTEyMzg0ODIzN10sIFs0My43MTQ0NTI0MzY4NTg4LCAtNzkuNDAwMDkwNTc2NTYxMTVdLCBbNDMuNzA3MzAzNTk5MTExMDMsIC03OS4zOTY5MDEzNjcwMzYyNl0sIFs0My43MDYxMDM5NzU4MTI0NywgLTc5LjM5ODY4MjI1NDIzMjg3XSwgWzQzLjcxMTQ0ODk2NjQ0MzYyLCAtNzkuMzk5MzQyNTc0ODcyNzldLCBbNDMuNzA2ODc5Mzc1ODkxOTQsIC03OS4zOTY2NDU5MjYzMTU3NF0sIFs0My43MjcwNjIzNjkxNDM5NSwgLTc5LjQzMTU4Njc3Nzc0MTA5XSwgWzQzLjcwNjQ4NTU4MTg4OTY0NSwgLTc5LjM5OTc2Mjc4NjM0OTg1XSwgWzQzLjcwNzUwNTM4LCAtNzkuMzk4ODk3MzhdLCBbNDMuNzA3MTI3LCAtNzkuMzk1ODAxXSwgWzQzLjcyODA5MTM4MDcwNDE2LCAtNzkuNDE4MDIxNzI1NzAxNV0sIFs0My43MDkxNDA3NDYwODI2OCwgLTc5LjM5ODcwNjQ1ODg1Nzc1XSwgWzQzLjcwMzk4ODk2MzM3MDU3LCAtNzkuNDExNzY5NjY5MTM4MjhdLCBbNDMuNzA2NzMyMDIzMTMzNjQsIC03OS4zOTg0OTk4MTU5NjUyOF0sIFs0My43MDQ2MjUyMzA2OTYzMSwgLTc5LjQwODkzMDQzNzQyNTE2XSwgWzQzLjcxMjQ2Njg1NzM3OTk2NSwgLTc5LjQyNzk5ODkyMjEwODcxXSwgWzQzLjcwMzcxNzI4MTcxMTE4NSwgLTc5LjQxNDExMzE5OTc2ODc0XSwgWzQzLjY4ODE2OTYwMTI3ODMyLCAtNzkuNDEyNTk4Njk2NzQxODJdLCBbNDMuNjg4Mjk2OTQzMTc4OTU1LCAtNzkuNDEyNTYzNDA1NzA1MjNdLCBbNDMuNzAzNTI5NDc2ODIxODEsIC03OS40MTM2OTgyODIzMzU5XSwgWzQzLjY4ODA3OTE2MjA5MTc5NiwgLTc5LjQxNDU0MzUzMzA4Nzk0XSwgWzQzLjY5OTY0OTk1NjYzMzEyLCAtNzkuNDMyMTEyNTA5MzAxNDldLCBbNDMuNzA0MTE2NDY2MjI3NTc1LCAtNzkuNDExMTM1MjI0OTkzNDNdLCBbNDMuNjgxNzY4MTgxODMxOTQsIC03OS40MjUxNTc2MzM4NDY0NV0sIFs0My42ODczNzM4ODg4MDkzNywgLTc5LjM5MzY5NjM0MzQzMjA1XSwgWzQzLjY4MTYxNDQzMDQ1MjEzLCAtNzkuNDI2MDc1Mjg5ODkxMzddLCBbNDMuNjc5ODQ2LCAtNzkuNDE2OTg5XSwgWzQzLjY4ODM3NjEzMjg0NzQ1LCAtNzkuMzk0MTU4MzcxNzA1M10sIFs0My43MDEwMjEyNzQzMTU2MSwgLTc5LjM5NzAyNzQ2MDg3OTI2XSwgWzQzLjcwMDY0NjEwNTE1NjA5NiwgLTc5LjQyNzA1OTI1MDQ1MzcxXSwgWzQzLjY4NzcwOCwgLTc5LjM5NTA2Ml0sIFs0My42ODg2NTk2NzQ3MzY0MSwgLTc5LjM5MTk0MDE2MzA2NDhdLCBbNDMuNjgxNjgwNTY2Mzg4OTMsIC03OS40MjU0NTI5MTY3MTg4NF0sIFs0My43MDU3NDgwNDgwMDc5MSwgLTc5LjQwMzQ4MTUyMTYyNDldLCBbNDMuNzA2OTQzODcxNTk1NzEsIC03OS4zOTg0MTMyMTg5MTg1OV0sIFs0My42ODE0MDczMzE3Mjc5MiwgLTc5LjQyNzMzMjM3MzgyOTYzXSwgWzQzLjcwNzMwMzU5OTExMTAzLCAtNzkuMzk2OTAxMzY3MDM2MjZdLCBbNDMuNzA2MTAzOTc1ODEyNDcsIC03OS4zOTg2ODIyNTQyMzI4N10sIFs0My42ODA3NDA0NjY4NzIzNCwgLTc5LjQyOTQxNjYwOTIzMDg0XSwgWzQzLjY4NzE0NTI2MzEwODk0LCAtNzkuMzkzNTIwNTM3MzY5NzhdLCBbNDMuNjgyMDUyODY2OTAzMDE0LCAtNzkuNDIzNTQ2ODE2NTc5MTVdLCBbNDMuNzA2ODc5Mzc1ODkxOTQsIC03OS4zOTY2NDU5MjYzMTU3NF0sIFs0My43MDY0ODU1ODE4ODk2NDUsIC03OS4zOTk3NjI3ODYzNDk4NV0sIFs0My42ODY1MTE4MTcyOTY0OSwgLTc5LjM5MzUwNzE4Nzc0NTI3XSwgWzQzLjY4NjczNCwgLTc5LjM5MzU1OF0sIFs0My42ODA3ODU4LCAtNzkuNDI5MTY2Nl0sIFs0My43MDc1MDUzOCwgLTc5LjM5ODg5NzM4XSwgWzQzLjY3NTY2ODQ3NTg4MjgsIC03OS40MDM2MTY1OTc1MjQ0M10sIFs0My42NzUxNTI4MzMyMzAyOSwgLTc5LjQwNTg1ODQ2NDE1MzAzXSwgWzQzLjY3NDEwMDIwODU1ODg1LCAtNzkuNDEwODM3ODA0MDQyNzNdLCBbNDMuNjczODk0NzMzODIyMjY2LCAtNzkuNDExODE3NzAyMTE1MzldLCBbNDMuNjc5MTAxMTc4MDgzMDYsIC03OS4zOTA2ODU1NTEwNzI4Nl0sIFs0My42NzM2OTUzMzI3MzU2LCAtNzkuMzk2MDM3NDIwNTU4MDVdLCBbNDMuNjc3MDE1ODc4Mzk2ODEsIC03OS4zODkzNjY2MTk4NDUyOF0sIFs0My42Njk4ODMxNjU3MDgzOCwgLTc5LjM5MzM1ODU4MTIxMjYyXSwgWzQzLjY4MTc0OTc0MTMwMTQ2NiwgLTc5LjM5MTQ0NjY0Mzk4OTY1XSwgWzQzLjY2NTE3OTYxODAxMzMyNiwgLTc5LjQxMDk2NTUyNTY5MzIxXSwgWzQzLjY2NjIyMTcxNzE4NjE4LCAtNzkuNDA2MDY2NDc2OTE2NjhdLCBbNDMuNjY5NzUzNTYyNzg0NjQsIC03OS4zODg3MTk3OTcxMzQ0XSwgWzQzLjY2OTk1Mzc1MTg3ODQ1LCAtNzkuMzkxODI4MTI2MjYxMDZdLCBbNDMuNjcyODk1MzEwNTU2OTIsIC03OS40MTQxMDc4MzI1MzU4OF0sIFs0My42ODI4MTA5NTQ2OTg5NjUsIC03OS4zOTE5NDQ2NjkyOTk2OV0sIFs0My42Njc2MDc3ODY0MzA5ODUsIC03OS4zOTkyMDEwNzYzOTY2NV0sIFs0My42NjgxNDMzNzIyNTkxOTUsIC03OS4zOTYwODY5MTIwMzU1NF0sIFs0My42NjM5ODMzODk0Njc4OSwgLTc5LjQxNjY0MDQ5MzE0MDkyXSwgWzQzLjY3MTE1NDMzNTUzOTE2NCwgLTc5LjM5MDgwMTUxMjIwOTQ4XSwgWzQzLjY2MjUxOTA5NjAyMjk3NiwgLTc5LjQwNDQ0MjcwNTY3NDA0XSwgWzQzLjY3OTg0NiwgLTc5LjQxNjk4OV0sIFs0My42NjE1MTY5MDE1ODAyMTQsIC03OS40MDkwNTI5OTg0NDc3XSwgWzQzLjY3MDI5MDY3ODExMjA5LCAtNzkuMzkwNTc3NzU4Nzg5MDZdLCBbNDMuNjg3MzczODg4ODA5MzcsIC03OS4zOTM2OTYzNDM0MzIwNV0sIFs0My42NjUwODgzODgwOTM2LCAtNzkuNDExMzUyOTQ2MDA5ODRdLCBbNDMuNjcxOTE2NzM1MTY4NDcsIC03OS4zODkyMzU4NjkyMDQwM10sIFs0My42NjI4MzU1NDA3MjA4NywgLTc5LjQwMzM2NDk0NzMxMjU1XSwgWzQzLjY2NzMxNCwgLTc5LjQxMjE0NV0sIFs0My42NzgzMTI0MjcxODIwODUsIC03OS4zOTAxMDkxNDEzMzk2NV0sIFs0My42NzA4ODQ1NTgyOTQ4LCAtNzkuMzkxMTM1MjkyMzYyMzRdLCBbNDMuNjcwNDIxMDQ2OCwgLTc5LjM4OTc5MzA5MjE5NjQ2XSwgWzQzLjY2OTEwNzE0NDA3Mjk3NCwgLTc5LjQyNjEwNDcxODUyMDMyXSwgWzQzLjY2Nzk2MjYzNzQ5MDgyLCAtNzkuMzg4ODcyNzQxOTc1ODJdLCBbNDMuNjcxNzI2MjkyNDA0ODgsIC03OS4zODY5NTE1NzQ5OTYxM10sIFs0My42NTY5NTgyMTYyNjA4MSwgLTc5LjQwNTQ2MDI5Nzk1OTg1XSwgWzQzLjY2Mzk0OTMxMDIxNzM2LCAtNzkuNDE2OTYwMDE4MjA2NzFdLCBbNDMuNjcxNTkyOTY1MTg0NTIsIC03OS4zODk5NTM1MjA1NTkzNV0sIFs0My42ODgxNjk2MDEyNzgzMiwgLTc5LjQxMjU5ODY5Njc0MTgyXSwgWzQzLjY3MDgwOTM2ODI3NTUzNSwgLTc5LjM5MzI3MjQwMDEzMDAzXSwgWzQzLjY2MDM4NjQ0NzE3OTM1LCAtNzkuNDE1NDc1OTg0OTAxNjhdLCBbNDMuNjcxMTM0Njk2Mzk2MTYsIC03OS4zOTA3ODY5OTAxMzY2NV0sIFs0My42ODgyOTY5NDMxNzg5NTUsIC03OS40MTI1NjM0MDU3MDUyM10sIFs0My42ODE3NjgxODE4MzE5NCwgLTc5LjQyNTE1NzYzMzg0NjQ1XSwgWzQzLjY2NjkyNjY2NzQ1ODg0LCAtNzkuMzgxNDIxMzU5NTQyNjddLCBbNDMuNjY4NjY1MDMyNzUyNzEsIC03OS4zODY4Mjk1MzkzNjQyNF0sIFs0My42ODgzNzYxMzI4NDc0NSwgLTc5LjM5NDE1ODM3MTcwNTNdLCBbNDMuNjY4NzgxMDk3MjY5NDIsIC03OS4zOTA4NDk5OTYxNzQ5NV0sIFs0My42NzA0ODcsIC03OS4zOTAzMjldLCBbNDMuNjYyNTE5MDk2MDIyOTc2LCAtNzkuNDA0NDQyNzA1Njc0MDRdLCBbNDMuNjU2OTU4MjE2MjYwODEsIC03OS40MDU0NjAyOTc5NTk4NV0sIFs0My42NjUxNzk2MTgwMTMzMjYsIC03OS40MTA5NjU1MjU2OTMyMV0sIFs0My42NjYyMjE3MTcxODYxOCwgLTc5LjQwNjA2NjQ3NjkxNjY4XSwgWzQzLjY2MTUxNjkwMTU4MDIxNCwgLTc5LjQwOTA1Mjk5ODQ0NzddLCBbNDMuNjU2Njg0MzU1MjQ1OTY0LCAtNzkuNDA3MDMyMDI2MzA4MjZdLCBbNDMuNjU2Njc3NzY1ODYxMDEsIC03OS40MDI4MjE3MTM3NzddLCBbNDMuNjU0NzYzODU5NzYzODYsIC03OS40MDA1NjU4ODM2NzgwNl0sIFs0My42NTUxMDg1NjU2NTE0NywgLTc5LjQwMjM0MjQxNTM0NTQzXSwgWzQzLjY1NDQ5MzE1NTQwMTE0LCAtNzkuNDAxMzEwOTAzOTMwMDJdLCBbNDMuNjU1OTAzODAwMjAxNjgsIC03OS40MTAxMjUyODgzNzI0N10sIFs0My42NTQxNDY2MjIxMTczMywgLTc5LjQwMDE4MTc1NTE2MjMxXSwgWzQzLjY2MjYzNzE2Nzk1ODU3LCAtNzkuNDAzNzk4MTcyMDExM10sIFs0My42NTM1NjAyNzY4MzU2ODQsIC03OS40MDA0MDIwOTY2MDgzNl0sIFs0My42NTYxOTMzNjI3ODM1NCwgLTc5LjQwMjY3MzIzMzU1Nzg1XSwgWzQzLjY2OTg4MzE2NTcwODM4LCAtNzkuMzkzMzU4NTgxMjEyNjJdLCBbNDMuNjU1MDU3NzgyMTMxMzEsIC03OS40MDMyNTQwMTY5MTY1NV0sIFs0My42Njc2MDc3ODY0MzA5ODUsIC03OS4zOTkyMDEwNzYzOTY2NV0sIFs0My42NTU4MjcxMDMyMjIyNCwgLTc5LjM5MjA0MjE2ODg4NTU1XSwgWzQzLjY2Mzk4MzM4OTQ2Nzg5LCAtNzkuNDE2NjQwNDkzMTQwOTJdLCBbNDMuNjY5NzUzNTYyNzg0NjQsIC03OS4zODg3MTk3OTcxMzQ0XSwgWzQzLjY1NDcyMDIxNDg2MTQ1NiwgLTc5LjQwMDg1ODk5MDg0NzIxXSwgWzQzLjY2ODE0MzM3MjI1OTE5NSwgLTc5LjM5NjA4NjkxMjAzNTU0XSwgWzQzLjY1NzAwMjMxOTM0NDcwNiwgLTc5LjQwNjY0NzMwMjU4NDU2XSwgWzQzLjY1ODQyMTIzNTc0NDk2LCAtNzkuMzg1NjEzMTk1NTExMTFdLCBbNDMuNjY5OTUzNzUxODc4NDUsIC03OS4zOTE4MjgxMjYyNjEwNl0sIFs0My42NTQ0MTI4Mjc0MDc5OSwgLTc5LjM5MDkwMTYxMzUxNzI0XSwgWzQzLjY2MDM5MDkxMTg5ODU0NiwgLTc5LjM4NzY2NDIxMTkyNzA1XSwgWzQzLjY1ODgzMjk2OTgyMzUyLCAtNzkuMzgzNjgzNTE5ODY1OThdLCBbNDMuNjc1MTUyODMzMjMwMjksIC03OS40MDU4NTg0NjQxNTMwM10sIFs0My42NTM2OTg5MjgzMTg1MjYsIC03OS4zOTA3NDMxMzU2ODY5Ml0sIFs0My42NzU2Njg0NzU4ODI4LCAtNzkuNDAzNjE2NTk3NTI0NDNdLCBbNDMuNjU1ODMzNTc5MTc0NDEsIC03OS4zOTk0MTY4NTA0ODc4XSwgWzQzLjY3NDEwMDIwODU1ODg1LCAtNzkuNDEwODM3ODA0MDQyNzNdLCBbNDMuNjczODk0NzMzODIyMjY2LCAtNzkuNDExODE3NzAyMTE1MzldLCBbNDMuNjUwNTYzODEwMjYwNjYsIC03OS4zOTcwMTgxMDYwMDgyNl0sIFs0My42Njc5NjI2Mzc0OTA4MiwgLTc5LjM4ODg3Mjc0MTk3NTgyXSwgWzQzLjY0NzI3MzE1MTQ5MjY1NSwgLTc5LjM5NjMxOTk3MzU5ODg1XSwgWzQzLjY2NjkyNjY2NzQ1ODg0LCAtNzkuMzgxNDIxMzU5NTQyNjddLCBbNDMuNjQ3NDE5MTgzNzU1MTI2LCAtNzkuNDAyNTU2NTkyOTc0OTNdLCBbNDMuNjc3MDE1ODc4Mzk2ODEsIC03OS4zODkzNjY2MTk4NDUyOF0sIFs0My42NjYzNzY3NzU4NTQwOSwgLTc5LjM4MDk2Mzk2ODUwNDA5XSwgWzQzLjY1MTg2NzA0NTMwODksIC03OS40MDg0NjE3MjA3OTQ4M10sIFs0My42NjQzOTkzNjMyNDQ2MywgLTc5LjM4MDQyNzE4NDE0MjM1XSwgWzQzLjY2MDc2Mjk5MTQ5MzIzLCAtNzkuMzg2MTg0MDkwMzMwNjZdLCBbNDMuNjQ4MjgyMzM5MDQyMTA1LCAtNzkuMzk2MjMxNDUyMzkxNjddLCBbNDMuNjQ3MDM2Njk5MjMzNjEsIC03OS40MDA4NzU3OTc2MDk3NF0sIFs0My42NTQxNDY2MjIxMTczMywgLTc5LjQwMDE4MTc1NTE2MjMxXSwgWzQzLjY1NDc2Mzg1OTc2Mzg2LCAtNzkuNDAwNTY1ODgzNjc4MDZdLCBbNDMuNjUzNTYwMjc2ODM1Njg0LCAtNzkuNDAwNDAyMDk2NjA4MzZdLCBbNDMuNjU0NDkzMTU1NDAxMTQsIC03OS40MDEzMTA5MDM5MzAwMl0sIFs0My42NTUxMDg1NjU2NTE0NywgLTc5LjQwMjM0MjQxNTM0NTQzXSwgWzQzLjY1NDg5NDQ4MTc2MzA3LCAtNzkuNDAyMTQ2NDI0NjIxOTldLCBbNDMuNjUwNTYzODEwMjYwNjYsIC03OS4zOTcwMTgxMDYwMDgyNl0sIFs0My42NTU4MjcxMDMyMjIyNCwgLTc5LjM5MjA0MjE2ODg4NTU1XSwgWzQzLjY0NzI3MzE1MTQ5MjY1NSwgLTc5LjM5NjMxOTk3MzU5ODg1XSwgWzQzLjY1NDQxMjgyNzQwNzk5LCAtNzkuMzkwOTAxNjEzNTE3MjRdLCBbNDMuNjUzNjk4OTI4MzE4NTI2LCAtNzkuMzkwNzQzMTM1Njg2OTJdLCBbNDMuNjU2OTU4MjE2MjYwODEsIC03OS40MDU0NjAyOTc5NTk4NV0sIFs0My42NTQ3MjAyMTQ4NjE0NTYsIC03OS40MDA4NTg5OTA4NDcyMV0sIFs0My42NTY2Nzc3NjU4NjEwMSwgLTc5LjQwMjgyMTcxMzc3N10sIFs0My42NDgyODIzMzkwNDIxMDUsIC03OS4zOTYyMzE0NTIzOTE2N10sIFs0My42NDkwMTM4NTE5MTQ5NiwgLTc5LjM5MzUyMDg2NTQzMjAyXSwgWzQzLjY0NzQxOTE4Mzc1NTEyNiwgLTc5LjQwMjU1NjU5Mjk3NDkzXSwgWzQzLjY1NTA1Nzc4MjEzMTMxLCAtNzkuNDAzMjU0MDE2OTE2NTVdLCBbNDMuNjQ3MDM2Njk5MjMzNjEsIC03OS40MDA4NzU3OTc2MDk3NF0sIFs0My42NTY2ODQzNTUyNDU5NjQsIC03OS40MDcwMzIwMjYzMDgyNl0sIFs0My42NDc5NDM4MTAwNTU2MywgLTc5LjM5NjEyMTM3Mzc4Mzg0XSwgWzQzLjY0NjMwMTQ2NTc0MTgxNCwgLTc5LjM5NTE4Mzc5MTA1MDY2XSwgWzQzLjY1NjE5MzM2Mjc4MzU0LCAtNzkuNDAyNjczMjMzNTU3ODVdLCBbNDMuNjQ4MjkxNjE2Nzk5ODEsIC03OS4zOTAzOTA0MDE1NTkzN10sIFs0My42NDUyNTc1NTg5NzY0NCwgLTc5LjQwMDMwODUxNTczNzkzXSwgWzQzLjY0ODczNDMwNjU5NjYyLCAtNzkuMzg2NTQxMTc1NjQ4MzhdLCBbNDMuNjU1OTAzODAwMjAxNjgsIC03OS40MTAxMjUyODgzNzI0N10sIFs0My42NTU4MzM1NzkxNzQ0MSwgLTc5LjM5OTQxNjg1MDQ4NzhdLCBbNDMuNjQ0Mjk2MDg1MTkwNSwgLTc5LjQwMDcxNDU4NzEyMDczXSwgWzQzLjY0MzkxOCwgLTc5LjM5OTc0Ml0sIFs0My42NDU0NjcsIC03OS4zOTUzNjldLCBbNDMuNjU0NTcxMjU4OTQzNTcsIC03OS4zODk0NDk3NjUzNjg1Ml0sIFs0My42NDYzMTI3NzUzMDY3MjUsIC03OS4zOTgwNDE2Mjg5MjYxNF0sIFs0My42NTAyNTI0ODMwNjkyOTUsIC03OS4zODUxNTU3NTYyMDA3NV0sIFs0My42NTg0MjEyMzU3NDQ5NiwgLTc5LjM4NTYxMzE5NTUxMTExXSwgWzQzLjY0Nzg0NjU1NDc5OTQ0LCAtNzkuNDAwOTI0NTcxODM1ODddLCBbNDMuNjUwNTA0NzU1NDQwMDUsIC03OS4zODg1NzcyMzM4OTg5N10sIFs0My42NDk5NDA0NTAwMzYzOCwgLTc5LjM5MDk0OTE0NDgwMTNdLCBbNDMuNjU0MzQwODgwMjU4MywgLTc5LjM5MTM1NDkwOTc3OTYyXSwgWzQzLjY1ODgzMjk2OTgyMzUyLCAtNzkuMzgzNjgzNTE5ODY1OThdLCBbNDMuNjQyODQzOTM0NTY4OCwgLTc5LjQwMDk0OTIxNDUwNDU1XSwgWzQzLjY0ODc1MzQ5OTMyMDU5LCAtNzkuMzg1MzY3MzYwNzI4OV0sIFs0My42NTAzNjQzNDgwMDQ4NywgLTc5LjM4ODY2OTA3NTc1NzI2XSwgWzQzLjY0OTEyMTc1MTIwMTc3LCAtNzkuMzk0ODY4Mzc3MDczMzRdLCBbNDMuNjQ1NDMxMTc3MjYxMjUsIC03OS4zODcwNTg1ODg5NTQ5MV0sIFs0My42NTQyMjcxNDQzOTA1MSwgLTc5LjM5MjUzNTk1NzU0NjE0XSwgWzQzLjY0OTAyMjczNjc2MTUxNiwgLTc5LjM4NTgyNjM1NTIxMjMzXSwgWzQzLjY0MzExMTQ5MzQyOTA3NSwgLTc5LjQwNjY3NDE1ODUyNDY1XSwgWzQzLjY0Mjg0MzkzNDU2ODgsIC03OS40MDA5NDkyMTQ1MDQ1NV0sIFs0My42NDM5MTgsIC03OS4zOTk3NDJdLCBbNDMuNjQ0Mjk2MDg1MTkwNSwgLTc5LjQwMDcxNDU4NzEyMDczXSwgWzQzLjY0NTI1NzU1ODk3NjQ0LCAtNzkuNDAwMzA4NTE1NzM3OTNdLCBbNDMuNjQzMTExNDkzNDI5MDc1LCAtNzkuNDA2Njc0MTU4NTI0NjVdLCBbNDMuNjQxOTk3Njc4MTI4MTM1LCAtNzkuNDAxNzU5MzUwMjQ4OF0sIFs0My42NDcyNzMxNTE0OTI2NTUsIC03OS4zOTYzMTk5NzM1OTg4NV0sIFs0My42NDU0NjcsIC03OS4zOTUzNjldLCBbNDMuNjQ2MzAxNDY1NzQxODE0LCAtNzkuMzk1MTgzNzkxMDUwNjZdLCBbNDMuNjQ3MDM2Njk5MjMzNjEsIC03OS40MDA4NzU3OTc2MDk3NF0sIFs0My42NDc0MTkxODM3NTUxMjYsIC03OS40MDI1NTY1OTI5NzQ5M10sIFs0My42NDYzMTI3NzUzMDY3MjUsIC03OS4zOTgwNDE2Mjg5MjYxNF0sIFs0My42NDI4Mzc5Njk0MDQzNSwgLTc5LjQwODI4OTE5NDEwNzA2XSwgWzQzLjY0NDEyODYwODYxNDEzLCAtNzkuNDAxNjU3MDc3MTc0OTVdLCBbNDMuNjMxNzU0NDY2MzA0NjksIC03OS40MDIxODU0ODA4XSwgWzQzLjY0ODI4MjMzOTA0MjEwNSwgLTc5LjM5NjIzMTQ1MjM5MTY3XSwgWzQzLjY0MTA2NzQ1MjQ5OTQzLCAtNzkuMzk5MzkyMzc1NzUyNzNdLCBbNDMuNjQ3OTQzODEwMDU1NjMsIC03OS4zOTYxMjEzNzM3ODM4NF0sIFs0My42Mzc0MTI3MjcyNzY4MiwgLTc5LjM5MzE5ODIyNTU5NjQyXSwgWzQzLjY0NTczOTY3MDYwMDg5LCAtNzkuNDExNDczOTYxNTMxOF0sIFs0My42NDY3NSwgLTc5LjQwNzE0XSwgWzQzLjY0NTMyNDMyOTA3OTM3LCAtNzkuMzkyNDIzNTM4OTQ4MjJdLCBbNDMuNjQzOTk5NDMzMjMwNzMsIC03OS40MDg3Njc0NzI4NDYzMl0sIFs0My42MzU5NTUyODY0OTQzNDQsIC03OS40MDQzMzA3Mjc5NDk3N10sIFs0My42NDU0MSwgLTc5LjQxMjQ0NF0sIFs0My42NDc4NDY1NTQ3OTk0NCwgLTc5LjQwMDkyNDU3MTgzNTg3XSwgWzQzLjY0NTQzMTE3NzI2MTI1LCAtNzkuMzg3MDU4NTg4OTU0OTFdLCBbNDMuNjQ4MjkxNjE2Nzk5ODEsIC03OS4zOTAzOTA0MDE1NTkzN10sIFs0My42NDU3MzksIC03OS4zOTg5MDZdLCBbNDMuNjQzNjYyNjkzNjk0NzM2LCAtNzkuNDExNjgxNTc4NDM4MjJdLCBbNDMuNjQ5MDEzODUxOTE0OTYsIC03OS4zOTM1MjA4NjU0MzIwMl0sIFs0My42NTA1NjM4MTAyNjA2NiwgLTc5LjM5NzAxODEwNjAwODI2XSwgWzQzLjY0ODczNDMwNjU5NjYyLCAtNzkuMzg2NTQxMTc1NjQ4MzhdLCBbNDMuNjQyODUxLCAtNzkuMzgyMDgxXSwgWzQzLjY1MzU2MDI3NjgzNTY4NCwgLTc5LjQwMDQwMjA5NjYwODM2XSwgWzQzLjY1NDE0NjYyMjExNzMzLCAtNzkuNDAwMTgxNzU1MTYyMzFdLCBbNDMuNjQyODA0NDgzOTkyNTEsIC03OS4zODM5MjE0OTQxNTM4MV0sIFs0My42NTQ3NjM4NTk3NjM4NiwgLTc5LjQwMDU2NTg4MzY3ODA2XSwgWzQzLjYzODMxOTA2NTExNTQ5LCAtNzkuMzgyNDYzMTE5MjEyNDddLCBbNDMuNjM2OTIyODQ1MTQ2MjE2LCAtNzkuMzk2NTk5NjYxOTY5MDhdLCBbNDMuNjU0NDkzMTU1NDAxMTQsIC03OS40MDEzMTA5MDM5MzAwMl0sIFs0My42NDY2MDMyMzc5NzU3OCwgLTc5LjQwNjcxMDg0MzM5NDldLCBbNDMuNjQ4NzUzNDk5MzIwNTksIC03OS4zODUzNjczNjA3Mjg5XSwgWzQzLjY0NDM3MjU4NDE0ODM2NCwgLTc5LjM4MzA2NDcwMDI3NDIzXSwgWzQzLjY1MDI1MjQ4MzA2OTI5NSwgLTc5LjM4NTE1NTc1NjIwMDc1XSwgWzQzLjY0ODczNDMwNjU5NjYyLCAtNzkuMzg2NTQxMTc1NjQ4MzhdLCBbNDMuNjUwMjUyNDgzMDY5Mjk1LCAtNzkuMzg1MTU1NzU2MjAwNzVdLCBbNDMuNjQ4NzUzNDk5MzIwNTksIC03OS4zODUzNjczNjA3Mjg5XSwgWzQzLjY0ODMwODczODA0Njg0LCAtNzkuMzgyMjUzMzM4OTg4MDVdLCBbNDMuNjQ3ODgxMzcwMTQwMjgsIC03OS4zODQzMzE1MjgzNjgyOV0sIFs0My42NDg4MzUzOTEyNDU4OTYsIC03OS4zODA5MzU4MTI1MDMzXSwgWzQzLjY0NTQzMTE3NzI2MTI1LCAtNzkuMzg3MDU4NTg4OTU0OTFdLCBbNDMuNjQ5MDIyNzM2NzYxNTE2LCAtNzkuMzg1ODI2MzU1MjEyMzNdLCBbNDMuNjQ4MjkxNjE2Nzk5ODEsIC03OS4zOTAzOTA0MDE1NTkzN10sIFs0My42NTEyMTc5NzI1Mzc3NywgLTc5LjM4MzU1NDU5OTMyMjQ3XSwgWzQzLjY0ODM1NzA4NTE5OTIyLCAtNzkuMzgyMTkyNDE4NTg3MjddLCBbNDMuNjUwNDk3LCAtNzkuMzc4NzY1XSwgWzQzLjY0NTAxODE0NDY0Njk4LCAtNzkuMzgwNDE1MDkzMTE5OV0sIFs0My42NDg4MTUxNjMxNjE1LCAtNzkuMzgwNjA0Njg2MTA5NDldLCBbNDMuNjUwNTc4ODY1MDkzOTM0LCAtNzkuMzgzNDExOTMwMzYxNF0sIFs0My42NDg4MzE1MDA1NDYxOSwgLTc5LjM4MTk3MDA2MzQ1NDU3XSwgWzQzLjY1MDUwNDc1NTQ0MDA1LCAtNzkuMzg4NTc3MjMzODk4OTddLCBbNDMuNjUwNTU3MjUyNDk0MDUsIC03OS4zODE5NTYzNDY0MDA2M10sIFs0My42NDgyNTA1NDMzNjU1NTYsIC03OS4zODAxMjcyODIyMDg2OV0sIFs0My42NDI4NTEsIC03OS4zODIwODFdLCBbNDMuNjUzMTQzODM4ODg1ODcsIC03OS4zODE5ODAxNjY3ODE2N10sIFs0My42NDY5MTIyMzE5MDkyNzYsIC03OS4zNzk1OTY2MTY5NjQ2M10sIFs0My42NDY2NTc3MzYyODU3OTYsIC03OS4zNzc2NDEwMjg1Njk0NF0sIFs0My42NDQzNzI1ODQxNDgzNjQsIC03OS4zODMwNjQ3MDAyNzQyM10sIFs0My42NDg1NDY1OTQ2NTE4NiwgLTc5LjM4MTYyNDA2NDcwMTYxXSwgWzQzLjY1MDM2MzEyNTg2NTE1NSwgLTc5LjM4NTgwMTg0MTE5OTkyXSwgWzQzLjY0ODI2ODgxNjYxNzQ3LCAtNzkuMzg2MzI4MjEyMzQxMzRdLCBbNDMuNjUwMzY0MzQ4MDA0ODcsIC03OS4zODg2NjkwNzU3NTcyNl0sIFs0My42NDkxMTc5MzU0NTc3LCAtNzkuMzc4MzEyODgzODA0MzhdLCBbNDMuNjQ3MjczMTUxNDkyNjU1LCAtNzkuMzk2MzE5OTczNTk4ODVdLCBbNDMuNjUzNjk4OTI4MzE4NTI2LCAtNzkuMzkwNzQzMTM1Njg2OTJdLCBbNDMuNjQ3Njg2ODA4OTMwODg1LCAtNzkuMzc3Mjk1Mzg4NDAzM10sIFs0My42NTA1NTY1MDQ4OTkzNiwgLTc5LjM4MTE3NTQzMjI0Mzk1XSwgWzQzLjY0NjMwMTQ2NTc0MTgxNCwgLTc5LjM5NTE4Mzc5MTA1MDY2XSwgWzQzLjY0MjgwNDQ4Mzk5MjUxLCAtNzkuMzgzOTIxNDk0MTUzODFdLCBbNDMuNjQ5MDEzODUxOTE0OTYsIC03OS4zOTM1MjA4NjU0MzIwMl0sIFs0My42NTQ0MTI4Mjc0MDc5OSwgLTc5LjM5MDkwMTYxMzUxNzI0XSwgWzQzLjY0OTk0MDQ1MDAzNjM4LCAtNzkuMzkwOTQ5MTQ0ODAxM10sIFs0My42NDczMDksIC03OS4zODY3M10sIFs0My42NTE3MjIsIC03OS4zNzkyMDVdLCBbNDMuNjQ0OTE4NTIxMTc0MzYsIC03OS4zODIzNTc3NzYzNzEwOF0sIFs0My42NDU0NjcsIC03OS4zOTUzNjldLCBbNDMuNjQ4MjgyMzM5MDQyMTA1LCAtNzkuMzk2MjMxNDUyMzkxNjddLCBbNDMuNjUyMzgzNTg3MjY2MTIsIC03OS4zNzI3MTkwMzg0ODI3MV0sIFs0My42NDUzMjQzMjkwNzkzNywgLTc5LjM5MjQyMzUzODk0ODIyXSwgWzQzLjY1MjEwMTE3MzEzODQwNSwgLTc5LjM4MTE3ODI4Mzk5OTM5XSwgWzQzLjY1MDkzOTY1NzMzODMyLCAtNzkuMzc5MDQ1NDU4MjQzNzFdLCBbNDMuNjQ4ODM1MzkxMjQ1ODk2LCAtNzkuMzgwOTM1ODEyNTAzM10sIFs0My42NDgzMDg3MzgwNDY4NCwgLTc5LjM4MjI1MzMzODk4ODA1XSwgWzQzLjY1MDQ5NywgLTc5LjM3ODc2NV0sIFs0My42NDg3MzQzMDY1OTY2MiwgLTc5LjM4NjU0MTE3NTY0ODM4XSwgWzQzLjY0NTAxODE0NDY0Njk4LCAtNzkuMzgwNDE1MDkzMTE5OV0sIFs0My42NTAyNTI0ODMwNjkyOTUsIC03OS4zODUxNTU3NTYyMDA3NV0sIFs0My42NDc4ODEzNzAxNDAyOCwgLTc5LjM4NDMzMTUyODM2ODI5XSwgWzQzLjY0NjkxMjIzMTkwOTI3NiwgLTc5LjM3OTU5NjYxNjk2NDYzXSwgWzQzLjY0NjY1NzczNjI4NTc5NiwgLTc5LjM3NzY0MTAyODU2OTQ0XSwgWzQzLjY0ODI1MDU0MzM2NTU1NiwgLTc5LjM4MDEyNzI4MjIwODY5XSwgWzQzLjY0ODgxNTE2MzE2MTUsIC03OS4zODA2MDQ2ODYxMDk0OV0sIFs0My42NDg3NTM0OTkzMjA1OSwgLTc5LjM4NTM2NzM2MDcyODldLCBbNDMuNjQ4MzU3MDg1MTk5MjIsIC03OS4zODIxOTI0MTg1ODcyN10sIFs0My42NDkxMTc5MzU0NTc3LCAtNzkuMzc4MzEyODgzODA0MzhdLCBbNDMuNjQ3Njg2ODA4OTMwODg1LCAtNzkuMzc3Mjk1Mzg4NDAzM10sIFs0My42NDg4MzE1MDA1NDYxOSwgLTc5LjM4MTk3MDA2MzQ1NDU3XSwgWzQzLjY1MDU1NzI1MjQ5NDA1LCAtNzkuMzgxOTU2MzQ2NDAwNjNdLCBbNDMuNjUxMjE3OTcyNTM3NzcsIC03OS4zODM1NTQ1OTkzMjI0N10sIFs0My42NDI4NTEsIC03OS4zODIwODFdLCBbNDMuNjQ1NDMxMTc3MjYxMjUsIC03OS4zODcwNTg1ODg5NTQ5MV0sIFs0My42NDg1NDY1OTQ2NTE4NiwgLTc5LjM4MTYyNDA2NDcwMTYxXSwgWzQzLjY0OTAyMjczNjc2MTUxNiwgLTc5LjM4NTgyNjM1NTIxMjMzXSwgWzQzLjY0NDM3MjU4NDE0ODM2NCwgLTc5LjM4MzA2NDcwMDI3NDIzXSwgWzQzLjY1MDU3ODg2NTA5MzkzNCwgLTc5LjM4MzQxMTkzMDM2MTRdLCBbNDMuNjUzMTQzODM4ODg1ODcsIC03OS4zODE5ODAxNjY3ODE2N10sIFs0My42NTA1NTY1MDQ4OTkzNiwgLTc5LjM4MTE3NTQzMjI0Mzk1XSwgWzQzLjY1MTcyMiwgLTc5LjM3OTIwNV0sIFs0My42NTIzODM1ODcyNjYxMiwgLTc5LjM3MjcxOTAzODQ4MjcxXSwgWzQzLjY0NzI2MTYsIC03OS4zNzg1OTk4XSwgWzQzLjY1MjQ4MzU1MDQ5OTMyNiwgLTc5LjM3MjY1NDcyODQ1MTc2XSwgWzQzLjY0ODI5MTYxNjc5OTgxLCAtNzkuMzkwMzkwNDAxNTU5MzddLCBbNDMuNjUwOTM5NjU3MzM4MzIsIC03OS4zNzkwNDU0NTgyNDM3MV0sIFs0My42NDI4MDQ0ODM5OTI1MSwgLTc5LjM4MzkyMTQ5NDE1MzgxXSwgWzQzLjY0OTI5ODM0Mzk2MzQ3LCAtNzkuMzc2NDMwNjcyNTE4NjddLCBbNDMuNjQ3NzQzNjkyNTg3MDg1LCAtNzkuMzc5NTg4MTQyNTA1OThdLCBbNDMuNjQ4NjY4MjIxNTQyMDk2LCAtNzkuMzcxNjA5NjIzMDIwNDldLCBbNDMuNjQ0OTE4NTIxMTc0MzYsIC03OS4zODIzNTc3NzYzNzEwOF0sIFs0My42NTA2MzY4MzA3MjAyMywgLTc5LjM3MTI3NTczNjk5NzkyXSwgWzQzLjY0MTYzOTU0NTIwMjY3LCAtNzkuMzc3NTUxNzc4Njc2Ml0sIFs0My42NTA1MDQ3NTU0NDAwNSwgLTc5LjM4ODU3NzIzMzg5ODk3XSwgWzQzLjY1MTY2MTYyMzc4MDM3LCAtNzkuMzc5MDc1MTMwMzI3MV0sIFs0My42NTA3MDIzNDE1ODgwNCwgLTc5LjM2OTI1OTM5NjgxNzMxXSwgWzQzLjY1MjEwMTE3MzEzODQwNSwgLTc5LjM4MTE3ODI4Mzk5OTM5XSwgWzQzLjY1MDM2MzEyNTg2NTE1NSwgLTc5LjM4NTgwMTg0MTE5OTkyXSwgWzQzLjY0ODI2ODgxNjYxNzQ3LCAtNzkuMzg2MzI4MjEyMzQxMzRdLCBbNDMuNjUyOTcsIC03OS4zNzE0NjddLCBbNDMuNjQ4NzU3MTQ3NTc2MzcsIC03OS4zNzE2NDUzOTc2NTgxN10sIFs0My43MjYyOTk4Mjg1NzI0NCwgLTc5LjQ1MjI2NDE4OTEzMzQyXSwgWzQzLjcyNTA4MTU5MDc2NDMsIC03OS40NTMzNjQ4NTIwMjU2XSwgWzQzLjcyMDA0MjgwOTk0MjYsIC03OS40MzEwOTQ1NjA0MDI5NV0sIFs0My43MjcwNjIzNjkxNDM5NSwgLTc5LjQzMTU4Njc3Nzc0MTA5XSwgWzQzLjcwOTE3MjY5MjU0Njc2NSwgLTc5LjQ1MzMzMDc5Mzk4NDczXSwgWzQzLjczNjcxNzExMzAyMTcwNSwgLTc5LjQzNzQ5NzI0ODkxNzJdLCBbNDMuNzI5MTQ4Mjg5MDE1MTM2LCAtNzkuNDMxOTU1NzY5NzI1NzJdLCBbNDMuNzMxNjMwMzU2MDQyMTc0LCAtNzkuNDMzMDEzNzU2MzUxMjJdLCBbNDMuNzI3NzM4NDExNTAzNTMsIC03OS40MzE1OTI2NjkyNDU4Ml0sIFs0My43MDk0NDUzNzAwMzI3NzUsIC03OS40NTI5NzkwNjA4NzY0OV0sIFs0My43MjQ0NTA1MzYzMTQ3MywgLTc5LjQ1MjAyNTM1NjE5MTA5XSwgWzQzLjcyNTM5OTkzMzE2NDA4NCwgLTc5LjQ1MTc0MDExMjgyOTUzXSwgWzQzLjcyNTIzNzgwNDMzNTkyNiwgLTc5LjQ0OTU4NjMzNjI3MzUxXSwgWzQzLjcyNTY3OCwgLTc5LjQ1MjE3NV0sIFs0My43MjQ2NDYsIC03OS40NTUyNDddLCBbNDMuNzMyNjEwOCwgLTc5LjQzMjQ5NDRdLCBbNDMuNzE2NjU2LCAtNzkuNDQ3MjU3XSwgWzQzLjcwNjk2OTgzNjkzNzkxNSwgLTc5LjQ1MzEyMDg4OTMyOF0sIFs0My43MTUyMjgzOTEzNDIzNjQsIC03OS40NDcxNTIyODgyNjMwMV0sIFs0My43MzI3MDcsIC03OS40NTIxNTVdLCBbNDMuNzMxODczNzAzNTUwNDMsIC03OS40NTkyMDMxMzI4MTgwM10sIFs0My43MTM1OTUwMTI3ODczMywgLTc5LjQ2MDgwNTIwMDU4NjYyXSwgWzQzLjcxMDc5OTAwNzIzNDM1LCAtNzkuNDU2Nzg5MjAyMzYzNzhdLCBbNDMuNzI4MTI3LCAtNzkuNDMxOTY4XSwgWzQzLjcyODkwODYyOTY3OTQ3LCAtNzkuNDMyMTUwOTc3MzQzNTddLCBbNDMuNzI5MTY1MjAwNDc4NDM0LCAtNzkuNDMyMjIyNDE3OTUwNDZdLCBbNDMuNzI4OTIyLCAtNzkuNDMyMDIyXSwgWzQzLjcyODQyNDkxNDg0ODIyLCAtNzkuNDMxNzMzMjMxODI5MjRdLCBbNDMuNzE1NTgzNjMxNzU2NDI0LCAtNzkuNDU0Mzg4MzA5NzI1ODFdLCBbNDMuNjk3MzIwNjQ0NjU4ODMsIC03OS40NDIzMzAwOTk1NzM4OF0sIFs0My43MDkxNzI2OTI1NDY3NjUsIC03OS40NTMzMzA3OTM5ODQ3M10sIFs0My42OTk2NDk5NTY2MzMxMiwgLTc5LjQzMjExMjUwOTMwMTQ5XSwgWzQzLjcwMDYwNzQ1MDkwMzM5LCAtNzkuNDUxNzE5MzE1NzA4OTRdLCBbNDMuNzIwMDQyODA5OTQyNiwgLTc5LjQzMTA5NDU2MDQwMjk1XSwgWzQzLjcwOTQ0NTM3MDAzMjc3NSwgLTc5LjQ1Mjk3OTA2MDg3NjQ5XSwgWzQzLjcwMDY0NjEwNTE1NjA5NiwgLTc5LjQyNzA1OTI1MDQ1MzcxXSwgWzQzLjcyNTA4MTU5MDc2NDMsIC03OS40NTMzNjQ4NTIwMjU2XSwgWzQzLjcwNjk2OTgzNjkzNzkxNSwgLTc5LjQ1MzEyMDg4OTMyOF0sIFs0My42OTE4OTI2NzUxNDM1LCAtNzkuNDQ4MTkwNzUwMDM1MjRdLCBbNDMuNzE2NjU2LCAtNzkuNDQ3MjU3XSwgWzQzLjcxMDc5OTAwNzIzNDM1LCAtNzkuNDU2Nzg5MjAyMzYzNzhdLCBbNDMuNzE1MjI4MzkxMzQyMzY0LCAtNzkuNDQ3MTUyMjg4MjYzMDFdLCBbNDMuNjk5ODA3NzQxNjA0MjEsIC03OS40MzY3ODkwMDYzNjI3NF0sIFs0My43MDA1MjksIC03OS40Mjg1OV0sIFs0My43MDU2NTM4NzQxOTEyNywgLTc5LjQ3MDU3MTg1NDgwMjE5XSwgWzQzLjcyNDQ1MDUzNjMxNDczLCAtNzkuNDUyMDI1MzU2MTkxMDldLCBbNDMuNzI1MjM3ODA0MzM1OTI2LCAtNzkuNDQ5NTg2MzM2MjczNTFdLCBbNDMuNzI0NjQ2LCAtNzkuNDU1MjQ3XSwgWzQzLjcyNTM5OTkzMzE2NDA4NCwgLTc5LjQ1MTc0MDExMjgyOTUzXSwgWzQzLjcyNTY3OCwgLTc5LjQ1MjE3NV0sIFs0My42OTk2NDk5NTY2MzMxMiwgLTc5LjQzMjExMjUwOTMwMTQ5XSwgWzQzLjY5NzMyMDY0NDY1ODgzLCAtNzkuNDQyMzMwMDk5NTczODhdLCBbNDMuNjgxNzY4MTgxODMxOTQsIC03OS40MjUxNTc2MzM4NDY0NV0sIFs0My42ODE2MTQ0MzA0NTIxMywgLTc5LjQyNjA3NTI4OTg5MTM3XSwgWzQzLjY4ODE2OTYwMTI3ODMyLCAtNzkuNDEyNTk4Njk2NzQxODJdLCBbNDMuNjc4NTUyNzMxODE1NDg2LCAtNzkuNDQwNTYzODA1NjY2ODZdLCBbNDMuNjg4Mjk2OTQzMTc4OTU1LCAtNzkuNDEyNTYzNDA1NzA1MjNdLCBbNDMuNjg4MDc5MTYyMDkxNzk2LCAtNzkuNDE0NTQzNTMzMDg3OTRdLCBbNDMuNjgxNjgwNTY2Mzg4OTMsIC03OS40MjU0NTI5MTY3MTg4NF0sIFs0My42ODE0MDczMzE3Mjc5MiwgLTc5LjQyNzMzMjM3MzgyOTYzXSwgWzQzLjcwMDY0NjEwNTE1NjA5NiwgLTc5LjQyNzA1OTI1MDQ1MzcxXSwgWzQzLjY3OTA1OTU5MjAxODUxLCAtNzkuNDM4NTExNDM4MzE5NTFdLCBbNDMuNjgwNzQwNDY2ODcyMzQsIC03OS40Mjk0MTY2MDkyMzA4NF0sIFs0My43MDM1Mjk0NzY4MjE4MSwgLTc5LjQxMzY5ODI4MjMzNTldLCBbNDMuNjc5ODQ2LCAtNzkuNDE2OTg5XSwgWzQzLjY4MjA1Mjg2NjkwMzAxNCwgLTc5LjQyMzU0NjgxNjU3OTE1XSwgWzQzLjY4MDc4NTgsIC03OS40MjkxNjY2XSwgWzQzLjcwMDYwNzQ1MDkwMzM5LCAtNzkuNDUxNzE5MzE1NzA4OTRdLCBbNDMuNjc3NjQxNDEzOTAzOTksIC03OS40NDQ2NjU5NzYyOTIyNF0sIFs0My42ODQ3NzMwMDkzNDY3MSwgLTc5LjQ0OTU4ODA1ODM0MTA1XSwgWzQzLjY5MTg5MjY3NTE0MzUsIC03OS40NDgxOTA3NTAwMzUyNF0sIFs0My42ODk0NDAwMjE0MDM1OSwgLTc5LjQzNTcwMDk1ODkxNzg1XSwgWzQzLjY4OTA0NzE5MTQ4NTM1LCAtNzkuNDEyODE4NTYzNDQ2NjVdLCBbNDMuNjkxMTg1MjY3NzA3MjMsIC03OS40NDAxMDk5NzQ4NzgxM10sIFs0My42ODE2MDU1Njg2MTUyOCwgLTc5LjQyNTc2NjE0MDkzNjQ3XSwgWzQzLjY5MjM0OCwgLTc5LjQ0MDg5XSwgWzQzLjcwMDE5OSwgLTc5LjQyOTU5MV0sIFs0My43MDAyOCwgLTc5LjQyOTRdLCBbNDMuNzAwMzM4MDY3MjcxNDQsIC03OS40Mjk0ODU2NTM1NjgzOV0sIFs0My42ODY0MDMsIC03OS40Mzg3OTVdLCBbNDMuNzAwNTI5LCAtNzkuNDI4NTldLCBbNDMuNjc0NjYyOTk3MDE5NjUsIC03OS40MzEzNDY4MzMzMTUxN10sIFs0My42OTk4MDc3NDE2MDQyMSwgLTc5LjQzNjc4OTAwNjM2Mjc0XSwgWzQzLjY5Nzc0NTA2ODc3MjUyLCAtNzkuNDQwMzUyNjQxMTY5ODJdLCBbNDMuNjk3MzIwNjQ0NjU4ODMsIC03OS40NDIzMzAwOTk1NzM4OF0sIFs0My42NzY0ODcsIC03OS40NDg2NV0sIFs0My42Nzg1NTI3MzE4MTU0ODYsIC03OS40NDA1NjM4MDU2NjY4Nl0sIFs0My42NzU0NDEzNzQxNzA3LCAtNzkuNDU0NjU3NzIzOTMzMjRdLCBbNDMuNjc5MDU5NTkyMDE4NTEsIC03OS40Mzg1MTE0MzgzMTk1MV0sIFs0My42OTk2NDk5NTY2MzMxMiwgLTc5LjQzMjExMjUwOTMwMTQ5XSwgWzQzLjY4NDc3MzAwOTM0NjcxLCAtNzkuNDQ5NTg4MDU4MzQxMDVdLCBbNDMuNjgxOTI0MzM2NjA2OTksIC03OS40Njc2MjA0MzczMzUwNF0sIFs0My43MDA2MDc0NTA5MDMzOSwgLTc5LjQ1MTcxOTMxNTcwODk0XSwgWzQzLjY5MTk5MzI0NDQ3ODc5NSwgLTc5LjQ2NzUxMTkzMzMzNzkzXSwgWzQzLjY3MzExNTcwODE5MjIwNiwgLTc5LjQ0MDI2NDk4NjgxNzgxXSwgWzQzLjY4MDc0MDQ2Njg3MjM0LCAtNzkuNDI5NDE2NjA5MjMwODRdLCBbNDMuNjc3NjQxNDEzOTAzOTksIC03OS40NDQ2NjU5NzYyOTIyNF0sIFs0My42ODA4NDIzMDI5OTAyODUsIC03OS40NzI4OTIzMDg4MDg5OF0sIFs0My42ODIwMDc2Nzg4NTIzNSwgLTc5LjQ3MTI4OTI3Nzc2Mzc0XSwgWzQzLjY5MTg5MjY3NTE0MzUsIC03OS40NDgxOTA3NTAwMzUyNF0sIFs0My42ODA3ODU4LCAtNzkuNDI5MTY2Nl0sIFs0My42NzUxOTUyNjYyMzQ0NSwgLTc5LjQ1NDg0NTUyMzQ2NV0sIFs0My42NzU3MDA5MTMwOTIwOCwgLTc5LjQ1MzkyMTQ0MTcyNTI2XSwgWzQzLjY4NjYyNDc5NDg5MjU5LCAtNzkuNDQ0NTIwMzY3MDE5NjNdLCBbNDMuNjc3NzczNTExNzk3NTksIC03OS40NDI4NDY3NzUwNTQ5M10sIFs0My42OTU2MDg1NTE5NzI2MSwgLTc5LjQ0OTcyNDY2NTU0Nzk5XSwgWzQzLjY5MjM0OCwgLTc5LjQ0MDg5XSwgWzQzLjY5MTE4NTI2NzcwNzIzLCAtNzkuNDQwMTA5OTc0ODc4MTNdLCBbNDMuNjg2NDAzLCAtNzkuNDM4Nzk1XSwgWzQzLjY5ODM0NiwgLTc5LjQ1MTQ4OV0sIFs0My42ODk0NDAwMjE0MDM1OSwgLTc5LjQzNTcwMDk1ODkxNzg1XSwgWzQzLjY3Nzc0NzAyMzcwNDg5LCAtNzkuNDQ0ODcyMDI2ODI2NjddLCBbNDMuNjk3NzQ1MDY4NzcyNTIsIC03OS40NDAzNTI2NDExNjk4Ml0sIFs0My43MDE1ODksIC03OS40NTM4NTZdLCBbNDMuNjc4OTYxMjU4OTA3MjUsIC03OS40Mzg3ODM3MjY2MTI0MV0sIFs0My43MDIyMjQ2NDcxNTYzNiwgLTc5LjQ1MjY0MTE2NzY0MDgzXSwgWzQzLjY5OTgwNzc0MTYwNDIxLCAtNzkuNDM2Nzg5MDA2MzYyNzRdLCBbNDMuNjk1NTkyOTU2NTM0NzcsIC03OS40NDk0MzMyMDUzMTU1Nl0sIFs0My42NjkxMDcxNDQwNzI5NzQsIC03OS40MjYxMDQ3MTg1MjAzMl0sIFs0My42NjM5ODMzODk0Njc4OSwgLTc5LjQxNjY0MDQ5MzE0MDkyXSwgWzQzLjY2NTE3OTYxODAxMzMyNiwgLTc5LjQxMDk2NTUyNTY5MzIxXSwgWzQzLjY2MjQ1NjU5NTE1NjEsIC03OS40MjM3MDkzNjUwNTM0OF0sIFs0My42NjM5NDkzMTAyMTczNiwgLTc5LjQxNjk2MDAxODIwNjcxXSwgWzQzLjY2MTg3OSwgLTc5LjQyNjQ3MV0sIFs0My42NzM4OTQ3MzM4MjIyNjYsIC03OS40MTE4MTc3MDIxMTUzOV0sIFs0My42NjAzODY0NDcxNzkzNSwgLTc5LjQxNTQ3NTk4NDkwMTY4XSwgWzQzLjY3NDEwMDIwODU1ODg1LCAtNzkuNDEwODM3ODA0MDQyNzNdLCBbNDMuNjYyMTExMzY0NDcwNDc2LCAtNzkuNDI0OTMxMDE5MjY5OTJdLCBbNDMuNjYxMjU5NjE5NzIwNTYsIC03OS40MzA0NDk2ODQ3MTI3NF0sIFs0My42NjczNTk4NzcyMDE1NywgLTc5LjQxOTkzNzc0NTg2NjM2XSwgWzQzLjY3Mjg5NTMxMDU1NjkyLCAtNzkuNDE0MTA3ODMyNTM1ODhdLCBbNDMuNjY1MDg4Mzg4MDkzNiwgLTc5LjQxMTM1Mjk0NjAwOTg0XSwgWzQzLjY2MTUxNjkwMTU4MDIxNCwgLTc5LjQwOTA1Mjk5ODQ0NzddLCBbNDMuNjY2MjIxNzE3MTg2MTgsIC03OS40MDYwNjY0NzY5MTY2OF0sIFs0My42NjIyMjc5ODk4NzQ1MSwgLTc5LjQyNDQ0Mzc1NzUyNjY1XSwgWzQzLjY3NTE1MjgzMzIzMDI5LCAtNzkuNDA1ODU4NDY0MTUzMDNdLCBbNDMuNjY3MzE0LCAtNzkuNDEyMTQ1XSwgWzQzLjY3MTA0NTY3MzQzOTgsIC03OS40MTkyOTY5Nzk5MDQxN10sIFs0My42NjA3NTgxNzQ1Mzk4MTUsIC03OS40MzEzNDUwNzk0MzE2NF0sIFs0My42NTU5MDM4MDAyMDE2OCwgLTc5LjQxMDEyNTI4ODM3MjQ3XSwgWzQzLjY4MTc2ODE4MTgzMTk0LCAtNzkuNDI1MTU3NjMzODQ2NDVdLCBbNDMuNjc1NjY4NDc1ODgyOCwgLTc5LjQwMzYxNjU5NzUyNDQzXSwgWzQzLjY2MzE4MjM1ODU0MTEyLCAtNzkuNDM1NDI3MjI3NzI2NzVdLCBbNDMuNjU2Njg0MzU1MjQ1OTY0LCAtNzkuNDA3MDMyMDI2MzA4MjZdLCBbNDMuNjU2OTU4MjE2MjYwODEsIC03OS40MDU0NjAyOTc5NTk4NV0sIFs0My42Nzk4NDYsIC03OS40MTY5ODldLCBbNDMuNjYyNTE5MDk2MDIyOTc2LCAtNzkuNDA0NDQyNzA1Njc0MDRdLCBbNDMuNjU1MDcyMDU0NTAzNCwgLTc5LjQxNjY0MjY0Mjk0NTMyXSwgWzQzLjY2MDE0NTU5NTYxMDg3LCAtNzkuNDM1NDg3NjQ5NDYzNF0sIFs0My42NTQ1NjMxNTcxNTA5NiwgLTc5LjQyMTg5NTAwODU0OTU0XSwgWzQzLjY2NDg5NjgzMjE1NTIxNSwgLTc5LjQxMDU3MzU4NTI5NDc0XSwgWzQzLjY4MTYxNDQzMDQ1MjEzLCAtNzkuNDI2MDc1Mjg5ODkxMzddLCBbNDMuNjYyODM1NTQwNzIwODcsIC03OS40MDMzNjQ5NDczMTI1NV0sIFs0My42Njk2NjAxMjkzMTEzNCwgLTc5LjQxMzA0ODIzMDQwNzQ0XSwgWzQzLjY2NjA3MDE3MzA1NjEsIC03OS40MTEyNjQyMDUzNTUyN10sIFs0My42Nzg1NTI3MzE4MTU0ODYsIC03OS40NDA1NjM4MDU2NjY4Nl0sIFs0My42NTY2Nzc3NjU4NjEwMSwgLTc5LjQwMjgyMTcxMzc3N10sIFs0My42ODE2ODA1NjYzODg5MywgLTc5LjQyNTQ1MjkxNjcxODg0XSwgWzQzLjY1NzAwMjMxOTM0NDcwNiwgLTc5LjQwNjY0NzMwMjU4NDU2XSwgWzQzLjY3MTU2NTc3MDI2NTg5LCAtNzkuNDIxMjg4OTkwMDE4MzFdLCBbNDMuNjY1OTE4Mjk3ODgyNTYsIC03OS40MDc1Mjk4MDg0NzcyNV0sIFs0My42NjMxOTcwNjQxNDAxNjQsIC03OS40MTA1ODU2Mzc4NzY3Ml0sIFs0My42ODE0MDczMzE3Mjc5MiwgLTc5LjQyNzMzMjM3MzgyOTYzXSwgWzQzLjY4MDc0MDQ2Njg3MjM0LCAtNzkuNDI5NDE2NjA5MjMwODRdLCBbNDMuNjc5MDU5NTkyMDE4NTEsIC03OS40Mzg1MTE0MzgzMTk1MV0sIFs0My42NTkzMDI3NTM2NzQyNywgLTc5LjQzODc3MDY5NDM0MDM5XSwgWzQzLjY3MzIzMzE0NDkzMDU4LCAtNzkuNDE0MjcwMjMwNjE3NjNdLCBbNDMuNjYzMTgyMzU4NTQxMTIsIC03OS40MzU0MjcyMjc3MjY3NV0sIFs0My42NTk0NzkzNjk0NjIwMSwgLTc5LjQ0NTA4NTUwMjM5Mzc1XSwgWzQzLjY1ODY4OTgwNDExNzAyNCwgLTc5LjQ0Mjc5MzEyOTQxNzg2XSwgWzQzLjY2NTUzMTY5ODAxODA4NiwgLTc5LjQ0OTk0OTI2NDUyNjM3XSwgWzQzLjY2MTI1OTYxOTcyMDU2LCAtNzkuNDMwNDQ5Njg0NzEyNzRdLCBbNDMuNjYyMzY3Mjg3NDEyMjksIC03OS40NDQyMjcyNTE2MDI5XSwgWzQzLjY2MDE0NTU5NTYxMDg3LCAtNzkuNDM1NDg3NjQ5NDYzNF0sIFs0My42NjA3NTgxNzQ1Mzk4MTUsIC03OS40MzEzNDUwNzk0MzE2NF0sIFs0My42NjkxMDcxNDQwNzI5NzQsIC03OS40MjYxMDQ3MTg1MjAzMl0sIFs0My42NjE4NzksIC03OS40MjY0NzFdLCBbNDMuNjYxOTM0MTgyNjAzNjQsIC03OS40NDY1MTc0NjQ5MjYxNl0sIFs0My42NzAwNDIsIC03OS40NDgzNDJdLCBbNDMuNjU5MzAyNzUzNjc0MjcsIC03OS40Mzg3NzA2OTQzNDAzOV0sIFs0My42NjI0NTY1OTUxNTYxLCAtNzkuNDIzNzA5MzY1MDUzNDhdLCBbNDMuNjY1MzAzODMxOTkxNywgLTc5LjQ1MzM1MjU3Njg4Nzc4XSwgWzQzLjY1Mzc0NzQyODc1MTkyLCAtNzkuNDQ1MTIyNjQ3MDkxNDJdLCBbNDMuNjU4NDU0ODk0Njg1MTMsIC03OS40NDIyOTEzMTgzODUwM10sIFs0My42NzY0ODcsIC03OS40NDg2NV0sIFs0My42NjcwNTAzOTA2MzEyOCwgLTc5LjQ0MTc5MTI0NDEyODMxXSwgWzQzLjY2MjExMTM2NDQ3MDQ3NiwgLTc5LjQyNDkzMTAxOTI2OTkyXSwgWzQzLjY1MjMyMDY1MTAxNjE4LCAtNzkuNDMzOTY1NTMwMDY2Ml0sIFs0My42Nzg1NTI3MzE4MTU0ODYsIC03OS40NDA1NjM4MDU2NjY4Nl0sIFs0My42Njk4ODY0NzYwOTc4NSwgLTc5LjQzNzU4MTkwODIxNTI1XSwgWzQzLjY1NjA1OTIyMzc2ODI3NCwgLTc5LjQ1NDEwNTY4Nzc0Mjk0XSwgWzQzLjY3MzExNTcwODE5MjIwNiwgLTc5LjQ0MDI2NDk4NjgxNzgxXSwgWzQzLjY2Mzk4MzM4OTQ2Nzg5LCAtNzkuNDE2NjQwNDkzMTQwOTJdLCBbNDMuNjU5Nzg1MjA0MzExNjksIC03OS40NTM2MzQwNDQ0MTEyOV0sIFs0My42NjIyMjc5ODk4NzQ1MSwgLTc5LjQyNDQ0Mzc1NzUyNjY1XSwgWzQzLjY3MDQ2NzU4OTE3NDM2LCAtNzkuNDM0ODc4MjcyNTI4MzVdLCBbNDMuNjc1NDQxMzc0MTcwNywgLTc5LjQ1NDY1NzcyMzkzMzI0XSwgWzQzLjY1NjM0NTc4ODE3ODcxLCAtNzkuNDUzMjAwMTAxODUyNDJdLCBbNDMuNjY0ODA3MzY5NzI4MDI0LCAtNzkuNDU1NzQxOTc5NDM0MDRdLCBbNDMuNjUyNjg5NjYxMjM1NzUsIC03OS40MzIzMTEwNTgwNDQ0M10sIFs0My42NDk1NDg4NTA0NTcxLCAtNzkuNDI5MTQ3MTEwNjk4NDddLCBbNDMuNjU0NTYzMTU3MTUwOTYsIC03OS40MjE4OTUwMDg1NDk1NF0sIFs0My42NjM5NDkzMTAyMTczNiwgLTc5LjQxNjk2MDAxODIwNjcxXSwgWzQzLjY3OTA1OTU5MjAxODUxLCAtNzkuNDM4NTExNDM4MzE5NTFdLCBbNDMuNjYwMzg2NDQ3MTc5MzUsIC03OS40MTU0NzU5ODQ5MDE2OF0sIFs0My42NDk3OTYsIC03OS40MzU0MV0sIFs0My42NDk2MzE2NjY4MDE5LCAtNzkuNDI5NzY3NjEwOTgxMjNdLCBbNDMuNjQ5NjYyOTIyMjk4MjcsIC03OS40MzAwNjU4MTc1ODUzM10sIFs0My42NTczMDkwMjIxMDQ0ODUsIC03OS40NDc4ODY3MDQ3MTk2NF0sIFs0My42NTU3Mjg0MjAwMTY1MTYsIC03OS40NTU1OTEwNDc1MDgxMV0sIFs0My42NTM1MTE3MTI1NDk1NCwgLTc5LjQyNzI1NDQxNjAyMTc4XSwgWzQzLjY2MTIyNzYzNzI2NjA5LCAtNzkuNDI5NDc3NjcwNDc1MDVdLCBbNDMuNjY2OTMxNTMzODUyNjgsIC03OS40MzE1MDk2MjYwNjQ2XSwgWzQzLjY1MDQ2MjUxNzA2NDkzLCAtNzkuNDUwNjA5ODE4NDY3OTJdLCBbNDMuNjQ4NjQyNzQ2MjgzODM0LCAtNzkuNDIwNDk1MjU3OTQyNDVdLCBbNDMuNjQ1ODU5NzkwMTMyNTcsIC03OS40MTk1MzIwODk4ODg2Nl0sIFs0My42NDQ1MjA3NDAzMjY3MSwgLTc5LjQxODkwODA1NjY3OTldLCBbNDMuNjQ0MTMwMDE1OTYzNTEsIC03OS40MTk2Njk1NTUzOTEwN10sIFs0My42NDU0MSwgLTc5LjQxMjQ0NF0sIFs0My42NDU3Mzk2NzA2MDA4OSwgLTc5LjQxMTQ3Mzk2MTUzMThdLCBbNDMuNjQ2ODExMjc2MDA1MiwgLTc5LjQxOTgwMzQ1NjcxNjc0XSwgWzQzLjY0MzY4MTg1NDA4MjM3LCAtNzkuNDIxNjI2NzEzMjM0MThdLCBbNDMuNjQ0Mjg5NTI5NjU0ODYsIC03OS40MTg0ODEwODU3Njc5N10sIFs0My42NDc4NDQxMjA3MTIyNywgLTc5LjQyMDI5NDI0NjE3NzddLCBbNDMuNjUwMDYxODY4NjkxNDQsIC03OS40MTcyODAyMDY0Mjg0N10sIFs0My42NDI5MzY0MjMxNDAzLCAtNzkuNDI0OTYxMzIzODAzN10sIFs0My42NDkzMTUxMTk5MTAwNywgLTc5LjQyMDc3NTEyOTIzMzI1XSwgWzQzLjY1NTkwMzgwMDIwMTY4LCAtNzkuNDEwMTI1Mjg4MzcyNDddLCBbNDMuNjQzNjYyNjkzNjk0NzM2LCAtNzkuNDExNjgxNTc4NDM4MjJdLCBbNDMuNjU1MDcyMDU0NTAzNCwgLTc5LjQxNjY0MjY0Mjk0NTMyXSwgWzQzLjY0MzExMTQ5MzQyOTA3NSwgLTc5LjQwNjY3NDE1ODUyNDY1XSwgWzQzLjY0MzA2MDU4NDA0NTEzLCAtNzkuNDI0ODE5NjA4Njg2OTJdLCBbNDMuNjU0NTYzMTU3MTUwOTYsIC03OS40MjE4OTUwMDg1NDk1NF0sIFs0My42NDI3MjUyNjI1OTU4NywgLTc5LjQyNjQxNjQ0NzQwOTM4XSwgWzQzLjY0OTU0ODg1MDQ1NzEsIC03OS40MjkxNDcxMTA2OTg0N10sIFs0My42NTA5OTA4MTY0OTkyOSwgLTc5LjQxMjQxOTcyMDg5ODQ0XSwgWzQzLjY1MTQyNTY5MDA4MDE3NCwgLTc5LjQxMDI2MjUwNDI0MDldLCBbNDMuNjQ0OTUzNDUzMjg0NDEsIC03OS40MjgyNzA2MTIyOTQ0N10sIFs0My42NDY3NSwgLTc5LjQwNzE0XSwgWzQzLjY0MjYxNjMwMTE4OTUxLCAtNzkuNDI2OTM1ODQ0MjgwMzddLCBbNDMuNjQyMDY0LCAtNzkuNDI4ODA1XSwgWzQzLjY0MDE3NzE4MzI4MDIyLCAtNzkuNDIwMTU3NTMzNjM1MDldLCBbNDMuNjQyODM3OTY5NDA0MzUsIC03OS40MDgyODkxOTQxMDcwNl0sIFs0My42NDcwMTk1Mzc0NjE0OSwgLTc5LjQxNzAwMjkzMjEzMzA5XSwgWzQzLjY0Mzk5OTQzMzIzMDczLCAtNzkuNDA4NzY3NDcyODQ2MzJdLCBbNDMuNjQ5NDM1MTU5OTYyMzEsIC03OS40MjAzOTAyMTk1ODQwNl0sIFs0My42NDY2MDk1NTY4NjU2ODQsIC03OS40MTk2MDU5MjgzNTY2Nl0sIFs0My42NTY2ODQzNTUyNDU5NjQsIC03OS40MDcwMzIwMjYzMDgyNl0sIFs0My42NDk0MTg2ODUxMDE2NiwgLTc5LjQyMjE3NzE1MTUzNjY5XSwgWzQzLjY0NzQxOTE4Mzc1NTEyNiwgLTc5LjQwMjU1NjU5Mjk3NDkzXSwgWzQzLjY1MTg2NzA0NTMwODksIC03OS40MDg0NjE3MjA3OTQ4M10sIFs0My42NTY5NTgyMTYyNjA4MSwgLTc5LjQwNTQ2MDI5Nzk1OTg1XSwgWzQzLjY0OTYzMTY2NjgwMTksIC03OS40Mjk3Njc2MTA5ODEyM10sIFs0My42NDQyOTYwODUxOTA1LCAtNzkuNDAwNzE0NTg3MTIwNzNdLCBbNDMuNjQ5NjYyOTIyMjk4MjcsIC03OS40MzAwNjU4MTc1ODUzM10sIFs0My42NDUyNTc1NTg5NzY0NCwgLTc5LjQwMDMwODUxNTczNzkzXSwgWzQzLjY0NzAzNjY5OTIzMzYxLCAtNzkuNDAwODc1Nzk3NjA5NzRdLCBbNDMuNjM5MjgzNzc1NTQzODk1LCAtNzkuNDI1NjE5OTg5ODYzMzVdLCBbNDMuNjU1MTA4NTY1NjUxNDcsIC03OS40MDIzNDI0MTUzNDU0M10sIFs0My42NDM5MTgsIC03OS4zOTk3NDJdLCBbNDMuNjQyODQzOTM0NTY4OCwgLTc5LjQwMDk0OTIxNDUwNDU1XSwgWzQzLjY1NDQ5MzE1NTQwMTE0LCAtNzkuNDAxMzEwOTAzOTMwMDJdLCBbNDMuNjYwMzg2NDQ3MTc5MzUsIC03OS40MTU0NzU5ODQ5MDE2OF0sIFs0My42NTQ4OTQ0ODE3NjMwNywgLTc5LjQwMjE0NjQyNDYyMTk5XSwgWzQzLjY0MjkzNjQyMzE0MDMsIC03OS40MjQ5NjEzMjM4MDM3XSwgWzQzLjYzOTI4Mzc3NTU0Mzg5NSwgLTc5LjQyNTYxOTk4OTg2MzM1XSwgWzQzLjY0MjA2NCwgLTc5LjQyODgwNV0sIFs0My42NDI3MjUyNjI1OTU4NywgLTc5LjQyNjQxNjQ0NzQwOTM4XSwgWzQzLjY0MDE3NzE4MzI4MDIyLCAtNzkuNDIwMTU3NTMzNjM1MDldLCBbNDMuNjQyNjE2MzAxMTg5NTEsIC03OS40MjY5MzU4NDQyODAzN10sIFs0My42NDM2ODE4NTQwODIzNywgLTc5LjQyMTYyNjcxMzIzNDE4XSwgWzQzLjY0MzA2MDU4NDA0NTEzLCAtNzkuNDI0ODE5NjA4Njg2OTJdLCBbNDMuNjQ0MTMwMDE1OTYzNTEsIC03OS40MTk2Njk1NTUzOTEwN10sIFs0My42Mzc1MzUsIC03OS40MjI3NjFdLCBbNDMuNjQ0NTIwNzQwMzI2NzEsIC03OS40MTg5MDgwNTY2Nzk5XSwgWzQzLjY0NTg1OTc5MDEzMjU3LCAtNzkuNDE5NTMyMDg5ODg4NjZdLCBbNDMuNjM3Nzc1MzcwMzQxNywgLTc5LjQyNDI5NzM3MDY3ODk3XSwgWzQzLjY0MTMxNDk2MjYyMDcxLCAtNzkuNDMzMTQ5NTc4MDg4ODZdLCBbNDMuNjQxOTYzMTk5NDgzNTA2LCAtNzkuNDI5OTAyOTU4NjE5MTJdLCBbNDMuNjQ0OTUzNDUzMjg0NDEsIC03OS40MjgyNzA2MTIyOTQ0N10sIFs0My42MzgwNTY1OTkwMzU4MTQsIC03OS40MjE0OTMwMzc5MTg2XSwgWzQzLjY0NDI4OTUyOTY1NDg2LCAtNzkuNDE4NDgxMDg1NzY3OTddLCBbNDMuNjQ4NjQyNzQ2MjgzODM0LCAtNzkuNDIwNDk1MjU3OTQyNDVdLCBbNDMuNjQyODQ4MzYwMDQ3MDksIC03OS40MjUzNjg2Mjc3MjMxXSwgWzQzLjYzODYxMDc3MDg2MTgxLCAtNzkuNDE5NDIxNDYwOTc0NThdLCBbNDMuNjM3OTk2MjExMDQ3MzY2LCAtNzkuNDMwNzE2NTM4NTM3MzRdLCBbNDMuNjQ1NDEsIC03OS40MTI0NDRdLCBbNDMuNjM2NDM0MTgxMTI5MzgsIC03OS40MzY5MzAwMDk1OTY0NV0sIFs0My42Mzk4NCwgLTc5LjQyMTM2XSwgWzQzLjY0MDk1ODcyMzIxNzA0LCAtNzkuNDM1MDk5OTEzOTU0MDJdLCBbNDMuNjM5MDA2Mjc3NzM1Nzk1LCAtNzkuNDE0MjY2OTcwOTc2NDhdLCBbNDMuNjQ2ODExMjc2MDA1MiwgLTc5LjQxOTgwMzQ1NjcxNjc0XSwgWzQzLjY0NTczOTY3MDYwMDg5LCAtNzkuNDExNDczOTYxNTMxOF0sIFs0My42Mzk1NTUwOTgwMjA2MiwgLTc5LjQyMDgyOTM5MTEwNTI5XSwgWzQzLjY0OTU0ODg1MDQ1NzEsIC03OS40MjkxNDcxMTA2OTg0N10sIFs0My42NDM2NjI2OTM2OTQ3MzYsIC03OS40MTE2ODE1Nzg0MzgyMl0sIFs0My42NDMxMTE0OTM0MjkwNzUsIC03OS40MDY2NzQxNTg1MjQ2NV0sIFs0My42Mzk2ODY4MzY3NDA5MywgLTc5LjQ0MTM2ODQ2MjA5MzU4XSwgWzQzLjY0MjgzNzk2OTQwNDM1LCAtNzkuNDA4Mjg5MTk0MTA3MDZdLCBbNDMuNjQ3ODQ0MTIwNzEyMjcsIC03OS40MjAyOTQyNDYxNzc3XSwgWzQzLjY0OTYzMTY2NjgwMTksIC03OS40Mjk3Njc2MTA5ODEyM10sIFs0My42NDI5Mjc0NzEyMDI1NzYsIC03OS40NDIxNjY0MzI5Mjg2N10sIFs0My42NDk2NjI5MjIyOTgyNywgLTc5LjQzMDA2NTgxNzU4NTMzXSwgWzQzLjY0Mzk5OTQzMzIzMDczLCAtNzkuNDA4NzY3NDcyODQ2MzJdLCBbNDMuNjQ5MzE1MTE5OTEwMDcsIC03OS40MjA3NzUxMjkyMzMyNV0sIFs0My42NTIzMjA2NTEwMTYxOCwgLTc5LjQzMzk2NTUzMDA2NjJdLCBbNDMuNjM3NTA1MDczOTc0ODgsIC03OS40MjQ2NDk3OTQzNjg2Ml0sIFs0My42NDA5NzI2NjkzODkyOSwgLTc5LjQzNDU3OTcyNjQyMDAxXSwgWzQzLjYzOTI1LCAtNzkuNDQyODNdLCBbNDMuNjQ2NzUsIC03OS40MDcxNF0sIFs0My42NDY2MDk1NTY4NjU2ODQsIC03OS40MTk2MDU5MjgzNTY2Nl0sIFs0My42NDk3OTYsIC03OS40MzU0MV0sIFs0My43MTU0MTM5OTg5NzQ3OTYsIC03OS40OTAzMDAyODY0MDgyMV0sIFs0My43MjY1MjM5MzE4MDc0NCwgLTc5LjQ4MzY1OTMzODAyNDU3XSwgWzQzLjcxODY0MzQzNTUyMTUzNSwgLTc5LjUwNzY1MjY2MDAwNzgyXSwgWzQzLjcyODQwMzY3MDQ3MjY5NCwgLTc5LjQ3OTc4ODUxNjQ5MDQ3XSwgWzQzLjcwODg2NjI4NDA0MDE3LCAtNzkuNDc1NzQxNzE5MTQyNzNdLCBbNDMuNzE5NDYyODAyNTA4OTQsIC03OS40ODA3NTUwOTE4Mzk3NF0sIFs0My43MDU4NjM5NzcyODE1NCwgLTc5LjQ4ODU3MzA3NDM0MDgyXSwgWzQzLjcxNTYwMTcwNDY4MjM2LCAtNzkuNTA2ODU4NDg3NTc4NjVdLCBbNDMuNzI2MjI5NDY3NzU2OSwgLTc5LjQ4MDU1MzAwNDUyNTA0XSwgWzQzLjcwMjg3NjMxMTk5NTUyLCAtNzkuNDc2NjI0NDI5MDUzODRdLCBbNDMuNzI3MTQwOTEzMzkxMjc0LCAtNzkuNDgyNDI3NDUxNTcyODJdLCBbNDMuNzA2MjcsIC03OS41MDQ3OV0sIFs0My43MDU2NTM4NzQxOTEyNywgLTc5LjQ3MDU3MTg1NDgwMjE5XSwgWzQzLjcwMzI1NSwgLTc5LjUwNDExNF0sIFs0My42ODY4NjEzNDcwMzE1MSwgLTc5LjQ4OTYwMDQzOTUyNDQxXSwgWzQzLjY5MTk5MzI0NDQ3ODc5NSwgLTc5LjQ2NzUxMTkzMzMzNzkzXSwgWzQzLjY4MTkyNDMzNjYwNjk5LCAtNzkuNDY3NjIwNDM3MzM1MDRdLCBbNDMuNjgwODQyMzAyOTkwMjg1LCAtNzkuNDcyODkyMzA4ODA4OThdLCBbNDMuNjgyMDA3Njc4ODUyMzUsIC03OS40NzEyODkyNzc3NjM3NF0sIFs0My43MDg4NjYyODQwNDAxNywgLTc5LjQ3NTc0MTcxOTE0MjczXSwgWzQzLjY4OTUyNzM3NjU0Mzc4NiwgLTc5LjQ5NDAxNDIyODY0NDRdLCBbNDMuNjkwNzYyOSwgLTc5LjQ3Mzc5OTNdLCBbNDMuNjkxMDMxNSwgLTc5LjUwMTI2NzRdLCBbNDMuNzAyODc2MzExOTk1NTIsIC03OS40NzY2MjQ0MjkwNTM4NF0sIFs0My42OTA0NDI1ODA3NDYwMTYsIC03OS40OTkyMDkyNTk0NTM4M10sIFs0My43MDU4NjM5NzcyODE1NCwgLTc5LjQ4ODU3MzA3NDM0MDgyXSwgWzQzLjY5Nzg4MzQ4MDY4NjU1LCAtNzkuNTAyNDEzMDEzMzQ2MzRdLCBbNDMuNzA1NjUzODc0MTkxMjcsIC03OS40NzA1NzE4NTQ4MDIxOV0sIFs0My43MDMyNTUsIC03OS41MDQxMTRdLCBbNDMuNzAxODcyLCAtNzkuNDYyNl0sIFs0My42NzM5OTkzNjMwMDYxOSwgLTc5LjQ2OTU4OTM0NzQzMzU4XSwgWzQzLjY2MjU3ODA3MTMxOTgyLCAtNzkuNDcwOTg1OTA3MzI4Nl0sIFs0My42NjU0NzcyODQxNjAxOCwgLTc5LjQ3MDY1MDUzNDQ0OTkzXSwgWzQzLjY2MjQ1NjUxNjU0NjY3NiwgLTc5LjQ3MDk3OTAwOTA0NDNdLCBbNDMuNjgwODQyMzAyOTkwMjg1LCAtNzkuNDcyODkyMzA4ODA4OThdLCBbNDMuNjgxOTI0MzM2NjA2OTksIC03OS40Njc2MjA0MzczMzUwNF0sIFs0My42NjUzMTEsIC03OS40NjgwNzhdLCBbNDMuNjY2NTUzNDE5MjI5NDYsIC03OS40OTkyNDI5NTY3NDQyN10sIFs0My42NjE1OTc0MzI3MzEzMiwgLTc5LjQ3OTQ5ODY0NjMxNTEyXSwgWzQzLjY4Njg2MTM0NzAzMTUxLCAtNzkuNDg5NjAwNDM5NTI0NDFdLCBbNDMuNjY1NTQ3MTkzMTIyNzMsIC03OS40Njc4NjI0MzI0MjI1NV0sIFs0My42NzM4ODEzNTIzNzMwNjYsIC03OS40NzAxNzI5Nzc3NTIyNl0sIFs0My42NjYwMDA2NjA3MjI1MywgLTc5LjQ4NzE2NTc4MjkxNzg4XSwgWzQzLjY4MjAwNzY3ODg1MjM1LCAtNzkuNDcxMjg5Mjc3NzYzNzRdLCBbNDMuNjY1NDM0MjM3NTczMTksIC03OS40NzIxMzcwMzAxNDIxOV0sIFs0My42NjU1MTM2Mjc0NTI0NCwgLTc5LjQ3MTk4MDQ3OTQxNTc2XSwgWzQzLjY2NTUyNjQzNTMzMjkxLCAtNzkuNDg4MjYzNDIwMTk3NDNdLCBbNDMuNjc0MTc1NjgsIC03OS40Njk5MDkzNl0sIFs0My42NjUyNTk0LCAtNzkuNDgyMzg0OF0sIFs0My42NjU0MTAxNzgyMDY2MiwgLTc5LjQ2MjgyMTY3NjYwMzgxXSwgWzQzLjY2NTIxMDExODkwMTc1LCAtNzkuNDY4NDYwODM0ODMwMjRdLCBbNDMuNjU5Mzk5Mjg3MTQ1NDMsIC03OS40ODI3NzUyNTY5OTcyXSwgWzQzLjY2NTQyNiwgLTc5LjQ2NjE3Nl0sIFs0My42NzE3MzgyOTE1OTQ1NiwgLTc5LjQ2NzA1Njg0MjgxODcyXSwgWzQzLjY3MTAzNiwgLTc5LjQ2NzIwM10sIFs0My42NjU2MSwgLTc5LjQ3MTgyMV0sIFs0My42NjU1MTA1Mzg4ODk5MDUsIC03OS40Njk5ODQyMTg2MDQwNV0sIFs0My42OTA3NjI5LCAtNzkuNDczNzk5M10sIFs0My42NjI1NzgwNzEzMTk4MiwgLTc5LjQ3MDk4NTkwNzMyODZdLCBbNDMuNjYyNDU2NTE2NTQ2Njc2LCAtNzkuNDcwOTc5MDA5MDQ0M10sIFs0My42NTYwNTkyMjM3NjgyNzQsIC03OS40NTQxMDU2ODc3NDI5NF0sIFs0My42NjU0NzcyODQxNjAxOCwgLTc5LjQ3MDY1MDUzNDQ0OTkzXSwgWzQzLjY2NTUzMTY5ODAxODA4NiwgLTc5LjQ0OTk0OTI2NDUyNjM3XSwgWzQzLjY2NTMwMzgzMTk5MTcsIC03OS40NTMzNTI1NzY4ODc3OF0sIFs0My42NTk3ODUyMDQzMTE2OSwgLTc5LjQ1MzYzNDA0NDQxMTI5XSwgWzQzLjY1NjM0NTc4ODE3ODcxLCAtNzkuNDUzMjAwMTAxODUyNDJdLCBbNDMuNjU1NzI4NDIwMDE2NTE2LCAtNzkuNDU1NTkxMDQ3NTA4MTFdLCBbNDMuNjY0ODA3MzY5NzI4MDI0LCAtNzkuNDU1NzQxOTc5NDM0MDRdLCBbNDMuNjU0OTUyMzc0NzI3MTMsIC03OS40NTkyODQzMDY5NDA3XSwgWzQzLjY2NTMxMSwgLTc5LjQ2ODA3OF0sIFs0My42NTk0NzkzNjk0NjIwMSwgLTc5LjQ0NTA4NTUwMjM5Mzc1XSwgWzQzLjY2NTU0NzE5MzEyMjczLCAtNzkuNDY3ODYyNDMyNDIyNTVdLCBbNDMuNjUxMTk0MzE4MjkyMjc2LCAtNzkuNDc2NjU2Nzc2Mjg2NTZdLCBbNDMuNjUzNzQ3NDI4NzUxOTIsIC03OS40NDUxMjI2NDcwOTE0Ml0sIFs0My42NTg2ODk4MDQxMTcwMjQsIC03OS40NDI3OTMxMjk0MTc4Nl0sIFs0My42NTEwMzk2NjQzOTc4MSwgLTc5LjQ3NzYwNTMwMTU4NzEyXSwgWzQzLjY1MDU4NDIyNDMwNDc2LCAtNzkuNDc4ODUyODk3NjkxNjddLCBbNDMuNjQ4NzA3MjM1NTc2NTE2LCAtNzkuNDQ5OTIxNDY1MDc4OTZdLCBbNDMuNjYxOTM0MTgyNjAzNjQsIC03OS40NDY1MTc0NjQ5MjYxNl0sIFs0My42NjIzNjcyODc0MTIyOSwgLTc5LjQ0NDIyNzI1MTYwMjldLCBbNDMuNjcwMDQyLCAtNzkuNDQ4MzQyXSwgWzQzLjY3Mzk5OTM2MzAwNjE5LCAtNzkuNDY5NTg5MzQ3NDMzNThdLCBbNDMuNjUwNDYyNTE3MDY0OTMsIC03OS40NTA2MDk4MTg0Njc5Ml0sIFs0My42NzU0NDEzNzQxNzA3LCAtNzkuNDU0NjU3NzIzOTMzMjRdLCBbNDMuNjYxNTk3NDMyNzMxMzIsIC03OS40Nzk0OTg2NDYzMTUxMl0sIFs0My42NjU0MzQyMzc1NzMxOSwgLTc5LjQ3MjEzNzAzMDE0MjE5XSwgWzQzLjY2NTUxMzYyNzQ1MjQ0LCAtNzkuNDcxOTgwNDc5NDE1NzZdLCBbNDMuNjUxMzQ3NjkzNDgyNjA2LCAtNzkuNDc1NjM5NDY1MTcyOV0sIFs0My42NDU4NDU4OTY2NTIyOSwgLTc5LjQ0ODgyOTg1NjQ0NDU4XSwgWzQzLjY1ODQ1NDg5NDY4NTEzLCAtNzkuNDQyMjkxMzE4Mzg1MDNdLCBbNDMuNjU3MzA5MDIyMTA0NDg1LCAtNzkuNDQ3ODg2NzA0NzE5NjRdLCBbNDMuNjU5MzAyNzUzNjc0MjcsIC03OS40Mzg3NzA2OTQzNDAzOV0sIFs0My42NjU0MTAxNzgyMDY2MiwgLTc5LjQ2MjgyMTY3NjYwMzgxXSwgWzQzLjY1MDUyNDYyMjMzNzI5LCAtNzkuNDc5MTQ0NTMxODc4ODNdLCBbNDMuNjUzMjQ0MjAwNjMyNjMsIC03OS40NTE2NzIwNDk1MTk0N10sIFs0My42NTExNTUzMTE3MTE3NzYsIC03OS40NzY1NjU2MzUzNjI3OV0sIFs0My42NTEzNzg5NDI0MjMyMzYsIC03OS40NzUzODAyNjk4NjQ2Nl0sIFs0My42NDYwNzU1OTE3OTkzMjQsIC03OS40NDg4NDAyNzc3ODQzOF0sIFs0My42NTQ3MDU5MzI4Nzk2OCwgLTc5LjQ1OTc4NzYzODczNDMxXSwgWzQzLjY2NzA1MDM5MDYzMTI4LCAtNzkuNDQxNzkxMjQ0MTI4MzFdLCBbNDMuNjczODgxMzUyMzczMDY2LCAtNzkuNDcwMTcyOTc3NzUyMjZdLCBbNDMuNjQ4NzA3MjM1NTc2NTE2LCAtNzkuNDQ5OTIxNDY1MDc4OTZdLCBbNDMuNjQ1ODQ1ODk2NjUyMjksIC03OS40NDg4Mjk4NTY0NDQ1OF0sIFs0My42NTM3NDc0Mjg3NTE5MiwgLTc5LjQ0NTEyMjY0NzA5MTQyXSwgWzQzLjY1MDQ2MjUxNzA2NDkzLCAtNzkuNDUwNjA5ODE4NDY3OTJdLCBbNDMuNjQyOTI3NDcxMjAyNTc2LCAtNzkuNDQyMTY2NDMyOTI4NjddLCBbNDMuNjQyMDY0MzUzOTcwNywgLTc5LjQ0NzM2NjU5MzYyODE3XSwgWzQzLjY1NjA1OTIyMzc2ODI3NCwgLTc5LjQ1NDEwNTY4Nzc0Mjk0XSwgWzQzLjY0NjM0MTc1MDYzNjM0NiwgLTc5LjQ0MzQ1NDA3Nzc4Nzg5XSwgWzQzLjY0NzI2MjQ4MzEzNTYwNiwgLTc5LjQ0Mzg3NTg0ODY5MDE3XSwgWzQzLjYzOTY4NjgzNjc0MDkzLCAtNzkuNDQxMzY4NDYyMDkzNThdLCBbNDMuNjQ2MDc1NTkxNzk5MzI0LCAtNzkuNDQ4ODQwMjc3Nzg0MzhdLCBbNDMuNjM4NzAxNzUwMTkwNjUsIC03OS40NDU4NDI3MjYxMTk3XSwgWzQzLjY1OTQ3OTM2OTQ2MjAxLCAtNzkuNDQ1MDg1NTAyMzkzNzVdLCBbNDMuNjU4Njg5ODA0MTE3MDI0LCAtNzkuNDQyNzkzMTI5NDE3ODZdLCBbNDMuNjU2MzQ1Nzg4MTc4NzEsIC03OS40NTMyMDAxMDE4NTI0Ml0sIFs0My42NDA0NzI5NjI0MjY5NTUsIC03OS40NDY3NzY5NjMwMjI4NF0sIFs0My42MzkyNSwgLTc5LjQ0MjgzXSwgWzQzLjYzOTIzMjQwNDgwMzQ0NCwgLTc5LjQ0MzY5MzgxODY2ODQ2XSwgWzQzLjY1MjMyMDY1MTAxNjE4LCAtNzkuNDMzOTY1NTMwMDY2Ml0sIFs0My42NDEzMTYsIC03OS40NDcxMDldLCBbNDMuNjQxNDc3MjEyODM3ODYsIC03OS40NDcxMzU1NzMxMDE0OF0sIFs0My42NDk3OTYsIC03OS40MzU0MV0sIFs0My42NTU3Mjg0MjAwMTY1MTYsIC03OS40NTU1OTEwNDc1MDgxMV0sIFs0My42NDc1MzcxNzQ0MTU2MSwgLTc5LjQ0OTQ2OTA4Mjc1Nzk0XSwgWzQzLjY0MTMxNDk2MjYyMDcxLCAtNzkuNDMzMTQ5NTc4MDg4ODZdLCBbNDMuNjM5MjkzNDE2MDIwNDksIC03OS40NDM1MjEyMjE1MzUxOF0sIFs0My42MzY0MzQxODExMjkzOCwgLTc5LjQzNjkzMDAwOTU5NjQ1XSwgWzQzLjY0MDk1ODcyMzIxNzA0LCAtNzkuNDM1MDk5OTEzOTU0MDJdLCBbNDMuNjQ5NTQ4ODUwNDU3MSwgLTc5LjQyOTE0NzExMDY5ODQ3XSwgWzQzLjY0MjA2NCwgLTc5LjQyODgwNV0sIFs0My42NTQ5NTIzNzQ3MjcxMywgLTc5LjQ1OTI4NDMwNjk0MDddLCBbNDMuNjUwMDg3MTAxODMwNDksIC03OS40NTA0NTc4NDYyMTQ1Nl0sIFs0My42NTk3ODUyMDQzMTE2OSwgLTc5LjQ1MzYzNDA0NDQxMTI5XSwgWzQzLjY2NTUzMTY5ODAxODA4NiwgLTc5LjQ0OTk0OTI2NDUyNjM3XSwgWzQzLjY0OTE4ODYxMTIzMzAyLCAtNzkuNDUwMDg1ODg4NTM3NjRdLCBbNDMuNjQ0OTUzNDUzMjg0NDEsIC03OS40MjgyNzA2MTIyOTQ0N10sIFs0My42NTg0NTQ4OTQ2ODUxMywgLTc5LjQ0MjI5MTMxODM4NTAzXSwgWzQzLjY0MDMzNTYzMDA1ODE4LCAtNzkuNDQ2NzI5MjA3ODgyNjVdLCBbNDMuNjQ5NjMxNjY2ODAxOSwgLTc5LjQyOTc2NzYxMDk4MTIzXSwgWzQzLjY2MjM2NzI4NzQxMjI5LCAtNzkuNDQ0MjI3MjUxNjAyOV0sIFs0My42NTI2ODk2NjEyMzU3NSwgLTc5LjQzMjMxMTA1ODA0NDQzXSwgWzQzLjY0OTY2MjkyMjI5ODI3LCAtNzkuNDMwMDY1ODE3NTg1MzNdLCBbNDMuNjQ0NTgzMTc2ODI5MzQsIC03OS40NDgyNTI0NzQzMjM2N10sIFs0My42NDk2NzYwMjU1NTY3MiwgLTc5LjQzMzI5NjY1OTExMjQzXSwgWzQzLjY0MTk2MzE5OTQ4MzUwNiwgLTc5LjQyOTkwMjk1ODYxOTEyXSwgWzQzLjY2MTkzNDE4MjYwMzY0LCAtNzkuNDQ2NTE3NDY0OTI2MTZdLCBbNDMuNjQyNzI1MjYyNTk1ODcsIC03OS40MjY0MTY0NDc0MDkzOF0sIFs0My42NDI2MTYzMDExODk1MSwgLTc5LjQyNjkzNTg0NDI4MDM3XSwgWzQzLjY1MTE5NDMxODI5MjI3NiwgLTc5LjQ3NjY1Njc3NjI4NjU2XSwgWzQzLjY1MDU4NDIyNDMwNDc2LCAtNzkuNDc4ODUyODk3NjkxNjddLCBbNDMuNjUxMDM5NjY0Mzk3ODEsIC03OS40Nzc2MDUzMDE1ODcxMl0sIFs0My42NDk1NjUzNDAzNjgxMywgLTc5LjQ4NDAyMjcwNjk0NjAyXSwgWzQzLjY1MTM0NzY5MzQ4MjYwNiwgLTc5LjQ3NTYzOTQ2NTE3MjldLCBbNDMuNjM4NDY2NDg0NjA3MTg2LCAtNzkuNDc1MjU3Njg5NTI5MDddLCBbNDMuNjQ5NjQ3MzUxMTIzMDUsIC03OS40ODM0MzYzOTA0MDkxOF0sIFs0My42NTA1MjQ2MjIzMzcyOSwgLTc5LjQ3OTE0NDUzMTg3ODgzXSwgWzQzLjY0OTEzMTU4NDk3MzQxLCAtNzkuNDg0ODAyMzcwNzE0NjVdLCBbNDMuNjYyNTc4MDcxMzE5ODIsIC03OS40NzA5ODU5MDczMjg2XSwgWzQzLjY1MTE1NTMxMTcxMTc3NiwgLTc5LjQ3NjU2NTYzNTM2Mjc5XSwgWzQzLjY2MjQ1NjUxNjU0NjY3NiwgLTc5LjQ3MDk3OTAwOTA0NDNdLCBbNDMuNjUxMzc4OTQyNDIzMjM2LCAtNzkuNDc1MzgwMjY5ODY0NjZdLCBbNDMuNjQ5OTAxNjQ0NTA1NTksIC03OS40ODQ2MTA5MjI4ODgxXSwgWzQzLjY1ODUyMjc4NzYwNzU2NiwgLTc5LjQ4ODIzMzM1NjQ4MTQyXSwgWzQzLjY0OTk0NTYzNDE0NzA3LCAtNzkuNDgyMDA5MDIyNzc2MjhdLCBbNDMuNjUxMDExMDc4NTA5NjI2LCAtNzkuNDkzMjIyMDkwMjAzNTddLCBbNDMuNjU2MDU5MjIzNzY4Mjc0LCAtNzkuNDU0MTA1Njg3NzQyOTRdLCBbNDMuNjYxNTk3NDMyNzMxMzIsIC03OS40Nzk0OTg2NDYzMTUxMl0sIFs0My42NjU0NzcyODQxNjAxOCwgLTc5LjQ3MDY1MDUzNDQ0OTkzXSwgWzQzLjY1NDk1MjM3NDcyNzEzLCAtNzkuNDU5Mjg0MzA2OTQwN10sIFs0My42NTU3Mjg0MjAwMTY1MTYsIC03OS40NTU1OTEwNDc1MDgxMV0sIFs0My42NTYzNDU3ODgxNzg3MSwgLTc5LjQ1MzIwMDEwMTg1MjQyXSwgWzQzLjY0OTgwMTg4LCAtNzkuNDgzNjgyNl0sIFs0My42NTgzNTQ2NTE0OTk1OCwgLTc5LjQ4ODEzNzM2MzEwNjg2XSwgWzQzLjY2NTMxMSwgLTc5LjQ2ODA3OF0sIFs0My42NjU1NDcxOTMxMjI3MywgLTc5LjQ2Nzg2MjQzMjQyMjU1XSwgWzQzLjY1MTUyNTIyMzY5OTEyNCwgLTc5LjQ3NDk1NzQyOTk3NzA3XSwgWzQzLjY2NTQzNDIzNzU3MzE5LCAtNzkuNDcyMTM3MDMwMTQyMTldLCBbNDMuNjY1NTEzNjI3NDUyNDQsIC03OS40NzE5ODA0Nzk0MTU3Nl0sIFs0My42NTgzNTkxODEzMDQ3LCAtNzkuNDg3OTcxMDM5Mjk4ODFdLCBbNDMuNjUwNDI0LCAtNzkuNDc5NzU1XSwgWzQzLjY1MDMxMDMxNTQwMzU0NCwgLTc5LjQ4MDEyNDU4NTQ3NzA5XSwgWzQzLjY1OTM5OTI4NzE0NTQzLCAtNzkuNDgyNzc1MjU2OTk3Ml0sIFs0My42NTQ3MDU5MzI4Nzk2OCwgLTc5LjQ1OTc4NzYzODczNDMxXSwgWzQzLjY2NTI1OTQsIC03OS40ODIzODQ4XSwgWzQzLjY2NTIxMDExODkwMTc1LCAtNzkuNDY4NDYwODM0ODMwMjRdLCBbNDMuNjQ5NTEzMDUxODE0MzgsIC03OS40ODQwNzAzMzYxMDcyOF0sIFs0My42NDU0NDIzNDM3Mzc5MSwgLTc5LjQ2NTk4MjQ2ODA4MzExXSwgWzQzLjY1ODQyMTIzNTc0NDk2LCAtNzkuMzg1NjEzMTk1NTExMTFdLCBbNDMuNjYwMzkwOTExODk4NTQ2LCAtNzkuMzg3NjY0MjExOTI3MDVdLCBbNDMuNjU4ODMyOTY5ODIzNTIsIC03OS4zODM2ODM1MTk4NjU5OF0sIFs0My42NTU4MjcxMDMyMjIyNCwgLTc5LjM5MjA0MjE2ODg4NTU1XSwgWzQzLjY1NDQxMjgyNzQwNzk5LCAtNzkuMzkwOTAxNjEzNTE3MjRdLCBbNDMuNjU0NzYzODU5NzYzODYsIC03OS40MDA1NjU4ODM2NzgwNl0sIFs0My42NTM2OTg5MjgzMTg1MjYsIC03OS4zOTA3NDMxMzU2ODY5Ml0sIFs0My42Njk3NTM1NjI3ODQ2NCwgLTc5LjM4ODcxOTc5NzEzNDRdLCBbNDMuNjYwNzYyOTkxNDkzMjMsIC03OS4zODYxODQwOTAzMzA2Nl0sIFs0My42NTQxNDY2MjIxMTczMywgLTc5LjQwMDE4MTc1NTE2MjMxXSwgWzQzLjY2NDk5MDU5ODUzMjA0LCAtNzkuMzg0ODE0MTU3Mjc3NjddLCBbNDMuNjU0NDkzMTU1NDAxMTQsIC03OS40MDEzMTA5MDM5MzAwMl0sIFs0My42NjQzOTkzNjMyNDQ2MywgLTc5LjM4MDQyNzE4NDE0MjM1XSwgWzQzLjY2NjkyNjY2NzQ1ODg0LCAtNzkuMzgxNDIxMzU5NTQyNjddLCBbNDMuNjUzNTYwMjc2ODM1Njg0LCAtNzkuNDAwNDAyMDk2NjA4MzZdLCBbNDMuNjU1MTA4NTY1NjUxNDcsIC03OS40MDIzNDI0MTUzNDU0M10sIFs0My42NjYzNzY3NzU4NTQwOSwgLTc5LjM4MDk2Mzk2ODUwNDA5XSwgWzQzLjY1Njk1ODIxNjI2MDgxLCAtNzkuNDA1NDYwMjk3OTU5ODVdLCBbNDMuNjU0ODk0NDgxNzYzMDcsIC03OS40MDIxNDY0MjQ2MjE5OV0sIFs0My42Njk4ODMxNjU3MDgzOCwgLTc5LjM5MzM1ODU4MTIxMjYyXSwgWzQzLjY1NDU3MTI1ODk0MzU3LCAtNzkuMzg5NDQ5NzY1MzY4NTJdLCBbNDMuNjY1MjcxMTkzNTA4NzUsIC03OS4zODA3ODUxMjY3MjUwNF0sIFs0My42NTY2Nzc3NjU4NjEwMSwgLTc5LjQwMjgyMTcxMzc3N10sIFs0My42NTc2MDEwMTQzMjY2NSwgLTc5LjM4MTYxOTYzMDE3MTc0XSwgWzQzLjY1NzAyOTI1MTIxMzU2LCAtNzkuMzgxMzg1MTI3MjgwNTFdLCBbNDMuNjU3NzcxNjExMTI2MDEsIC03OS4zNzYwNzI1NjkxNjgxXSwgWzQzLjY2MTQzNTgyNTE0MTM1LCAtNzkuMzgxNDkzMTk2Mjk0Ml0sIFs0My42NjIzNDE2NzkwMTAwNSwgLTc5LjM3NzQzMzc2MTQ0OTAzXSwgWzQzLjY2NTMzLCAtNzkuMzg3NDg0XSwgWzQzLjY2Nzk2MjYzNzQ5MDgyLCAtNzkuMzg4ODcyNzQxOTc1ODJdLCBbNDMuNjY5OTUzNzUxODc4NDUsIC03OS4zOTE4MjgxMjYyNjEwNl0sIFs0My42NTMxNDM4Mzg4ODU4NywgLTc5LjM4MTk4MDE2Njc4MTY3XSwgWzQzLjY1NjY4NDM1NTI0NTk2NCwgLTc5LjQwNzAzMjAyNjMwODI2XSwgWzQzLjY2MjUxOTA5NjAyMjk3NiwgLTc5LjQwNDQ0MjcwNTY3NDA0XSwgWzQzLjY1MDI1MjQ4MzA2OTI5NSwgLTc5LjM4NTE1NTc1NjIwMDc1XSwgWzQzLjY2MjgzNTU0MDcyMDg3LCAtNzkuNDAzMzY0OTQ3MzEyNTVdLCBbNDMuNjU0MzQwODgwMjU4MywgLTc5LjM5MTM1NDkwOTc3OTYyXSwgWzQzLjY1NjE5MzM2Mjc4MzU0LCAtNzkuNDAyNjczMjMzNTU3ODVdLCBbNDMuNjQ4NzM0MzA2NTk2NjIsIC03OS4zODY1NDExNzU2NDgzOF0sIFs0My42NTQ3MjAyMTQ4NjE0NTYsIC03OS40MDA4NTg5OTA4NDcyMV0sIFs0My42NTA1NjM4MTAyNjA2NiwgLTc5LjM5NzAxODEwNjAwODI2XSwgWzQzLjY2OTY1Mzc4NTcxOTU0LCAtNzkuMzc5ODcwNTY2Njg2XSwgWzQzLjY2ODE0MzM3MjI1OTE5NSwgLTc5LjM5NjA4NjkxMjAzNTU0XSwgWzQzLjY1NTA1Nzc4MjEzMTMxLCAtNzkuNDAzMjU0MDE2OTE2NTVdLCBbNDMuNjUxMjE3OTcyNTM3NzcsIC03OS4zODM1NTQ1OTkzMjI0N10sIFs0My42NTYwNjI4NzI0NTY0MywgLTc5LjM4MzY5NDcyNDQ2NDY1XSwgWzQzLjY2ODY2NTAzMjc1MjcxLCAtNzkuMzg2ODI5NTM5MzY0MjRdLCBbNDMuNjQ4NzM0MzA2NTk2NjIsIC03OS4zODY1NDExNzU2NDgzOF0sIFs0My42NTAyNTI0ODMwNjkyOTUsIC03OS4zODUxNTU3NTYyMDA3NV0sIFs0My42NDg3NTM0OTkzMjA1OSwgLTc5LjM4NTM2NzM2MDcyODldLCBbNDMuNjQ4MzA4NzM4MDQ2ODQsIC03OS4zODIyNTMzMzg5ODgwNV0sIFs0My42NDc4ODEzNzAxNDAyOCwgLTc5LjM4NDMzMTUyODM2ODI5XSwgWzQzLjY0ODgzNTM5MTI0NTg5NiwgLTc5LjM4MDkzNTgxMjUwMzNdLCBbNDMuNjQ1NDMxMTc3MjYxMjUsIC03OS4zODcwNTg1ODg5NTQ5MV0sIFs0My42NDkwMjI3MzY3NjE1MTYsIC03OS4zODU4MjYzNTUyMTIzM10sIFs0My42NDgyOTE2MTY3OTk4MSwgLTc5LjM5MDM5MDQwMTU1OTM3XSwgWzQzLjY1MTIxNzk3MjUzNzc3LCAtNzkuMzgzNTU0NTk5MzIyNDddLCBbNDMuNjQ4MzU3MDg1MTk5MjIsIC03OS4zODIxOTI0MTg1ODcyN10sIFs0My42NTA0OTcsIC03OS4zNzg3NjVdLCBbNDMuNjQ1MDE4MTQ0NjQ2OTgsIC03OS4zODA0MTUwOTMxMTk5XSwgWzQzLjY0ODgxNTE2MzE2MTUsIC03OS4zODA2MDQ2ODYxMDk0OV0sIFs0My42NTA1Nzg4NjUwOTM5MzQsIC03OS4zODM0MTE5MzAzNjE0XSwgWzQzLjY0ODgzMTUwMDU0NjE5LCAtNzkuMzgxOTcwMDYzNDU0NTddLCBbNDMuNjUwNTA0NzU1NDQwMDUsIC03OS4zODg1NzcyMzM4OTg5N10sIFs0My42NTA1NTcyNTI0OTQwNSwgLTc5LjM4MTk1NjM0NjQwMDYzXSwgWzQzLjY0ODI1MDU0MzM2NTU1NiwgLTc5LjM4MDEyNzI4MjIwODY5XSwgWzQzLjY0Mjg1MSwgLTc5LjM4MjA4MV0sIFs0My42NTMxNDM4Mzg4ODU4NywgLTc5LjM4MTk4MDE2Njc4MTY3XSwgWzQzLjY0NjkxMjIzMTkwOTI3NiwgLTc5LjM3OTU5NjYxNjk2NDYzXSwgWzQzLjY0NjY1NzczNjI4NTc5NiwgLTc5LjM3NzY0MTAyODU2OTQ0XSwgWzQzLjY0NDM3MjU4NDE0ODM2NCwgLTc5LjM4MzA2NDcwMDI3NDIzXSwgWzQzLjY0ODU0NjU5NDY1MTg2LCAtNzkuMzgxNjI0MDY0NzAxNjFdLCBbNDMuNjUwMzYzMTI1ODY1MTU1LCAtNzkuMzg1ODAxODQxMTk5OTJdLCBbNDMuNjQ4MjY4ODE2NjE3NDcsIC03OS4zODYzMjgyMTIzNDEzNF0sIFs0My42NTAzNjQzNDgwMDQ4NywgLTc5LjM4ODY2OTA3NTc1NzI2XSwgWzQzLjY0OTExNzkzNTQ1NzcsIC03OS4zNzgzMTI4ODM4MDQzOF0sIFs0My42NDcyNzMxNTE0OTI2NTUsIC03OS4zOTYzMTk5NzM1OTg4NV0sIFs0My42NTM2OTg5MjgzMTg1MjYsIC03OS4zOTA3NDMxMzU2ODY5Ml0sIFs0My42NDc2ODY4MDg5MzA4ODUsIC03OS4zNzcyOTUzODg0MDMzXSwgWzQzLjY1MDU1NjUwNDg5OTM2LCAtNzkuMzgxMTc1NDMyMjQzOTVdLCBbNDMuNjQ2MzAxNDY1NzQxODE0LCAtNzkuMzk1MTgzNzkxMDUwNjZdLCBbNDMuNjQyODA0NDgzOTkyNTEsIC03OS4zODM5MjE0OTQxNTM4MV0sIFs0My42NDkwMTM4NTE5MTQ5NiwgLTc5LjM5MzUyMDg2NTQzMjAyXSwgWzQzLjY1NDQxMjgyNzQwNzk5LCAtNzkuMzkwOTAxNjEzNTE3MjRdLCBbNDMuNjQ5OTQwNDUwMDM2MzgsIC03OS4zOTA5NDkxNDQ4MDEzXSwgWzQzLjY0NzMwOSwgLTc5LjM4NjczXSwgWzQzLjY1MTcyMiwgLTc5LjM3OTIwNV0sIFs0My42NDQ5MTg1MjExNzQzNiwgLTc5LjM4MjM1Nzc3NjM3MTA4XSwgWzQzLjY0NTQ2NywgLTc5LjM5NTM2OV0sIFs0My42NDgyODIzMzkwNDIxMDUsIC03OS4zOTYyMzE0NTIzOTE2N10sIFs0My42NTIzODM1ODcyNjYxMiwgLTc5LjM3MjcxOTAzODQ4MjcxXSwgWzQzLjY0NTMyNDMyOTA3OTM3LCAtNzkuMzkyNDIzNTM4OTQ4MjJdLCBbNDMuNjUyMTAxMTczMTM4NDA1LCAtNzkuMzgxMTc4MjgzOTk5MzldLCBbNDMuNjUwOTM5NjU3MzM4MzIsIC03OS4zNzkwNDU0NTgyNDM3MV0sIFs0My42NDg3MzQzMDY1OTY2MiwgLTc5LjM4NjU0MTE3NTY0ODM4XSwgWzQzLjY1MDI1MjQ4MzA2OTI5NSwgLTc5LjM4NTE1NTc1NjIwMDc1XSwgWzQzLjY0ODc1MzQ5OTMyMDU5LCAtNzkuMzg1MzY3MzYwNzI4OV0sIFs0My42NDgzMDg3MzgwNDY4NCwgLTc5LjM4MjI1MzMzODk4ODA1XSwgWzQzLjY0Nzg4MTM3MDE0MDI4LCAtNzkuMzg0MzMxNTI4MzY4MjldLCBbNDMuNjQ4ODM1MzkxMjQ1ODk2LCAtNzkuMzgwOTM1ODEyNTAzM10sIFs0My42NDU0MzExNzcyNjEyNSwgLTc5LjM4NzA1ODU4ODk1NDkxXSwgWzQzLjY0OTAyMjczNjc2MTUxNiwgLTc5LjM4NTgyNjM1NTIxMjMzXSwgWzQzLjY0ODI5MTYxNjc5OTgxLCAtNzkuMzkwMzkwNDAxNTU5MzddLCBbNDMuNjUxMjE3OTcyNTM3NzcsIC03OS4zODM1NTQ1OTkzMjI0N10sIFs0My42NDgzNTcwODUxOTkyMiwgLTc5LjM4MjE5MjQxODU4NzI3XSwgWzQzLjY1MDQ5NywgLTc5LjM3ODc2NV0sIFs0My42NDUwMTgxNDQ2NDY5OCwgLTc5LjM4MDQxNTA5MzExOTldLCBbNDMuNjQ4ODE1MTYzMTYxNSwgLTc5LjM4MDYwNDY4NjEwOTQ5XSwgWzQzLjY1MDU3ODg2NTA5MzkzNCwgLTc5LjM4MzQxMTkzMDM2MTRdLCBbNDMuNjQ4ODMxNTAwNTQ2MTksIC03OS4zODE5NzAwNjM0NTQ1N10sIFs0My42NTA1MDQ3NTU0NDAwNSwgLTc5LjM4ODU3NzIzMzg5ODk3XSwgWzQzLjY1MDU1NzI1MjQ5NDA1LCAtNzkuMzgxOTU2MzQ2NDAwNjNdLCBbNDMuNjQ4MjUwNTQzMzY1NTU2LCAtNzkuMzgwMTI3MjgyMjA4NjldLCBbNDMuNjQyODUxLCAtNzkuMzgyMDgxXSwgWzQzLjY1MzE0MzgzODg4NTg3LCAtNzkuMzgxOTgwMTY2NzgxNjddLCBbNDMuNjQ2OTEyMjMxOTA5Mjc2LCAtNzkuMzc5NTk2NjE2OTY0NjNdLCBbNDMuNjQ2NjU3NzM2Mjg1Nzk2LCAtNzkuMzc3NjQxMDI4NTY5NDRdLCBbNDMuNjQ0MzcyNTg0MTQ4MzY0LCAtNzkuMzgzMDY0NzAwMjc0MjNdLCBbNDMuNjQ4NTQ2NTk0NjUxODYsIC03OS4zODE2MjQwNjQ3MDE2MV0sIFs0My42NTAzNjMxMjU4NjUxNTUsIC03OS4zODU4MDE4NDExOTk5Ml0sIFs0My42NDgyNjg4MTY2MTc0NywgLTc5LjM4NjMyODIxMjM0MTM0XSwgWzQzLjY1MDM2NDM0ODAwNDg3LCAtNzkuMzg4NjY5MDc1NzU3MjZdLCBbNDMuNjQ5MTE3OTM1NDU3NywgLTc5LjM3ODMxMjg4MzgwNDM4XSwgWzQzLjY0NzI3MzE1MTQ5MjY1NSwgLTc5LjM5NjMxOTk3MzU5ODg1XSwgWzQzLjY1MzY5ODkyODMxODUyNiwgLTc5LjM5MDc0MzEzNTY4NjkyXSwgWzQzLjY0NzY4NjgwODkzMDg4NSwgLTc5LjM3NzI5NTM4ODQwMzNdLCBbNDMuNjUwNTU2NTA0ODk5MzYsIC03OS4zODExNzU0MzIyNDM5NV0sIFs0My42NDYzMDE0NjU3NDE4MTQsIC03OS4zOTUxODM3OTEwNTA2Nl0sIFs0My42NDI4MDQ0ODM5OTI1MSwgLTc5LjM4MzkyMTQ5NDE1MzgxXSwgWzQzLjY0OTAxMzg1MTkxNDk2LCAtNzkuMzkzNTIwODY1NDMyMDJdLCBbNDMuNjU0NDEyODI3NDA3OTksIC03OS4zOTA5MDE2MTM1MTcyNF0sIFs0My42NDk5NDA0NTAwMzYzOCwgLTc5LjM5MDk0OTE0NDgwMTNdLCBbNDMuNjQ3MzA5LCAtNzkuMzg2NzNdLCBbNDMuNjUxNzIyLCAtNzkuMzc5MjA1XSwgWzQzLjY0NDkxODUyMTE3NDM2LCAtNzkuMzgyMzU3Nzc2MzcxMDhdLCBbNDMuNjQ1NDY3LCAtNzkuMzk1MzY5XSwgWzQzLjY0ODI4MjMzOTA0MjEwNSwgLTc5LjM5NjIzMTQ1MjM5MTY3XSwgWzQzLjY1MjM4MzU4NzI2NjEyLCAtNzkuMzcyNzE5MDM4NDgyNzFdLCBbNDMuNjQ1MzI0MzI5MDc5MzcsIC03OS4zOTI0MjM1Mzg5NDgyMl0sIFs0My42NTIxMDExNzMxMzg0MDUsIC03OS4zODExNzgyODM5OTkzOV0sIFs0My42NTA5Mzk2NTczMzgzMiwgLTc5LjM3OTA0NTQ1ODI0MzcxXSwgWzQzLjYxMzk0MTc2NDA3NDUxLCAtNzkuNDg5MDYxNTk0MDU2MzhdLCBbNDMuNjE4NTQyMTM2NTIxMDY0LCAtNzkuNDk5NDg0ODExNDU0NjVdLCBbNDMuNjE3NTg1MjM2NTc2MTI2LCAtNzkuNDg3Mjk3NTk0MjQ1OTRdLCBbNDMuNjAxMTg3NjQ2MTE4NDU0LCAtNzkuNTAzNzE3MDUzMzU0OTldLCBbNDMuNjAxMDk5MjExOTUwNzgsIC03OS41MDAzMjQ5MzQxODI3NF0sIFs0My42MDEzOTYsIC03OS41MDQ1NjNdLCBbNDMuNjE3MjYzLCAtNzkuNDg3ODI1XSwgWzQzLjYyNDIwNzc0MDQ0MjM4LCAtNzkuNDg0MzUwMzMzODU5NjhdLCBbNDMuNjIyOTIyODU3ODcxNTEsIC03OS41MTA4NjEzMTAxOTk1N10sIFs0My42MTQ2NjYsIC03OS40ODg0MThdLCBbNDMuNjEzNTg3NTAzNDczOTUsIC03OS40ODk2NjYxOTkyMDYzN10sIFs0My42MTMwNzYyODQ5Njg3MywgLTc5LjQ5MDA0NjU0NTg3OTUyXSwgWzQzLjYwMTg0OTQwNTMyNDgyLCAtNzkuNTAzMjgxMjU3NTg4MDldLCBbNDMuNjAxNDAyOTg4MzU3Mjg2LCAtNzkuNTAzMDEyMzQ2Nzg5NDhdLCBbNDMuNjAxMzkyMTM1NzM0ODc2LCAtNzkuNTAzMDU2MjYxNDEyODFdLCBbNDMuNjI1OTgyMDg1MzgxMTIsIC03OS41MDM0OTc5NTc5MTIyXSwgWzQzLjYxNDg5ODgwMTc5NDg0NCwgLTc5LjQ4ODYwNzU4OTczMjM4XSwgWzQzLjYxODcxNSwgLTc5LjQ5OTUwNl0sIFs0My42MTg5MDQsIC03OS40OTk3MzhdLCBbNDMuNjAyMjg0Mzk3NjI3NiwgLTc5LjQ5OTg1NzI0NDcxNzhdLCBbNDMuNjAyMDM5NTY4MTI2NDg2LCAtNzkuNDk4Njc3ODYyNTI1NTddLCBbNDMuNjAxOTYsIC03OS41MDExNDddLCBbNDMuNjAxNzI5LCAtNzkuNTAxMDYzXSwgWzQzLjYwMTA0MiwgLTc5LjUwMDM1NF0sIFs0My42MDEzNTg5NzM0MjE5OCwgLTc5LjUwMjQ3OTg0NTg0ODE3XSwgWzQzLjYwMTA0NTQyODE5OTc3NSwgLTc5LjUwMzM1NzQxMDQzMDkxXSwgWzQzLjYyMjQ0OCwgLTc5LjQ4MjU1XSwgWzQzLjYyNTE4MTQxODQ1MDA1NSwgLTc5LjQ4MjA4NTQxMDExMDEyXSwgWzQzLjYxNzgyODA2ODIxNDg2LCAtNzkuNTE2MzM1Mzk0MTAwNzVdLCBbNDMuNTkyNDY1MDc2MDQxNiwgLTc5LjU0MTU3ODc2NDE1NzMxXSwgWzQzLjU5NDI3MTY2MDk1NDEzLCAtNzkuNTMzOTQ3NTY0NzM2OTJdLCBbNDMuNjE4MTE3MjEwNDU5MDIsIC03OS41NDQxMDIxNzI3NDU4OF0sIFs0My42MTIxNjkxOTkwNjQ3OSwgLTc5LjU1NjczOTkzNTQzMjY2XSwgWzQzLjU5ODA4NjI2NzQ5ODQyNCwgLTc5LjUxODI5NTYzNTI1ODc3XSwgWzQzLjYwNjQ4NDU2MDE4NzU2LCAtNzkuNTIwNjkzMTk5NzczODVdLCBbNDMuNjA5OTM4LCAtNzkuNTQ5MDJdLCBbNDMuNjE3Mzc0MjUxOTAwMjcsIC03OS41NDI4NjI1MDQ3ODIwMl0sIFs0My42MTgxNTYsIC03OS41MzQ1NV0sIFs0My41OTYwMzQ3NiwgLTc5LjUxNTE1NDIzXSwgWzQzLjYxMTYxNTEwMjEwNzM3LCAtNzkuNTU1NjUxMTAzODc0MjddLCBbNDMuNTk3MzQ3MDg2NzE1OTQsIC03OS41MjI4NTcwNjk5NjkxOF0sIFs0My42MTc5NCwgLTc5LjUzODc1XSwgWzQzLjYwNzg1MTM1NDc1MjE3LCAtNzkuNTQ4MDYyNjA5ODA2MDVdLCBbNDMuNTk2OTY1NTk4NjM2NTksIC03OS41MjE3NjgzMzIzODMzNV0sIFs0My42MTY1NjgyMzQxNTYwODQsIC03OS41NDUzNDc0OTY1NDAwOV0sIFs0My42MTE1MTYyOTQ4NzA1OSwgLTc5LjU1NTk0MjUzOTM3NzMxXSwgWzQzLjYxMTM3MDM0NjMxMDEyNSwgLTc5LjU1NzI4MDc2Njg4NTM0XSwgWzQzLjYxMTgxMjgzMzc2MjAzLCAtNzkuNTU3MTA4ODc5MDg5MzZdLCBbNDMuNjU5NDkwMzkzNTQyNzcsIC03OS41MTM2MjQ0MTgzNjIzOF0sIFs0My42NDgwODc5ODE1NzU2OSwgLTc5LjUwODU0ODEzMjAwNTk2XSwgWzQzLjY0Nzc1Mjg1OTQwNzE2LCAtNzkuNTA5OTAzNzgxMzY1ODRdLCBbNDMuNjQ2ODI2OTM1MTA3OTI0LCAtNzkuNTE0MDY1NzY0MTk2ODZdLCBbNDMuNjQ0OTE4NTI3MDI4ODEsIC03OS41MjQ3MTEyOTM5ODMwMl0sIFs0My42NTEwMTEwNzg1MDk2MjYsIC03OS40OTMyMjIwOTAyMDM1N10sIFs0My42NDkyOTg4MDQ2ODQ4OCwgLTc5LjUyODU0NTIwNzAxNTRdLCBbNDMuNjYyNDYwOTA2MzUyNDM2LCAtNzkuNTMyMDUzODE0MTYyMzVdLCBbNDMuNjY2NTUzNDE5MjI5NDYsIC03OS40OTkyNDI5NTY3NDQyN10sIFs0My42NTg1MjI3ODc2MDc1NjYsIC03OS40ODgyMzMzNTY0ODE0Ml0sIFs0My42NDc4OTA5OTYwNTU3LCAtNzkuNTA5MzUyNzQ1NjIwMjldLCBbNDMuNjU4MzU0NjUxNDk5NTgsIC03OS40ODgxMzczNjMxMDY4Nl0sIFs0My42NjQ5NDAzNjc2OTA3NzUsIC03OS41MjA0ODQ3OTU2NDQ5XSwgWzQzLjY0NzkxNCwgLTc5LjUwNzcwMV0sIFs0My42NTgzNTkxODEzMDQ3LCAtNzkuNDg3OTcxMDM5Mjk4ODFdLCBbNDMuNjQ1MjE0ODM3MjE3NywgLTc5LjUyMTQxMjQyNjU4OTc1XSwgWzQzLjY0ODg3NywgLTc5LjUwNjM0OF0sIFs0My42NDc3MDgsIC03OS41MTE2MTVdLCBbNDMuNjQ1NTY5MjYzNDY1MjIsIC03OS41MTg1MjAwMjM1MTk5OF0sIFs0My42NjIzNzk5MzE4ODMyNywgLTc5LjUxOTY3MzQ5MDgxNjg2XSwgWzQzLjY0NTQ0Mjg2NDUxMzAzNiwgLTc5LjUyMTgzNjYwMDE1MThdLCBbNDMuNjQ1NDI1LCAtNzkuNTIyNDQxXSwgWzQzLjY0NTM1MjQ3NDUwNzk5NSwgLTc5LjUyMjQzNTAxNDcyODgzXSwgWzQzLjY0NTQxMTI4MjEwNDYwNCwgLTc5LjUyMjYzODE0NTQxNDEzXSwgWzQzLjY0NDk4MTU1MTI2NjEsIC03OS41MjQ3NjI3NTUyOTZdLCBbNDMuNjQ1NDMyNjQ3ODAxMzM2LCAtNzkuNTI1NTc1MjU0NTIzODNdLCBbNDMuNjQ3MjY2OTU1MTUwODQsIC03OS41Mjk4MDc4MTkyNTY1Ml0sIFs0My42NTU5NywgLTc5LjQ4NzM0XSwgWzQzLjY1NTE2MDI5NjczMDczLCAtNzkuNDg2OTcwODk3NzI2MjddLCBbNDMuNjU1NTkyODQ2MDUzNTMsIC03OS40ODcwMjgxMjE5NDgyNF0sIFs0My42Mzg0NjY0ODQ2MDcxODYsIC03OS40NzUyNTc2ODk1MjkwN10sIFs0My42MTg1NDIxMzY1MjEwNjQsIC03OS40OTk0ODQ4MTE0NTQ2NV0sIFs0My42MjQyMDc3NDA0NDIzOCwgLTc5LjQ4NDM1MDMzMzg1OTY4XSwgWzQzLjYxNzU4NTIzNjU3NjEyNiwgLTc5LjQ4NzI5NzU5NDI0NTk0XSwgWzQzLjY0OTU2NTM0MDM2ODEzLCAtNzkuNDg0MDIyNzA2OTQ2MDJdLCBbNDMuNjI3MDM0NjI0ODQ3NjQsIC03OS40NzY3NzU1NDQyNTQzNF0sIFs0My42NDkxMzE1ODQ5NzM0MSwgLTc5LjQ4NDgwMjM3MDcxNDY1XSwgWzQzLjY0OTY0NzM1MTEyMzA1LCAtNzkuNDgzNDM2MzkwNDA5MThdLCBbNDMuNjE3MjYzLCAtNzkuNDg3ODI1XSwgWzQzLjY0OTkwMTY0NDUwNTU5LCAtNzkuNDg0NjEwOTIyODg4MV0sIFs0My42NDk5NDU2MzQxNDcwNywgLTc5LjQ4MjAwOTAyMjc3NjI4XSwgWzQzLjY0OTgwMTg4LCAtNzkuNDgzNjgyNl0sIFs0My42MjU5ODIwODUzODExMiwgLTc5LjUwMzQ5Nzk1NzkxMjJdLCBbNDMuNjQ5NTEzMDUxODE0MzgsIC03OS40ODQwNzAzMzYxMDcyOF0sIFs0My42MjI0NDgsIC03OS40ODI1NV0sIFs0My42MTg5MDQsIC03OS40OTk3MzhdLCBbNDMuNjQ4Nzg1LCAtNzkuNDg1OTRdLCBbNDMuNjQ5NzkzNjAxODk3MDUsIC03OS40ODI2MzQ2NTMxODUyM10sIFs0My42NDk4MjcsIC03OS40ODI2MjJdLCBbNDMuNjE0ODk4ODAxNzk0ODQ0LCAtNzkuNDg4NjA3NTg5NzMyMzhdLCBbNDMuNjQ5NjM1ODAwODczOTksIC03OS40ODM4MzY1NDQ0OTY1MV0sIFs0My42MzM3NzM0MTI4OTg3MiwgLTc5LjUyOTg5NDcxNjI0NzQ3XSwgWzQzLjYxODExNzIxMDQ1OTAyLCAtNzkuNTQ0MTAyMTcyNzQ1ODhdLCBbNDMuNjIyOTIyODU3ODcxNTEsIC03OS41MTA4NjEzMTAxOTk1N10sIFs0My42MTgxNTYsIC03OS41MzQ1NV0sIFs0My42MzEwMDU5MTA0NjkxMywgLTc5LjUxODE3MTY0NTc0MDk2XSwgWzQzLjYxNzM3NDI1MTkwMDI3LCAtNzkuNTQyODYyNTA0NzgyMDJdLCBbNDMuNjM3NTA5MzU1NTEyOTcsIC03OS41MzkyNjA5NzQ2Nzk2NV0sIFs0My42MjkxMDcyLCAtNzkuNTE3NDMwOV0sIFs0My42MTk4NDYsIC03OS41NDk2OV0sIFs0My42MTc5NCwgLTc5LjUzODc1XSwgWzQzLjYyNTk4MjA4NTM4MTEyLCAtNzkuNTAzNDk3OTU3OTEyMl0sIFs0My42MTkzMTkyNTg1OTM4NiwgLTc5LjUzMjM1Njc2NTQ3MzUxXSwgWzQzLjYxNjAyMzcyMDI0MTc1NiwgLTc5LjUyMjgxMzgyNTYyNjg0XSwgWzQzLjYyNDAzNDI3OTgzNDUwNCwgLTc5LjUxNDA3ODgxNTUwOTY4XSwgWzQzLjYzMzg4LCAtNzkuNTMxNjg2XSwgWzQzLjYxNzgyODA2ODIxNDg2LCAtNzkuNTE2MzM1Mzk0MTAwNzVdLCBbNDMuNjM1MzY1NTgyNjI0NjEsIC03OS41MzI1MzI3MDkzMjY3N10sIFs0My42MzU4OTkwNzEyMDE1MywgLTc5LjUyMDUzNDEwNzUxMDhdLCBbNDMuNjM2MDU4MDY5ODM3MDEsIC03OS41MjA1MDE1OTA3MjQzMl0sIFs0My42MzYxNzQsIC03OS41MjA2NTVdLCBbNDMuNjM5MTE0MzIyNjAzODk1LCAtNzkuNTI1NjU1NDUzNzkxNDddLCBbNDMuNjM2MDc1LCAtNzkuNTM5NzQyXSwgWzQzLjYxNjU2ODIzNDE1NjA4NCwgLTc5LjU0NTM0NzQ5NjU0MDA5XSwgWzQzLjYyMDcxODA3MTIyNjQyLCAtNzkuNTQ4ODY4NjQwMTkzODNdLCBbNDMuNjM4ODQyLCAtNzkuNTM4MzE0XSwgWzQzLjY2MjQ2MDkwNjM1MjQzNiwgLTc5LjUzMjA1MzgxNDE2MjM1XSwgWzQzLjY1OTQ5MDM5MzU0Mjc3LCAtNzkuNTEzNjI0NDE4MzYyMzhdLCBbNDMuNjQ5Mjk4ODA0Njg0ODgsIC03OS41Mjg1NDUyMDcwMTU0XSwgWzQzLjY0NDkxODUyNzAyODgxLCAtNzkuNTI0NzExMjkzOTgzMDJdLCBbNDMuNjY0OTQwMzY3NjkwNzc1LCAtNzkuNTIwNDg0Nzk1NjQ0OV0sIFs0My42NjIzNzk5MzE4ODMyNywgLTc5LjUxOTY3MzQ5MDgxNjg2XSwgWzQzLjY0NTIxNDgzNzIxNzcsIC03OS41MjE0MTI0MjY1ODk3NV0sIFs0My42NDcyNjY5NTUxNTA4NCwgLTc5LjUyOTgwNzgxOTI1NjUyXSwgWzQzLjY0NTQzMjY0NzgwMTMzNiwgLTc5LjUyNTU3NTI1NDUyMzgzXSwgWzQzLjY0NTQxMTI4MjEwNDYwNCwgLTc5LjUyMjYzODE0NTQxNDEzXSwgWzQzLjY0NTQyNSwgLTc5LjUyMjQ0MV0sIFs0My42NDUzNTI0NzQ1MDc5OTUsIC03OS41MjI0MzUwMTQ3Mjg4M10sIFs0My42NDU0NDI4NjQ1MTMwMzYsIC03OS41MjE4MzY2MDAxNTE4XSwgWzQzLjY0NDk4MTU1MTI2NjEsIC03OS41MjQ3NjI3NTUyOTZdLCBbNDMuNjQ1MzQwOTMwMzA5MTI1LCAtNzkuNTQ4NDE1MTYxMzI0NjZdLCBbNDMuNjM3NTA5MzU1NTEyOTcsIC03OS41MzkyNjA5NzQ2Nzk2NV0sIFs0My42NDcxMTY0MTk3OTQ5NiwgLTc5LjU2Mjk5MDI4MDA3ODQ0XSwgWzQzLjY0MTgyMDQ3MDk1MzI1NiwgLTc5LjU3NjcyMDY2MzM1ODc0XSwgWzQzLjY1NTk2NTY1OTgwMjgxLCAtNzkuNTY1NTE2MDI4MzE5NzVdLCBbNDMuNjQ1MDY5OTc5Nzc1ODIsIC03OS41NjcwMjI0MjQyODY3OF0sIFs0My42NDIwNjc3LCAtNzkuNTY1NDQ5OV0sIFs0My42MzU0MDc2MjIxOTU1NDQsIC03OS41NjI2MDg2OTA1NjE0XSwgWzQzLjYzNTE0NiwgLTc5LjU2MjExMV0sIFs0My42NDE4NDYsIC03OS41MzYyMjddLCBbNDMuNjM4ODQyLCAtNzkuNTM4MzE0XSwgWzQzLjY0NDE4MDMzNTExNjUzLCAtNzkuNTMyODMyNTI3OTAyOTddLCBbNDMuNjQxODIwNDcwOTUzMjU2LCAtNzkuNTc2NzIwNjYzMzU4NzRdLCBbNDMuNjQ1MDY5OTc5Nzc1ODIsIC03OS41NjcwMjI0MjQyODY3OF0sIFs0My42NDcxMTY0MTk3OTQ5NiwgLTc5LjU2Mjk5MDI4MDA3ODQ0XSwgWzQzLjY0MjA2NzcsIC03OS41NjU0NDk5XSwgWzQzLjY1NTk2NTY1OTgwMjgxLCAtNzkuNTY1NTE2MDI4MzE5NzVdLCBbNDMuNjUzMjg3MDY1OTM1Mzk1LCAtNzkuNjAwNTYyOTQ0MTgwOTFdLCBbNDMuNjUzNzEzMjgzODI4MTEsIC03OS42MDAyMDk2ODk2NTA1MV0sIFs0My42NTg0ODc4MzQwMjU5MiwgLTc5LjU5NzUwNjMxOTQ4MjU5XSwgWzQzLjYzNTQwNzYyMjE5NTU0NCwgLTc5LjU2MjYwODY5MDU2MTRdLCBbNDMuNjM1MTQ2LCAtNzkuNTYyMTExXSwgWzQzLjc1MDI0NTgxMTYxMjc4NSwgLTc5LjU1MjAyNzA1NjE1NzcxXSwgWzQzLjc1MTk2NjQ2NjU1MzA2LCAtNzkuNTQ0MjkxMjYxMDE2OThdLCBbNDMuNzY3ODkwMTAwMTg4OTUsIC03OS41NTgwNzQ3NzI0MzE1N10sIFs0My43NTAyOTYyMzg2NTYzMDQsIC03OS41NTAzMTQ1ODQwMzY4NV0sIFs0My43NjAyMzMyNzgzMDYxMjQsIC03OS41NzE2ODkxNzQxMDEyNF0sIFs0My43NDk5OSwgLTc5LjU1MDM4N10sIFs0My43Njk1NjksIC03OS41NTIxMzhdLCBbNDMuNzUzNjYyLCAtNzkuNTQyNjg5OTY3NzA5NDhdLCBbNDMuNzYxNTgwNDY5MzkwMzQ2LCAtNzkuNTQwMDUwODAwODA5ODJdLCBbNDMuNzY5ODY3LCAtNzkuNTQ3NDA2XSwgWzQzLjc3MDkzODg2OTcwMzgyLCAtNzkuNTQ1MDQ5NjY3MzU4NF0sIFs0My43NDg2NzA1NjUzNzk0NywgLTc5LjU0MjE5MTQ3MTQxMTc4XSwgWzQzLjc3MTMwOTgwNzQwMjczLCAtNzkuNTQxMzEzMjUzNjYxN10sIFs0My43NDM5NzEzODI4NTIxOTUsIC03OS41NjcxMTg4MjAwNjcwMl0sIFs0My43MzgzODk1LCAtNzkuNTM5MzQ2N10sIFs0My43NDg2NzA1NjUzNzk0NywgLTc5LjU0MjE5MTQ3MTQxMTc4XSwgWzQzLjcxODk0NTc5Nzk0MDY5LCAtNzkuNTI1OTIxMTEzNDg1OF0sIFs0My43MTg2NDM0MzU1MjE1MzUsIC03OS41MDc2NTI2NjAwMDc4Ml0sIFs0My43MTE5NDYwNTI3NjcxMDQsIC03OS41MzE1MDk1NzMyMjY1Nl0sIFs0My43MjA0MjAwNTkzODM5OSwgLTc5LjUxMzczNjQ2OTY2MDldLCBbNDMuNzAwNTY1MzM4MTM0NzY2LCAtNzkuNTE3NDAyNjQ4OTI1NzhdLCBbNDMuNzAyMjcsIC03OS41MjMxMDNdLCBbNDMuNzA2MjcsIC03OS41MDQ3OV0sIFs0My43MDMyNTUsIC03OS41MDQxMTRdLCBbNDMuNzExNDEyMTc1MTk5MzQsIC03OS41MzUxMjk5NzM1NTcwOV0sIFs0My42OTc4ODM0ODA2ODY1NSwgLTc5LjUwMjQxMzAxMzM0NjM0XSwgWzQzLjcxNTYwMTcwNDY4MjM2LCAtNzkuNTA2ODU4NDg3NTc4NjVdLCBbNDMuNzE5NzIyMDU2MzE4NjksIC03OS41MTI5NDg5ODk4NjgxNl0sIFs0My43MTg5NDU3OTc5NDA2OSwgLTc5LjUyNTkyMTExMzQ4NThdLCBbNDMuNzExNjMyNjUyMjI5MDIsIC03OS41MzI1Nzk4NTM3NDYwNl0sIFs0My42ODY4MzQ2Mzk4NTgxLCAtNzkuNTI0NDM1NjE2NDAzNzFdLCBbNDMuNzExOTQ2MDUyNzY3MTA0LCAtNzkuNTMxNTA5NTczMjI2NTZdLCBbNDMuNzAyMjcsIC03OS41MjMxMDNdLCBbNDMuNzAwNTY1MzM4MTM0NzY2LCAtNzkuNTE3NDAyNjQ4OTI1NzhdLCBbNDMuNjg2ODcsIC03OS41MjQ0NTRdLCBbNDMuNjg2OTEzODY2OTYzNjM2LCAtNzkuNTI0MTMxNDE2NDQwNjVdLCBbNDMuNzExNDEyMTc1MTk5MzQsIC03OS41MzUxMjk5NzM1NTcwOV0sIFs0My43MTE2MzI2NTIyMjkwMiwgLTc5LjUzMjU3OTg1Mzc0NjA2XSwgWzQzLjY5MzExMTM4MDk3OTg5LCAtNzkuNTU3MjkzOTIyNjE0MTZdLCBbNDMuNzAwOTM5NzQwMzQ1NTc1LCAtNzkuNTYyNDQzMDE3MTQzMjddLCBbNDMuNjkwMzYyOTA2MzQxMjcsIC03OS41NzU5NjQxMzQxNjExOF0sIFs0My42Nzk1MjcwNywgLTc5LjU0NDc3MzA4XSwgWzQzLjY5MDUzNywgLTc5LjU2MTg3OF0sIFs0My42ODM1MDA0NDE0OTY1NywgLTc5LjU2NTU4MTg3NzQyMTgzXSwgWzQzLjY5NDM2NiwgLTc5LjU1NzQzOV0sIFs0My42OTE5Nzc0ODE0NTM2NTUsIC03OS41NzI4MTA1MzA2NjI0OF0sIFs0My42OTIwNjcwOTU1MDYzOSwgLTc5LjU3NjY5ODM5MzU3MDEzXSwgWzQzLjY3OTMwNjI1NDYyMTE5LCAtNzkuNTQ2ODY2NzQwNTAyNV0sIFs0My42OTA2NjUwNTE4Mjk5MjQsIC03OS41NzY0OTg1NDQyNTA3N10sIFs0My42ODk4MTYwMTMyMDUzNywgLTc5LjU3ODIwNDI2ODM1NTE4XSwgWzQzLjc0MzE4NjAxODU5ODgzNCwgLTc5LjU4MjM2NzM4MjE0Nzg0XSwgWzQzLjcyODUzNDc4MTM0ODAyLCAtNzkuNTc0NDA2OTI4MDU4NzVdLCBbNDMuNzM2MjQwOTUzNDM2ODIsIC03OS41NjM1MzEzODcwNzkyMV0sIFs0My43NDM5NzEzODI4NTIxOTUsIC03OS41NjcxMTg4MjAwNjcwMl0sIFs0My43Mzg1NjQzMjg3MDMyNywgLTc5LjU2NTQ5OTU2NjAzNjc2XSwgWzQzLjczNDc4NDk2MTYwNjMzLCAtNzkuNjAxMjg3MDAxODAwMTJdLCBbNDMuNzM0ODkwOTAxNDE4MzUsIC03OS42MDI5MzM3OTk4NDU0Ml0sIFs0My43MzQ3MywgLTc5LjYwNjEyXSwgWzQzLjczMzkzODk3MzE2OTM1LCAtNzkuNjA1NzczODM1NzYwNzddLCBbNDMuNzE2NDkxMzQ3MjI3NSwgLTc5LjU2OTI4ODA4MzA4ODgxXSwgWzQzLjcxMDczNjM0MTk3ODc4LCAtNzkuNTY1ODgwNjc1ODgzMTFdLCBbNDMuNzIxNDM4LCAtNzkuNTk2MjkxXSwgWzQzLjcwMDkzOTc0MDM0NTU3NSwgLTc5LjU2MjQ0MzAxNzE0MzI3XSwgWzQzLjcxODc0ODc1NTUyNjIzLCAtNzkuNTcwNjA2NzE4ODUzMDddLCBbNDMuNzI4NTM0NzgxMzQ4MDIsIC03OS41NzQ0MDY5MjgwNTg3NV0sIFs0My43MTYxNDk3NTY2MTgxMTUsIC03OS41OTM4NDMxOTM4NTA1Ml0sIFs0My43MDQzODU3NjA2Mjc5LCAtNzkuNTYzODAzNzMxNjA1OV0sIFs0My43MjAyODQwNzAwMTY1OCwgLTc5LjYwMDMxMDYxOTcxMDQzXSwgWzQzLjcyMDA5NTUzOTQ5NDg1LCAtNzkuNjAwODE4MTEzMDE1MjFdXSwKICAgICAgICAgICAgICAgIHsiYmx1ciI6IDE1LCAibWF4IjogMS4wLCAibWF4Wm9vbSI6IDE4LCAibWluT3BhY2l0eSI6IDAuNSwgInJhZGl1cyI6IDI1fQogICAgICAgICAgICApLmFkZFRvKG1hcF9lYzRlZDkwMWJiMDk0YjM0YWM4M2JiMzQxM2NjYTU1YSk7CiAgICAgICAgCiAgICAKICAgICAgICAgICAgdmFyIG1hcmtlcl9jMDg2OGFlYTM1Y2U0NGM5OTIyM2UwODJhM2VmZjE1YyA9IEwubWFya2VyKAogICAgICAgICAgICAgICAgWzQzLjcyNTU0MDAwMDAwMDA4LCAtNzkuNDAyMzE5OTk5OTk5OTddLAogICAgICAgICAgICAgICAge30KICAgICAgICAgICAgKS5hZGRUbyhtYXBfZWM0ZWQ5MDFiYjA5NGIzNGFjODNiYjM0MTNjY2E1NWEpOwogICAgICAgIAogICAgCiAgICAgICAgICAgIHZhciBjaXJjbGVfMWJhMTEwYjBmNmRlNDQyMTkxNGE3NmFjOTkwYmQ0N2MgPSBMLmNpcmNsZSgKICAgICAgICAgICAgICAgIFs0My43MjU1NDAwMDAwMDAwOCwgLTc5LjQwMjMxOTk5OTk5OTk3XSwKICAgICAgICAgICAgICAgIHsiYnViYmxpbmdNb3VzZUV2ZW50cyI6IHRydWUsICJjb2xvciI6ICJ3aGl0ZSIsICJkYXNoQXJyYXkiOiBudWxsLCAiZGFzaE9mZnNldCI6IG51bGwsICJmaWxsIjogZmFsc2UsICJmaWxsQ29sb3IiOiAid2hpdGUiLCAiZmlsbE9wYWNpdHkiOiAwLjIsICJmaWxsUnVsZSI6ICJldmVub2RkIiwgImxpbmVDYXAiOiAicm91bmQiLCAibGluZUpvaW4iOiAicm91bmQiLCAib3BhY2l0eSI6IDEuMCwgInJhZGl1cyI6IDEwMDAsICJzdHJva2UiOiB0cnVlLCAid2VpZ2h0IjogM30KICAgICAgICAgICAgKS5hZGRUbyhtYXBfZWM0ZWQ5MDFiYjA5NGIzNGFjODNiYjM0MTNjY2E1NWEpOwogICAgICAgIAogICAgCiAgICAgICAgICAgIHZhciBjaXJjbGVfNDczODkxMmVhNGJiNGQyNWJjOGIzOWMyMGFjY2VmOWUgPSBMLmNpcmNsZSgKICAgICAgICAgICAgICAgIFs0My43MjU1NDAwMDAwMDAwOCwgLTc5LjQwMjMxOTk5OTk5OTk3XSwKICAgICAgICAgICAgICAgIHsiYnViYmxpbmdNb3VzZUV2ZW50cyI6IHRydWUsICJjb2xvciI6ICJ3aGl0ZSIsICJkYXNoQXJyYXkiOiBudWxsLCAiZGFzaE9mZnNldCI6IG51bGwsICJmaWxsIjogZmFsc2UsICJmaWxsQ29sb3IiOiAid2hpdGUiLCAiZmlsbE9wYWNpdHkiOiAwLjIsICJmaWxsUnVsZSI6ICJldmVub2RkIiwgImxpbmVDYXAiOiAicm91bmQiLCAibGluZUpvaW4iOiAicm91bmQiLCAib3BhY2l0eSI6IDEuMCwgInJhZGl1cyI6IDIwMDAsICJzdHJva2UiOiB0cnVlLCAid2VpZ2h0IjogM30KICAgICAgICAgICAgKS5hZGRUbyhtYXBfZWM0ZWQ5MDFiYjA5NGIzNGFjODNiYjM0MTNjY2E1NWEpOwogICAgICAgIAogICAgCiAgICAgICAgICAgIHZhciBjaXJjbGVfNGE1NGNmNzBiZjhjNDYxMjkyMzgzNTJhZWMwODgxNzMgPSBMLmNpcmNsZSgKICAgICAgICAgICAgICAgIFs0My43MjU1NDAwMDAwMDAwOCwgLTc5LjQwMjMxOTk5OTk5OTk3XSwKICAgICAgICAgICAgICAgIHsiYnViYmxpbmdNb3VzZUV2ZW50cyI6IHRydWUsICJjb2xvciI6ICJ3aGl0ZSIsICJkYXNoQXJyYXkiOiBudWxsLCAiZGFzaE9mZnNldCI6IG51bGwsICJmaWxsIjogZmFsc2UsICJmaWxsQ29sb3IiOiAid2hpdGUiLCAiZmlsbE9wYWNpdHkiOiAwLjIsICJmaWxsUnVsZSI6ICJldmVub2RkIiwgImxpbmVDYXAiOiAicm91bmQiLCAibGluZUpvaW4iOiAicm91bmQiLCAib3BhY2l0eSI6IDEuMCwgInJhZGl1cyI6IDMwMDAsICJzdHJva2UiOiB0cnVlLCAid2VpZ2h0IjogM30KICAgICAgICAgICAgKS5hZGRUbyhtYXBfZWM0ZWQ5MDFiYjA5NGIzNGFjODNiYjM0MTNjY2E1NWEpOwogICAgICAgIAo8L3NjcmlwdD4=\" style=\"position:absolute;width:100%;height:100%;left:0;top:0;border:none !important;\" allowfullscreen webkitallowfullscreen mozallowfullscreen></iframe></div></div>"
      ],
      "text/plain": [
       "<folium.folium.Map at 0x1e23cfc5080>"
      ]
     },
     "execution_count": 97,
     "metadata": {},
     "output_type": "execute_result"
    }
   ],
   "source": [
    "breakfast_latlons = toronto_restaurants[['Venue Latitude', 'Venue Longitude']].values\n",
    "\n",
    "map_toronto = folium.Map(location=center, zoom_start=11)\n",
    "folium.TileLayer('cartodbpositron').add_to(map_toronto) \n",
    "HeatMap(breakfast_latlons).add_to(map_toronto)\n",
    "folium.Marker(center).add_to(map_toronto)\n",
    "folium.Circle(center, radius=1000, fill=False, color='white').add_to(map_toronto)\n",
    "folium.Circle(center, radius=2000, fill=False, color='white').add_to(map_toronto)\n",
    "folium.Circle(center, radius=3000, fill=False, color='white').add_to(map_toronto)\n",
    "map_toronto"
   ]
  },
  {
   "cell_type": "markdown",
   "metadata": {},
   "source": [
    "#### We can see that there is a higher density of breakfast restaurants south of the center of Toronto. There is a lower density to the west and north however, indicating that there might be an unmet breakfast demand in these areas"
   ]
  },
  {
   "cell_type": "markdown",
   "metadata": {},
   "source": [
    "#### Restaurants seem to be located in Downtown Toronto and this is likely because of the amount of traffic in this location\n",
    "### Let us now look at traffic data"
   ]
  },
  {
   "cell_type": "markdown",
   "metadata": {},
   "source": [
    "![Traffic](Traffic.png)"
   ]
  },
  {
   "cell_type": "code",
   "execution_count": 106,
   "metadata": {},
   "outputs": [
    {
     "name": "stdout",
     "output_type": "stream",
     "text": [
      "(2280, 11)\n"
     ]
    },
    {
     "data": {
      "text/html": [
       "<div>\n",
       "<style scoped>\n",
       "    .dataframe tbody tr th:only-of-type {\n",
       "        vertical-align: middle;\n",
       "    }\n",
       "\n",
       "    .dataframe tbody tr th {\n",
       "        vertical-align: top;\n",
       "    }\n",
       "\n",
       "    .dataframe thead th {\n",
       "        text-align: right;\n",
       "    }\n",
       "</style>\n",
       "<table border=\"1\" class=\"dataframe\">\n",
       "  <thead>\n",
       "    <tr style=\"text-align: right;\">\n",
       "      <th></th>\n",
       "      <th>TCS #</th>\n",
       "      <th>Main</th>\n",
       "      <th>Midblock Route</th>\n",
       "      <th>Side 1 Route</th>\n",
       "      <th>Side 2 Route</th>\n",
       "      <th>Activation Date</th>\n",
       "      <th>Latitude</th>\n",
       "      <th>Longitude</th>\n",
       "      <th>Count Date</th>\n",
       "      <th>8 Peak Hr Vehicle Volume</th>\n",
       "      <th>8 Peak Hr Pedestrian Volume</th>\n",
       "    </tr>\n",
       "  </thead>\n",
       "  <tbody>\n",
       "    <tr>\n",
       "      <th>0</th>\n",
       "      <td>2</td>\n",
       "      <td>JARVIS ST</td>\n",
       "      <td>NaN</td>\n",
       "      <td>FRONT ST E</td>\n",
       "      <td>NaN</td>\n",
       "      <td>11/15/1948</td>\n",
       "      <td>43.649418</td>\n",
       "      <td>-79.371446</td>\n",
       "      <td>2017-06-21</td>\n",
       "      <td>15662</td>\n",
       "      <td>13535</td>\n",
       "    </tr>\n",
       "    <tr>\n",
       "      <th>1</th>\n",
       "      <td>3</td>\n",
       "      <td>KING ST E</td>\n",
       "      <td>NaN</td>\n",
       "      <td>JARVIS ST</td>\n",
       "      <td>NaN</td>\n",
       "      <td>08/23/1950</td>\n",
       "      <td>43.650461</td>\n",
       "      <td>-79.371924</td>\n",
       "      <td>2016-09-17</td>\n",
       "      <td>12960</td>\n",
       "      <td>7333</td>\n",
       "    </tr>\n",
       "    <tr>\n",
       "      <th>2</th>\n",
       "      <td>4</td>\n",
       "      <td>JARVIS ST</td>\n",
       "      <td>NaN</td>\n",
       "      <td>ADELAIDE ST E</td>\n",
       "      <td>NaN</td>\n",
       "      <td>09/12/1958</td>\n",
       "      <td>43.651534</td>\n",
       "      <td>-79.372360</td>\n",
       "      <td>2016-11-08</td>\n",
       "      <td>17770</td>\n",
       "      <td>7083</td>\n",
       "    </tr>\n",
       "    <tr>\n",
       "      <th>3</th>\n",
       "      <td>5</td>\n",
       "      <td>JARVIS ST</td>\n",
       "      <td>NaN</td>\n",
       "      <td>RICHMOND ST E</td>\n",
       "      <td>NaN</td>\n",
       "      <td>04/21/1962</td>\n",
       "      <td>43.652718</td>\n",
       "      <td>-79.372824</td>\n",
       "      <td>2015-12-08</td>\n",
       "      <td>19678</td>\n",
       "      <td>4369</td>\n",
       "    </tr>\n",
       "    <tr>\n",
       "      <th>4</th>\n",
       "      <td>6</td>\n",
       "      <td>JARVIS ST</td>\n",
       "      <td>NaN</td>\n",
       "      <td>QUEEN ST E</td>\n",
       "      <td>NaN</td>\n",
       "      <td>08/24/1928</td>\n",
       "      <td>43.653704</td>\n",
       "      <td>-79.373238</td>\n",
       "      <td>2016-09-17</td>\n",
       "      <td>14487</td>\n",
       "      <td>3368</td>\n",
       "    </tr>\n",
       "  </tbody>\n",
       "</table>\n",
       "</div>"
      ],
      "text/plain": [
       "   TCS #       Main Midblock Route   Side 1 Route Side 2 Route  \\\n",
       "0      2  JARVIS ST            NaN     FRONT ST E          NaN   \n",
       "1      3  KING ST E            NaN      JARVIS ST          NaN   \n",
       "2      4  JARVIS ST            NaN  ADELAIDE ST E          NaN   \n",
       "3      5  JARVIS ST            NaN  RICHMOND ST E          NaN   \n",
       "4      6  JARVIS ST            NaN     QUEEN ST E          NaN   \n",
       "\n",
       "  Activation Date   Latitude  Longitude Count Date  8 Peak Hr Vehicle Volume  \\\n",
       "0      11/15/1948  43.649418 -79.371446 2017-06-21                     15662   \n",
       "1      08/23/1950  43.650461 -79.371924 2016-09-17                     12960   \n",
       "2      09/12/1958  43.651534 -79.372360 2016-11-08                     17770   \n",
       "3      04/21/1962  43.652718 -79.372824 2015-12-08                     19678   \n",
       "4      08/24/1928  43.653704 -79.373238 2016-09-17                     14487   \n",
       "\n",
       "   8 Peak Hr Pedestrian Volume  \n",
       "0                        13535  \n",
       "1                         7333  \n",
       "2                         7083  \n",
       "3                         4369  \n",
       "4                         3368  "
      ]
     },
     "execution_count": 106,
     "metadata": {},
     "output_type": "execute_result"
    }
   ],
   "source": [
    "traffic_data = pd.read_excel('traffic-signal-vehicle-and-pedestrian-volumes-data.xlsx', sheet_name=0)\n",
    "print(traffic_data.shape)\n",
    "traffic_data.head()"
   ]
  },
  {
   "cell_type": "markdown",
   "metadata": {},
   "source": [
    "#### We will sum the `8 Peak Hr Vehicle Volume` and `8 Peak Hr Pedestrian Volume` columns into one column `Volume`"
   ]
  },
  {
   "cell_type": "code",
   "execution_count": 107,
   "metadata": {},
   "outputs": [
    {
     "data": {
      "text/html": [
       "<div>\n",
       "<style scoped>\n",
       "    .dataframe tbody tr th:only-of-type {\n",
       "        vertical-align: middle;\n",
       "    }\n",
       "\n",
       "    .dataframe tbody tr th {\n",
       "        vertical-align: top;\n",
       "    }\n",
       "\n",
       "    .dataframe thead th {\n",
       "        text-align: right;\n",
       "    }\n",
       "</style>\n",
       "<table border=\"1\" class=\"dataframe\">\n",
       "  <thead>\n",
       "    <tr style=\"text-align: right;\">\n",
       "      <th></th>\n",
       "      <th>TCS #</th>\n",
       "      <th>Main</th>\n",
       "      <th>Midblock Route</th>\n",
       "      <th>Side 1 Route</th>\n",
       "      <th>Side 2 Route</th>\n",
       "      <th>Activation Date</th>\n",
       "      <th>Latitude</th>\n",
       "      <th>Longitude</th>\n",
       "      <th>Count Date</th>\n",
       "      <th>8 Peak Hr Vehicle Volume</th>\n",
       "      <th>8 Peak Hr Pedestrian Volume</th>\n",
       "      <th>Volume</th>\n",
       "    </tr>\n",
       "  </thead>\n",
       "  <tbody>\n",
       "    <tr>\n",
       "      <th>0</th>\n",
       "      <td>2</td>\n",
       "      <td>JARVIS ST</td>\n",
       "      <td>NaN</td>\n",
       "      <td>FRONT ST E</td>\n",
       "      <td>NaN</td>\n",
       "      <td>11/15/1948</td>\n",
       "      <td>43.649418</td>\n",
       "      <td>-79.371446</td>\n",
       "      <td>2017-06-21</td>\n",
       "      <td>15662</td>\n",
       "      <td>13535</td>\n",
       "      <td>29197</td>\n",
       "    </tr>\n",
       "    <tr>\n",
       "      <th>1</th>\n",
       "      <td>3</td>\n",
       "      <td>KING ST E</td>\n",
       "      <td>NaN</td>\n",
       "      <td>JARVIS ST</td>\n",
       "      <td>NaN</td>\n",
       "      <td>08/23/1950</td>\n",
       "      <td>43.650461</td>\n",
       "      <td>-79.371924</td>\n",
       "      <td>2016-09-17</td>\n",
       "      <td>12960</td>\n",
       "      <td>7333</td>\n",
       "      <td>20293</td>\n",
       "    </tr>\n",
       "    <tr>\n",
       "      <th>2</th>\n",
       "      <td>4</td>\n",
       "      <td>JARVIS ST</td>\n",
       "      <td>NaN</td>\n",
       "      <td>ADELAIDE ST E</td>\n",
       "      <td>NaN</td>\n",
       "      <td>09/12/1958</td>\n",
       "      <td>43.651534</td>\n",
       "      <td>-79.372360</td>\n",
       "      <td>2016-11-08</td>\n",
       "      <td>17770</td>\n",
       "      <td>7083</td>\n",
       "      <td>24853</td>\n",
       "    </tr>\n",
       "    <tr>\n",
       "      <th>3</th>\n",
       "      <td>5</td>\n",
       "      <td>JARVIS ST</td>\n",
       "      <td>NaN</td>\n",
       "      <td>RICHMOND ST E</td>\n",
       "      <td>NaN</td>\n",
       "      <td>04/21/1962</td>\n",
       "      <td>43.652718</td>\n",
       "      <td>-79.372824</td>\n",
       "      <td>2015-12-08</td>\n",
       "      <td>19678</td>\n",
       "      <td>4369</td>\n",
       "      <td>24047</td>\n",
       "    </tr>\n",
       "    <tr>\n",
       "      <th>4</th>\n",
       "      <td>6</td>\n",
       "      <td>JARVIS ST</td>\n",
       "      <td>NaN</td>\n",
       "      <td>QUEEN ST E</td>\n",
       "      <td>NaN</td>\n",
       "      <td>08/24/1928</td>\n",
       "      <td>43.653704</td>\n",
       "      <td>-79.373238</td>\n",
       "      <td>2016-09-17</td>\n",
       "      <td>14487</td>\n",
       "      <td>3368</td>\n",
       "      <td>17855</td>\n",
       "    </tr>\n",
       "  </tbody>\n",
       "</table>\n",
       "</div>"
      ],
      "text/plain": [
       "   TCS #       Main Midblock Route   Side 1 Route Side 2 Route  \\\n",
       "0      2  JARVIS ST            NaN     FRONT ST E          NaN   \n",
       "1      3  KING ST E            NaN      JARVIS ST          NaN   \n",
       "2      4  JARVIS ST            NaN  ADELAIDE ST E          NaN   \n",
       "3      5  JARVIS ST            NaN  RICHMOND ST E          NaN   \n",
       "4      6  JARVIS ST            NaN     QUEEN ST E          NaN   \n",
       "\n",
       "  Activation Date   Latitude  Longitude Count Date  8 Peak Hr Vehicle Volume  \\\n",
       "0      11/15/1948  43.649418 -79.371446 2017-06-21                     15662   \n",
       "1      08/23/1950  43.650461 -79.371924 2016-09-17                     12960   \n",
       "2      09/12/1958  43.651534 -79.372360 2016-11-08                     17770   \n",
       "3      04/21/1962  43.652718 -79.372824 2015-12-08                     19678   \n",
       "4      08/24/1928  43.653704 -79.373238 2016-09-17                     14487   \n",
       "\n",
       "   8 Peak Hr Pedestrian Volume  Volume  \n",
       "0                        13535   29197  \n",
       "1                         7333   20293  \n",
       "2                         7083   24853  \n",
       "3                         4369   24047  \n",
       "4                         3368   17855  "
      ]
     },
     "execution_count": 107,
     "metadata": {},
     "output_type": "execute_result"
    }
   ],
   "source": [
    "traffic_data['Volume'] = traffic_data['8 Peak Hr Vehicle Volume'].fillna(0) + traffic_data['8 Peak Hr Pedestrian Volume'].fillna(0)\n",
    "traffic_data.head()"
   ]
  },
  {
   "cell_type": "markdown",
   "metadata": {},
   "source": [
    "#### In determining the overall street traffic volume near a neighbourhood, we can use scikit-learn's [Radius Neighbours Regressor (RNR)](https://scikit-learn.org/stable/modules/generated/sklearn.neighbors.RadiusNeighborsRegressor.html) using a training set and test set to build a map of traffic volume based on how busy the nearest roads are"
   ]
  },
  {
   "cell_type": "code",
   "execution_count": 121,
   "metadata": {},
   "outputs": [],
   "source": [
    "from sklearn.neighbors import RadiusNeighborsRegressor\n",
    "from sklearn.model_selection import train_test_split\n",
    "import plotly.graph_objs as go\n",
    "import plotly.offline as py"
   ]
  },
  {
   "cell_type": "code",
   "execution_count": 152,
   "metadata": {},
   "outputs": [],
   "source": [
    "traffic_X = traffic_data[['Longitude', 'Latitude']].values\n",
    "traffic_y = traffic_data['Volume'].values\n",
    "\n",
    "scores = [] # to track the scores of each of the 100 RNRs\n",
    "\n",
    "for rad in range(100, 5100, 100): # radius values from 100 m to 5000 m in 100 m increments\n",
    "    radius = rad / 111111 # rad divided by 111111 m/degree to convert to lat/lon\n",
    "    traffic_X_train, traffic_X_test, traffic_y_train, traffic_y_test = train_test_split(traffic_X, traffic_y, test_size=0.4, random_state=100)\n",
    "    traffic_neigh = RadiusNeighborsRegressor(radius=radius)\n",
    "    traffic_neigh.fit(traffic_X_train, traffic_y_train)\n",
    "    scores.append(traffic_neigh.score(traffic_X_test, traffic_y_test))"
   ]
  },
  {
   "cell_type": "markdown",
   "metadata": {},
   "source": [
    "#### Plot of the scores"
   ]
  },
  {
   "cell_type": "code",
   "execution_count": 153,
   "metadata": {},
   "outputs": [
    {
     "data": {
      "application/vnd.plotly.v1+json": {
       "config": {
        "linkText": "Export to plot.ly",
        "plotlyServerURL": "https://plot.ly",
        "showLink": false
       },
       "data": [
        {
         "type": "scatter",
         "x": [
          100,
          200,
          300,
          400,
          500,
          600,
          700,
          800,
          900,
          1000,
          1100,
          1200,
          1300,
          1400,
          1500,
          1600,
          1700,
          1800,
          1900,
          2000,
          2100,
          2200,
          2300,
          2400,
          2500,
          2600,
          2700,
          2800,
          2900,
          3000,
          3100,
          3200,
          3300,
          3400,
          3500,
          3600,
          3700,
          3800,
          3900,
          4000,
          4100,
          4200,
          4300,
          4400,
          4500,
          4600,
          4700,
          4800,
          4900,
          5000
         ],
         "y": [
          -1.3237702460883797e+30,
          -1.1423917814309664e+30,
          -7.75246663455073e+29,
          -4.95865318700509e+29,
          -3.20337772257851e+29,
          -2.0185667840905674e+29,
          -1.3018293027830471e+29,
          -7.75246663455073e+28,
          -4.534461616435332e+28,
          -2.63291319663987e+28,
          -1.7552754644265795e+28,
          -7.31364776844408e+27,
          -4.388188661066444e+27,
          -4.388188661066444e+27,
          -2.925459107377627e+27,
          -2.925459107377627e+27,
          -1.4627295536888145e+27,
          0.07644105725257289,
          0.07050868345178407,
          0.06991005410297124,
          0.081397383742838,
          0.08461690409735922,
          0.08416982247744385,
          0.08100516209505948,
          0.07334366249066604,
          0.07595045553251477,
          0.07996852629119566,
          0.08566896473330354,
          0.08144162994500903,
          0.07832966013314036,
          0.07675623241281493,
          0.07461690876159921,
          0.07448470372789595,
          0.07269045188490841,
          0.07009195586948358,
          0.06637634467989184,
          0.064159748421446,
          0.063610256244226,
          0.05909472394251758,
          0.060384010358038975,
          0.05996073245960243,
          0.060056066305025135,
          0.059052350005160514,
          0.0600414854155491,
          0.057940510370360965,
          0.05993372092084959,
          0.05653532052767274,
          0.056786970647275004,
          0.057133766493591476,
          0.05605181820682348
         ]
        }
       ],
       "layout": {
        "template": {
         "data": {
          "bar": [
           {
            "error_x": {
             "color": "#2a3f5f"
            },
            "error_y": {
             "color": "#2a3f5f"
            },
            "marker": {
             "line": {
              "color": "#E5ECF6",
              "width": 0.5
             }
            },
            "type": "bar"
           }
          ],
          "barpolar": [
           {
            "marker": {
             "line": {
              "color": "#E5ECF6",
              "width": 0.5
             }
            },
            "type": "barpolar"
           }
          ],
          "carpet": [
           {
            "aaxis": {
             "endlinecolor": "#2a3f5f",
             "gridcolor": "white",
             "linecolor": "white",
             "minorgridcolor": "white",
             "startlinecolor": "#2a3f5f"
            },
            "baxis": {
             "endlinecolor": "#2a3f5f",
             "gridcolor": "white",
             "linecolor": "white",
             "minorgridcolor": "white",
             "startlinecolor": "#2a3f5f"
            },
            "type": "carpet"
           }
          ],
          "choropleth": [
           {
            "colorbar": {
             "outlinewidth": 0,
             "ticks": ""
            },
            "type": "choropleth"
           }
          ],
          "contour": [
           {
            "colorbar": {
             "outlinewidth": 0,
             "ticks": ""
            },
            "colorscale": [
             [
              0,
              "#0d0887"
             ],
             [
              0.1111111111111111,
              "#46039f"
             ],
             [
              0.2222222222222222,
              "#7201a8"
             ],
             [
              0.3333333333333333,
              "#9c179e"
             ],
             [
              0.4444444444444444,
              "#bd3786"
             ],
             [
              0.5555555555555556,
              "#d8576b"
             ],
             [
              0.6666666666666666,
              "#ed7953"
             ],
             [
              0.7777777777777778,
              "#fb9f3a"
             ],
             [
              0.8888888888888888,
              "#fdca26"
             ],
             [
              1,
              "#f0f921"
             ]
            ],
            "type": "contour"
           }
          ],
          "contourcarpet": [
           {
            "colorbar": {
             "outlinewidth": 0,
             "ticks": ""
            },
            "type": "contourcarpet"
           }
          ],
          "heatmap": [
           {
            "colorbar": {
             "outlinewidth": 0,
             "ticks": ""
            },
            "colorscale": [
             [
              0,
              "#0d0887"
             ],
             [
              0.1111111111111111,
              "#46039f"
             ],
             [
              0.2222222222222222,
              "#7201a8"
             ],
             [
              0.3333333333333333,
              "#9c179e"
             ],
             [
              0.4444444444444444,
              "#bd3786"
             ],
             [
              0.5555555555555556,
              "#d8576b"
             ],
             [
              0.6666666666666666,
              "#ed7953"
             ],
             [
              0.7777777777777778,
              "#fb9f3a"
             ],
             [
              0.8888888888888888,
              "#fdca26"
             ],
             [
              1,
              "#f0f921"
             ]
            ],
            "type": "heatmap"
           }
          ],
          "heatmapgl": [
           {
            "colorbar": {
             "outlinewidth": 0,
             "ticks": ""
            },
            "colorscale": [
             [
              0,
              "#0d0887"
             ],
             [
              0.1111111111111111,
              "#46039f"
             ],
             [
              0.2222222222222222,
              "#7201a8"
             ],
             [
              0.3333333333333333,
              "#9c179e"
             ],
             [
              0.4444444444444444,
              "#bd3786"
             ],
             [
              0.5555555555555556,
              "#d8576b"
             ],
             [
              0.6666666666666666,
              "#ed7953"
             ],
             [
              0.7777777777777778,
              "#fb9f3a"
             ],
             [
              0.8888888888888888,
              "#fdca26"
             ],
             [
              1,
              "#f0f921"
             ]
            ],
            "type": "heatmapgl"
           }
          ],
          "histogram": [
           {
            "marker": {
             "colorbar": {
              "outlinewidth": 0,
              "ticks": ""
             }
            },
            "type": "histogram"
           }
          ],
          "histogram2d": [
           {
            "colorbar": {
             "outlinewidth": 0,
             "ticks": ""
            },
            "colorscale": [
             [
              0,
              "#0d0887"
             ],
             [
              0.1111111111111111,
              "#46039f"
             ],
             [
              0.2222222222222222,
              "#7201a8"
             ],
             [
              0.3333333333333333,
              "#9c179e"
             ],
             [
              0.4444444444444444,
              "#bd3786"
             ],
             [
              0.5555555555555556,
              "#d8576b"
             ],
             [
              0.6666666666666666,
              "#ed7953"
             ],
             [
              0.7777777777777778,
              "#fb9f3a"
             ],
             [
              0.8888888888888888,
              "#fdca26"
             ],
             [
              1,
              "#f0f921"
             ]
            ],
            "type": "histogram2d"
           }
          ],
          "histogram2dcontour": [
           {
            "colorbar": {
             "outlinewidth": 0,
             "ticks": ""
            },
            "colorscale": [
             [
              0,
              "#0d0887"
             ],
             [
              0.1111111111111111,
              "#46039f"
             ],
             [
              0.2222222222222222,
              "#7201a8"
             ],
             [
              0.3333333333333333,
              "#9c179e"
             ],
             [
              0.4444444444444444,
              "#bd3786"
             ],
             [
              0.5555555555555556,
              "#d8576b"
             ],
             [
              0.6666666666666666,
              "#ed7953"
             ],
             [
              0.7777777777777778,
              "#fb9f3a"
             ],
             [
              0.8888888888888888,
              "#fdca26"
             ],
             [
              1,
              "#f0f921"
             ]
            ],
            "type": "histogram2dcontour"
           }
          ],
          "mesh3d": [
           {
            "colorbar": {
             "outlinewidth": 0,
             "ticks": ""
            },
            "type": "mesh3d"
           }
          ],
          "parcoords": [
           {
            "line": {
             "colorbar": {
              "outlinewidth": 0,
              "ticks": ""
             }
            },
            "type": "parcoords"
           }
          ],
          "pie": [
           {
            "automargin": true,
            "type": "pie"
           }
          ],
          "scatter": [
           {
            "marker": {
             "colorbar": {
              "outlinewidth": 0,
              "ticks": ""
             }
            },
            "type": "scatter"
           }
          ],
          "scatter3d": [
           {
            "line": {
             "colorbar": {
              "outlinewidth": 0,
              "ticks": ""
             }
            },
            "marker": {
             "colorbar": {
              "outlinewidth": 0,
              "ticks": ""
             }
            },
            "type": "scatter3d"
           }
          ],
          "scattercarpet": [
           {
            "marker": {
             "colorbar": {
              "outlinewidth": 0,
              "ticks": ""
             }
            },
            "type": "scattercarpet"
           }
          ],
          "scattergeo": [
           {
            "marker": {
             "colorbar": {
              "outlinewidth": 0,
              "ticks": ""
             }
            },
            "type": "scattergeo"
           }
          ],
          "scattergl": [
           {
            "marker": {
             "colorbar": {
              "outlinewidth": 0,
              "ticks": ""
             }
            },
            "type": "scattergl"
           }
          ],
          "scattermapbox": [
           {
            "marker": {
             "colorbar": {
              "outlinewidth": 0,
              "ticks": ""
             }
            },
            "type": "scattermapbox"
           }
          ],
          "scatterpolar": [
           {
            "marker": {
             "colorbar": {
              "outlinewidth": 0,
              "ticks": ""
             }
            },
            "type": "scatterpolar"
           }
          ],
          "scatterpolargl": [
           {
            "marker": {
             "colorbar": {
              "outlinewidth": 0,
              "ticks": ""
             }
            },
            "type": "scatterpolargl"
           }
          ],
          "scatterternary": [
           {
            "marker": {
             "colorbar": {
              "outlinewidth": 0,
              "ticks": ""
             }
            },
            "type": "scatterternary"
           }
          ],
          "surface": [
           {
            "colorbar": {
             "outlinewidth": 0,
             "ticks": ""
            },
            "colorscale": [
             [
              0,
              "#0d0887"
             ],
             [
              0.1111111111111111,
              "#46039f"
             ],
             [
              0.2222222222222222,
              "#7201a8"
             ],
             [
              0.3333333333333333,
              "#9c179e"
             ],
             [
              0.4444444444444444,
              "#bd3786"
             ],
             [
              0.5555555555555556,
              "#d8576b"
             ],
             [
              0.6666666666666666,
              "#ed7953"
             ],
             [
              0.7777777777777778,
              "#fb9f3a"
             ],
             [
              0.8888888888888888,
              "#fdca26"
             ],
             [
              1,
              "#f0f921"
             ]
            ],
            "type": "surface"
           }
          ],
          "table": [
           {
            "cells": {
             "fill": {
              "color": "#EBF0F8"
             },
             "line": {
              "color": "white"
             }
            },
            "header": {
             "fill": {
              "color": "#C8D4E3"
             },
             "line": {
              "color": "white"
             }
            },
            "type": "table"
           }
          ]
         },
         "layout": {
          "annotationdefaults": {
           "arrowcolor": "#2a3f5f",
           "arrowhead": 0,
           "arrowwidth": 1
          },
          "coloraxis": {
           "colorbar": {
            "outlinewidth": 0,
            "ticks": ""
           }
          },
          "colorscale": {
           "diverging": [
            [
             0,
             "#8e0152"
            ],
            [
             0.1,
             "#c51b7d"
            ],
            [
             0.2,
             "#de77ae"
            ],
            [
             0.3,
             "#f1b6da"
            ],
            [
             0.4,
             "#fde0ef"
            ],
            [
             0.5,
             "#f7f7f7"
            ],
            [
             0.6,
             "#e6f5d0"
            ],
            [
             0.7,
             "#b8e186"
            ],
            [
             0.8,
             "#7fbc41"
            ],
            [
             0.9,
             "#4d9221"
            ],
            [
             1,
             "#276419"
            ]
           ],
           "sequential": [
            [
             0,
             "#0d0887"
            ],
            [
             0.1111111111111111,
             "#46039f"
            ],
            [
             0.2222222222222222,
             "#7201a8"
            ],
            [
             0.3333333333333333,
             "#9c179e"
            ],
            [
             0.4444444444444444,
             "#bd3786"
            ],
            [
             0.5555555555555556,
             "#d8576b"
            ],
            [
             0.6666666666666666,
             "#ed7953"
            ],
            [
             0.7777777777777778,
             "#fb9f3a"
            ],
            [
             0.8888888888888888,
             "#fdca26"
            ],
            [
             1,
             "#f0f921"
            ]
           ],
           "sequentialminus": [
            [
             0,
             "#0d0887"
            ],
            [
             0.1111111111111111,
             "#46039f"
            ],
            [
             0.2222222222222222,
             "#7201a8"
            ],
            [
             0.3333333333333333,
             "#9c179e"
            ],
            [
             0.4444444444444444,
             "#bd3786"
            ],
            [
             0.5555555555555556,
             "#d8576b"
            ],
            [
             0.6666666666666666,
             "#ed7953"
            ],
            [
             0.7777777777777778,
             "#fb9f3a"
            ],
            [
             0.8888888888888888,
             "#fdca26"
            ],
            [
             1,
             "#f0f921"
            ]
           ]
          },
          "colorway": [
           "#636efa",
           "#EF553B",
           "#00cc96",
           "#ab63fa",
           "#FFA15A",
           "#19d3f3",
           "#FF6692",
           "#B6E880",
           "#FF97FF",
           "#FECB52"
          ],
          "font": {
           "color": "#2a3f5f"
          },
          "geo": {
           "bgcolor": "white",
           "lakecolor": "white",
           "landcolor": "#E5ECF6",
           "showlakes": true,
           "showland": true,
           "subunitcolor": "white"
          },
          "hoverlabel": {
           "align": "left"
          },
          "hovermode": "closest",
          "mapbox": {
           "style": "light"
          },
          "paper_bgcolor": "white",
          "plot_bgcolor": "#E5ECF6",
          "polar": {
           "angularaxis": {
            "gridcolor": "white",
            "linecolor": "white",
            "ticks": ""
           },
           "bgcolor": "#E5ECF6",
           "radialaxis": {
            "gridcolor": "white",
            "linecolor": "white",
            "ticks": ""
           }
          },
          "scene": {
           "xaxis": {
            "backgroundcolor": "#E5ECF6",
            "gridcolor": "white",
            "gridwidth": 2,
            "linecolor": "white",
            "showbackground": true,
            "ticks": "",
            "zerolinecolor": "white"
           },
           "yaxis": {
            "backgroundcolor": "#E5ECF6",
            "gridcolor": "white",
            "gridwidth": 2,
            "linecolor": "white",
            "showbackground": true,
            "ticks": "",
            "zerolinecolor": "white"
           },
           "zaxis": {
            "backgroundcolor": "#E5ECF6",
            "gridcolor": "white",
            "gridwidth": 2,
            "linecolor": "white",
            "showbackground": true,
            "ticks": "",
            "zerolinecolor": "white"
           }
          },
          "shapedefaults": {
           "line": {
            "color": "#2a3f5f"
           }
          },
          "ternary": {
           "aaxis": {
            "gridcolor": "white",
            "linecolor": "white",
            "ticks": ""
           },
           "baxis": {
            "gridcolor": "white",
            "linecolor": "white",
            "ticks": ""
           },
           "bgcolor": "#E5ECF6",
           "caxis": {
            "gridcolor": "white",
            "linecolor": "white",
            "ticks": ""
           }
          },
          "title": {
           "x": 0.05
          },
          "xaxis": {
           "automargin": true,
           "gridcolor": "white",
           "linecolor": "white",
           "ticks": "",
           "title": {
            "standoff": 15
           },
           "zerolinecolor": "white",
           "zerolinewidth": 2
          },
          "yaxis": {
           "automargin": true,
           "gridcolor": "white",
           "linecolor": "white",
           "ticks": "",
           "title": {
            "standoff": 15
           },
           "zerolinecolor": "white",
           "zerolinewidth": 2
          }
         }
        }
       }
      },
      "text/html": [
       "<div>\n",
       "        \n",
       "        \n",
       "            <div id=\"758b0859-da37-4a62-acf1-ed5dfbcae6c8\" class=\"plotly-graph-div\" style=\"height:525px; width:100%;\"></div>\n",
       "            <script type=\"text/javascript\">\n",
       "                require([\"plotly\"], function(Plotly) {\n",
       "                    window.PLOTLYENV=window.PLOTLYENV || {};\n",
       "                    \n",
       "                if (document.getElementById(\"758b0859-da37-4a62-acf1-ed5dfbcae6c8\")) {\n",
       "                    Plotly.newPlot(\n",
       "                        '758b0859-da37-4a62-acf1-ed5dfbcae6c8',\n",
       "                        [{\"type\": \"scatter\", \"x\": [100, 200, 300, 400, 500, 600, 700, 800, 900, 1000, 1100, 1200, 1300, 1400, 1500, 1600, 1700, 1800, 1900, 2000, 2100, 2200, 2300, 2400, 2500, 2600, 2700, 2800, 2900, 3000, 3100, 3200, 3300, 3400, 3500, 3600, 3700, 3800, 3900, 4000, 4100, 4200, 4300, 4400, 4500, 4600, 4700, 4800, 4900, 5000], \"y\": [-1.3237702460883797e+30, -1.1423917814309664e+30, -7.75246663455073e+29, -4.95865318700509e+29, -3.20337772257851e+29, -2.0185667840905674e+29, -1.3018293027830471e+29, -7.75246663455073e+28, -4.534461616435332e+28, -2.63291319663987e+28, -1.7552754644265795e+28, -7.31364776844408e+27, -4.388188661066444e+27, -4.388188661066444e+27, -2.925459107377627e+27, -2.925459107377627e+27, -1.4627295536888145e+27, 0.07644105725257289, 0.07050868345178407, 0.06991005410297124, 0.081397383742838, 0.08461690409735922, 0.08416982247744385, 0.08100516209505948, 0.07334366249066604, 0.07595045553251477, 0.07996852629119566, 0.08566896473330354, 0.08144162994500903, 0.07832966013314036, 0.07675623241281493, 0.07461690876159921, 0.07448470372789595, 0.07269045188490841, 0.07009195586948358, 0.06637634467989184, 0.064159748421446, 0.063610256244226, 0.05909472394251758, 0.060384010358038975, 0.05996073245960243, 0.060056066305025135, 0.059052350005160514, 0.0600414854155491, 0.057940510370360965, 0.05993372092084959, 0.05653532052767274, 0.056786970647275004, 0.057133766493591476, 0.05605181820682348]}],\n",
       "                        {\"template\": {\"data\": {\"bar\": [{\"error_x\": {\"color\": \"#2a3f5f\"}, \"error_y\": {\"color\": \"#2a3f5f\"}, \"marker\": {\"line\": {\"color\": \"#E5ECF6\", \"width\": 0.5}}, \"type\": \"bar\"}], \"barpolar\": [{\"marker\": {\"line\": {\"color\": \"#E5ECF6\", \"width\": 0.5}}, \"type\": \"barpolar\"}], \"carpet\": [{\"aaxis\": {\"endlinecolor\": \"#2a3f5f\", \"gridcolor\": \"white\", \"linecolor\": \"white\", \"minorgridcolor\": \"white\", \"startlinecolor\": \"#2a3f5f\"}, \"baxis\": {\"endlinecolor\": \"#2a3f5f\", \"gridcolor\": \"white\", \"linecolor\": \"white\", \"minorgridcolor\": \"white\", \"startlinecolor\": \"#2a3f5f\"}, \"type\": \"carpet\"}], \"choropleth\": [{\"colorbar\": {\"outlinewidth\": 0, \"ticks\": \"\"}, \"type\": \"choropleth\"}], \"contour\": [{\"colorbar\": {\"outlinewidth\": 0, \"ticks\": \"\"}, \"colorscale\": [[0.0, \"#0d0887\"], [0.1111111111111111, \"#46039f\"], [0.2222222222222222, \"#7201a8\"], [0.3333333333333333, \"#9c179e\"], [0.4444444444444444, \"#bd3786\"], [0.5555555555555556, \"#d8576b\"], [0.6666666666666666, \"#ed7953\"], [0.7777777777777778, \"#fb9f3a\"], [0.8888888888888888, \"#fdca26\"], [1.0, \"#f0f921\"]], \"type\": \"contour\"}], \"contourcarpet\": [{\"colorbar\": {\"outlinewidth\": 0, \"ticks\": \"\"}, \"type\": \"contourcarpet\"}], \"heatmap\": [{\"colorbar\": {\"outlinewidth\": 0, \"ticks\": \"\"}, \"colorscale\": [[0.0, \"#0d0887\"], [0.1111111111111111, \"#46039f\"], [0.2222222222222222, \"#7201a8\"], [0.3333333333333333, \"#9c179e\"], [0.4444444444444444, \"#bd3786\"], [0.5555555555555556, \"#d8576b\"], [0.6666666666666666, \"#ed7953\"], [0.7777777777777778, \"#fb9f3a\"], [0.8888888888888888, \"#fdca26\"], [1.0, \"#f0f921\"]], \"type\": \"heatmap\"}], \"heatmapgl\": [{\"colorbar\": {\"outlinewidth\": 0, \"ticks\": \"\"}, \"colorscale\": [[0.0, \"#0d0887\"], [0.1111111111111111, \"#46039f\"], [0.2222222222222222, \"#7201a8\"], [0.3333333333333333, \"#9c179e\"], [0.4444444444444444, \"#bd3786\"], [0.5555555555555556, \"#d8576b\"], [0.6666666666666666, \"#ed7953\"], [0.7777777777777778, \"#fb9f3a\"], [0.8888888888888888, \"#fdca26\"], [1.0, \"#f0f921\"]], \"type\": \"heatmapgl\"}], \"histogram\": [{\"marker\": {\"colorbar\": {\"outlinewidth\": 0, \"ticks\": \"\"}}, \"type\": \"histogram\"}], \"histogram2d\": [{\"colorbar\": {\"outlinewidth\": 0, \"ticks\": \"\"}, \"colorscale\": [[0.0, \"#0d0887\"], [0.1111111111111111, \"#46039f\"], [0.2222222222222222, \"#7201a8\"], [0.3333333333333333, \"#9c179e\"], [0.4444444444444444, \"#bd3786\"], [0.5555555555555556, \"#d8576b\"], [0.6666666666666666, \"#ed7953\"], [0.7777777777777778, \"#fb9f3a\"], [0.8888888888888888, \"#fdca26\"], [1.0, \"#f0f921\"]], \"type\": \"histogram2d\"}], \"histogram2dcontour\": [{\"colorbar\": {\"outlinewidth\": 0, \"ticks\": \"\"}, \"colorscale\": [[0.0, \"#0d0887\"], [0.1111111111111111, \"#46039f\"], [0.2222222222222222, \"#7201a8\"], [0.3333333333333333, \"#9c179e\"], [0.4444444444444444, \"#bd3786\"], [0.5555555555555556, \"#d8576b\"], [0.6666666666666666, \"#ed7953\"], [0.7777777777777778, \"#fb9f3a\"], [0.8888888888888888, \"#fdca26\"], [1.0, \"#f0f921\"]], \"type\": \"histogram2dcontour\"}], \"mesh3d\": [{\"colorbar\": {\"outlinewidth\": 0, \"ticks\": \"\"}, \"type\": \"mesh3d\"}], \"parcoords\": [{\"line\": {\"colorbar\": {\"outlinewidth\": 0, \"ticks\": \"\"}}, \"type\": \"parcoords\"}], \"pie\": [{\"automargin\": true, \"type\": \"pie\"}], \"scatter\": [{\"marker\": {\"colorbar\": {\"outlinewidth\": 0, \"ticks\": \"\"}}, \"type\": \"scatter\"}], \"scatter3d\": [{\"line\": {\"colorbar\": {\"outlinewidth\": 0, \"ticks\": \"\"}}, \"marker\": {\"colorbar\": {\"outlinewidth\": 0, \"ticks\": \"\"}}, \"type\": \"scatter3d\"}], \"scattercarpet\": [{\"marker\": {\"colorbar\": {\"outlinewidth\": 0, \"ticks\": \"\"}}, \"type\": \"scattercarpet\"}], \"scattergeo\": [{\"marker\": {\"colorbar\": {\"outlinewidth\": 0, \"ticks\": \"\"}}, \"type\": \"scattergeo\"}], \"scattergl\": [{\"marker\": {\"colorbar\": {\"outlinewidth\": 0, \"ticks\": \"\"}}, \"type\": \"scattergl\"}], \"scattermapbox\": [{\"marker\": {\"colorbar\": {\"outlinewidth\": 0, \"ticks\": \"\"}}, \"type\": \"scattermapbox\"}], \"scatterpolar\": [{\"marker\": {\"colorbar\": {\"outlinewidth\": 0, \"ticks\": \"\"}}, \"type\": \"scatterpolar\"}], \"scatterpolargl\": [{\"marker\": {\"colorbar\": {\"outlinewidth\": 0, \"ticks\": \"\"}}, \"type\": \"scatterpolargl\"}], \"scatterternary\": [{\"marker\": {\"colorbar\": {\"outlinewidth\": 0, \"ticks\": \"\"}}, \"type\": \"scatterternary\"}], \"surface\": [{\"colorbar\": {\"outlinewidth\": 0, \"ticks\": \"\"}, \"colorscale\": [[0.0, \"#0d0887\"], [0.1111111111111111, \"#46039f\"], [0.2222222222222222, \"#7201a8\"], [0.3333333333333333, \"#9c179e\"], [0.4444444444444444, \"#bd3786\"], [0.5555555555555556, \"#d8576b\"], [0.6666666666666666, \"#ed7953\"], [0.7777777777777778, \"#fb9f3a\"], [0.8888888888888888, \"#fdca26\"], [1.0, \"#f0f921\"]], \"type\": \"surface\"}], \"table\": [{\"cells\": {\"fill\": {\"color\": \"#EBF0F8\"}, \"line\": {\"color\": \"white\"}}, \"header\": {\"fill\": {\"color\": \"#C8D4E3\"}, \"line\": {\"color\": \"white\"}}, \"type\": \"table\"}]}, \"layout\": {\"annotationdefaults\": {\"arrowcolor\": \"#2a3f5f\", \"arrowhead\": 0, \"arrowwidth\": 1}, \"coloraxis\": {\"colorbar\": {\"outlinewidth\": 0, \"ticks\": \"\"}}, \"colorscale\": {\"diverging\": [[0, \"#8e0152\"], [0.1, \"#c51b7d\"], [0.2, \"#de77ae\"], [0.3, \"#f1b6da\"], [0.4, \"#fde0ef\"], [0.5, \"#f7f7f7\"], [0.6, \"#e6f5d0\"], [0.7, \"#b8e186\"], [0.8, \"#7fbc41\"], [0.9, \"#4d9221\"], [1, \"#276419\"]], \"sequential\": [[0.0, \"#0d0887\"], [0.1111111111111111, \"#46039f\"], [0.2222222222222222, \"#7201a8\"], [0.3333333333333333, \"#9c179e\"], [0.4444444444444444, \"#bd3786\"], [0.5555555555555556, \"#d8576b\"], [0.6666666666666666, \"#ed7953\"], [0.7777777777777778, \"#fb9f3a\"], [0.8888888888888888, \"#fdca26\"], [1.0, \"#f0f921\"]], \"sequentialminus\": [[0.0, \"#0d0887\"], [0.1111111111111111, \"#46039f\"], [0.2222222222222222, \"#7201a8\"], [0.3333333333333333, \"#9c179e\"], [0.4444444444444444, \"#bd3786\"], [0.5555555555555556, \"#d8576b\"], [0.6666666666666666, \"#ed7953\"], [0.7777777777777778, \"#fb9f3a\"], [0.8888888888888888, \"#fdca26\"], [1.0, \"#f0f921\"]]}, \"colorway\": [\"#636efa\", \"#EF553B\", \"#00cc96\", \"#ab63fa\", \"#FFA15A\", \"#19d3f3\", \"#FF6692\", \"#B6E880\", \"#FF97FF\", \"#FECB52\"], \"font\": {\"color\": \"#2a3f5f\"}, \"geo\": {\"bgcolor\": \"white\", \"lakecolor\": \"white\", \"landcolor\": \"#E5ECF6\", \"showlakes\": true, \"showland\": true, \"subunitcolor\": \"white\"}, \"hoverlabel\": {\"align\": \"left\"}, \"hovermode\": \"closest\", \"mapbox\": {\"style\": \"light\"}, \"paper_bgcolor\": \"white\", \"plot_bgcolor\": \"#E5ECF6\", \"polar\": {\"angularaxis\": {\"gridcolor\": \"white\", \"linecolor\": \"white\", \"ticks\": \"\"}, \"bgcolor\": \"#E5ECF6\", \"radialaxis\": {\"gridcolor\": \"white\", \"linecolor\": \"white\", \"ticks\": \"\"}}, \"scene\": {\"xaxis\": {\"backgroundcolor\": \"#E5ECF6\", \"gridcolor\": \"white\", \"gridwidth\": 2, \"linecolor\": \"white\", \"showbackground\": true, \"ticks\": \"\", \"zerolinecolor\": \"white\"}, \"yaxis\": {\"backgroundcolor\": \"#E5ECF6\", \"gridcolor\": \"white\", \"gridwidth\": 2, \"linecolor\": \"white\", \"showbackground\": true, \"ticks\": \"\", \"zerolinecolor\": \"white\"}, \"zaxis\": {\"backgroundcolor\": \"#E5ECF6\", \"gridcolor\": \"white\", \"gridwidth\": 2, \"linecolor\": \"white\", \"showbackground\": true, \"ticks\": \"\", \"zerolinecolor\": \"white\"}}, \"shapedefaults\": {\"line\": {\"color\": \"#2a3f5f\"}}, \"ternary\": {\"aaxis\": {\"gridcolor\": \"white\", \"linecolor\": \"white\", \"ticks\": \"\"}, \"baxis\": {\"gridcolor\": \"white\", \"linecolor\": \"white\", \"ticks\": \"\"}, \"bgcolor\": \"#E5ECF6\", \"caxis\": {\"gridcolor\": \"white\", \"linecolor\": \"white\", \"ticks\": \"\"}}, \"title\": {\"x\": 0.05}, \"xaxis\": {\"automargin\": true, \"gridcolor\": \"white\", \"linecolor\": \"white\", \"ticks\": \"\", \"title\": {\"standoff\": 15}, \"zerolinecolor\": \"white\", \"zerolinewidth\": 2}, \"yaxis\": {\"automargin\": true, \"gridcolor\": \"white\", \"linecolor\": \"white\", \"ticks\": \"\", \"title\": {\"standoff\": 15}, \"zerolinecolor\": \"white\", \"zerolinewidth\": 2}}}},\n",
       "                        {\"responsive\": true}\n",
       "                    ).then(function(){\n",
       "                            \n",
       "var gd = document.getElementById('758b0859-da37-4a62-acf1-ed5dfbcae6c8');\n",
       "var x = new MutationObserver(function (mutations, observer) {{\n",
       "        var display = window.getComputedStyle(gd).display;\n",
       "        if (!display || display === 'none') {{\n",
       "            console.log([gd, 'removed!']);\n",
       "            Plotly.purge(gd);\n",
       "            observer.disconnect();\n",
       "        }}\n",
       "}});\n",
       "\n",
       "// Listen for the removal of the full notebook cells\n",
       "var notebookContainer = gd.closest('#notebook-container');\n",
       "if (notebookContainer) {{\n",
       "    x.observe(notebookContainer, {childList: true});\n",
       "}}\n",
       "\n",
       "// Listen for the clearing of the current output cell\n",
       "var outputEl = gd.closest('.output');\n",
       "if (outputEl) {{\n",
       "    x.observe(outputEl, {childList: true});\n",
       "}}\n",
       "\n",
       "                        })\n",
       "                };\n",
       "                });\n",
       "            </script>\n",
       "        </div>"
      ]
     },
     "metadata": {},
     "output_type": "display_data"
    }
   ],
   "source": [
    "rnr_r_scatter = go.Scatter(x = list(range(100, 5100, 100)), y = scores)\n",
    "py.iplot([rnr_r_scatter])"
   ]
  },
  {
   "cell_type": "markdown",
   "metadata": {},
   "source": [
    "#### What is the best one?"
   ]
  },
  {
   "cell_type": "code",
   "execution_count": 160,
   "metadata": {},
   "outputs": [
    {
     "name": "stdout",
     "output_type": "stream",
     "text": [
      "The best score is: 0.08566896473330354\n",
      "With a radius of: 2800\n"
     ]
    }
   ],
   "source": [
    "print(\"The best score is: \" + str(max(scores)))\n",
    "index_of_max = scores.index(max(scores))\n",
    "print(\"With a radius of: \" + str(list(range(100, 5100, 100))[index_of_max]))"
   ]
  },
  {
   "cell_type": "markdown",
   "metadata": {},
   "source": [
    "#### This R^2 score is obviously not the best, but let's see what we can map out with it"
   ]
  },
  {
   "cell_type": "code",
   "execution_count": null,
   "metadata": {},
   "outputs": [],
   "source": [
    "traffic_neigh = RadiusNeighborsRegressor(radius = 2800 / 111111)\n",
    "traffic_neigh.fit(traffic_X, traffic_y)"
   ]
  }
 ],
 "metadata": {
  "kernelspec": {
   "display_name": "Python 3",
   "language": "python",
   "name": "python3"
  },
  "language_info": {
   "codemirror_mode": {
    "name": "ipython",
    "version": 3
   },
   "file_extension": ".py",
   "mimetype": "text/x-python",
   "name": "python",
   "nbconvert_exporter": "python",
   "pygments_lexer": "ipython3",
   "version": "3.7.3"
  }
 },
 "nbformat": 4,
 "nbformat_minor": 2
}
